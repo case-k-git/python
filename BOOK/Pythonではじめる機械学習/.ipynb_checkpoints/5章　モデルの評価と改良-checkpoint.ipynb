{
 "cells": [
  {
   "cell_type": "code",
   "execution_count": 41,
   "metadata": {},
   "outputs": [],
   "source": [
    "from sklearn.datasets import make_blobs\n",
    "import numpy as np\n",
    "from sklearn.linear_model import LogisticRegression\n",
    "from sklearn.model_selection import train_test_split\n",
    "from sklearn.model_selection import cross_val_score\n",
    "from sklearn.datasets import load_iris\n",
    "from sklearn.linear_model import LogisticRegression\n",
    "import mglearn\n",
    "from matplotlib import pyplot as plt\n",
    "%matplotlib inline"
   ]
  },
  {
   "cell_type": "code",
   "execution_count": 42,
   "metadata": {
    "scrolled": false
   },
   "outputs": [
    {
     "name": "stdout",
     "output_type": "stream",
     "text": [
      "test set score:0.88\n"
     ]
    }
   ],
   "source": [
    "# create dummy data\n",
    "X, y = make_blobs(random_state=0)\n",
    "X_train, X_test, y_train, y_test = train_test_split(X, y, random_state=0)\n",
    "logreg = LogisticRegression().fit(X_train, y_train)\n",
    "# モデルの評価\n",
    "print(\"test set score:{:.2f}\".format(logreg.score(X_test, y_test)))"
   ]
  },
  {
   "cell_type": "markdown",
   "metadata": {},
   "source": [
    "# 交差検証\n",
    "```\n",
    "メリット：\n",
    "モデルの汎化性のがtrain_test_splir関数より高くなる。\n",
    "理由：\n",
    "train_test_splir関数はランダムに分割するがたまたま偏ってしまう可能性がある。\n",
    "\n",
    "5分割したデータを4:1に分け4を訓練データ、1をテストデータとし、\n",
    "全ての組み合わせ訓練する。\n",
    "汎化性能が高くなければ評価精度は高くならないのだ\n",
    "\n",
    "デメリット：\n",
    "計算コスト\n",
    "```"
   ]
  },
  {
   "cell_type": "code",
   "execution_count": 43,
   "metadata": {
    "scrolled": true
   },
   "outputs": [
    {
     "name": "stdout",
     "output_type": "stream",
     "text": [
      "交差検証　3分割 score[0.96078431 0.92156863 0.95833333]\n"
     ]
    }
   ],
   "source": [
    "iris = load_iris()\n",
    "logreg = LogisticRegression()\n",
    "# 交差検証：データ分割を複数回行い、複数のモデルを訓練する手法\n",
    "scores = cross_val_score(logreg, iris.data, iris.target)\n",
    "print(\"交差検証　3分割 score{}\".format(scores))"
   ]
  },
  {
   "cell_type": "markdown",
   "metadata": {},
   "source": [
    "```\n",
    "気づき\n",
    "train_test_split関数で分割したデータを学習させた時よりも\n",
    "モデルの予測精度が高くなっていることがわかる。\n",
    "```"
   ]
  },
  {
   "cell_type": "code",
   "execution_count": 44,
   "metadata": {},
   "outputs": [
    {
     "name": "stdout",
     "output_type": "stream",
     "text": [
      "交差検証　5分割[1.         0.96666667 0.93333333 0.9        1.        ]\n"
     ]
    }
   ],
   "source": [
    "scores = cross_val_score(logreg, iris.data, iris.target, cv=5)\n",
    "print(\"交差検証　5分割{}\".format(scores))"
   ]
  },
  {
   "cell_type": "code",
   "execution_count": 45,
   "metadata": {
    "scrolled": true
   },
   "outputs": [
    {
     "name": "stdout",
     "output_type": "stream",
     "text": [
      "average score 0.96\n"
     ]
    }
   ],
   "source": [
    "print(\"average score {:.2f}\".format(scores.mean()))"
   ]
  },
  {
   "cell_type": "code",
   "execution_count": 46,
   "metadata": {
    "scrolled": true
   },
   "outputs": [
    {
     "data": {
      "image/png": "[encoded data removed]",
      "text/plain": [
       "<matplotlib.figure.Figure at 0x11264d128>"
      ]
     },
     "metadata": {},
     "output_type": "display_data"
    }
   ],
   "source": [
    "mglearn.plots.plot_stratified_cross_validation()"
   ]
  },
  {
   "cell_type": "code",
   "execution_count": 47,
   "metadata": {
    "scrolled": true
   },
   "outputs": [
    {
     "name": "stdout",
     "output_type": "stream",
     "text": [
      "Cross-validation scores:\n",
      "[1.         0.93333333 0.43333333 0.96666667 0.43333333]\n"
     ]
    }
   ],
   "source": [
    "from sklearn.model_selection import KFold\n",
    "kfold = KFold(n_splits=5)\n",
    "print(\"Cross-validation scores:\\n{}\".format(\n",
    "    cross_val_score(logreg, iris.data, iris.target, cv=kfold)))"
   ]
  },
  {
   "cell_type": "code",
   "execution_count": 48,
   "metadata": {
    "scrolled": true
   },
   "outputs": [
    {
     "name": "stdout",
     "output_type": "stream",
     "text": [
      "Cross-validation scores:\n",
      "[0. 0. 0.]\n"
     ]
    }
   ],
   "source": [
    "# 学習できなかった\n",
    "kfold = KFold(n_splits=3)\n",
    "print(\"Cross-validation scores:\\n{}\".format(\n",
    "    cross_val_score(logreg, iris.data, iris.target, cv=kfold)))"
   ]
  },
  {
   "cell_type": "code",
   "execution_count": 49,
   "metadata": {
    "scrolled": true
   },
   "outputs": [
    {
     "name": "stdout",
     "output_type": "stream",
     "text": [
      "150\n",
      "[0 0 0 0 0 0 0 0 0 0 0 0 0 0 0 0 0 0 0 0 0 0 0 0 0 0 0 0 0 0 0 0 0 0 0 0 0\n",
      " 0 0 0 0 0 0 0 0 0 0 0 0 0]\n",
      "[1 1 1 1 1 1 1 1 1 1 1 1 1 1 1 1 1 1 1 1 1 1 1 1 1 1 1 1 1 1 1 1 1 1 1 1 1\n",
      " 1 1 1 1 1 1 1 1 1 1 1 1 1]\n",
      "[2 2 2 2 2 2 2 2 2 2 2 2 2 2 2 2 2 2 2 2 2 2 2 2 2 2 2 2 2 2 2 2 2 2 2 2 2\n",
      " 2 2 2 2 2 2 2 2 2 2 2 2 2]\n"
     ]
    }
   ],
   "source": [
    "iris = load_iris()\n",
    "print(len(iris.target))\n",
    "print(iris.target[0:50])\n",
    "print(iris.target[50:100])\n",
    "print(iris.target[100:150])"
   ]
  },
  {
   "cell_type": "code",
   "execution_count": 50,
   "metadata": {},
   "outputs": [
    {
     "name": "stdout",
     "output_type": "stream",
     "text": [
      "交差検証　3分割 score[0.96078431 0.92156863 0.95833333]\n"
     ]
    }
   ],
   "source": [
    "scores = cross_val_score(logreg, iris.data, iris.target, cv=3)\n",
    "print(\"交差検証　3分割 score{}\".format(scores))"
   ]
  },
  {
   "cell_type": "markdown",
   "metadata": {},
   "source": [
    "```\n",
    "#　気づき\n",
    "k-分割交差検証を3分割でやれは、評価精度は0になるはずではないのか？\n",
    "ならないということは上記のソースはk-分割交差検証ではないようだ。\n",
    "自動的に層化分割交差検証p249で実行されている？\n",
    "3分割した中でさらに、3分割し、訓練データとテストデータに分け評価をしているのではないか？\n",
    "いや、しかしその場合100%になってしまうのではないのか？\n",
    "違う。層化交差検証ではここの分割の90%がクラスAで10％がクラスBになるように分割を行う。\n",
    "その理由であれば納得できぐら、回帰に関してはK分割交差検証をデフォルで利用していると記載あり。(P251)\n",
    "と思ったがどうやらモデルに依存している！！！！\n",
    "ロジッスティック回帰　= 分類だったからうまくいったようだ\n",
    "上の学習できなかった方法は関数KFold()で意図的にK分割交差検証を実施していた。\n",
    "\n",
    "\n",
    "#　デフォルト動作：\n",
    "回帰：K分割交差検証\n",
    "分類：層化K分割交差検証\n",
    "```"
   ]
  },
  {
   "cell_type": "code",
   "execution_count": 51,
   "metadata": {},
   "outputs": [
    {
     "name": "stdout",
     "output_type": "stream",
     "text": [
      "Cross-validation scores:\n",
      "[1.         0.93333333 0.43333333 0.96666667 0.43333333]\n"
     ]
    }
   ],
   "source": [
    "# 学習できなかった\n",
    "kfold = KFold(n_splits=5)\n",
    "print(\"Cross-validation scores:\\n{}\".format(\n",
    "    cross_val_score(logreg, iris.data, iris.target, cv=kfold)))"
   ]
  },
  {
   "cell_type": "code",
   "execution_count": 52,
   "metadata": {
    "scrolled": false
   },
   "outputs": [
    {
     "name": "stdout",
     "output_type": "stream",
     "text": [
      "Cross-validation scores:\n",
      "[0.9  0.96 0.96]\n"
     ]
    }
   ],
   "source": [
    "# シャッフルする\n",
    "kfold = KFold(n_splits=3,shuffle=True, random_state=0)\n",
    "print(\"Cross-validation scores:\\n{}\"\n",
    "      .format(cross_val_score(logreg, iris.data, iris.target, cv=kfold)))"
   ]
  },
  {
   "cell_type": "code",
   "execution_count": 53,
   "metadata": {},
   "outputs": [
    {
     "name": "stdout",
     "output_type": "stream",
     "text": [
      "Number of cv iterations： 150\n",
      "Mean accuracy:0.95\n"
     ]
    }
   ],
   "source": [
    "from sklearn.model_selection import LeaveOneOut\n",
    "loo = LeaveOneOut()\n",
    "scores = cross_val_score(logreg, iris.data, iris.target, cv=loo)\n",
    "print(\"Number of cv iterations：\", len(scores))\n",
    "print(\"Mean accuracy:{:.2f}\".format(scores.mean()))"
   ]
  },
  {
   "cell_type": "code",
   "execution_count": 54,
   "metadata": {},
   "outputs": [
    {
     "data": {
      "image/png": "[encoded data removed]",
      "text/plain": [
       "<matplotlib.figure.Figure at 0x112672710>"
      ]
     },
     "metadata": {},
     "output_type": "display_data"
    }
   ],
   "source": [
    "mglearn.plots.plot_shuffle_split()"
   ]
  },
  {
   "cell_type": "code",
   "execution_count": 55,
   "metadata": {},
   "outputs": [
    {
     "name": "stdout",
     "output_type": "stream",
     "text": [
      "ShuffleSplit(n_splits=10, random_state=None, test_size=0.5, train_size=0.5)\n",
      "Cross-validation scores:\n",
      "[0.92       0.90666667 0.96       0.96       0.85333333 0.94666667\n",
      " 0.97333333 0.93333333 0.93333333 0.98666667]\n"
     ]
    }
   ],
   "source": [
    "from sklearn.model_selection import ShuffleSplit\n",
    "shuffle_split = ShuffleSplit(test_size=.5, train_size=.5, n_splits=10)\n",
    "print(shuffle_split)\n",
    "scores = cross_val_score(logreg, iris.data, iris.target, cv=shuffle_split)\n",
    "print(\"Cross-validation scores:\\n{}\".format(scores))"
   ]
  },
  {
   "cell_type": "code",
   "execution_count": 56,
   "metadata": {},
   "outputs": [
    {
     "name": "stdout",
     "output_type": "stream",
     "text": [
      "Cross-validation scores:\n",
      "[0.75       0.8        0.66666667]\n"
     ]
    }
   ],
   "source": [
    "from sklearn.model_selection import GroupKFold\n",
    "#合成データセットを生成\n",
    "X, y = make_blobs(n_samples=12, random_state=0)\n",
    "groups = [0,0,0,1,1,1,1,2,2,3,3,3]\n",
    "scores = cross_val_score(logreg, X, y, groups, cv=GroupKFold(n_splits=3))\n",
    "print(\"Cross-validation scores:\\n{}\".format(scores))"
   ]
  },
  {
   "cell_type": "markdown",
   "metadata": {},
   "source": [
    "```\n",
    "メモ\n",
    "グループ付き考査検証：\n",
    "訓練データとテストデータでデータが重ならないようにする方法\n",
    "重ならないようにグループに分けておく\n",
    "```"
   ]
  },
  {
   "cell_type": "code",
   "execution_count": 57,
   "metadata": {},
   "outputs": [
    {
     "ename": "AttributeError",
     "evalue": "'module' object has no attribute 'plot_label_kfold'",
     "output_type": "error",
     "traceback": [
      "\u001b[0;31m---------------------------------------------------------------------------\u001b[0m",
      "\u001b[0;31mAttributeError\u001b[0m                            Traceback (most recent call last)",
      "\u001b[0;32m<ipython-input-57-cd61c7478e8a>\u001b[0m in \u001b[0;36m<module>\u001b[0;34m()\u001b[0m\n\u001b[0;32m----> 1\u001b[0;31m \u001b[0mmglearn\u001b[0m\u001b[0;34m.\u001b[0m\u001b[0mplots\u001b[0m\u001b[0;34m.\u001b[0m\u001b[0mplot_label_kfold\u001b[0m\u001b[0;34m(\u001b[0m\u001b[0;34m)\u001b[0m\u001b[0;34m\u001b[0m\u001b[0m\n\u001b[0m",
      "\u001b[0;31mAttributeError\u001b[0m: 'module' object has no attribute 'plot_label_kfold'"
     ]
    }
   ],
   "source": [
    "mglearn.plots.plot_label_kfold()"
   ]
  },
  {
   "cell_type": "markdown",
   "metadata": {},
   "source": [
    "# グリッドサーチ\n",
    "```\n",
    "用途：最適なパラメータの探索\n",
    "パラメータ全ての組み合わせに対して試す方法\n",
    "\n",
    "処理内容：\n",
    "分割した　訓練データとテストデータの\n",
    "訓練データを交差検証で訓練データ_2とテストデータ_2に分割し\n",
    "分割した訓練データ_2からモデルを構築する。テストデータ_2で評価精度が最も高くなる\n",
    "パラメータを選択する。\n",
    "\n",
    "メリット：\n",
    "パラメータの探索にテストデータを使っていないこと、交差検証のみ活用した場合の問題はモデルの\n",
    "構築でテストデータを活用していることだった。モデルの構築に活用したデータは評価には使えない。\n",
    "グリッドサーチは訓練データから、パレメータを探索しているため、テストデータで評価することができる。\n",
    "```"
   ]
  },
  {
   "cell_type": "code",
   "execution_count": 58,
   "metadata": {},
   "outputs": [
    {
     "name": "stdout",
     "output_type": "stream",
     "text": [
      "Size of training set:112　size of test set:38\n",
      "Best score: 0.97\n",
      "Best parameters: {'C': 100, 'gamma': 0.001}\n"
     ]
    }
   ],
   "source": [
    "from sklearn.svm import SVC\n",
    "X_train, X_test, y_train, y_test = train_test_split(\n",
    "    iris.data, iris.target, random_state=0)\n",
    "print(\"Size of training set:{}　size of test set:{}\".format(X_train.shape[0], X_test.shape[0]))\n",
    "\n",
    "best_score = 0\n",
    "\n",
    "for gamma in [0.001, 0.01, 0.1, 1, 10, 100]:\n",
    "    for C in [0.001, 0.01, 0.1, 1, 10, 100]:\n",
    "        #それぞれのパラメータの組み合わせに足してSVCを訓練\n",
    "        svm = SVC(gamma=gamma, C=C)\n",
    "        svm.fit(X_train, y_train)\n",
    "        #SVCをテストセットで評価\n",
    "        score = svm.score(X_test, y_test)\n",
    "        #良いスコアであればスコアとパラメータを保持\n",
    "        if score > best_score:\n",
    "            best_score = score\n",
    "            best_parameters = {'C':C, 'gamma':gamma}\n",
    "print(\"Best score: {:.2f}\".format(best_score))\n",
    "print(\"Best parameters: {}\".format(best_parameters))"
   ]
  },
  {
   "cell_type": "code",
   "execution_count": 59,
   "metadata": {},
   "outputs": [
    {
     "data": {
      "text/plain": [
       "0.25333333333333335"
      ]
     },
     "execution_count": 59,
     "metadata": {},
     "output_type": "execute_result"
    }
   ],
   "source": [
    "38 / (112 + 38)"
   ]
  },
  {
   "cell_type": "code",
   "execution_count": 60,
   "metadata": {},
   "outputs": [
    {
     "data": {
      "image/png": "[encoded data removed]",
      "text/plain": [
       "<matplotlib.figure.Figure at 0x11468deb8>"
      ]
     },
     "metadata": {},
     "output_type": "display_data"
    }
   ],
   "source": [
    "mglearn.plots.plot_threefold_split()"
   ]
  },
  {
   "cell_type": "code",
   "execution_count": 61,
   "metadata": {
    "scrolled": false
   },
   "outputs": [
    {
     "name": "stdout",
     "output_type": "stream",
     "text": [
      "size of train set :84\n",
      "size of validation set:28\n",
      "size of test set:38\n",
      "\n",
      "Best score on validation set:0.96\n",
      "Best parameters: {'C': 10, 'gamma': 0.001}\n",
      "Test set score with best parameters:0.92\n"
     ]
    }
   ],
   "source": [
    "from sklearn.svm import SVC\n",
    "# データを訓練 + 検証セットとテストセットに分割する\n",
    "X_trainval, X_test, y_trainval, y_test = train_test_split(\n",
    "    iris.data, iris.target, random_state=0)\n",
    "#訓練+検証セットを訓練セットと検証セットに分割する\n",
    "X_train, X_valid, y_train, y_valid = train_test_split(X_trainval,y_trainval,random_state=1)\n",
    "print(\"size of train set :{}\\nsize of validation set:{}\\nsize of test set:\"\n",
    "       \"{}\\n\".format(X_train.shape[0], X_valid.shape[0], X_test.shape[0]))\n",
    "\n",
    "best_score = 0\n",
    "\n",
    "for gamma in [0.001, 0.01, 0.1, 1, 10, 100]:\n",
    "    for C in [0.001, 0.01, 0.1, 1, 10, 100]:\n",
    "        # それぞれのパラメータの組み合わせに対してSVCを訓練する\n",
    "        svm = SVC(gamma=gamma, C=C)\n",
    "        svm.fit(X_train, y_train)\n",
    "        # SVCを検証セットで評価\n",
    "        score = svm.score(X_valid, y_valid)\n",
    "        # 良いスコアだったらスコアとパラメータを保持\n",
    "        if score > best_score:\n",
    "            best_score = score\n",
    "            best_parameters = {'C':C, 'gamma':gamma}\n",
    "# 訓練セットと検証セットを用いてモデルを再構築し、\n",
    "#　テストセットで評価\n",
    "svm = SVC(**best_parameters)\n",
    "svm.fit(X_trainval, y_trainval)\n",
    "test_score = svm.score(X_test, y_test)\n",
    "print(\"Best score on validation set:{:.2f}\".format(best_score))\n",
    "print(\"Best parameters:\",best_parameters)\n",
    "print(\"Test set score with best parameters:{:.2f}\".format(test_score))"
   ]
  },
  {
   "cell_type": "markdown",
   "metadata": {},
   "source": [
    "# 交差検証を用いたグリッドサーチ"
   ]
  },
  {
   "cell_type": "code",
   "execution_count": 62,
   "metadata": {},
   "outputs": [
    {
     "data": {
      "text/plain": [
       "SVC(C=10, cache_size=200, class_weight=None, coef0=0.0,\n",
       "  decision_function_shape='ovr', degree=3, gamma=0.001, kernel='rbf',\n",
       "  max_iter=-1, probability=False, random_state=None, shrinking=True,\n",
       "  tol=0.001, verbose=False)"
      ]
     },
     "execution_count": 62,
     "metadata": {},
     "output_type": "execute_result"
    }
   ],
   "source": [
    "for gmma in [0.001,0.01, 0.1, 1, 10, 100]:\n",
    "    for C in [0.001,0.01,0.1,1,10,100]:\n",
    "        # それぞれのパラメータの組み合わせに対して\n",
    "        # SVCを訓練する\n",
    "        svm = SVC(gamma=gamma, C=C)\n",
    "        # 交差検証を行う\n",
    "        scores = cross_val_score(svm, X_trainval,y_trainval,cv=5)\n",
    "        # 交差検証の平均値を計算\n",
    "        score = np.mean(scores)\n",
    "        # 良いスコアであれbスコアとパラメータを記録\n",
    "        if score > best_score:\n",
    "            best_score = score\n",
    "            best_parameters = {'C':C,'gamma':gamma}\n",
    "# 訓練セットと検証セットを合わせてモデルを再構築する\n",
    "svm = SVC(**best_parameters)\n",
    "svm.fit(X_trainval, y_trainval)"
   ]
  },
  {
   "cell_type": "code",
   "execution_count": 63,
   "metadata": {
    "scrolled": true
   },
   "outputs": [
    {
     "name": "stderr",
     "output_type": "stream",
     "text": [
      "/Users/keisuke/.pyenv/versions/3.4.3/lib/python3.4/site-packages/sklearn/utils/deprecation.py:122: FutureWarning: You are accessing a training score ('mean_train_score'), which will not be available by default any more in 0.21. If you need training scores, please set return_train_score=True\n",
      "  warnings.warn(*warn_args, **warn_kwargs)\n",
      "/Users/keisuke/.pyenv/versions/3.4.3/lib/python3.4/site-packages/sklearn/utils/deprecation.py:122: FutureWarning: You are accessing a training score ('split0_train_score'), which will not be available by default any more in 0.21. If you need training scores, please set return_train_score=True\n",
      "  warnings.warn(*warn_args, **warn_kwargs)\n",
      "/Users/keisuke/.pyenv/versions/3.4.3/lib/python3.4/site-packages/sklearn/utils/deprecation.py:122: FutureWarning: You are accessing a training score ('split1_train_score'), which will not be available by default any more in 0.21. If you need training scores, please set return_train_score=True\n",
      "  warnings.warn(*warn_args, **warn_kwargs)\n",
      "/Users/keisuke/.pyenv/versions/3.4.3/lib/python3.4/site-packages/sklearn/utils/deprecation.py:122: FutureWarning: You are accessing a training score ('split2_train_score'), which will not be available by default any more in 0.21. If you need training scores, please set return_train_score=True\n",
      "  warnings.warn(*warn_args, **warn_kwargs)\n",
      "/Users/keisuke/.pyenv/versions/3.4.3/lib/python3.4/site-packages/sklearn/utils/deprecation.py:122: FutureWarning: You are accessing a training score ('split3_train_score'), which will not be available by default any more in 0.21. If you need training scores, please set return_train_score=True\n",
      "  warnings.warn(*warn_args, **warn_kwargs)\n",
      "/Users/keisuke/.pyenv/versions/3.4.3/lib/python3.4/site-packages/sklearn/utils/deprecation.py:122: FutureWarning: You are accessing a training score ('split4_train_score'), which will not be available by default any more in 0.21. If you need training scores, please set return_train_score=True\n",
      "  warnings.warn(*warn_args, **warn_kwargs)\n",
      "/Users/keisuke/.pyenv/versions/3.4.3/lib/python3.4/site-packages/sklearn/utils/deprecation.py:122: FutureWarning: You are accessing a training score ('std_train_score'), which will not be available by default any more in 0.21. If you need training scores, please set return_train_score=True\n",
      "  warnings.warn(*warn_args, **warn_kwargs)\n"
     ]
    },
    {
     "data": {
      "image/png": "[encoded data removed]",
      "text/plain": [
       "<matplotlib.figure.Figure at 0x11468d2b0>"
      ]
     },
     "metadata": {},
     "output_type": "display_data"
    }
   ],
   "source": [
    "mglearn.plots.plot_cross_val_selection()"
   ]
  },
  {
   "cell_type": "code",
   "execution_count": 64,
   "metadata": {},
   "outputs": [
    {
     "data": {
      "image/png": "[encoded data removed]",
      "text/plain": [
       "<matplotlib.figure.Figure at 0x11221a8d0>"
      ]
     },
     "metadata": {},
     "output_type": "display_data"
    }
   ],
   "source": [
    "mglearn.plots.plot_grid_search_overview()"
   ]
  },
  {
   "cell_type": "markdown",
   "metadata": {},
   "source": [
    "# GridSearchCV Class\n",
    "```\n",
    "sckit-learnで提供されるGridSearchCVクラスを活用してハイパーパラメータを求める\n",
    "```"
   ]
  },
  {
   "cell_type": "code",
   "execution_count": 65,
   "metadata": {
    "scrolled": true
   },
   "outputs": [
    {
     "name": "stdout",
     "output_type": "stream",
     "text": [
      "Parameter grid:\n",
      "{'C': [0.001, 0.01, 0.1, 1, 10, 100], 'gamma': [0.001, 0.01, 0.1, 1, 10, 100]}\n",
      "test set score:0.97\n",
      "Best parameters:{'C': 100, 'gamma': 0.01}\n",
      "Best cross-validation score :0.97\n"
     ]
    }
   ],
   "source": [
    "# ライブラリ\n",
    "from sklearn.model_selection import GridSearchCV\n",
    "from sklearn.svm import SVC\n",
    "\n",
    "# パラメータ\n",
    "param_grid = {'C':[0.001, 0.01, 0.1, 1,10, 100],\n",
    "              'gamma':[0.001, 0.01, 0.1, 1, 10, 100]}\n",
    "print(\"Parameter grid:\\n{}\".format(param_grid))\n",
    "\n",
    "# GridSearch インスタンス生成\n",
    "grid_search = GridSearchCV(SVC(), param_grid, cv=5)\n",
    "\n",
    "# パラメータの過剰適合を防ぐためにさらに訓練セットとテストセットを分割\n",
    "X_train, X_test, y_train, y_test = train_test_split(\n",
    "    iris.data, iris.target, random_state=0)\n",
    "# 交差検証を実行\n",
    "grid_search.fit(X_train, y_train)\n",
    "print(\"test set score:{:.2f}\".format(grid_search.score(X_test, y_test)))\n",
    "print(\"Best parameters:{}\".format(grid_search.best_params_))\n",
    "print(\"Best cross-validation score :{:.2f}\".format(grid_search.best_score_))"
   ]
  },
  {
   "cell_type": "markdown",
   "metadata": {},
   "source": [
    "```\n",
    "この方法だとパラメータの過剰適合が起こってしまうのでは？\n",
    "交差検証でハイパーパラメータ探索時に、テストデータを使っている場合\n",
    "新しいデータに対して97%の精度を出せるとは言えない\n",
    "→　評価にテストセットを活用していない。つまり本当に精度の高いハイパーパラメータは\n",
    "Best parameters:{'C': 100, 'gamma': 0.01}ということだ。\n",
    "しかし、算出された精度97%は訓練セットに対しての精度だということに注意しなければならない。\n",
    "```"
   ]
  },
  {
   "cell_type": "code",
   "execution_count": 66,
   "metadata": {
    "scrolled": false
   },
   "outputs": [
    {
     "name": "stdout",
     "output_type": "stream",
     "text": [
      "train set score 0.97\n",
      "test set score 0.91\n"
     ]
    }
   ],
   "source": [
    "svm = SVC(**grid_search.best_params_)\n",
    "train_scores = cross_val_score(svm, X_train, y_train, cv= 5)\n",
    "print(\"train set score {:.2f}\".format(np.mean(train_scores)))\n",
    "test_scores = cross_val_score(svm, X_test, y_test, cv= 5)\n",
    "print(\"test set score {:.2f}\".format(np.mean(test_scores)))"
   ]
  },
  {
   "cell_type": "markdown",
   "metadata": {},
   "source": [
    "```\n",
    "気づき\n",
    "テストデータに対しては91%の精度である。\n",
    "パラメータ'C': 10, 'gamma': 0.001を利用した時は\n",
    "92%であった。\n",
    "パラメータ'C': 100, 'gamma': 0.01よりも'C': 10, 'gamma': 0.001\n",
    "の方が精度が高いのではないか？\n",
    "→　random_stateの値で精度が変わる。\n",
    "試しに、C=10, gamma=0.001で検証してみる\n",
    "```"
   ]
  },
  {
   "cell_type": "code",
   "execution_count": 67,
   "metadata": {
    "scrolled": true
   },
   "outputs": [
    {
     "name": "stdout",
     "output_type": "stream",
     "text": [
      "train set score 0.93\n",
      "test set score 0.77\n"
     ]
    }
   ],
   "source": [
    "svm = SVC(C=10, gamma=0.001)\n",
    "train_scores = cross_val_score(svm, X_train, y_train, cv= 5)\n",
    "print(\"train set score {:.2f}\".format(np.mean(train_scores)))\n",
    "test_scores = cross_val_score(svm, X_test, y_test, cv= 5)\n",
    "print(\"test set score {:.2f}\".format(np.mean(test_scores)))"
   ]
  },
  {
   "cell_type": "markdown",
   "metadata": {},
   "source": [
    "```\n",
    "気づき\n",
    "検証の結果やはり、C': 100, 'gamma': 0.01の方が\n",
    "モデルとして精度が高いようだ。\n",
    "```"
   ]
  },
  {
   "cell_type": "code",
   "execution_count": 68,
   "metadata": {
    "scrolled": true
   },
   "outputs": [
    {
     "name": "stdout",
     "output_type": "stream",
     "text": [
      "Best estimator:\n",
      "SVC(C=100, cache_size=200, class_weight=None, coef0=0.0,\n",
      "  decision_function_shape='ovr', degree=3, gamma=0.01, kernel='rbf',\n",
      "  max_iter=-1, probability=False, random_state=None, shrinking=True,\n",
      "  tol=0.001, verbose=False)\n"
     ]
    }
   ],
   "source": [
    "print(\"Best estimator:\\n{}\".format(grid_search.best_estimator_))"
   ]
  },
  {
   "cell_type": "markdown",
   "metadata": {},
   "source": [
    "# 交差検証の結果の解析"
   ]
  },
  {
   "cell_type": "code",
   "execution_count": 69,
   "metadata": {
    "scrolled": true
   },
   "outputs": [
    {
     "name": "stderr",
     "output_type": "stream",
     "text": [
      "/Users/keisuke/.pyenv/versions/3.4.3/lib/python3.4/site-packages/sklearn/utils/deprecation.py:122: FutureWarning: You are accessing a training score ('mean_train_score'), which will not be available by default any more in 0.21. If you need training scores, please set return_train_score=True\n",
      "  warnings.warn(*warn_args, **warn_kwargs)\n",
      "/Users/keisuke/.pyenv/versions/3.4.3/lib/python3.4/site-packages/sklearn/utils/deprecation.py:122: FutureWarning: You are accessing a training score ('split0_train_score'), which will not be available by default any more in 0.21. If you need training scores, please set return_train_score=True\n",
      "  warnings.warn(*warn_args, **warn_kwargs)\n",
      "/Users/keisuke/.pyenv/versions/3.4.3/lib/python3.4/site-packages/sklearn/utils/deprecation.py:122: FutureWarning: You are accessing a training score ('split1_train_score'), which will not be available by default any more in 0.21. If you need training scores, please set return_train_score=True\n",
      "  warnings.warn(*warn_args, **warn_kwargs)\n",
      "/Users/keisuke/.pyenv/versions/3.4.3/lib/python3.4/site-packages/sklearn/utils/deprecation.py:122: FutureWarning: You are accessing a training score ('split2_train_score'), which will not be available by default any more in 0.21. If you need training scores, please set return_train_score=True\n",
      "  warnings.warn(*warn_args, **warn_kwargs)\n",
      "/Users/keisuke/.pyenv/versions/3.4.3/lib/python3.4/site-packages/sklearn/utils/deprecation.py:122: FutureWarning: You are accessing a training score ('split3_train_score'), which will not be available by default any more in 0.21. If you need training scores, please set return_train_score=True\n",
      "  warnings.warn(*warn_args, **warn_kwargs)\n",
      "/Users/keisuke/.pyenv/versions/3.4.3/lib/python3.4/site-packages/sklearn/utils/deprecation.py:122: FutureWarning: You are accessing a training score ('split4_train_score'), which will not be available by default any more in 0.21. If you need training scores, please set return_train_score=True\n",
      "  warnings.warn(*warn_args, **warn_kwargs)\n",
      "/Users/keisuke/.pyenv/versions/3.4.3/lib/python3.4/site-packages/sklearn/utils/deprecation.py:122: FutureWarning: You are accessing a training score ('std_train_score'), which will not be available by default any more in 0.21. If you need training scores, please set return_train_score=True\n",
      "  warnings.warn(*warn_args, **warn_kwargs)\n"
     ]
    },
    {
     "data": {
      "text/html": [
       "<div>\n",
       "<style>\n",
       "    .dataframe thead tr:only-child th {\n",
       "        text-align: right;\n",
       "    }\n",
       "\n",
       "    .dataframe thead th {\n",
       "        text-align: left;\n",
       "    }\n",
       "\n",
       "    .dataframe tbody tr th {\n",
       "        vertical-align: top;\n",
       "    }\n",
       "</style>\n",
       "<table border=\"1\" class=\"dataframe\">\n",
       "  <thead>\n",
       "    <tr style=\"text-align: right;\">\n",
       "      <th></th>\n",
       "      <th>mean_fit_time</th>\n",
       "      <th>mean_score_time</th>\n",
       "      <th>mean_test_score</th>\n",
       "      <th>mean_train_score</th>\n",
       "      <th>param_C</th>\n",
       "      <th>param_gamma</th>\n",
       "      <th>params</th>\n",
       "      <th>rank_test_score</th>\n",
       "      <th>split0_test_score</th>\n",
       "      <th>split0_train_score</th>\n",
       "      <th>...</th>\n",
       "      <th>split2_test_score</th>\n",
       "      <th>split2_train_score</th>\n",
       "      <th>split3_test_score</th>\n",
       "      <th>split3_train_score</th>\n",
       "      <th>split4_test_score</th>\n",
       "      <th>split4_train_score</th>\n",
       "      <th>std_fit_time</th>\n",
       "      <th>std_score_time</th>\n",
       "      <th>std_test_score</th>\n",
       "      <th>std_train_score</th>\n",
       "    </tr>\n",
       "  </thead>\n",
       "  <tbody>\n",
       "    <tr>\n",
       "      <th>0</th>\n",
       "      <td>0.000930</td>\n",
       "      <td>0.000459</td>\n",
       "      <td>0.366071</td>\n",
       "      <td>0.366079</td>\n",
       "      <td>0.001</td>\n",
       "      <td>0.001</td>\n",
       "      <td>{'C': 0.001, 'gamma': 0.001}</td>\n",
       "      <td>22</td>\n",
       "      <td>0.375</td>\n",
       "      <td>0.363636</td>\n",
       "      <td>...</td>\n",
       "      <td>0.363636</td>\n",
       "      <td>0.366667</td>\n",
       "      <td>0.363636</td>\n",
       "      <td>0.366667</td>\n",
       "      <td>0.380952</td>\n",
       "      <td>0.362637</td>\n",
       "      <td>0.000118</td>\n",
       "      <td>0.000152</td>\n",
       "      <td>0.011371</td>\n",
       "      <td>0.002852</td>\n",
       "    </tr>\n",
       "    <tr>\n",
       "      <th>1</th>\n",
       "      <td>0.000660</td>\n",
       "      <td>0.000290</td>\n",
       "      <td>0.366071</td>\n",
       "      <td>0.366079</td>\n",
       "      <td>0.001</td>\n",
       "      <td>0.01</td>\n",
       "      <td>{'C': 0.001, 'gamma': 0.01}</td>\n",
       "      <td>22</td>\n",
       "      <td>0.375</td>\n",
       "      <td>0.363636</td>\n",
       "      <td>...</td>\n",
       "      <td>0.363636</td>\n",
       "      <td>0.366667</td>\n",
       "      <td>0.363636</td>\n",
       "      <td>0.366667</td>\n",
       "      <td>0.380952</td>\n",
       "      <td>0.362637</td>\n",
       "      <td>0.000122</td>\n",
       "      <td>0.000042</td>\n",
       "      <td>0.011371</td>\n",
       "      <td>0.002852</td>\n",
       "    </tr>\n",
       "    <tr>\n",
       "      <th>2</th>\n",
       "      <td>0.000653</td>\n",
       "      <td>0.000302</td>\n",
       "      <td>0.366071</td>\n",
       "      <td>0.366079</td>\n",
       "      <td>0.001</td>\n",
       "      <td>0.1</td>\n",
       "      <td>{'C': 0.001, 'gamma': 0.1}</td>\n",
       "      <td>22</td>\n",
       "      <td>0.375</td>\n",
       "      <td>0.363636</td>\n",
       "      <td>...</td>\n",
       "      <td>0.363636</td>\n",
       "      <td>0.366667</td>\n",
       "      <td>0.363636</td>\n",
       "      <td>0.366667</td>\n",
       "      <td>0.380952</td>\n",
       "      <td>0.362637</td>\n",
       "      <td>0.000121</td>\n",
       "      <td>0.000111</td>\n",
       "      <td>0.011371</td>\n",
       "      <td>0.002852</td>\n",
       "    </tr>\n",
       "    <tr>\n",
       "      <th>3</th>\n",
       "      <td>0.000689</td>\n",
       "      <td>0.000297</td>\n",
       "      <td>0.366071</td>\n",
       "      <td>0.366079</td>\n",
       "      <td>0.001</td>\n",
       "      <td>1</td>\n",
       "      <td>{'C': 0.001, 'gamma': 1}</td>\n",
       "      <td>22</td>\n",
       "      <td>0.375</td>\n",
       "      <td>0.363636</td>\n",
       "      <td>...</td>\n",
       "      <td>0.363636</td>\n",
       "      <td>0.366667</td>\n",
       "      <td>0.363636</td>\n",
       "      <td>0.366667</td>\n",
       "      <td>0.380952</td>\n",
       "      <td>0.362637</td>\n",
       "      <td>0.000137</td>\n",
       "      <td>0.000054</td>\n",
       "      <td>0.011371</td>\n",
       "      <td>0.002852</td>\n",
       "    </tr>\n",
       "    <tr>\n",
       "      <th>4</th>\n",
       "      <td>0.000651</td>\n",
       "      <td>0.000275</td>\n",
       "      <td>0.366071</td>\n",
       "      <td>0.366079</td>\n",
       "      <td>0.001</td>\n",
       "      <td>10</td>\n",
       "      <td>{'C': 0.001, 'gamma': 10}</td>\n",
       "      <td>22</td>\n",
       "      <td>0.375</td>\n",
       "      <td>0.363636</td>\n",
       "      <td>...</td>\n",
       "      <td>0.363636</td>\n",
       "      <td>0.366667</td>\n",
       "      <td>0.363636</td>\n",
       "      <td>0.366667</td>\n",
       "      <td>0.380952</td>\n",
       "      <td>0.362637</td>\n",
       "      <td>0.000047</td>\n",
       "      <td>0.000020</td>\n",
       "      <td>0.011371</td>\n",
       "      <td>0.002852</td>\n",
       "    </tr>\n",
       "  </tbody>\n",
       "</table>\n",
       "<p>5 rows × 22 columns</p>\n",
       "</div>"
      ],
      "text/plain": [
       "   mean_fit_time  mean_score_time  mean_test_score  mean_train_score param_C  \\\n",
       "0       0.000930         0.000459         0.366071          0.366079   0.001   \n",
       "1       0.000660         0.000290         0.366071          0.366079   0.001   \n",
       "2       0.000653         0.000302         0.366071          0.366079   0.001   \n",
       "3       0.000689         0.000297         0.366071          0.366079   0.001   \n",
       "4       0.000651         0.000275         0.366071          0.366079   0.001   \n",
       "\n",
       "  param_gamma                        params  rank_test_score  \\\n",
       "0       0.001  {'C': 0.001, 'gamma': 0.001}               22   \n",
       "1        0.01   {'C': 0.001, 'gamma': 0.01}               22   \n",
       "2         0.1    {'C': 0.001, 'gamma': 0.1}               22   \n",
       "3           1      {'C': 0.001, 'gamma': 1}               22   \n",
       "4          10     {'C': 0.001, 'gamma': 10}               22   \n",
       "\n",
       "   split0_test_score  split0_train_score       ...         split2_test_score  \\\n",
       "0              0.375            0.363636       ...                  0.363636   \n",
       "1              0.375            0.363636       ...                  0.363636   \n",
       "2              0.375            0.363636       ...                  0.363636   \n",
       "3              0.375            0.363636       ...                  0.363636   \n",
       "4              0.375            0.363636       ...                  0.363636   \n",
       "\n",
       "   split2_train_score  split3_test_score  split3_train_score  \\\n",
       "0            0.366667           0.363636            0.366667   \n",
       "1            0.366667           0.363636            0.366667   \n",
       "2            0.366667           0.363636            0.366667   \n",
       "3            0.366667           0.363636            0.366667   \n",
       "4            0.366667           0.363636            0.366667   \n",
       "\n",
       "   split4_test_score  split4_train_score  std_fit_time  std_score_time  \\\n",
       "0           0.380952            0.362637      0.000118        0.000152   \n",
       "1           0.380952            0.362637      0.000122        0.000042   \n",
       "2           0.380952            0.362637      0.000121        0.000111   \n",
       "3           0.380952            0.362637      0.000137        0.000054   \n",
       "4           0.380952            0.362637      0.000047        0.000020   \n",
       "\n",
       "   std_test_score  std_train_score  \n",
       "0        0.011371         0.002852  \n",
       "1        0.011371         0.002852  \n",
       "2        0.011371         0.002852  \n",
       "3        0.011371         0.002852  \n",
       "4        0.011371         0.002852  \n",
       "\n",
       "[5 rows x 22 columns]"
      ]
     },
     "metadata": {},
     "output_type": "display_data"
    }
   ],
   "source": [
    "import pandas as pd\n",
    "# グリッドサーチの結果：grid_search.cv_results_\n",
    "results = pd.DataFrame(grid_search.cv_results_)\n",
    "display(results.head())"
   ]
  },
  {
   "cell_type": "code",
   "execution_count": 70,
   "metadata": {},
   "outputs": [
    {
     "data": {
      "text/plain": [
       "array([0.36607143, 0.36607143, 0.36607143, 0.36607143, 0.36607143,\n",
       "       0.36607143, 0.36607143, 0.36607143, 0.36607143, 0.36607143,\n",
       "       0.36607143, 0.36607143, 0.36607143, 0.69642857, 0.91964286,\n",
       "       0.95535714, 0.36607143, 0.36607143, 0.69642857, 0.92857143,\n",
       "       0.96428571, 0.94642857, 0.91964286, 0.50892857, 0.92857143,\n",
       "       0.96428571, 0.96428571, 0.9375    , 0.91964286, 0.5625    ,\n",
       "       0.96428571, 0.97321429, 0.95535714, 0.94642857, 0.91964286,\n",
       "       0.5625    ])"
      ]
     },
     "execution_count": 70,
     "metadata": {},
     "output_type": "execute_result"
    }
   ],
   "source": [
    "scores = np.array(results.mean_test_score)\n",
    "scores "
   ]
  },
  {
   "cell_type": "code",
   "execution_count": 71,
   "metadata": {},
   "outputs": [
    {
     "data": {
      "text/plain": [
       "<matplotlib.collections.PolyCollection at 0x112397630>"
      ]
     },
     "execution_count": 71,
     "metadata": {},
     "output_type": "execute_result"
    },
    {
     "data": {
      "image/png": "[encoded data removed]",
      "text/plain": [
       "<matplotlib.figure.Figure at 0x1121d4208>"
      ]
     },
     "metadata": {},
     "output_type": "display_data"
    }
   ],
   "source": [
    "scores = np.array(results.mean_test_score).reshape(6,6)\n",
    "# 平均交差検証のスコアのプロット\n",
    "mglearn.tools.heatmap(scores, xlabel='gamma', xticklabels=param_grid['gamma'],\n",
    "                     ylabel ='C', yticklabels=param_grid['C'], cmap='viridis')"
   ]
  },
  {
   "cell_type": "code",
   "execution_count": 72,
   "metadata": {
    "scrolled": true
   },
   "outputs": [
    {
     "ename": "ValueError",
     "evalue": "gamma < 0",
     "output_type": "error",
     "traceback": [
      "\u001b[0;31m---------------------------------------------------------------------------\u001b[0m",
      "\u001b[0;31mValueError\u001b[0m                                Traceback (most recent call last)",
      "\u001b[0;32m<ipython-input-72-1e39fc748656>\u001b[0m in \u001b[0;36m<module>\u001b[0;34m()\u001b[0m\n\u001b[1;32m     14\u001b[0m     \u001b[0;31m#print(ax)\u001b[0m\u001b[0;34m\u001b[0m\u001b[0;34m\u001b[0m\u001b[0m\n\u001b[1;32m     15\u001b[0m     \u001b[0mgrid_search\u001b[0m \u001b[0;34m=\u001b[0m \u001b[0mGridSearchCV\u001b[0m\u001b[0;34m(\u001b[0m\u001b[0mSVC\u001b[0m\u001b[0;34m(\u001b[0m\u001b[0;34m)\u001b[0m\u001b[0;34m,\u001b[0m \u001b[0mparam_grid\u001b[0m\u001b[0;34m,\u001b[0m \u001b[0mcv\u001b[0m\u001b[0;34m=\u001b[0m\u001b[0;36m5\u001b[0m\u001b[0;34m)\u001b[0m\u001b[0;34m\u001b[0m\u001b[0m\n\u001b[0;32m---> 16\u001b[0;31m     \u001b[0mgrid_search\u001b[0m\u001b[0;34m.\u001b[0m\u001b[0mfit\u001b[0m\u001b[0;34m(\u001b[0m\u001b[0mX_train\u001b[0m\u001b[0;34m,\u001b[0m \u001b[0my_train\u001b[0m\u001b[0;34m)\u001b[0m\u001b[0;34m\u001b[0m\u001b[0m\n\u001b[0m\u001b[1;32m     17\u001b[0m \u001b[0;34m\u001b[0m\u001b[0m\n\u001b[1;32m     18\u001b[0m     \u001b[0mscores\u001b[0m \u001b[0;34m=\u001b[0m \u001b[0mgrid_search\u001b[0m\u001b[0;34m.\u001b[0m\u001b[0mcv_results_\u001b[0m\u001b[0;34m[\u001b[0m\u001b[0;34m'mean_test_score'\u001b[0m\u001b[0;34m]\u001b[0m\u001b[0;34m.\u001b[0m\u001b[0mreshape\u001b[0m\u001b[0;34m(\u001b[0m\u001b[0;36m6\u001b[0m\u001b[0;34m,\u001b[0m\u001b[0;36m6\u001b[0m\u001b[0;34m)\u001b[0m\u001b[0;34m\u001b[0m\u001b[0m\n",
      "\u001b[0;32m~/.pyenv/versions/3.4.3/lib/python3.4/site-packages/sklearn/model_selection/_search.py\u001b[0m in \u001b[0;36mfit\u001b[0;34m(self, X, y, groups, **fit_params)\u001b[0m\n\u001b[1;32m    637\u001b[0m                                   error_score=self.error_score)\n\u001b[1;32m    638\u001b[0m           for parameters, (train, test) in product(candidate_params,\n\u001b[0;32m--> 639\u001b[0;31m                                                    cv.split(X, y, groups)))\n\u001b[0m\u001b[1;32m    640\u001b[0m \u001b[0;34m\u001b[0m\u001b[0m\n\u001b[1;32m    641\u001b[0m         \u001b[0;31m# if one choose to see train score, \"out\" will contain train score info\u001b[0m\u001b[0;34m\u001b[0m\u001b[0;34m\u001b[0m\u001b[0m\n",
      "\u001b[0;32m~/.pyenv/versions/3.4.3/lib/python3.4/site-packages/sklearn/externals/joblib/parallel.py\u001b[0m in \u001b[0;36m__call__\u001b[0;34m(self, iterable)\u001b[0m\n\u001b[1;32m    777\u001b[0m             \u001b[0;31m# was dispatched. In particular this covers the edge\u001b[0m\u001b[0;34m\u001b[0m\u001b[0;34m\u001b[0m\u001b[0m\n\u001b[1;32m    778\u001b[0m             \u001b[0;31m# case of Parallel used with an exhausted iterator.\u001b[0m\u001b[0;34m\u001b[0m\u001b[0;34m\u001b[0m\u001b[0m\n\u001b[0;32m--> 779\u001b[0;31m             \u001b[0;32mwhile\u001b[0m \u001b[0mself\u001b[0m\u001b[0;34m.\u001b[0m\u001b[0mdispatch_one_batch\u001b[0m\u001b[0;34m(\u001b[0m\u001b[0miterator\u001b[0m\u001b[0;34m)\u001b[0m\u001b[0;34m:\u001b[0m\u001b[0;34m\u001b[0m\u001b[0m\n\u001b[0m\u001b[1;32m    780\u001b[0m                 \u001b[0mself\u001b[0m\u001b[0;34m.\u001b[0m\u001b[0m_iterating\u001b[0m \u001b[0;34m=\u001b[0m \u001b[0;32mTrue\u001b[0m\u001b[0;34m\u001b[0m\u001b[0m\n\u001b[1;32m    781\u001b[0m             \u001b[0;32melse\u001b[0m\u001b[0;34m:\u001b[0m\u001b[0;34m\u001b[0m\u001b[0m\n",
      "\u001b[0;32m~/.pyenv/versions/3.4.3/lib/python3.4/site-packages/sklearn/externals/joblib/parallel.py\u001b[0m in \u001b[0;36mdispatch_one_batch\u001b[0;34m(self, iterator)\u001b[0m\n\u001b[1;32m    623\u001b[0m                 \u001b[0;32mreturn\u001b[0m \u001b[0;32mFalse\u001b[0m\u001b[0;34m\u001b[0m\u001b[0m\n\u001b[1;32m    624\u001b[0m             \u001b[0;32melse\u001b[0m\u001b[0;34m:\u001b[0m\u001b[0;34m\u001b[0m\u001b[0m\n\u001b[0;32m--> 625\u001b[0;31m                 \u001b[0mself\u001b[0m\u001b[0;34m.\u001b[0m\u001b[0m_dispatch\u001b[0m\u001b[0;34m(\u001b[0m\u001b[0mtasks\u001b[0m\u001b[0;34m)\u001b[0m\u001b[0;34m\u001b[0m\u001b[0m\n\u001b[0m\u001b[1;32m    626\u001b[0m                 \u001b[0;32mreturn\u001b[0m \u001b[0;32mTrue\u001b[0m\u001b[0;34m\u001b[0m\u001b[0m\n\u001b[1;32m    627\u001b[0m \u001b[0;34m\u001b[0m\u001b[0m\n",
      "\u001b[0;32m~/.pyenv/versions/3.4.3/lib/python3.4/site-packages/sklearn/externals/joblib/parallel.py\u001b[0m in \u001b[0;36m_dispatch\u001b[0;34m(self, batch)\u001b[0m\n\u001b[1;32m    586\u001b[0m         \u001b[0mdispatch_timestamp\u001b[0m \u001b[0;34m=\u001b[0m \u001b[0mtime\u001b[0m\u001b[0;34m.\u001b[0m\u001b[0mtime\u001b[0m\u001b[0;34m(\u001b[0m\u001b[0;34m)\u001b[0m\u001b[0;34m\u001b[0m\u001b[0m\n\u001b[1;32m    587\u001b[0m         \u001b[0mcb\u001b[0m \u001b[0;34m=\u001b[0m \u001b[0mBatchCompletionCallBack\u001b[0m\u001b[0;34m(\u001b[0m\u001b[0mdispatch_timestamp\u001b[0m\u001b[0;34m,\u001b[0m \u001b[0mlen\u001b[0m\u001b[0;34m(\u001b[0m\u001b[0mbatch\u001b[0m\u001b[0;34m)\u001b[0m\u001b[0;34m,\u001b[0m \u001b[0mself\u001b[0m\u001b[0;34m)\u001b[0m\u001b[0;34m\u001b[0m\u001b[0m\n\u001b[0;32m--> 588\u001b[0;31m         \u001b[0mjob\u001b[0m \u001b[0;34m=\u001b[0m \u001b[0mself\u001b[0m\u001b[0;34m.\u001b[0m\u001b[0m_backend\u001b[0m\u001b[0;34m.\u001b[0m\u001b[0mapply_async\u001b[0m\u001b[0;34m(\u001b[0m\u001b[0mbatch\u001b[0m\u001b[0;34m,\u001b[0m \u001b[0mcallback\u001b[0m\u001b[0;34m=\u001b[0m\u001b[0mcb\u001b[0m\u001b[0;34m)\u001b[0m\u001b[0;34m\u001b[0m\u001b[0m\n\u001b[0m\u001b[1;32m    589\u001b[0m         \u001b[0mself\u001b[0m\u001b[0;34m.\u001b[0m\u001b[0m_jobs\u001b[0m\u001b[0;34m.\u001b[0m\u001b[0mappend\u001b[0m\u001b[0;34m(\u001b[0m\u001b[0mjob\u001b[0m\u001b[0;34m)\u001b[0m\u001b[0;34m\u001b[0m\u001b[0m\n\u001b[1;32m    590\u001b[0m \u001b[0;34m\u001b[0m\u001b[0m\n",
      "\u001b[0;32m~/.pyenv/versions/3.4.3/lib/python3.4/site-packages/sklearn/externals/joblib/_parallel_backends.py\u001b[0m in \u001b[0;36mapply_async\u001b[0;34m(self, func, callback)\u001b[0m\n\u001b[1;32m    109\u001b[0m     \u001b[0;32mdef\u001b[0m \u001b[0mapply_async\u001b[0m\u001b[0;34m(\u001b[0m\u001b[0mself\u001b[0m\u001b[0;34m,\u001b[0m \u001b[0mfunc\u001b[0m\u001b[0;34m,\u001b[0m \u001b[0mcallback\u001b[0m\u001b[0;34m=\u001b[0m\u001b[0;32mNone\u001b[0m\u001b[0;34m)\u001b[0m\u001b[0;34m:\u001b[0m\u001b[0;34m\u001b[0m\u001b[0m\n\u001b[1;32m    110\u001b[0m         \u001b[0;34m\"\"\"Schedule a func to be run\"\"\"\u001b[0m\u001b[0;34m\u001b[0m\u001b[0m\n\u001b[0;32m--> 111\u001b[0;31m         \u001b[0mresult\u001b[0m \u001b[0;34m=\u001b[0m \u001b[0mImmediateResult\u001b[0m\u001b[0;34m(\u001b[0m\u001b[0mfunc\u001b[0m\u001b[0;34m)\u001b[0m\u001b[0;34m\u001b[0m\u001b[0m\n\u001b[0m\u001b[1;32m    112\u001b[0m         \u001b[0;32mif\u001b[0m \u001b[0mcallback\u001b[0m\u001b[0;34m:\u001b[0m\u001b[0;34m\u001b[0m\u001b[0m\n\u001b[1;32m    113\u001b[0m             \u001b[0mcallback\u001b[0m\u001b[0;34m(\u001b[0m\u001b[0mresult\u001b[0m\u001b[0;34m)\u001b[0m\u001b[0;34m\u001b[0m\u001b[0m\n",
      "\u001b[0;32m~/.pyenv/versions/3.4.3/lib/python3.4/site-packages/sklearn/externals/joblib/_parallel_backends.py\u001b[0m in \u001b[0;36m__init__\u001b[0;34m(self, batch)\u001b[0m\n\u001b[1;32m    330\u001b[0m         \u001b[0;31m# Don't delay the application, to avoid keeping the input\u001b[0m\u001b[0;34m\u001b[0m\u001b[0;34m\u001b[0m\u001b[0m\n\u001b[1;32m    331\u001b[0m         \u001b[0;31m# arguments in memory\u001b[0m\u001b[0;34m\u001b[0m\u001b[0;34m\u001b[0m\u001b[0m\n\u001b[0;32m--> 332\u001b[0;31m         \u001b[0mself\u001b[0m\u001b[0;34m.\u001b[0m\u001b[0mresults\u001b[0m \u001b[0;34m=\u001b[0m \u001b[0mbatch\u001b[0m\u001b[0;34m(\u001b[0m\u001b[0;34m)\u001b[0m\u001b[0;34m\u001b[0m\u001b[0m\n\u001b[0m\u001b[1;32m    333\u001b[0m \u001b[0;34m\u001b[0m\u001b[0m\n\u001b[1;32m    334\u001b[0m     \u001b[0;32mdef\u001b[0m \u001b[0mget\u001b[0m\u001b[0;34m(\u001b[0m\u001b[0mself\u001b[0m\u001b[0;34m)\u001b[0m\u001b[0;34m:\u001b[0m\u001b[0;34m\u001b[0m\u001b[0m\n",
      "\u001b[0;32m~/.pyenv/versions/3.4.3/lib/python3.4/site-packages/sklearn/externals/joblib/parallel.py\u001b[0m in \u001b[0;36m__call__\u001b[0;34m(self)\u001b[0m\n\u001b[1;32m    129\u001b[0m \u001b[0;34m\u001b[0m\u001b[0m\n\u001b[1;32m    130\u001b[0m     \u001b[0;32mdef\u001b[0m \u001b[0m__call__\u001b[0m\u001b[0;34m(\u001b[0m\u001b[0mself\u001b[0m\u001b[0;34m)\u001b[0m\u001b[0;34m:\u001b[0m\u001b[0;34m\u001b[0m\u001b[0m\n\u001b[0;32m--> 131\u001b[0;31m         \u001b[0;32mreturn\u001b[0m \u001b[0;34m[\u001b[0m\u001b[0mfunc\u001b[0m\u001b[0;34m(\u001b[0m\u001b[0;34m*\u001b[0m\u001b[0margs\u001b[0m\u001b[0;34m,\u001b[0m \u001b[0;34m**\u001b[0m\u001b[0mkwargs\u001b[0m\u001b[0;34m)\u001b[0m \u001b[0;32mfor\u001b[0m \u001b[0mfunc\u001b[0m\u001b[0;34m,\u001b[0m \u001b[0margs\u001b[0m\u001b[0;34m,\u001b[0m \u001b[0mkwargs\u001b[0m \u001b[0;32min\u001b[0m \u001b[0mself\u001b[0m\u001b[0;34m.\u001b[0m\u001b[0mitems\u001b[0m\u001b[0;34m]\u001b[0m\u001b[0;34m\u001b[0m\u001b[0m\n\u001b[0m\u001b[1;32m    132\u001b[0m \u001b[0;34m\u001b[0m\u001b[0m\n\u001b[1;32m    133\u001b[0m     \u001b[0;32mdef\u001b[0m \u001b[0m__len__\u001b[0m\u001b[0;34m(\u001b[0m\u001b[0mself\u001b[0m\u001b[0;34m)\u001b[0m\u001b[0;34m:\u001b[0m\u001b[0;34m\u001b[0m\u001b[0m\n",
      "\u001b[0;32m~/.pyenv/versions/3.4.3/lib/python3.4/site-packages/sklearn/externals/joblib/parallel.py\u001b[0m in \u001b[0;36m<listcomp>\u001b[0;34m(.0)\u001b[0m\n\u001b[1;32m    129\u001b[0m \u001b[0;34m\u001b[0m\u001b[0m\n\u001b[1;32m    130\u001b[0m     \u001b[0;32mdef\u001b[0m \u001b[0m__call__\u001b[0m\u001b[0;34m(\u001b[0m\u001b[0mself\u001b[0m\u001b[0;34m)\u001b[0m\u001b[0;34m:\u001b[0m\u001b[0;34m\u001b[0m\u001b[0m\n\u001b[0;32m--> 131\u001b[0;31m         \u001b[0;32mreturn\u001b[0m \u001b[0;34m[\u001b[0m\u001b[0mfunc\u001b[0m\u001b[0;34m(\u001b[0m\u001b[0;34m*\u001b[0m\u001b[0margs\u001b[0m\u001b[0;34m,\u001b[0m \u001b[0;34m**\u001b[0m\u001b[0mkwargs\u001b[0m\u001b[0;34m)\u001b[0m \u001b[0;32mfor\u001b[0m \u001b[0mfunc\u001b[0m\u001b[0;34m,\u001b[0m \u001b[0margs\u001b[0m\u001b[0;34m,\u001b[0m \u001b[0mkwargs\u001b[0m \u001b[0;32min\u001b[0m \u001b[0mself\u001b[0m\u001b[0;34m.\u001b[0m\u001b[0mitems\u001b[0m\u001b[0;34m]\u001b[0m\u001b[0;34m\u001b[0m\u001b[0m\n\u001b[0m\u001b[1;32m    132\u001b[0m \u001b[0;34m\u001b[0m\u001b[0m\n\u001b[1;32m    133\u001b[0m     \u001b[0;32mdef\u001b[0m \u001b[0m__len__\u001b[0m\u001b[0;34m(\u001b[0m\u001b[0mself\u001b[0m\u001b[0;34m)\u001b[0m\u001b[0;34m:\u001b[0m\u001b[0;34m\u001b[0m\u001b[0m\n",
      "\u001b[0;32m~/.pyenv/versions/3.4.3/lib/python3.4/site-packages/sklearn/model_selection/_validation.py\u001b[0m in \u001b[0;36m_fit_and_score\u001b[0;34m(estimator, X, y, scorer, train, test, verbose, parameters, fit_params, return_train_score, return_parameters, return_n_test_samples, return_times, error_score)\u001b[0m\n\u001b[1;32m    456\u001b[0m             \u001b[0mestimator\u001b[0m\u001b[0;34m.\u001b[0m\u001b[0mfit\u001b[0m\u001b[0;34m(\u001b[0m\u001b[0mX_train\u001b[0m\u001b[0;34m,\u001b[0m \u001b[0;34m**\u001b[0m\u001b[0mfit_params\u001b[0m\u001b[0;34m)\u001b[0m\u001b[0;34m\u001b[0m\u001b[0m\n\u001b[1;32m    457\u001b[0m         \u001b[0;32melse\u001b[0m\u001b[0;34m:\u001b[0m\u001b[0;34m\u001b[0m\u001b[0m\n\u001b[0;32m--> 458\u001b[0;31m             \u001b[0mestimator\u001b[0m\u001b[0;34m.\u001b[0m\u001b[0mfit\u001b[0m\u001b[0;34m(\u001b[0m\u001b[0mX_train\u001b[0m\u001b[0;34m,\u001b[0m \u001b[0my_train\u001b[0m\u001b[0;34m,\u001b[0m \u001b[0;34m**\u001b[0m\u001b[0mfit_params\u001b[0m\u001b[0;34m)\u001b[0m\u001b[0;34m\u001b[0m\u001b[0m\n\u001b[0m\u001b[1;32m    459\u001b[0m \u001b[0;34m\u001b[0m\u001b[0m\n\u001b[1;32m    460\u001b[0m     \u001b[0;32mexcept\u001b[0m \u001b[0mException\u001b[0m \u001b[0;32mas\u001b[0m \u001b[0me\u001b[0m\u001b[0;34m:\u001b[0m\u001b[0;34m\u001b[0m\u001b[0m\n",
      "\u001b[0;32m~/.pyenv/versions/3.4.3/lib/python3.4/site-packages/sklearn/svm/base.py\u001b[0m in \u001b[0;36mfit\u001b[0;34m(self, X, y, sample_weight)\u001b[0m\n\u001b[1;32m    185\u001b[0m \u001b[0;34m\u001b[0m\u001b[0m\n\u001b[1;32m    186\u001b[0m         \u001b[0mseed\u001b[0m \u001b[0;34m=\u001b[0m \u001b[0mrnd\u001b[0m\u001b[0;34m.\u001b[0m\u001b[0mrandint\u001b[0m\u001b[0;34m(\u001b[0m\u001b[0mnp\u001b[0m\u001b[0;34m.\u001b[0m\u001b[0miinfo\u001b[0m\u001b[0;34m(\u001b[0m\u001b[0;34m'i'\u001b[0m\u001b[0;34m)\u001b[0m\u001b[0;34m.\u001b[0m\u001b[0mmax\u001b[0m\u001b[0;34m)\u001b[0m\u001b[0;34m\u001b[0m\u001b[0m\n\u001b[0;32m--> 187\u001b[0;31m         \u001b[0mfit\u001b[0m\u001b[0;34m(\u001b[0m\u001b[0mX\u001b[0m\u001b[0;34m,\u001b[0m \u001b[0my\u001b[0m\u001b[0;34m,\u001b[0m \u001b[0msample_weight\u001b[0m\u001b[0;34m,\u001b[0m \u001b[0msolver_type\u001b[0m\u001b[0;34m,\u001b[0m \u001b[0mkernel\u001b[0m\u001b[0;34m,\u001b[0m \u001b[0mrandom_seed\u001b[0m\u001b[0;34m=\u001b[0m\u001b[0mseed\u001b[0m\u001b[0;34m)\u001b[0m\u001b[0;34m\u001b[0m\u001b[0m\n\u001b[0m\u001b[1;32m    188\u001b[0m         \u001b[0;31m# see comment on the other call to np.iinfo in this file\u001b[0m\u001b[0;34m\u001b[0m\u001b[0;34m\u001b[0m\u001b[0m\n\u001b[1;32m    189\u001b[0m \u001b[0;34m\u001b[0m\u001b[0m\n",
      "\u001b[0;32m~/.pyenv/versions/3.4.3/lib/python3.4/site-packages/sklearn/svm/base.py\u001b[0m in \u001b[0;36m_dense_fit\u001b[0;34m(self, X, y, sample_weight, solver_type, kernel, random_seed)\u001b[0m\n\u001b[1;32m    252\u001b[0m                 \u001b[0mcache_size\u001b[0m\u001b[0;34m=\u001b[0m\u001b[0mself\u001b[0m\u001b[0;34m.\u001b[0m\u001b[0mcache_size\u001b[0m\u001b[0;34m,\u001b[0m \u001b[0mcoef0\u001b[0m\u001b[0;34m=\u001b[0m\u001b[0mself\u001b[0m\u001b[0;34m.\u001b[0m\u001b[0mcoef0\u001b[0m\u001b[0;34m,\u001b[0m\u001b[0;34m\u001b[0m\u001b[0m\n\u001b[1;32m    253\u001b[0m                 \u001b[0mgamma\u001b[0m\u001b[0;34m=\u001b[0m\u001b[0mself\u001b[0m\u001b[0;34m.\u001b[0m\u001b[0m_gamma\u001b[0m\u001b[0;34m,\u001b[0m \u001b[0mepsilon\u001b[0m\u001b[0;34m=\u001b[0m\u001b[0mself\u001b[0m\u001b[0;34m.\u001b[0m\u001b[0mepsilon\u001b[0m\u001b[0;34m,\u001b[0m\u001b[0;34m\u001b[0m\u001b[0m\n\u001b[0;32m--> 254\u001b[0;31m                 max_iter=self.max_iter, random_seed=random_seed)\n\u001b[0m\u001b[1;32m    255\u001b[0m \u001b[0;34m\u001b[0m\u001b[0m\n\u001b[1;32m    256\u001b[0m         \u001b[0mself\u001b[0m\u001b[0;34m.\u001b[0m\u001b[0m_warn_from_fit_status\u001b[0m\u001b[0;34m(\u001b[0m\u001b[0;34m)\u001b[0m\u001b[0;34m\u001b[0m\u001b[0m\n",
      "\u001b[0;32msklearn/svm/libsvm.pyx\u001b[0m in \u001b[0;36msklearn.svm.libsvm.fit\u001b[0;34m()\u001b[0m\n",
      "\u001b[0;31mValueError\u001b[0m: gamma < 0"
     ]
    },
    {
     "data": {
      "image/png": "[encoded data removed]",
      "text/plain": [
       "<matplotlib.figure.Figure at 0x1124001d0>"
      ]
     },
     "metadata": {},
     "output_type": "display_data"
    }
   ],
   "source": [
    "\"\"\"\n",
    "テキストに従いエラーの出るソース\n",
    "\"\"\"\n",
    "\n",
    "fig , axes = plt.subplots(1, 3, figsize=(13,5))\n",
    "param_grid_linear = {'C':np.linspace(1,2,6),\n",
    "                    'gamma':np.linspace(1,2,6)}\n",
    "param_grid_one_log = {'C':np.linspace(1,2,6),\n",
    "                     'gamma':np.linspace(-3,2,6)}\n",
    "param_grid_range = {'C':np.linspace(-3,2,6),\n",
    "                     'gamma':np.linspace(-7,-2,6)}\n",
    "for param_grid, ax in zip([param_grid_linear,param_grid_one_log,param_grid_range],axes):\n",
    "    #print(param_grid)\n",
    "    #print(ax)\n",
    "    grid_search = GridSearchCV(SVC(), param_grid, cv=5)\n",
    "    grid_search.fit(X_train, y_train)\n",
    "    \n",
    "    scores = grid_search.cv_results_['mean_test_score'].reshape(6,6)\n",
    "    \n",
    "    #　平均交差検証精度をプロット\n",
    "    scores_image = mglearn.tools.heatmap(\n",
    "        scores,xlabel='gamma',ylabel='C',xticklabels=param_grid['gamma'],\n",
    "        yticklabels=param_grid['C'], cmap=\"viridis\", ax=ax)\n",
    "plt.colorbar(scores_image, ax=axes.tolist())\n",
    "    "
   ]
  },
  {
   "cell_type": "markdown",
   "metadata": {},
   "source": [
    "```\n",
    "gammaが-だとエラーになる\n",
    "```"
   ]
  },
  {
   "cell_type": "code",
   "execution_count": null,
   "metadata": {},
   "outputs": [],
   "source": [
    "fig , axes = plt.subplots(1, 3, figsize=(13,5))\n",
    "param_grid_linear = {'C':np.linspace(1,2,6),\n",
    "                    'gamma':np.linspace(1,2,6)}\n",
    "param_grid_one_log = {'C':np.linspace(1,2,6),\n",
    "                     'gamma':np.linspace(3,2,6)}\n",
    "param_grid_range = {'C':np.linspace(3,2,6),\n",
    "                     'gamma':np.linspace(7,2,6)}\n",
    "for param_grid, ax in zip([param_grid_linear,param_grid_one_log,param_grid_range],axes):\n",
    "    #print(param_grid)\n",
    "    #print(ax)\n",
    "    grid_search = GridSearchCV(SVC(), param_grid, cv=5)\n",
    "    grid_search.fit(X_train, y_train)\n",
    "    \n",
    "    scores = grid_search.cv_results_['mean_test_score'].reshape(6,6)\n",
    "    \n",
    "    #　平均交差検証精度をプロット\n",
    "    scores_image = mglearn.tools.heatmap(\n",
    "        scores,xlabel='gamma',ylabel='C',xticklabels=param_grid['gamma'],\n",
    "        yticklabels=param_grid['C'], cmap=\"viridis\", ax=ax)\n",
    "plt.colorbar(scores_image, ax=axes.tolist())"
   ]
  },
  {
   "cell_type": "markdown",
   "metadata": {},
   "source": [
    "# グリッドでないサーチ空間"
   ]
  },
  {
   "cell_type": "code",
   "execution_count": 73,
   "metadata": {
    "scrolled": true
   },
   "outputs": [
    {
     "name": "stdout",
     "output_type": "stream",
     "text": [
      "list of grids:\n",
      "[{'C': [0.001, 0.01, 0.1, 1, 10, 100], 'gamma': [0.001, 0.01, 0.1, 1, 10, 100], 'kernel': ['rbf']}, {'C': [0.001, 0.01, 0.1, 1, 10, 100], 'kernel': ['linear']}]\n"
     ]
    }
   ],
   "source": [
    "param_grid = [{'kernel':['rbf'],\n",
    "              'C':[0.001,0.01,0.1,1,10,100],\n",
    "              'gamma':[0.001,0.01,0.1,1,10,100]},\n",
    "             {'kernel':['linear'],\n",
    "             'C':[0.001,0.01,0.1,1,10,100]}]\n",
    "print(\"list of grids:\\n{}\".format(param_grid))"
   ]
  },
  {
   "cell_type": "code",
   "execution_count": 74,
   "metadata": {
    "scrolled": true
   },
   "outputs": [
    {
     "name": "stdout",
     "output_type": "stream",
     "text": [
      "best parameters：{'C': 100, 'gamma': 0.01, 'kernel': 'rbf'}\n",
      "vest cross validation score:0.9732142857142857\n"
     ]
    }
   ],
   "source": [
    "# パラメータの過剰適合を防ぐためにさらに訓練セットとテストセットを分割\n",
    "X_train, X_test, y_train, y_test = train_test_split(\n",
    "    iris.data, iris.target, random_state=0)\n",
    "grid_search = GridSearchCV(SVC(),param_grid, cv=5)\n",
    "grid_search.fit(X_train,y_train)\n",
    "print(\"best parameters：{}\".format(grid_search.best_params_))\n",
    "print(\"vest cross validation score:{:}\".format(grid_search.best_score_))\n"
   ]
  },
  {
   "cell_type": "code",
   "execution_count": 75,
   "metadata": {},
   "outputs": [
    {
     "name": "stdout",
     "output_type": "stream",
     "text": [
      "best parameters test score:0.9736842105263158\n"
     ]
    }
   ],
   "source": [
    "# ハイパーパラメータでモデルを構築・評価\n",
    "clf = SVC(**grid_search.best_params_)\n",
    "clf.fit(X_train,y_train)\n",
    "print(\"best parameters test score:{:}\".format(clf.score(X_test,y_test)))"
   ]
  },
  {
   "cell_type": "code",
   "execution_count": 76,
   "metadata": {
    "scrolled": true
   },
   "outputs": [
    {
     "name": "stderr",
     "output_type": "stream",
     "text": [
      "/Users/keisuke/.pyenv/versions/3.4.3/lib/python3.4/site-packages/sklearn/utils/deprecation.py:122: FutureWarning: You are accessing a training score ('mean_train_score'), which will not be available by default any more in 0.21. If you need training scores, please set return_train_score=True\n",
      "  warnings.warn(*warn_args, **warn_kwargs)\n",
      "/Users/keisuke/.pyenv/versions/3.4.3/lib/python3.4/site-packages/sklearn/utils/deprecation.py:122: FutureWarning: You are accessing a training score ('split0_train_score'), which will not be available by default any more in 0.21. If you need training scores, please set return_train_score=True\n",
      "  warnings.warn(*warn_args, **warn_kwargs)\n",
      "/Users/keisuke/.pyenv/versions/3.4.3/lib/python3.4/site-packages/sklearn/utils/deprecation.py:122: FutureWarning: You are accessing a training score ('split1_train_score'), which will not be available by default any more in 0.21. If you need training scores, please set return_train_score=True\n",
      "  warnings.warn(*warn_args, **warn_kwargs)\n",
      "/Users/keisuke/.pyenv/versions/3.4.3/lib/python3.4/site-packages/sklearn/utils/deprecation.py:122: FutureWarning: You are accessing a training score ('split2_train_score'), which will not be available by default any more in 0.21. If you need training scores, please set return_train_score=True\n",
      "  warnings.warn(*warn_args, **warn_kwargs)\n",
      "/Users/keisuke/.pyenv/versions/3.4.3/lib/python3.4/site-packages/sklearn/utils/deprecation.py:122: FutureWarning: You are accessing a training score ('split3_train_score'), which will not be available by default any more in 0.21. If you need training scores, please set return_train_score=True\n",
      "  warnings.warn(*warn_args, **warn_kwargs)\n",
      "/Users/keisuke/.pyenv/versions/3.4.3/lib/python3.4/site-packages/sklearn/utils/deprecation.py:122: FutureWarning: You are accessing a training score ('split4_train_score'), which will not be available by default any more in 0.21. If you need training scores, please set return_train_score=True\n",
      "  warnings.warn(*warn_args, **warn_kwargs)\n",
      "/Users/keisuke/.pyenv/versions/3.4.3/lib/python3.4/site-packages/sklearn/utils/deprecation.py:122: FutureWarning: You are accessing a training score ('std_train_score'), which will not be available by default any more in 0.21. If you need training scores, please set return_train_score=True\n",
      "  warnings.warn(*warn_args, **warn_kwargs)\n"
     ]
    },
    {
     "data": {
      "text/html": [
       "<div>\n",
       "<style>\n",
       "    .dataframe thead tr:only-child th {\n",
       "        text-align: right;\n",
       "    }\n",
       "\n",
       "    .dataframe thead th {\n",
       "        text-align: left;\n",
       "    }\n",
       "\n",
       "    .dataframe tbody tr th {\n",
       "        vertical-align: top;\n",
       "    }\n",
       "</style>\n",
       "<table border=\"1\" class=\"dataframe\">\n",
       "  <thead>\n",
       "    <tr style=\"text-align: right;\">\n",
       "      <th></th>\n",
       "      <th>0</th>\n",
       "      <th>1</th>\n",
       "      <th>2</th>\n",
       "      <th>3</th>\n",
       "      <th>4</th>\n",
       "      <th>5</th>\n",
       "      <th>6</th>\n",
       "      <th>7</th>\n",
       "      <th>8</th>\n",
       "      <th>9</th>\n",
       "      <th>...</th>\n",
       "      <th>26</th>\n",
       "      <th>27</th>\n",
       "      <th>28</th>\n",
       "      <th>29</th>\n",
       "      <th>30</th>\n",
       "      <th>31</th>\n",
       "      <th>32</th>\n",
       "      <th>33</th>\n",
       "      <th>34</th>\n",
       "      <th>35</th>\n",
       "    </tr>\n",
       "  </thead>\n",
       "  <tbody>\n",
       "    <tr>\n",
       "      <th>mean_fit_time</th>\n",
       "      <td>0.000929832</td>\n",
       "      <td>0.000660133</td>\n",
       "      <td>0.00065279</td>\n",
       "      <td>0.000689173</td>\n",
       "      <td>0.000650787</td>\n",
       "      <td>0.000597191</td>\n",
       "      <td>0.000655603</td>\n",
       "      <td>0.000609589</td>\n",
       "      <td>0.000626612</td>\n",
       "      <td>0.000587034</td>\n",
       "      <td>...</td>\n",
       "      <td>0.000389957</td>\n",
       "      <td>0.000463629</td>\n",
       "      <td>0.000786734</td>\n",
       "      <td>0.000795174</td>\n",
       "      <td>0.000413656</td>\n",
       "      <td>0.000379372</td>\n",
       "      <td>0.000363636</td>\n",
       "      <td>0.000517559</td>\n",
       "      <td>0.000729752</td>\n",
       "      <td>0.000803471</td>\n",
       "    </tr>\n",
       "    <tr>\n",
       "      <th>mean_score_time</th>\n",
       "      <td>0.000459242</td>\n",
       "      <td>0.000289631</td>\n",
       "      <td>0.000302219</td>\n",
       "      <td>0.00029664</td>\n",
       "      <td>0.000274754</td>\n",
       "      <td>0.000284243</td>\n",
       "      <td>0.000271988</td>\n",
       "      <td>0.000256968</td>\n",
       "      <td>0.000248384</td>\n",
       "      <td>0.000275326</td>\n",
       "      <td>...</td>\n",
       "      <td>0.000251436</td>\n",
       "      <td>0.000280142</td>\n",
       "      <td>0.000260019</td>\n",
       "      <td>0.000271368</td>\n",
       "      <td>0.00022893</td>\n",
       "      <td>0.000238371</td>\n",
       "      <td>0.000222158</td>\n",
       "      <td>0.000276041</td>\n",
       "      <td>0.000243807</td>\n",
       "      <td>0.000321531</td>\n",
       "    </tr>\n",
       "    <tr>\n",
       "      <th>mean_test_score</th>\n",
       "      <td>0.366071</td>\n",
       "      <td>0.366071</td>\n",
       "      <td>0.366071</td>\n",
       "      <td>0.366071</td>\n",
       "      <td>0.366071</td>\n",
       "      <td>0.366071</td>\n",
       "      <td>0.366071</td>\n",
       "      <td>0.366071</td>\n",
       "      <td>0.366071</td>\n",
       "      <td>0.366071</td>\n",
       "      <td>...</td>\n",
       "      <td>0.964286</td>\n",
       "      <td>0.9375</td>\n",
       "      <td>0.919643</td>\n",
       "      <td>0.5625</td>\n",
       "      <td>0.964286</td>\n",
       "      <td>0.973214</td>\n",
       "      <td>0.955357</td>\n",
       "      <td>0.946429</td>\n",
       "      <td>0.919643</td>\n",
       "      <td>0.5625</td>\n",
       "    </tr>\n",
       "    <tr>\n",
       "      <th>mean_train_score</th>\n",
       "      <td>0.366079</td>\n",
       "      <td>0.366079</td>\n",
       "      <td>0.366079</td>\n",
       "      <td>0.366079</td>\n",
       "      <td>0.366079</td>\n",
       "      <td>0.366079</td>\n",
       "      <td>0.366079</td>\n",
       "      <td>0.366079</td>\n",
       "      <td>0.366079</td>\n",
       "      <td>0.366079</td>\n",
       "      <td>...</td>\n",
       "      <td>0.986566</td>\n",
       "      <td>0.986591</td>\n",
       "      <td>1</td>\n",
       "      <td>1</td>\n",
       "      <td>0.977676</td>\n",
       "      <td>0.984368</td>\n",
       "      <td>0.988788</td>\n",
       "      <td>1</td>\n",
       "      <td>1</td>\n",
       "      <td>1</td>\n",
       "    </tr>\n",
       "    <tr>\n",
       "      <th>param_C</th>\n",
       "      <td>0.001</td>\n",
       "      <td>0.001</td>\n",
       "      <td>0.001</td>\n",
       "      <td>0.001</td>\n",
       "      <td>0.001</td>\n",
       "      <td>0.001</td>\n",
       "      <td>0.01</td>\n",
       "      <td>0.01</td>\n",
       "      <td>0.01</td>\n",
       "      <td>0.01</td>\n",
       "      <td>...</td>\n",
       "      <td>10</td>\n",
       "      <td>10</td>\n",
       "      <td>10</td>\n",
       "      <td>10</td>\n",
       "      <td>100</td>\n",
       "      <td>100</td>\n",
       "      <td>100</td>\n",
       "      <td>100</td>\n",
       "      <td>100</td>\n",
       "      <td>100</td>\n",
       "    </tr>\n",
       "    <tr>\n",
       "      <th>param_gamma</th>\n",
       "      <td>0.001</td>\n",
       "      <td>0.01</td>\n",
       "      <td>0.1</td>\n",
       "      <td>1</td>\n",
       "      <td>10</td>\n",
       "      <td>100</td>\n",
       "      <td>0.001</td>\n",
       "      <td>0.01</td>\n",
       "      <td>0.1</td>\n",
       "      <td>1</td>\n",
       "      <td>...</td>\n",
       "      <td>0.1</td>\n",
       "      <td>1</td>\n",
       "      <td>10</td>\n",
       "      <td>100</td>\n",
       "      <td>0.001</td>\n",
       "      <td>0.01</td>\n",
       "      <td>0.1</td>\n",
       "      <td>1</td>\n",
       "      <td>10</td>\n",
       "      <td>100</td>\n",
       "    </tr>\n",
       "    <tr>\n",
       "      <th>params</th>\n",
       "      <td>{'C': 0.001, 'gamma': 0.001}</td>\n",
       "      <td>{'C': 0.001, 'gamma': 0.01}</td>\n",
       "      <td>{'C': 0.001, 'gamma': 0.1}</td>\n",
       "      <td>{'C': 0.001, 'gamma': 1}</td>\n",
       "      <td>{'C': 0.001, 'gamma': 10}</td>\n",
       "      <td>{'C': 0.001, 'gamma': 100}</td>\n",
       "      <td>{'C': 0.01, 'gamma': 0.001}</td>\n",
       "      <td>{'C': 0.01, 'gamma': 0.01}</td>\n",
       "      <td>{'C': 0.01, 'gamma': 0.1}</td>\n",
       "      <td>{'C': 0.01, 'gamma': 1}</td>\n",
       "      <td>...</td>\n",
       "      <td>{'C': 10, 'gamma': 0.1}</td>\n",
       "      <td>{'C': 10, 'gamma': 1}</td>\n",
       "      <td>{'C': 10, 'gamma': 10}</td>\n",
       "      <td>{'C': 10, 'gamma': 100}</td>\n",
       "      <td>{'C': 100, 'gamma': 0.001}</td>\n",
       "      <td>{'C': 100, 'gamma': 0.01}</td>\n",
       "      <td>{'C': 100, 'gamma': 0.1}</td>\n",
       "      <td>{'C': 100, 'gamma': 1}</td>\n",
       "      <td>{'C': 100, 'gamma': 10}</td>\n",
       "      <td>{'C': 100, 'gamma': 100}</td>\n",
       "    </tr>\n",
       "    <tr>\n",
       "      <th>rank_test_score</th>\n",
       "      <td>22</td>\n",
       "      <td>22</td>\n",
       "      <td>22</td>\n",
       "      <td>22</td>\n",
       "      <td>22</td>\n",
       "      <td>22</td>\n",
       "      <td>22</td>\n",
       "      <td>22</td>\n",
       "      <td>22</td>\n",
       "      <td>22</td>\n",
       "      <td>...</td>\n",
       "      <td>2</td>\n",
       "      <td>10</td>\n",
       "      <td>13</td>\n",
       "      <td>19</td>\n",
       "      <td>2</td>\n",
       "      <td>1</td>\n",
       "      <td>6</td>\n",
       "      <td>8</td>\n",
       "      <td>13</td>\n",
       "      <td>19</td>\n",
       "    </tr>\n",
       "    <tr>\n",
       "      <th>split0_test_score</th>\n",
       "      <td>0.375</td>\n",
       "      <td>0.375</td>\n",
       "      <td>0.375</td>\n",
       "      <td>0.375</td>\n",
       "      <td>0.375</td>\n",
       "      <td>0.375</td>\n",
       "      <td>0.375</td>\n",
       "      <td>0.375</td>\n",
       "      <td>0.375</td>\n",
       "      <td>0.375</td>\n",
       "      <td>...</td>\n",
       "      <td>0.958333</td>\n",
       "      <td>0.916667</td>\n",
       "      <td>0.875</td>\n",
       "      <td>0.541667</td>\n",
       "      <td>1</td>\n",
       "      <td>1</td>\n",
       "      <td>0.958333</td>\n",
       "      <td>0.916667</td>\n",
       "      <td>0.875</td>\n",
       "      <td>0.541667</td>\n",
       "    </tr>\n",
       "    <tr>\n",
       "      <th>split0_train_score</th>\n",
       "      <td>0.363636</td>\n",
       "      <td>0.363636</td>\n",
       "      <td>0.363636</td>\n",
       "      <td>0.363636</td>\n",
       "      <td>0.363636</td>\n",
       "      <td>0.363636</td>\n",
       "      <td>0.363636</td>\n",
       "      <td>0.363636</td>\n",
       "      <td>0.363636</td>\n",
       "      <td>0.363636</td>\n",
       "      <td>...</td>\n",
       "      <td>0.988636</td>\n",
       "      <td>0.988636</td>\n",
       "      <td>1</td>\n",
       "      <td>1</td>\n",
       "      <td>0.977273</td>\n",
       "      <td>0.988636</td>\n",
       "      <td>0.988636</td>\n",
       "      <td>1</td>\n",
       "      <td>1</td>\n",
       "      <td>1</td>\n",
       "    </tr>\n",
       "    <tr>\n",
       "      <th>split1_test_score</th>\n",
       "      <td>0.347826</td>\n",
       "      <td>0.347826</td>\n",
       "      <td>0.347826</td>\n",
       "      <td>0.347826</td>\n",
       "      <td>0.347826</td>\n",
       "      <td>0.347826</td>\n",
       "      <td>0.347826</td>\n",
       "      <td>0.347826</td>\n",
       "      <td>0.347826</td>\n",
       "      <td>0.347826</td>\n",
       "      <td>...</td>\n",
       "      <td>0.956522</td>\n",
       "      <td>0.956522</td>\n",
       "      <td>0.956522</td>\n",
       "      <td>0.478261</td>\n",
       "      <td>0.956522</td>\n",
       "      <td>0.956522</td>\n",
       "      <td>1</td>\n",
       "      <td>1</td>\n",
       "      <td>0.956522</td>\n",
       "      <td>0.478261</td>\n",
       "    </tr>\n",
       "    <tr>\n",
       "      <th>split1_train_score</th>\n",
       "      <td>0.370787</td>\n",
       "      <td>0.370787</td>\n",
       "      <td>0.370787</td>\n",
       "      <td>0.370787</td>\n",
       "      <td>0.370787</td>\n",
       "      <td>0.370787</td>\n",
       "      <td>0.370787</td>\n",
       "      <td>0.370787</td>\n",
       "      <td>0.370787</td>\n",
       "      <td>0.370787</td>\n",
       "      <td>...</td>\n",
       "      <td>0.977528</td>\n",
       "      <td>0.977528</td>\n",
       "      <td>1</td>\n",
       "      <td>1</td>\n",
       "      <td>0.977528</td>\n",
       "      <td>0.977528</td>\n",
       "      <td>0.977528</td>\n",
       "      <td>1</td>\n",
       "      <td>1</td>\n",
       "      <td>1</td>\n",
       "    </tr>\n",
       "    <tr>\n",
       "      <th>split2_test_score</th>\n",
       "      <td>0.363636</td>\n",
       "      <td>0.363636</td>\n",
       "      <td>0.363636</td>\n",
       "      <td>0.363636</td>\n",
       "      <td>0.363636</td>\n",
       "      <td>0.363636</td>\n",
       "      <td>0.363636</td>\n",
       "      <td>0.363636</td>\n",
       "      <td>0.363636</td>\n",
       "      <td>0.363636</td>\n",
       "      <td>...</td>\n",
       "      <td>1</td>\n",
       "      <td>1</td>\n",
       "      <td>1</td>\n",
       "      <td>0.590909</td>\n",
       "      <td>1</td>\n",
       "      <td>1</td>\n",
       "      <td>1</td>\n",
       "      <td>1</td>\n",
       "      <td>1</td>\n",
       "      <td>0.590909</td>\n",
       "    </tr>\n",
       "    <tr>\n",
       "      <th>split2_train_score</th>\n",
       "      <td>0.366667</td>\n",
       "      <td>0.366667</td>\n",
       "      <td>0.366667</td>\n",
       "      <td>0.366667</td>\n",
       "      <td>0.366667</td>\n",
       "      <td>0.366667</td>\n",
       "      <td>0.366667</td>\n",
       "      <td>0.366667</td>\n",
       "      <td>0.366667</td>\n",
       "      <td>0.366667</td>\n",
       "      <td>...</td>\n",
       "      <td>0.977778</td>\n",
       "      <td>0.977778</td>\n",
       "      <td>1</td>\n",
       "      <td>1</td>\n",
       "      <td>0.966667</td>\n",
       "      <td>0.977778</td>\n",
       "      <td>0.977778</td>\n",
       "      <td>1</td>\n",
       "      <td>1</td>\n",
       "      <td>1</td>\n",
       "    </tr>\n",
       "    <tr>\n",
       "      <th>split3_test_score</th>\n",
       "      <td>0.363636</td>\n",
       "      <td>0.363636</td>\n",
       "      <td>0.363636</td>\n",
       "      <td>0.363636</td>\n",
       "      <td>0.363636</td>\n",
       "      <td>0.363636</td>\n",
       "      <td>0.363636</td>\n",
       "      <td>0.363636</td>\n",
       "      <td>0.363636</td>\n",
       "      <td>0.363636</td>\n",
       "      <td>...</td>\n",
       "      <td>0.954545</td>\n",
       "      <td>0.863636</td>\n",
       "      <td>0.818182</td>\n",
       "      <td>0.590909</td>\n",
       "      <td>0.909091</td>\n",
       "      <td>0.954545</td>\n",
       "      <td>0.863636</td>\n",
       "      <td>0.863636</td>\n",
       "      <td>0.818182</td>\n",
       "      <td>0.590909</td>\n",
       "    </tr>\n",
       "    <tr>\n",
       "      <th>split3_train_score</th>\n",
       "      <td>0.366667</td>\n",
       "      <td>0.366667</td>\n",
       "      <td>0.366667</td>\n",
       "      <td>0.366667</td>\n",
       "      <td>0.366667</td>\n",
       "      <td>0.366667</td>\n",
       "      <td>0.366667</td>\n",
       "      <td>0.366667</td>\n",
       "      <td>0.366667</td>\n",
       "      <td>0.366667</td>\n",
       "      <td>...</td>\n",
       "      <td>0.988889</td>\n",
       "      <td>1</td>\n",
       "      <td>1</td>\n",
       "      <td>1</td>\n",
       "      <td>0.988889</td>\n",
       "      <td>0.988889</td>\n",
       "      <td>1</td>\n",
       "      <td>1</td>\n",
       "      <td>1</td>\n",
       "      <td>1</td>\n",
       "    </tr>\n",
       "    <tr>\n",
       "      <th>split4_test_score</th>\n",
       "      <td>0.380952</td>\n",
       "      <td>0.380952</td>\n",
       "      <td>0.380952</td>\n",
       "      <td>0.380952</td>\n",
       "      <td>0.380952</td>\n",
       "      <td>0.380952</td>\n",
       "      <td>0.380952</td>\n",
       "      <td>0.380952</td>\n",
       "      <td>0.380952</td>\n",
       "      <td>0.380952</td>\n",
       "      <td>...</td>\n",
       "      <td>0.952381</td>\n",
       "      <td>0.952381</td>\n",
       "      <td>0.952381</td>\n",
       "      <td>0.619048</td>\n",
       "      <td>0.952381</td>\n",
       "      <td>0.952381</td>\n",
       "      <td>0.952381</td>\n",
       "      <td>0.952381</td>\n",
       "      <td>0.952381</td>\n",
       "      <td>0.619048</td>\n",
       "    </tr>\n",
       "    <tr>\n",
       "      <th>split4_train_score</th>\n",
       "      <td>0.362637</td>\n",
       "      <td>0.362637</td>\n",
       "      <td>0.362637</td>\n",
       "      <td>0.362637</td>\n",
       "      <td>0.362637</td>\n",
       "      <td>0.362637</td>\n",
       "      <td>0.362637</td>\n",
       "      <td>0.362637</td>\n",
       "      <td>0.362637</td>\n",
       "      <td>0.362637</td>\n",
       "      <td>...</td>\n",
       "      <td>1</td>\n",
       "      <td>0.989011</td>\n",
       "      <td>1</td>\n",
       "      <td>1</td>\n",
       "      <td>0.978022</td>\n",
       "      <td>0.989011</td>\n",
       "      <td>1</td>\n",
       "      <td>1</td>\n",
       "      <td>1</td>\n",
       "      <td>1</td>\n",
       "    </tr>\n",
       "    <tr>\n",
       "      <th>std_fit_time</th>\n",
       "      <td>0.000118331</td>\n",
       "      <td>0.000122107</td>\n",
       "      <td>0.000121095</td>\n",
       "      <td>0.000137464</td>\n",
       "      <td>4.71082e-05</td>\n",
       "      <td>1.00706e-05</td>\n",
       "      <td>5.51526e-05</td>\n",
       "      <td>7.64372e-05</td>\n",
       "      <td>7.8204e-05</td>\n",
       "      <td>1.83179e-05</td>\n",
       "      <td>...</td>\n",
       "      <td>3.04943e-05</td>\n",
       "      <td>2.06925e-05</td>\n",
       "      <td>6.18611e-05</td>\n",
       "      <td>5.71289e-05</td>\n",
       "      <td>2.22213e-05</td>\n",
       "      <td>3.03001e-05</td>\n",
       "      <td>2.21272e-05</td>\n",
       "      <td>6.75036e-05</td>\n",
       "      <td>3.34345e-05</td>\n",
       "      <td>8.94537e-05</td>\n",
       "    </tr>\n",
       "    <tr>\n",
       "      <th>std_score_time</th>\n",
       "      <td>0.000151561</td>\n",
       "      <td>4.24016e-05</td>\n",
       "      <td>0.000110526</td>\n",
       "      <td>5.42528e-05</td>\n",
       "      <td>2.04666e-05</td>\n",
       "      <td>4.06676e-05</td>\n",
       "      <td>2.47337e-05</td>\n",
       "      <td>1.27293e-05</td>\n",
       "      <td>8.49975e-06</td>\n",
       "      <td>3.57985e-05</td>\n",
       "      <td>...</td>\n",
       "      <td>2.9188e-05</td>\n",
       "      <td>5.33623e-05</td>\n",
       "      <td>3.52171e-05</td>\n",
       "      <td>1.92482e-05</td>\n",
       "      <td>5.20474e-06</td>\n",
       "      <td>4.58355e-05</td>\n",
       "      <td>1.44549e-05</td>\n",
       "      <td>4.61716e-05</td>\n",
       "      <td>5.79823e-06</td>\n",
       "      <td>7.18898e-05</td>\n",
       "    </tr>\n",
       "    <tr>\n",
       "      <th>std_test_score</th>\n",
       "      <td>0.0113708</td>\n",
       "      <td>0.0113708</td>\n",
       "      <td>0.0113708</td>\n",
       "      <td>0.0113708</td>\n",
       "      <td>0.0113708</td>\n",
       "      <td>0.0113708</td>\n",
       "      <td>0.0113708</td>\n",
       "      <td>0.0113708</td>\n",
       "      <td>0.0113708</td>\n",
       "      <td>0.0113708</td>\n",
       "      <td>...</td>\n",
       "      <td>0.0177687</td>\n",
       "      <td>0.0452528</td>\n",
       "      <td>0.0647906</td>\n",
       "      <td>0.0496678</td>\n",
       "      <td>0.0340769</td>\n",
       "      <td>0.0223995</td>\n",
       "      <td>0.0495662</td>\n",
       "      <td>0.0519227</td>\n",
       "      <td>0.0647906</td>\n",
       "      <td>0.0496678</td>\n",
       "    </tr>\n",
       "    <tr>\n",
       "      <th>std_train_score</th>\n",
       "      <td>0.00285176</td>\n",
       "      <td>0.00285176</td>\n",
       "      <td>0.00285176</td>\n",
       "      <td>0.00285176</td>\n",
       "      <td>0.00285176</td>\n",
       "      <td>0.00285176</td>\n",
       "      <td>0.00285176</td>\n",
       "      <td>0.00285176</td>\n",
       "      <td>0.00285176</td>\n",
       "      <td>0.00285176</td>\n",
       "      <td>...</td>\n",
       "      <td>0.00835549</td>\n",
       "      <td>0.00836242</td>\n",
       "      <td>0</td>\n",
       "      <td>0</td>\n",
       "      <td>0.00703191</td>\n",
       "      <td>0.00548507</td>\n",
       "      <td>0.00999451</td>\n",
       "      <td>0</td>\n",
       "      <td>0</td>\n",
       "      <td>0</td>\n",
       "    </tr>\n",
       "  </tbody>\n",
       "</table>\n",
       "<p>22 rows × 36 columns</p>\n",
       "</div>"
      ],
      "text/plain": [
       "                                              0                            1   \\\n",
       "mean_fit_time                        0.000929832                  0.000660133   \n",
       "mean_score_time                      0.000459242                  0.000289631   \n",
       "mean_test_score                         0.366071                     0.366071   \n",
       "mean_train_score                        0.366079                     0.366079   \n",
       "param_C                                    0.001                        0.001   \n",
       "param_gamma                                0.001                         0.01   \n",
       "params              {'C': 0.001, 'gamma': 0.001}  {'C': 0.001, 'gamma': 0.01}   \n",
       "rank_test_score                               22                           22   \n",
       "split0_test_score                          0.375                        0.375   \n",
       "split0_train_score                      0.363636                     0.363636   \n",
       "split1_test_score                       0.347826                     0.347826   \n",
       "split1_train_score                      0.370787                     0.370787   \n",
       "split2_test_score                       0.363636                     0.363636   \n",
       "split2_train_score                      0.366667                     0.366667   \n",
       "split3_test_score                       0.363636                     0.363636   \n",
       "split3_train_score                      0.366667                     0.366667   \n",
       "split4_test_score                       0.380952                     0.380952   \n",
       "split4_train_score                      0.362637                     0.362637   \n",
       "std_fit_time                         0.000118331                  0.000122107   \n",
       "std_score_time                       0.000151561                  4.24016e-05   \n",
       "std_test_score                         0.0113708                    0.0113708   \n",
       "std_train_score                       0.00285176                   0.00285176   \n",
       "\n",
       "                                            2                         3   \\\n",
       "mean_fit_time                       0.00065279               0.000689173   \n",
       "mean_score_time                    0.000302219                0.00029664   \n",
       "mean_test_score                       0.366071                  0.366071   \n",
       "mean_train_score                      0.366079                  0.366079   \n",
       "param_C                                  0.001                     0.001   \n",
       "param_gamma                                0.1                         1   \n",
       "params              {'C': 0.001, 'gamma': 0.1}  {'C': 0.001, 'gamma': 1}   \n",
       "rank_test_score                             22                        22   \n",
       "split0_test_score                        0.375                     0.375   \n",
       "split0_train_score                    0.363636                  0.363636   \n",
       "split1_test_score                     0.347826                  0.347826   \n",
       "split1_train_score                    0.370787                  0.370787   \n",
       "split2_test_score                     0.363636                  0.363636   \n",
       "split2_train_score                    0.366667                  0.366667   \n",
       "split3_test_score                     0.363636                  0.363636   \n",
       "split3_train_score                    0.366667                  0.366667   \n",
       "split4_test_score                     0.380952                  0.380952   \n",
       "split4_train_score                    0.362637                  0.362637   \n",
       "std_fit_time                       0.000121095               0.000137464   \n",
       "std_score_time                     0.000110526               5.42528e-05   \n",
       "std_test_score                       0.0113708                 0.0113708   \n",
       "std_train_score                     0.00285176                0.00285176   \n",
       "\n",
       "                                           4                           5   \\\n",
       "mean_fit_time                     0.000650787                 0.000597191   \n",
       "mean_score_time                   0.000274754                 0.000284243   \n",
       "mean_test_score                      0.366071                    0.366071   \n",
       "mean_train_score                     0.366079                    0.366079   \n",
       "param_C                                 0.001                       0.001   \n",
       "param_gamma                                10                         100   \n",
       "params              {'C': 0.001, 'gamma': 10}  {'C': 0.001, 'gamma': 100}   \n",
       "rank_test_score                            22                          22   \n",
       "split0_test_score                       0.375                       0.375   \n",
       "split0_train_score                   0.363636                    0.363636   \n",
       "split1_test_score                    0.347826                    0.347826   \n",
       "split1_train_score                   0.370787                    0.370787   \n",
       "split2_test_score                    0.363636                    0.363636   \n",
       "split2_train_score                   0.366667                    0.366667   \n",
       "split3_test_score                    0.363636                    0.363636   \n",
       "split3_train_score                   0.366667                    0.366667   \n",
       "split4_test_score                    0.380952                    0.380952   \n",
       "split4_train_score                   0.362637                    0.362637   \n",
       "std_fit_time                      4.71082e-05                 1.00706e-05   \n",
       "std_score_time                    2.04666e-05                 4.06676e-05   \n",
       "std_test_score                      0.0113708                   0.0113708   \n",
       "std_train_score                    0.00285176                  0.00285176   \n",
       "\n",
       "                                             6                           7   \\\n",
       "mean_fit_time                       0.000655603                 0.000609589   \n",
       "mean_score_time                     0.000271988                 0.000256968   \n",
       "mean_test_score                        0.366071                    0.366071   \n",
       "mean_train_score                       0.366079                    0.366079   \n",
       "param_C                                    0.01                        0.01   \n",
       "param_gamma                               0.001                        0.01   \n",
       "params              {'C': 0.01, 'gamma': 0.001}  {'C': 0.01, 'gamma': 0.01}   \n",
       "rank_test_score                              22                          22   \n",
       "split0_test_score                         0.375                       0.375   \n",
       "split0_train_score                     0.363636                    0.363636   \n",
       "split1_test_score                      0.347826                    0.347826   \n",
       "split1_train_score                     0.370787                    0.370787   \n",
       "split2_test_score                      0.363636                    0.363636   \n",
       "split2_train_score                     0.366667                    0.366667   \n",
       "split3_test_score                      0.363636                    0.363636   \n",
       "split3_train_score                     0.366667                    0.366667   \n",
       "split4_test_score                      0.380952                    0.380952   \n",
       "split4_train_score                     0.362637                    0.362637   \n",
       "std_fit_time                        5.51526e-05                 7.64372e-05   \n",
       "std_score_time                      2.47337e-05                 1.27293e-05   \n",
       "std_test_score                        0.0113708                   0.0113708   \n",
       "std_train_score                      0.00285176                  0.00285176   \n",
       "\n",
       "                                           8                        9   \\\n",
       "mean_fit_time                     0.000626612              0.000587034   \n",
       "mean_score_time                   0.000248384              0.000275326   \n",
       "mean_test_score                      0.366071                 0.366071   \n",
       "mean_train_score                     0.366079                 0.366079   \n",
       "param_C                                  0.01                     0.01   \n",
       "param_gamma                               0.1                        1   \n",
       "params              {'C': 0.01, 'gamma': 0.1}  {'C': 0.01, 'gamma': 1}   \n",
       "rank_test_score                            22                       22   \n",
       "split0_test_score                       0.375                    0.375   \n",
       "split0_train_score                   0.363636                 0.363636   \n",
       "split1_test_score                    0.347826                 0.347826   \n",
       "split1_train_score                   0.370787                 0.370787   \n",
       "split2_test_score                    0.363636                 0.363636   \n",
       "split2_train_score                   0.366667                 0.366667   \n",
       "split3_test_score                    0.363636                 0.363636   \n",
       "split3_train_score                   0.366667                 0.366667   \n",
       "split4_test_score                    0.380952                 0.380952   \n",
       "split4_train_score                   0.362637                 0.362637   \n",
       "std_fit_time                       7.8204e-05              1.83179e-05   \n",
       "std_score_time                    8.49975e-06              3.57985e-05   \n",
       "std_test_score                      0.0113708                0.0113708   \n",
       "std_train_score                    0.00285176               0.00285176   \n",
       "\n",
       "                              ...                                  26  \\\n",
       "mean_fit_time                 ...                         0.000389957   \n",
       "mean_score_time               ...                         0.000251436   \n",
       "mean_test_score               ...                            0.964286   \n",
       "mean_train_score              ...                            0.986566   \n",
       "param_C                       ...                                  10   \n",
       "param_gamma                   ...                                 0.1   \n",
       "params                        ...             {'C': 10, 'gamma': 0.1}   \n",
       "rank_test_score               ...                                   2   \n",
       "split0_test_score             ...                            0.958333   \n",
       "split0_train_score            ...                            0.988636   \n",
       "split1_test_score             ...                            0.956522   \n",
       "split1_train_score            ...                            0.977528   \n",
       "split2_test_score             ...                                   1   \n",
       "split2_train_score            ...                            0.977778   \n",
       "split3_test_score             ...                            0.954545   \n",
       "split3_train_score            ...                            0.988889   \n",
       "split4_test_score             ...                            0.952381   \n",
       "split4_train_score            ...                                   1   \n",
       "std_fit_time                  ...                         3.04943e-05   \n",
       "std_score_time                ...                          2.9188e-05   \n",
       "std_test_score                ...                           0.0177687   \n",
       "std_train_score               ...                          0.00835549   \n",
       "\n",
       "                                       27                      28  \\\n",
       "mean_fit_time                 0.000463629             0.000786734   \n",
       "mean_score_time               0.000280142             0.000260019   \n",
       "mean_test_score                    0.9375                0.919643   \n",
       "mean_train_score                 0.986591                       1   \n",
       "param_C                                10                      10   \n",
       "param_gamma                             1                      10   \n",
       "params              {'C': 10, 'gamma': 1}  {'C': 10, 'gamma': 10}   \n",
       "rank_test_score                        10                      13   \n",
       "split0_test_score                0.916667                   0.875   \n",
       "split0_train_score               0.988636                       1   \n",
       "split1_test_score                0.956522                0.956522   \n",
       "split1_train_score               0.977528                       1   \n",
       "split2_test_score                       1                       1   \n",
       "split2_train_score               0.977778                       1   \n",
       "split3_test_score                0.863636                0.818182   \n",
       "split3_train_score                      1                       1   \n",
       "split4_test_score                0.952381                0.952381   \n",
       "split4_train_score               0.989011                       1   \n",
       "std_fit_time                  2.06925e-05             6.18611e-05   \n",
       "std_score_time                5.33623e-05             3.52171e-05   \n",
       "std_test_score                  0.0452528               0.0647906   \n",
       "std_train_score                0.00836242                       0   \n",
       "\n",
       "                                         29                          30  \\\n",
       "mean_fit_time                   0.000795174                 0.000413656   \n",
       "mean_score_time                 0.000271368                  0.00022893   \n",
       "mean_test_score                      0.5625                    0.964286   \n",
       "mean_train_score                          1                    0.977676   \n",
       "param_C                                  10                         100   \n",
       "param_gamma                             100                       0.001   \n",
       "params              {'C': 10, 'gamma': 100}  {'C': 100, 'gamma': 0.001}   \n",
       "rank_test_score                          19                           2   \n",
       "split0_test_score                  0.541667                           1   \n",
       "split0_train_score                        1                    0.977273   \n",
       "split1_test_score                  0.478261                    0.956522   \n",
       "split1_train_score                        1                    0.977528   \n",
       "split2_test_score                  0.590909                           1   \n",
       "split2_train_score                        1                    0.966667   \n",
       "split3_test_score                  0.590909                    0.909091   \n",
       "split3_train_score                        1                    0.988889   \n",
       "split4_test_score                  0.619048                    0.952381   \n",
       "split4_train_score                        1                    0.978022   \n",
       "std_fit_time                    5.71289e-05                 2.22213e-05   \n",
       "std_score_time                  1.92482e-05                 5.20474e-06   \n",
       "std_test_score                    0.0496678                   0.0340769   \n",
       "std_train_score                           0                  0.00703191   \n",
       "\n",
       "                                           31                        32  \\\n",
       "mean_fit_time                     0.000379372               0.000363636   \n",
       "mean_score_time                   0.000238371               0.000222158   \n",
       "mean_test_score                      0.973214                  0.955357   \n",
       "mean_train_score                     0.984368                  0.988788   \n",
       "param_C                                   100                       100   \n",
       "param_gamma                              0.01                       0.1   \n",
       "params              {'C': 100, 'gamma': 0.01}  {'C': 100, 'gamma': 0.1}   \n",
       "rank_test_score                             1                         6   \n",
       "split0_test_score                           1                  0.958333   \n",
       "split0_train_score                   0.988636                  0.988636   \n",
       "split1_test_score                    0.956522                         1   \n",
       "split1_train_score                   0.977528                  0.977528   \n",
       "split2_test_score                           1                         1   \n",
       "split2_train_score                   0.977778                  0.977778   \n",
       "split3_test_score                    0.954545                  0.863636   \n",
       "split3_train_score                   0.988889                         1   \n",
       "split4_test_score                    0.952381                  0.952381   \n",
       "split4_train_score                   0.989011                         1   \n",
       "std_fit_time                      3.03001e-05               2.21272e-05   \n",
       "std_score_time                    4.58355e-05               1.44549e-05   \n",
       "std_test_score                      0.0223995                 0.0495662   \n",
       "std_train_score                    0.00548507                0.00999451   \n",
       "\n",
       "                                        33                       34  \\\n",
       "mean_fit_time                  0.000517559              0.000729752   \n",
       "mean_score_time                0.000276041              0.000243807   \n",
       "mean_test_score                   0.946429                 0.919643   \n",
       "mean_train_score                         1                        1   \n",
       "param_C                                100                      100   \n",
       "param_gamma                              1                       10   \n",
       "params              {'C': 100, 'gamma': 1}  {'C': 100, 'gamma': 10}   \n",
       "rank_test_score                          8                       13   \n",
       "split0_test_score                 0.916667                    0.875   \n",
       "split0_train_score                       1                        1   \n",
       "split1_test_score                        1                 0.956522   \n",
       "split1_train_score                       1                        1   \n",
       "split2_test_score                        1                        1   \n",
       "split2_train_score                       1                        1   \n",
       "split3_test_score                 0.863636                 0.818182   \n",
       "split3_train_score                       1                        1   \n",
       "split4_test_score                 0.952381                 0.952381   \n",
       "split4_train_score                       1                        1   \n",
       "std_fit_time                   6.75036e-05              3.34345e-05   \n",
       "std_score_time                 4.61716e-05              5.79823e-06   \n",
       "std_test_score                   0.0519227                0.0647906   \n",
       "std_train_score                          0                        0   \n",
       "\n",
       "                                          35  \n",
       "mean_fit_time                    0.000803471  \n",
       "mean_score_time                  0.000321531  \n",
       "mean_test_score                       0.5625  \n",
       "mean_train_score                           1  \n",
       "param_C                                  100  \n",
       "param_gamma                              100  \n",
       "params              {'C': 100, 'gamma': 100}  \n",
       "rank_test_score                           19  \n",
       "split0_test_score                   0.541667  \n",
       "split0_train_score                         1  \n",
       "split1_test_score                   0.478261  \n",
       "split1_train_score                         1  \n",
       "split2_test_score                   0.590909  \n",
       "split2_train_score                         1  \n",
       "split3_test_score                   0.590909  \n",
       "split3_train_score                         1  \n",
       "split4_test_score                   0.619048  \n",
       "split4_train_score                         1  \n",
       "std_fit_time                     8.94537e-05  \n",
       "std_score_time                   7.18898e-05  \n",
       "std_test_score                     0.0496678  \n",
       "std_train_score                            0  \n",
       "\n",
       "[22 rows x 36 columns]"
      ]
     },
     "metadata": {},
     "output_type": "display_data"
    }
   ],
   "source": [
    "rsults = pd.DataFrame(grid_search.cv_results_)\n",
    "display(results.T)"
   ]
  },
  {
   "cell_type": "markdown",
   "metadata": {},
   "source": [
    "# ネストした交差検証\n",
    "```\n",
    "＃　交差検証課題：\n",
    "今まで実施した交差検証ではテストを１度だけ分割している。\n",
    "train_test_split関数で分割した訓練データを活用し、交差検証を実施している。\n",
    "この方法の問題は最初の一度だけの分割に結果が依存してしまい不安定になる可能性がある。\n",
    "そこで1度だけでなく交差検証で何度も分割することを考える。\n",
    "この手法をネストした交差検証と呼ぶ\n",
    "\n",
    "#　用途：\n",
    "あるモデルのあるデータセットに対する性能の評価\n",
    "```"
   ]
  },
  {
   "cell_type": "code",
   "execution_count": 77,
   "metadata": {
    "scrolled": false
   },
   "outputs": [
    {
     "name": "stdout",
     "output_type": "stream",
     "text": [
      "Cross-validation scores： [0.96666667 1.         0.9        0.96666667 1.        ]\n",
      "Mean cross-validation core 0.9666666666666668\n"
     ]
    }
   ],
   "source": [
    "scores = cross_val_score(GridSearchCV(SVC(), param_grid, cv=5),\n",
    "                         iris.data, iris.target, cv=5)\n",
    "print(\"Cross-validation scores：\",scores)\n",
    "print(\"Mean cross-validation core\", scores.mean())"
   ]
  },
  {
   "cell_type": "markdown",
   "metadata": {},
   "source": [
    "```\n",
    "ネスとした交差検証をscikit-learnで実行すりにはcross_val_ScoreをGridSearchCVのインスタンスをモデルとして呼び出せばいい\n",
    "```"
   ]
  },
  {
   "cell_type": "markdown",
   "metadata": {},
   "source": [
    "# ネストした交差検証\n",
    "```\n",
    "内部処理をわかりやすく実装する。下記を理解した上で活用することが重要だと思う。\n",
    "\n",
    "#　処理フロー\n",
    "\n",
    "1.外側ループ：交差検証回数分、交差検証で訓練データとテストデータに分割\n",
    "2.グリッドサーチ[ループ]：ハイパーパラメータの組み合わせ分\n",
    "3.内側ループ：交差検証回数分、外側ループで分割した訓練データを訓練データとテストデータに分割する\n",
    "分割したテストデータをハイパーパラメータ[g,m]の探索で活用する\n",
    "4.探索したハイパーパラメータと外側ループの訓練データでモデルを構築\n",
    "5.外側ループで分割し、まだ活用していないテストデータで評価する。\n",
    "6.評価精度をリストに追加する。\n",
    "```"
   ]
  },
  {
   "cell_type": "code",
   "execution_count": 78,
   "metadata": {},
   "outputs": [],
   "source": [
    "def nested_cv(X, y, inner_cv, outer_cv, Classifier, parameter_grid):\n",
    "    outer_scores = []\n",
    "    outer_params = []\n",
    "    \"\"\"\n",
    "    外側ループ：データセットを訓練セット/テストセットに分割\n",
    "    \"\"\"\n",
    "    #・交差検証：\n",
    "    # 1回目　5分割[訓練：4：テスト：1] training_samples　120 , test_samples 30\n",
    "    # 2回目　5分割[訓練：4：テスト：1] training_samples　120 , test_samples 30\n",
    "    # 3回目　5分割[訓練：4：テスト：1] training_samples　120 , test_samples 30\n",
    "    # 4回目　5分割[訓練：4：テスト：1] training_samples　120 , test_samples 30\n",
    "    # 5回目　5分割[訓練：4：テスト：1] training_samples　120 , test_samples 30\n",
    "    for training_samples, test_samples in outer_cv.split(X,y):\n",
    "        #　print(\"length train {}\".format(len(training_samples)))\n",
    "        #　print(\"train\"+ str(training_samples))\n",
    "        #　print(\"length test {}\".format(len(test_samples)))\n",
    "        #　print(\"test\"+ str(test_samples))\n",
    "        best_parms = {}\n",
    "        best_score = -np.inf\n",
    "        \"\"\"\n",
    "        グリッドサーチの実行\n",
    "        \"\"\"\n",
    "        for parameters in parameter_grid:\n",
    "            cv_scores = []\n",
    "            \"\"\"\n",
    "            内側ループ：外側のループで交差検証により分割された訓練データを交差検証で分割\n",
    "            \"\"\"\n",
    "            # 1回目　5分割[訓練：4：テスト：1] training_samples 96　 , test_samples 24\n",
    "            for inner_train, inner_test in inner_cv.split(X[training_samples],y[training_samples]):\n",
    "                #print(\"length train {}\".format(len(inner_train)))\n",
    "                #print(\"length test {}\".format(len(inner_test)))\n",
    "                #　モデル構築・学習・評価\n",
    "                clf = Classifier(**parameters)\n",
    "                clf.fit(X[inner_train],y[inner_train])\n",
    "                score = clf.score(X[inner_test],y[inner_test])\n",
    "                cv_scores.append(score)\n",
    "            mean_score = np.mean(cv_scores)\n",
    "            #　評価精度の高いパラメータを保持\n",
    "            if mean_score > best_score:\n",
    "                best_score = mean_score\n",
    "                best_params = parameters\n",
    "        \"\"\"\n",
    "        モデル構築\n",
    "        \"\"\"\n",
    "        # ハイパーパラメータ：最初に分割した訓練データを分解したテストデータの評価が高いパラメータ]\n",
    "        clf = Classifier(**best_params)\n",
    "        #　学習：訓練データ\n",
    "        clf.fit(X[training_samples], y[training_samples])\n",
    "        # 評価：パラメータの選択で活用していないテストデータ[未知]\n",
    "        outer_scores.append(clf.score(X[test_samples],y[test_samples]))\n",
    "        outer_params.append(best_params)\n",
    "    return np.array([outer_scores,outer_params ])"
   ]
  },
  {
   "cell_type": "code",
   "execution_count": 79,
   "metadata": {
    "scrolled": true
   },
   "outputs": [
    {
     "name": "stdout",
     "output_type": "stream",
     "text": [
      "Cross-validation scores:[[0.9666666666666667 1.0 0.9666666666666667 0.9666666666666667 1.0]\n",
      " [{'C': 100, 'gamma': 0.01, 'kernel': 'rbf'}\n",
      "  {'C': 100, 'gamma': 0.01, 'kernel': 'rbf'}\n",
      "  {'C': 100, 'gamma': 0.01, 'kernel': 'rbf'}\n",
      "  {'C': 100, 'gamma': 0.01, 'kernel': 'rbf'}\n",
      "  {'C': 100, 'gamma': 0.01, 'kernel': 'rbf'}]]\n",
      "5\n",
      "Cross-validation mean scores:0.9800000000000001\n"
     ]
    }
   ],
   "source": [
    "from sklearn.model_selection import ParameterGrid, StratifiedKFold\n",
    "\n",
    "\n",
    "scores = nested_cv(iris.data, iris.target, StratifiedKFold(5),\n",
    "                  StratifiedKFold(5),SVC, ParameterGrid(param_grid))\n",
    "print(\"Cross-validation scores:{}\".format(scores))\n",
    "print(len(scores[0]))\n",
    "print(\"Cross-validation mean scores:{}\".format(scores[0].mean()))"
   ]
  },
  {
   "cell_type": "markdown",
   "metadata": {},
   "source": [
    "```\n",
    "気づき：\n",
    "ハイパーパラメータの値はtrain_test_splitで実行したものと一致した。\n",
    "'kernel': 'rbf', 'C': 100, 'gamma': 0.01}\n",
    "しかし、モデルの評価精度は下がった。\n",
    "こちらの方が不安定でない数値だと言える。\n",
    "あと、交差検証で1が出る理由がよくわからないなあ。\n",
    "shuffle関数を使えば学習できないことはないけど、1はまだ出る。\n",
    "評価精度100%がどうして出てくるのか？\n",
    "分割したテストデータを活用してるから未知のはず\n",
    "```"
   ]
  },
  {
   "cell_type": "code",
   "execution_count": 80,
   "metadata": {
    "scrolled": false
   },
   "outputs": [
    {
     "name": "stdout",
     "output_type": "stream",
     "text": [
      "Cross-validation scores:[[1.0 0.8666666666666667 0.9333333333333333 1.0 0.9666666666666667]\n",
      " [{'C': 1, 'gamma': 1, 'kernel': 'rbf'}\n",
      "  {'C': 100, 'gamma': 1, 'kernel': 'rbf'}\n",
      "  {'C': 10, 'gamma': 0.1, 'kernel': 'rbf'}\n",
      "  {'C': 100, 'gamma': 0.1, 'kernel': 'rbf'}\n",
      "  {'C': 10, 'gamma': 1, 'kernel': 'rbf'}]]\n",
      "5\n",
      "Cross-validation mean scores:0.9533333333333334\n"
     ]
    }
   ],
   "source": [
    "from sklearn.model_selection import ParameterGrid, StratifiedKFold\n",
    "\n",
    "\n",
    "scores = nested_cv(iris.data, iris.target, StratifiedKFold(n_splits=5,shuffle=True),\n",
    "                  StratifiedKFold(n_splits=5,shuffle=True),SVC, ParameterGrid(param_grid))\n",
    "print(\"Cross-validation scores:{}\".format(scores))\n",
    "print(len(scores[0]))\n",
    "print(\"Cross-validation mean scores:{}\".format(scores[0].mean()))"
   ]
  },
  {
   "cell_type": "markdown",
   "metadata": {},
   "source": [
    "# 偏ったデータセット\n",
    "```\n",
    "9:1に偏ったデータを作成する。digitsデータセットの数字9を9以外の数字と分割する問題にする。\n",
    "```"
   ]
  },
  {
   "cell_type": "code",
   "execution_count": 81,
   "metadata": {
    "scrolled": false
   },
   "outputs": [
    {
     "name": "stdout",
     "output_type": "stream",
     "text": [
      "the all target number count：1797\n",
      "the number of 9 count：180\n"
     ]
    }
   ],
   "source": [
    "from sklearn.datasets import load_digits\n",
    "\n",
    "digits = load_digits()\n",
    "print(\"the all target number count：{}\".format(len(digits.target)))\n",
    "print(\"the number of 9 count：{}\".format(len(digits.target[digits.target == 9])))"
   ]
  },
  {
   "cell_type": "code",
   "execution_count": 82,
   "metadata": {
    "scrolled": true
   },
   "outputs": [
    {
     "name": "stdout",
     "output_type": "stream",
     "text": [
      "[False False False ... False  True False]\n"
     ]
    }
   ],
   "source": [
    "# 数字9を9以外の数値と分割する\n",
    "y = digits.target == 9\n",
    "print(y)\n",
    "X_train,X_test, y_train, y_test = train_test_split(digits.data,y,random_state=0)"
   ]
  },
  {
   "cell_type": "code",
   "execution_count": 83,
   "metadata": {
    "scrolled": false
   },
   "outputs": [
    {
     "name": "stdout",
     "output_type": "stream",
     "text": [
      "unique predicted labels[False]\n",
      "test score：0.90\n",
      "DummyClassifier(constant=None, random_state=None, strategy='most_frequent')\n"
     ]
    }
   ],
   "source": [
    "from sklearn.dummy import DummyClassifier\n",
    "\n",
    "# strategy = most_frequent:　always predicts the most frequent label in the training set.\n",
    "# 常にFalseを予測するモデルを構築\n",
    "dummy_majority = DummyClassifier(strategy='most_frequent').fit(X_train,y_train)\n",
    "pred_most_frequent = dummy_majority.predict(X_test)\n",
    "# np.unique：return the non duplicated result\n",
    "#pred_most_frequent : all false \n",
    "print(\"unique predicted labels{}\".format(np.unique(pred_most_frequent)))\n",
    "print(\"test score：{:.2f}\".format(dummy_majority.score(X_test,y_test)))\n",
    "print(dummy_majority)"
   ]
  },
  {
   "cell_type": "markdown",
   "metadata": {},
   "source": [
    "```\n",
    "memo\n",
    "this result is not astonished result.cause this prediction result gonna always predict the one data 90% of data is false\n",
    "```"
   ]
  },
  {
   "cell_type": "code",
   "execution_count": 84,
   "metadata": {},
   "outputs": [
    {
     "name": "stdout",
     "output_type": "stream",
     "text": [
      "test score:0.92\n"
     ]
    }
   ],
   "source": [
    "from sklearn.tree import DecisionTreeClassifier\n",
    "tree = DecisionTreeClassifier(max_depth=2).fit(X_train,y_train)\n",
    "pred_tree = tree.predict(X_test)\n",
    "print(\"test score:{:.2f}\".format(tree.score(X_test,y_test)))"
   ]
  },
  {
   "cell_type": "code",
   "execution_count": 85,
   "metadata": {
    "scrolled": true
   },
   "outputs": [
    {
     "name": "stdout",
     "output_type": "stream",
     "text": [
      "dummy score:0.83\n",
      "logreg score:0.98\n"
     ]
    }
   ],
   "source": [
    "from sklearn.linear_model import LogisticRegression\n",
    "\n",
    "dummy = DummyClassifier().fit(X_train,y_train)\n",
    "pred_dummy = dummy.predict(X_test)\n",
    "print(\"dummy score:{:.2f}\".format(dummy.score(X_test,y_test)))\n",
    "\n",
    "logreg = LogisticRegression(C=0.1).fit(X_train,y_train)\n",
    "pred_logreg = logreg.predict(X_test)\n",
    "print(\"logreg score:{:.2f}\".format(logreg.score(X_test, y_test)))\n"
   ]
  },
  {
   "cell_type": "markdown",
   "metadata": {},
   "source": [
    "# 混同行列\n",
    "```\n",
    "2クラス分類の評価結果を表現する方法で、最も包括的な方法の1つとして混同行列がある。\n",
    "\n",
    "```"
   ]
  },
  {
   "cell_type": "code",
   "execution_count": 86,
   "metadata": {},
   "outputs": [
    {
     "name": "stdout",
     "output_type": "stream",
     "text": [
      "Confusion matrix:\n",
      "[[401   2]\n",
      " [  8  39]]\n"
     ]
    }
   ],
   "source": [
    "from sklearn.metrics import confusion_matrix\n",
    "\n",
    "confusion = confusion_matrix(y_test,pred_logreg)\n",
    "print(\"Confusion matrix:\\n{}\".format(confusion))"
   ]
  },
  {
   "cell_type": "markdown",
   "metadata": {},
   "source": [
    "```\n",
    "メモ：\n",
    "行は実際のクラスに対応し列は予測されたクラスに対応する\n",
    "1行目　9以外　True\n",
    "2行目　9　True\n",
    "1列目　9以外と予測\n",
    "2列目　9と予測\n",
    "9以外が9意外と分類された回数は401\n",
    "9が9意外と分類された回数は8\n",
    "9以外が9と分類された回数は1\n",
    "9が9と分類された回数は39\n",
    "\n",
    "\n",
    "```"
   ]
  },
  {
   "cell_type": "code",
   "execution_count": 87,
   "metadata": {},
   "outputs": [
    {
     "data": {
      "image/png": "[encoded data removed]",
      "text/plain": [
       "<matplotlib.figure.Figure at 0x1126e22b0>"
      ]
     },
     "metadata": {},
     "output_type": "display_data"
    }
   ],
   "source": [
    "mglearn.plots.plot_binary_confusion_matrix()"
   ]
  },
  {
   "cell_type": "code",
   "execution_count": 88,
   "metadata": {},
   "outputs": [
    {
     "name": "stdout",
     "output_type": "stream",
     "text": [
      "Most frequent class:\n",
      "[[403   0]\n",
      " [ 47   0]]\n",
      "\n",
      "Dummy model:\n",
      "[[363  40]\n",
      " [ 42   5]]\n",
      "\\Decision tree:\n",
      "[[390  13]\n",
      " [ 24  23]]\n",
      "\n",
      "Logistic Regression\n",
      "[[401   2]\n",
      " [  8  39]]\n"
     ]
    }
   ],
   "source": [
    "print(\"Most frequent class:\")\n",
    "print(confusion_matrix(y_test, pred_most_frequent))\n",
    "print(\"\\nDummy model:\")\n",
    "print(confusion_matrix(y_test,pred_dummy))\n",
    "print(\"\\Decision tree:\")\n",
    "print(confusion_matrix(y_test,pred_tree))\n",
    "print(\"\\nLogistic Regression\")\n",
    "print(confusion_matrix(y_test, pred_logreg))"
   ]
  },
  {
   "cell_type": "markdown",
   "metadata": {},
   "source": [
    "```\n",
    "メモ\n",
    "pred_most_frequentは常に1つのクラスを予測しておりおかしいことがわかる\n",
    "pred_dummyはTPが非常に少ない\n",
    "Decision treeは精度はdummyとあまり変わらないがはるかにまともであることがわかる\n",
    "Logistic Regressionは決定木よりも全ての面で良いことがわかる。\n",
    "\n",
    "```"
   ]
  },
  {
   "cell_type": "code",
   "execution_count": 89,
   "metadata": {
    "scrolled": true
   },
   "outputs": [
    {
     "name": "stdout",
     "output_type": "stream",
     "text": [
      "0.8955555555555555\n"
     ]
    }
   ],
   "source": [
    "# 精度 = TP + TN / (TP+TN+FP+FN)\n",
    "TN = confusion_matrix(y_test, pred_most_frequent)[0][0]\n",
    "FP = confusion_matrix(y_test, pred_most_frequent)[0][1]\n",
    "FN= confusion_matrix(y_test, pred_most_frequent)[1][0]\n",
    "TP = confusion_matrix(y_test, pred_most_frequent)[1][1]\n",
    "score = (TP + TN) / (TP+TN+FP+FN)\n",
    "print(score)"
   ]
  },
  {
   "cell_type": "code",
   "execution_count": 90,
   "metadata": {
    "scrolled": false
   },
   "outputs": [
    {
     "name": "stdout",
     "output_type": "stream",
     "text": [
      "predicted score:0.90\n",
      "predicted score:0.82\n",
      "predicted score:0.92\n",
      "predicted score:0.98\n"
     ]
    }
   ],
   "source": [
    "# モデルの精度を可視化\n",
    "models = [pred_most_frequent,pred_dummy,pred_tree,pred_logreg]\n",
    "for model in zip(models):\n",
    "    TN = confusion_matrix(y_test, model[0])[0][0]\n",
    "    FP = confusion_matrix(y_test, model[0])[0][1]\n",
    "    FN= confusion_matrix(y_test,  model[0])[1][0]\n",
    "    TP = confusion_matrix(y_test, model[0])[1][1]\n",
    "    score = (TP + TN) / (TP + TN + FP + FN)\n",
    "    print(\"predicted score:{:.2f}\".format(score))  "
   ]
  },
  {
   "cell_type": "markdown",
   "metadata": {},
   "source": [
    " # 適合率\n",
    " ```\n",
    " 概要：陽性[FN/TP]であると予測されたものが、どのくらい実際に陽性であったかを測定する。\n",
    " 用途：適合率は偽陽性の数を制限したい場合に性能基準として用いる。\n",
    " 偽陽性をあまり起こさないモデル。陽性じゃないものを陽性だと言わないモデル\n",
    " ```"
   ]
  },
  {
   "cell_type": "code",
   "execution_count": 91,
   "metadata": {},
   "outputs": [
    {
     "data": {
      "image/png": "[encoded data removed]",
      "text/plain": [
       "<matplotlib.figure.Figure at 0x11225c588>"
      ]
     },
     "metadata": {},
     "output_type": "display_data"
    }
   ],
   "source": [
    "mglearn.plots.plot_binary_confusion_matrix()"
   ]
  },
  {
   "cell_type": "code",
   "execution_count": 92,
   "metadata": {
    "scrolled": false
   },
   "outputs": [
    {
     "name": "stdout",
     "output_type": "stream",
     "text": [
      "compliance rate :nan\n",
      "compliance rate :0.11\n",
      "compliance rate :0.64\n",
      "compliance rate :0.95\n"
     ]
    },
    {
     "name": "stderr",
     "output_type": "stream",
     "text": [
      "/Users/keisuke/.pyenv/versions/3.4.3/lib/python3.4/site-packages/ipykernel_launcher.py:6: RuntimeWarning: invalid value encountered in long_scalars\n",
      "  \n"
     ]
    }
   ],
   "source": [
    "# 適合率　= TP/(TP+FP)\n",
    "models = [pred_most_frequent,pred_dummy,pred_tree,pred_logreg]\n",
    "for model in zip(models):\n",
    "    FP = confusion_matrix(y_test, model[0])[0][1]\n",
    "    TP = confusion_matrix(y_test, model[0])[1][1]\n",
    "    compliance_rate = TP/(TP+FP)\n",
    "    print(\"compliance rate :{:.2f}\".format(compliance_rate))  "
   ]
  },
  {
   "cell_type": "markdown",
   "metadata": {},
   "source": [
    "```\n",
    "気づき\n",
    "ロジスティック回帰は95%陽性であった\n",
    "```"
   ]
  },
  {
   "cell_type": "markdown",
   "metadata": {},
   "source": [
    "# 再現率\n",
    "```\n",
    "概要：実際に陽性のサンプルのうち、陽性と予測されたものの割合と定義される。\n",
    "用途：全ての陽性サンプルを陽性だと判断する必要がある場合、偽陰性を避けることが重要な場合に用いる\n",
    "ex \n",
    "癌であること全て見つけることが重要で健康な人が癌であると予測されても構わない。\n",
    "```"
   ]
  },
  {
   "cell_type": "code",
   "execution_count": 93,
   "metadata": {
    "scrolled": false
   },
   "outputs": [
    {
     "data": {
      "image/png": "[encoded data removed]",
      "text/plain": [
       "<matplotlib.figure.Figure at 0x111fea470>"
      ]
     },
     "metadata": {},
     "output_type": "display_data"
    }
   ],
   "source": [
    "mglearn.plots.plot_binary_confusion_matrix()"
   ]
  },
  {
   "cell_type": "code",
   "execution_count": 94,
   "metadata": {
    "scrolled": true
   },
   "outputs": [
    {
     "name": "stdout",
     "output_type": "stream",
     "text": [
      "recall_rate:0.00\n",
      "recall_rate:0.11\n",
      "recall_rate:0.49\n",
      "recall_rate:0.83\n"
     ]
    }
   ],
   "source": [
    "#　再現率 =  TP / (TP + FN)\n",
    "models = [pred_most_frequent,pred_dummy,pred_tree,pred_logreg]\n",
    "for model in zip(models):\n",
    "    FN= confusion_matrix(y_test,  model[0])[1][0]\n",
    "    TP = confusion_matrix(y_test, model[0])[1][1]\n",
    "    recall_rate  = TP / (TP + FN)\n",
    "    print(\"recall_rate:{:.2f}\".format(recall_rate)) "
   ]
  },
  {
   "cell_type": "markdown",
   "metadata": {},
   "source": [
    "# F値"
   ]
  },
  {
   "cell_type": "code",
   "execution_count": 95,
   "metadata": {},
   "outputs": [],
   "source": [
    "# F = 2*(適合率*再現率)/適合率+再現率"
   ]
  },
  {
   "cell_type": "code",
   "execution_count": 96,
   "metadata": {
    "scrolled": false
   },
   "outputs": [
    {
     "name": "stdout",
     "output_type": "stream",
     "text": [
      "f1 score most frequent:0.00\n",
      "f1 score dummy:0.11\n",
      "f1 score tree:0.55\n",
      "f1 score logistic regression :0.89\n"
     ]
    },
    {
     "name": "stderr",
     "output_type": "stream",
     "text": [
      "/Users/keisuke/.pyenv/versions/3.4.3/lib/python3.4/site-packages/sklearn/metrics/classification.py:1135: UndefinedMetricWarning: F-score is ill-defined and being set to 0.0 due to no predicted samples.\n",
      "  'precision', 'predicted', average, warn_for)\n"
     ]
    }
   ],
   "source": [
    "from sklearn.metrics import f1_score\n",
    "print(\"f1 score most frequent:{:.2f}\".format(f1_score(y_test,pred_most_frequent)))\n",
    "print(\"f1 score dummy:{:.2f}\".format(f1_score(y_test,pred_dummy)))\n",
    "print(\"f1 score tree:{:.2f}\".format(f1_score(y_test,pred_tree)))\n",
    "print(\"f1 score logistic regression :{:.2f}\".format(f1_score(y_test,pred_logreg)))"
   ]
  },
  {
   "cell_type": "markdown",
   "metadata": {},
   "source": [
    "```\n",
    "メモ\n",
    "ダミーと決定木のスコア結果に、精度だけでは明らかにできなかった差を確認することができる。\n",
    "f値問題点：\n",
    "精度と比較すると解釈や説明が難しいこと\n",
    "```"
   ]
  },
  {
   "cell_type": "code",
   "execution_count": 97,
   "metadata": {},
   "outputs": [
    {
     "name": "stdout",
     "output_type": "stream",
     "text": [
      "             precision    recall  f1-score   support\n",
      "\n",
      "   not nine       0.90      1.00      0.94       403\n",
      "       nine       0.00      0.00      0.00        47\n",
      "\n",
      "avg / total       0.80      0.90      0.85       450\n",
      "\n"
     ]
    },
    {
     "name": "stderr",
     "output_type": "stream",
     "text": [
      "/Users/keisuke/.pyenv/versions/3.4.3/lib/python3.4/site-packages/sklearn/metrics/classification.py:1135: UndefinedMetricWarning: Precision and F-score are ill-defined and being set to 0.0 in labels with no predicted samples.\n",
      "  'precision', 'predicted', average, warn_for)\n"
     ]
    }
   ],
   "source": [
    "#  classification_report：適合率、再現率、f-値をまとめた包括的なレポートをえる\n",
    "from sklearn.metrics import classification_report\n",
    "print(classification_report(y_test,pred_most_frequent,\n",
    "                           target_names=[\"not nine\",\"nine\"]))"
   ]
  },
  {
   "cell_type": "code",
   "execution_count": 98,
   "metadata": {},
   "outputs": [
    {
     "name": "stdout",
     "output_type": "stream",
     "text": [
      "             precision    recall  f1-score   support\n",
      "\n",
      "   not nine       0.90      0.90      0.90       403\n",
      "       nine       0.11      0.11      0.11        47\n",
      "\n",
      "avg / total       0.81      0.82      0.82       450\n",
      "\n"
     ]
    }
   ],
   "source": [
    "print(classification_report(y_test,pred_dummy,\n",
    "                           target_names=[\"not nine\",\"nine\"]))"
   ]
  },
  {
   "cell_type": "code",
   "execution_count": 99,
   "metadata": {},
   "outputs": [
    {
     "name": "stdout",
     "output_type": "stream",
     "text": [
      "             precision    recall  f1-score   support\n",
      "\n",
      "   not nine       0.98      1.00      0.99       403\n",
      "       nine       0.95      0.83      0.89        47\n",
      "\n",
      "avg / total       0.98      0.98      0.98       450\n",
      "\n"
     ]
    }
   ],
   "source": [
    "print(classification_report(y_test,pred_logreg,\n",
    "                           target_names=[\"not nine\",\"nine\"]))"
   ]
  },
  {
   "cell_type": "code",
   "execution_count": 100,
   "metadata": {},
   "outputs": [],
   "source": [
    "from mglearn.datasets import make_blobs\n",
    "X,y = make_blobs(n_samples=(400,50), centers=2,cluster_std=[7.0,2],\n",
    "                random_state=22)\n",
    "X_train,X_test,y_train,y_test = train_test_split(X,y,random_state=0)\n",
    "svc = SVC(gamma=0.5).fit(X_train, y_train)"
   ]
  },
  {
   "cell_type": "code",
   "execution_count": 101,
   "metadata": {
    "scrolled": true
   },
   "outputs": [
    {
     "data": {
      "image/png": "[encoded data removed]",
      "text/plain": [
       "<matplotlib.figure.Figure at 0x111fb5358>"
      ]
     },
     "metadata": {},
     "output_type": "display_data"
    }
   ],
   "source": [
    "mglearn.plots.plot_decision_threshold()"
   ]
  },
  {
   "cell_type": "markdown",
   "metadata": {},
   "source": [
    "```\n",
    "メモ：\n",
    "プロット中央の黒い部分は決定係数が0となる場所\n",
    "→　予測が全然当たってない場所\n",
    "\n",
    "決定係数は0から1の範囲内の値を取り、1に近ければ近いほど予測が当たっている状態で、0に近ければ近いほど予測があまり当たっていない状態を表します。\n",
    "\n",
    "気づき：\n",
    "この偏ったクラス分類は、性年齢の予測に活用することはできるのか\n",
    "```"
   ]
  },
  {
   "cell_type": "code",
   "execution_count": 102,
   "metadata": {
    "scrolled": true
   },
   "outputs": [
    {
     "name": "stdout",
     "output_type": "stream",
     "text": [
      "             precision    recall  f1-score   support\n",
      "\n",
      "          0       0.94      0.88      0.91       104\n",
      "          1       0.20      0.33      0.25         9\n",
      "\n",
      "avg / total       0.88      0.84      0.86       113\n",
      "\n"
     ]
    }
   ],
   "source": [
    "print(classification_report(y_test,svc.predict(X_test)))"
   ]
  },
  {
   "cell_type": "markdown",
   "metadata": {},
   "source": [
    "```\n",
    "メモ\n",
    "確認できること：\n",
    "クラス1に関しては再現率がひくく、適合率も微妙である。\n",
    "\n",
    "原因：\n",
    "クラス0がはるかに多いので、クラス0を正しく分類することに集中している。\n",
    "\n",
    "問題：\n",
    "クラス1の再現率を高めることがとても大切な場合\n",
    "癌の悪性を良性と判断してしまうこと\n",
    "\n",
    "対処：\n",
    "上記問題の場合間違ってもいいからより多くのクラス１をえたい。\n",
    "→　再現率を高めたい。\n",
    "決定スレッショルドを0から動かすことでクラス1の再現率が高くなるよう予測を調整する。\n",
    "```"
   ]
  },
  {
   "cell_type": "code",
   "execution_count": 104,
   "metadata": {},
   "outputs": [
    {
     "name": "stdout",
     "output_type": "stream",
     "text": [
      "             precision    recall  f1-score   support\n",
      "\n",
      "          0       1.00      0.81      0.89       104\n",
      "          1       0.31      1.00      0.47         9\n",
      "\n",
      "avg / total       0.95      0.82      0.86       113\n",
      "\n"
     ]
    }
   ],
   "source": [
    "y_pred_lower_threhold = svc.decision_function(X_test) > -.8\n",
    "print(classification_report(y_test,y_pred_lower_threhold))"
   ]
  },
  {
   "cell_type": "markdown",
   "metadata": {},
   "source": [
    "```\n",
    "メモ\n",
    "クラス1の再現率は向上し、適合率が下がったことが確認できる。\n",
    "\n",
    "用途：\n",
    "・適合率と再現率のどちらか一方を重視したい場合\n",
    "・データが大幅に偏っている場合\n",
    "\n",
    "一番簡単に良い結果を得るには決定スレッショルドを変更すること。\n",
    "```"
   ]
  },
  {
   "cell_type": "markdown",
   "metadata": {},
   "source": [
    "# 適合率-再現率カーブとROCカーブ\n",
    "```\n",
    "全て可能なスレッショルド、すなわち全て可能な適合率と再現率の組み合わせを同時にみる。\n",
    "\n",
    "```"
   ]
  },
  {
   "cell_type": "code",
   "execution_count": 105,
   "metadata": {},
   "outputs": [],
   "source": [
    "from sklearn.metrics import precision_recall_curve\n",
    "precision, recall, thresholds = precision_recall_curve(\n",
    "    y_test,svc.decision_function(X_test))"
   ]
  },
  {
   "cell_type": "code",
   "execution_count": 117,
   "metadata": {},
   "outputs": [
    {
     "data": {
      "text/plain": [
       "<matplotlib.text.Text at 0x112712b00>"
      ]
     },
     "execution_count": 117,
     "metadata": {},
     "output_type": "execute_result"
    },
    {
     "data": {
      "image/png": "[encoded data removed]",
      "text/plain": [
       "<matplotlib.figure.Figure at 0x10af90080>"
      ]
     },
     "metadata": {},
     "output_type": "display_data"
    }
   ],
   "source": [
    "# カーブが滑らかになるようにデータポイントを増やす\n",
    "X, y = make_blobs(n_samples=(4000, 500),centers=2, cluster_std=[7.0,2],\n",
    "                 random_state=22)\n",
    "X_train,X_test,y_train,y_test = train_test_split(X,y,random_state=0)\n",
    "svc = SVC(gamma=.05).fit(X_train,y_train)\n",
    "precision, recall, thresholds = precision_recall_curve(\n",
    "    y_test,svc.decision_function(X_test))\n",
    "# 　ゼロに最も近いスレッショルドを\n",
    "close_zero = np.argmin(np.abs(thresholds))\n",
    "plt.plot(precision[close_zero],recall[close_zero],'o',markersize=10,\n",
    "         label=\"threshold zero\", fillstyle=\"none\",c='k',mew=2)\n",
    "plt.plot(precision, recall, label=\"precision recall curve\")\n",
    "plt.xlabel(\"Precision\")\n",
    "plt.ylabel(\"Recall\")"
   ]
  },
  {
   "cell_type": "markdown",
   "metadata": {},
   "source": [
    "```\n",
    "再現率0.4を適合率0.75の点で達成できることを確認できる。\n",
    "黒い点はdecision_functionのデフォルトであるスレッショルドが0の点を指している。\n",
    "この点はpredictメソッドを呼び出した時に用いられるトレードオフの点である。\n",
    "カーブがみつ上の角に近ければ近いほど良いクラス分類器であると言える。\n",
    "スレッヂョルドに対して適合率が高く、同時に再現率も高くなるということだ。\n",
    "\n",
    "作動ポイントはクラス分類器によって異なる。同じデータセットに対して訓練したSVMとランダムフォレストの比較を行う。\n",
    "```"
   ]
  },
  {
   "cell_type": "code",
   "execution_count": 120,
   "metadata": {
    "scrolled": true
   },
   "outputs": [
    {
     "data": {
      "text/plain": [
       "<matplotlib.legend.Legend at 0x1126a2240>"
      ]
     },
     "execution_count": 120,
     "metadata": {},
     "output_type": "execute_result"
    },
    {
     "data": {
      "image/png": "[encoded data removed]",
      "text/plain": [
       "<matplotlib.figure.Figure at 0x10aff6be0>"
      ]
     },
     "metadata": {},
     "output_type": "display_data"
    }
   ],
   "source": [
    "from sklearn.ensemble import RandomForestClassifier\n",
    "\n",
    "rf = RandomForestClassifier(n_estimators=100,random_state=0,max_features=2)\n",
    "rf.fit(X_train,y_train)\n",
    "\n",
    "# RandomForestClassifierにはpredict_probaはあるがdecision_functionがない\n",
    "precision_rf,recall_rf, thresholds_rf = precision_recall_curve(\n",
    "    y_test, rf.predict_proba(X_test)[:,1])\n",
    "plt.plot(precision, recall, label=\"svc\")\n",
    "plt.plot(precision_rf,recall_rf,label=\"rf\")\n",
    "\n",
    "close_default_rf = np.argmin(np.abs(thresholds_rf - 0.5))\n",
    "plt.plot(precision_rf[close_default_rf],recall_rf[close_default_rf], '^',c = 'k',\n",
    "        markersize=10,label=\"threshold 0.5 rf\", fillstyle=\"none\",mew=2)\n",
    "plt.xlabel(\"precision\")\n",
    "plt.ylabel(\"Recall\")\n",
    "plt.legend(loc=\"best\")"
   ]
  },
  {
   "cell_type": "markdown",
   "metadata": {},
   "source": [
    "```\n",
    "適合率-再現率カーブを確認してみると、極端なケース、つまり非常に高い再現率や非常に適合率が要求される場合には、ランダムフォレストの性能が良い。\n",
    "f1-値のみ見ているとこのような点は見逃してします。\n",
    "```"
   ]
  },
  {
   "cell_type": "code",
   "execution_count": 122,
   "metadata": {},
   "outputs": [
    {
     "name": "stdout",
     "output_type": "stream",
     "text": [
      "f1_score of random forest：0.610\n",
      "f1 score of svc：0.656\n"
     ]
    }
   ],
   "source": [
    "print(\"f1_score of random forest：{:.3f}\".format(\n",
    "    f1_score(y_test,rf.predict(X_test))))\n",
    "print(\"f1 score of svc：{:.3f}\".format(f1_score(y_test,svc.predict(X_test))))"
   ]
  },
  {
   "cell_type": "markdown",
   "metadata": {},
   "source": [
    "# 平均適合率\n",
    "```\n",
    "適合率-再現率カーブを要約する方法の1つで、カーブの下の領域を積分する方法である。\n",
    "average_precision_scoreを用いて平均適合率を計算することができる。\n",
    "```"
   ]
  },
  {
   "cell_type": "code",
   "execution_count": 127,
   "metadata": {},
   "outputs": [
    {
     "name": "stdout",
     "output_type": "stream",
     "text": [
      "Average precision of ramdom forest:0.660\n",
      "Average precision of svc:0.666\n"
     ]
    }
   ],
   "source": [
    "from sklearn.metrics import average_precision_score\n",
    "ap_rf = average_precision_score(y_test,rf.predict_proba(X_test)[:,1])\n",
    "ap_svc = average_precision_score(y_test,svc.decision_function(X_test))\n",
    "print(\"Average precision of ramdom forest:{:.3f}\".format(ap_rf))\n",
    "print(\"Average precision of svc:{:.3f}\".format(ap_svc))"
   ]
  },
  {
   "cell_type": "markdown",
   "metadata": {},
   "source": [
    "```\n",
    "全て可能なスレッショルドに対して平均を取ると、ランダムフォレストとSVCの結果はだいたい同じだが、ランダムフォレストの方が少しだけ良い結果となる。\n",
    "```"
   ]
  },
  {
   "cell_type": "code",
   "execution_count": null,
   "metadata": {},
   "outputs": [],
   "source": []
  },
  {
   "cell_type": "code",
   "execution_count": null,
   "metadata": {},
   "outputs": [],
   "source": []
  }
 ],
 "metadata": {
  "kernelspec": {
   "display_name": "Python 3",
   "language": "python",
   "name": "python3"
  },
  "language_info": {
   "codemirror_mode": {
    "name": "ipython",
    "version": 3
   },
   "file_extension": ".py",
   "mimetype": "text/x-python",
   "name": "python",
   "nbconvert_exporter": "python",
   "pygments_lexer": "ipython3",
   "version": "3.4.3"
  }
 },
 "nbformat": 4,
 "nbformat_minor": 2
}
