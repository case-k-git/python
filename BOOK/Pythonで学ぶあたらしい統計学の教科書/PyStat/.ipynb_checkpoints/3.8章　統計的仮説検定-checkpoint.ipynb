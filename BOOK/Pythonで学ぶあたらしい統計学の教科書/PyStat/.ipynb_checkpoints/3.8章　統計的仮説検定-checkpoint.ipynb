{
 "cells": [
  {
   "cell_type": "code",
   "execution_count": 46,
   "metadata": {},
   "outputs": [
    {
     "data": {
      "text/plain": [
       "'%.3f'"
      ]
     },
     "execution_count": 46,
     "metadata": {},
     "output_type": "execute_result"
    }
   ],
   "source": [
    "import numpy as np\n",
    "import pandas as pd\n",
    "import scipy as sp\n",
    "from scipy import stats\n",
    "\n",
    "from matplotlib import pyplot as plt\n",
    "%precision 3\n",
    "%matplotlib inline\n",
    "import seaborn as sns\n",
    "#sns.set()\n",
    "%precision 3"
   ]
  },
  {
   "cell_type": "code",
   "execution_count": 47,
   "metadata": {},
   "outputs": [
    {
     "data": {
      "text/plain": [
       "0    58.529820\n",
       "1    52.353039\n",
       "2    74.446169\n",
       "3    52.983263\n",
       "4    55.876879\n",
       "Name: weight, dtype: float64"
      ]
     },
     "execution_count": 47,
     "metadata": {},
     "output_type": "execute_result"
    }
   ],
   "source": [
    "junk_food = pd.read_csv(\"3-8-1-junk-food-weight.csv\")[\"weight\"]\n",
    "junk_food.head()"
   ]
  },
  {
   "cell_type": "markdown",
   "metadata": {},
   "source": [
    "```\n",
    "t検定を行う\n",
    "帰無仮説：スナック菓子の平均重量は50ｇである\n",
    "対立仮説：スナックガシの平均重量は50ｇと異なる\n",
    "有意水準は5%とする。p値が0.05を下回れば、帰無仮説は棄却され、スナックガチの重量は有意に50%と異なると\n",
    "主張することができる。\n",
    "p値：標本と帰無仮説の矛盾を示す指標。p値が小さいほど、帰無仮説と標本が矛盾している。\n",
    "t値：(標本平均 - 母平均)/標準誤差　\n",
    "標準誤差　＝　標準偏差　/ サンプルサイズ\n",
    "```"
   ]
  },
  {
   "cell_type": "code",
   "execution_count": 48,
   "metadata": {},
   "outputs": [
    {
     "name": "stdout",
     "output_type": "stream",
     "text": [
      "55.3849661967\n",
      "19\n",
      "1.95792768058\n",
      "2.75033968317\n"
     ]
    }
   ],
   "source": [
    "#標本平均\n",
    "mu = sp.mean(junk_food)\n",
    "print(mu)\n",
    "#自由度\n",
    "df = len(junk_food) -1\n",
    "print(df)\n",
    "#標準誤差\n",
    "sigma = sp.std(junk_food, ddof = 1)\n",
    "se = sigma / sp.sqrt(len(junk_food))\n",
    "print(se)\n",
    "# t値\n",
    "t_value = (mu - 50) / se\n",
    "print(t_value)"
   ]
  },
  {
   "cell_type": "code",
   "execution_count": 49,
   "metadata": {},
   "outputs": [
    {
     "data": {
      "text/plain": [
       "0.013"
      ]
     },
     "execution_count": 49,
     "metadata": {},
     "output_type": "execute_result"
    }
   ],
   "source": [
    "# t検定\n",
    "alpha = stats.t.cdf(t_value, df = df)\n",
    "p_value = (1 - alpha) *2\n",
    "p_value"
   ]
  },
  {
   "cell_type": "code",
   "execution_count": 50,
   "metadata": {},
   "outputs": [
    {
     "data": {
      "text/plain": [
       "Ttest_1sampResult(statistic=2.7503396831713429, pvalue=0.012725590012524182)"
      ]
     },
     "execution_count": 50,
     "metadata": {},
     "output_type": "execute_result"
    }
   ],
   "source": [
    "#関数を使う\n",
    "stats.ttest_1samp(junk_food, 50)"
   ]
  },
  {
   "cell_type": "code",
   "execution_count": 51,
   "metadata": {},
   "outputs": [],
   "source": [
    "size = len(junk_food)\n",
    "sigma = sp.std(junk_food, ddof = 1)\n",
    "t_value_array = np.zeros(50000)\n",
    "np.random.seed(1)\n",
    "norm_dist = stats.norm(loc = 50, scale = sigma)\n",
    "for i in range(0, 50000):\n",
    "    sample = stats.norm.rvs(size = size)\n",
    "    sample_mean = sp.mean(junk_food)\n",
    "    sample_std = sp.std(junk_food, ddof = 1)\n",
    "    sample_se = sample_std / sp.sqrt(size)\n",
    "    t_value_array[i] = (sample_mean - 50) /sample_se"
   ]
  },
  {
   "cell_type": "code",
   "execution_count": 52,
   "metadata": {},
   "outputs": [
    {
     "data": {
      "text/plain": [
       "2.750"
      ]
     },
     "execution_count": 52,
     "metadata": {},
     "output_type": "execute_result"
    }
   ],
   "source": [
    "t_value"
   ]
  },
  {
   "cell_type": "code",
   "execution_count": 53,
   "metadata": {},
   "outputs": [
    {
     "data": {
      "text/plain": [
       "0.000"
      ]
     },
     "execution_count": 53,
     "metadata": {},
     "output_type": "execute_result"
    }
   ],
   "source": [
    "(sum(t_value_array > t_value)/ 50000) *2"
   ]
  },
  {
   "cell_type": "code",
   "execution_count": null,
   "metadata": {},
   "outputs": [],
   "source": []
  }
 ],
 "metadata": {
  "kernelspec": {
   "display_name": "Python 3",
   "language": "python",
   "name": "python3"
  },
  "language_info": {
   "codemirror_mode": {
    "name": "ipython",
    "version": 3
   },
   "file_extension": ".py",
   "mimetype": "text/x-python",
   "name": "python",
   "nbconvert_exporter": "python",
   "pygments_lexer": "ipython3",
   "version": "3.4.3"
  }
 },
 "nbformat": 4,
 "nbformat_minor": 2
}
