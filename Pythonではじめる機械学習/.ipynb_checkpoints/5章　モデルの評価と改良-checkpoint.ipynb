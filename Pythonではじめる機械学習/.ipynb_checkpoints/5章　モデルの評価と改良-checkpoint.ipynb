{
 "cells": [
  {
   "cell_type": "code",
   "execution_count": 1,
   "metadata": {},
   "outputs": [],
   "source": [
    "from sklearn.datasets import make_blobs\n",
    "import numpy as np\n",
    "from sklearn.linear_model import LogisticRegression\n",
    "from sklearn.model_selection import train_test_split\n",
    "from sklearn.model_selection import cross_val_score\n",
    "from sklearn.datasets import load_iris\n",
    "from sklearn.linear_model import LogisticRegression\n",
    "import mglearn\n",
    "from matplotlib import pyplot as plt\n",
    "%matplotlib inline"
   ]
  },
  {
   "cell_type": "code",
   "execution_count": 2,
   "metadata": {
    "scrolled": false
   },
   "outputs": [
    {
     "name": "stdout",
     "output_type": "stream",
     "text": [
      "test set score:0.88\n"
     ]
    }
   ],
   "source": [
    "# create dummy data\n",
    "X, y = make_blobs(random_state=0)\n",
    "X_train, X_test, y_train, y_test = train_test_split(X, y, random_state=0)\n",
    "logreg = LogisticRegression().fit(X_train, y_train)\n",
    "# モデルの評価\n",
    "print(\"test set score:{:.2f}\".format(logreg.score(X_test, y_test)))"
   ]
  },
  {
   "cell_type": "markdown",
   "metadata": {},
   "source": [
    "# 交差検証\n",
    "```\n",
    "メリット：\n",
    "モデルの汎化性のがtrain_test_splir関数より高くなる。\n",
    "理由：\n",
    "train_test_splir関数はランダムに分割するがたまたま偏ってしまう可能性がある。\n",
    "\n",
    "5分割したデータを4:1に分け4を訓練データ、1をテストデータとし、\n",
    "全ての組み合わせ訓練する。\n",
    "汎化性能が高くなければ評価精度は高くならないのだ\n",
    "\n",
    "デメリット：\n",
    "計算コスト\n",
    "```"
   ]
  },
  {
   "cell_type": "code",
   "execution_count": 3,
   "metadata": {
    "scrolled": true
   },
   "outputs": [
    {
     "name": "stdout",
     "output_type": "stream",
     "text": [
      "交差検証　3分割 score[ 0.96078431  0.92156863  0.95833333]\n"
     ]
    }
   ],
   "source": [
    "iris = load_iris()\n",
    "logreg = LogisticRegression()\n",
    "# 交差検証：データ分割を複数回行い、複数のモデルを訓練する手法\n",
    "scores = cross_val_score(logreg, iris.data, iris.target)\n",
    "print(\"交差検証　3分割 score{}\".format(scores))"
   ]
  },
  {
   "cell_type": "markdown",
   "metadata": {},
   "source": [
    "```\n",
    "気づき\n",
    "train_test_split関数で分割したデータを学習させた時よりも\n",
    "モデルの予測精度が高くなっていることがわかる。\n",
    "```"
   ]
  },
  {
   "cell_type": "code",
   "execution_count": 4,
   "metadata": {},
   "outputs": [
    {
     "name": "stdout",
     "output_type": "stream",
     "text": [
      "交差検証　5分割[ 1.          0.96666667  0.93333333  0.9         1.        ]\n"
     ]
    }
   ],
   "source": [
    "scores = cross_val_score(logreg, iris.data, iris.target, cv=5)\n",
    "print(\"交差検証　5分割{}\".format(scores))"
   ]
  },
  {
   "cell_type": "code",
   "execution_count": 5,
   "metadata": {
    "scrolled": true
   },
   "outputs": [
    {
     "name": "stdout",
     "output_type": "stream",
     "text": [
      "average score 0.96\n"
     ]
    }
   ],
   "source": [
    "print(\"average score {:.2f}\".format(scores.mean()))"
   ]
  },
  {
   "cell_type": "code",
   "execution_count": 6,
   "metadata": {
    "scrolled": true
   },
   "outputs": [
    {
     "data": {
      "image/png": "[encoded data removed]",
      "text/plain": [
       "<matplotlib.figure.Figure at 0x110cb5240>"
      ]
     },
     "metadata": {},
     "output_type": "display_data"
    }
   ],
   "source": [
    "mglearn.plots.plot_stratified_cross_validation()"
   ]
  },
  {
   "cell_type": "code",
   "execution_count": 7,
   "metadata": {
    "scrolled": true
   },
   "outputs": [
    {
     "name": "stdout",
     "output_type": "stream",
     "text": [
      "Cross-validation scores:\n",
      "[ 1.          0.93333333  0.43333333  0.96666667  0.43333333]\n"
     ]
    }
   ],
   "source": [
    "from sklearn.model_selection import KFold\n",
    "kfold = KFold(n_splits=5)\n",
    "print(\"Cross-validation scores:\\n{}\".format(\n",
    "    cross_val_score(logreg, iris.data, iris.target, cv=kfold)))"
   ]
  },
  {
   "cell_type": "code",
   "execution_count": 234,
   "metadata": {
    "scrolled": true
   },
   "outputs": [
    {
     "name": "stdout",
     "output_type": "stream",
     "text": [
      "Cross-validation scores:\n",
      "[ 0.  0.  0.]\n"
     ]
    }
   ],
   "source": [
    "# 学習できなかった\n",
    "kfold = KFold(n_splits=3)\n",
    "print(\"Cross-validation scores:\\n{}\".format(\n",
    "    cross_val_score(logreg, iris.data, iris.target, cv=kfold)))"
   ]
  },
  {
   "cell_type": "code",
   "execution_count": 251,
   "metadata": {
    "scrolled": true
   },
   "outputs": [
    {
     "name": "stdout",
     "output_type": "stream",
     "text": [
      "150\n",
      "[0 0 0 0 0 0 0 0 0 0 0 0 0 0 0 0 0 0 0 0 0 0 0 0 0 0 0 0 0 0 0 0 0 0 0 0 0\n",
      " 0 0 0 0 0 0 0 0 0 0 0 0 0]\n",
      "[1 1 1 1 1 1 1 1 1 1 1 1 1 1 1 1 1 1 1 1 1 1 1 1 1 1 1 1 1 1 1 1 1 1 1 1 1\n",
      " 1 1 1 1 1 1 1 1 1 1 1 1 1]\n",
      "[2 2 2 2 2 2 2 2 2 2 2 2 2 2 2 2 2 2 2 2 2 2 2 2 2 2 2 2 2 2 2 2 2 2 2 2 2\n",
      " 2 2 2 2 2 2 2 2 2 2 2 2 2]\n"
     ]
    }
   ],
   "source": [
    "iris = load_iris()\n",
    "print(len(iris.target))\n",
    "print(iris.target[0:50])\n",
    "print(iris.target[50:100])\n",
    "print(iris.target[100:150])"
   ]
  },
  {
   "cell_type": "code",
   "execution_count": 256,
   "metadata": {},
   "outputs": [
    {
     "name": "stdout",
     "output_type": "stream",
     "text": [
      "交差検証　3分割 score[ 0.96078431  0.92156863  0.95833333]\n"
     ]
    }
   ],
   "source": [
    "scores = cross_val_score(logreg, iris.data, iris.target, cv=3)\n",
    "print(\"交差検証　3分割 score{}\".format(scores))"
   ]
  },
  {
   "cell_type": "markdown",
   "metadata": {},
   "source": [
    "```\n",
    "#　気づき\n",
    "k-分割交差検証を3分割でやれは、評価精度は0になるはずではないのか？\n",
    "ならないということは上記のソースはk-分割交差検証ではないようだ。\n",
    "自動的に層化分割交差検証p249で実行されている？\n",
    "3分割した中でさらに、3分割し、訓練データとテストデータに分け評価をしているのではないか？\n",
    "いや、しかしその場合100%になってしまうのではないのか？\n",
    "違う。層化交差検証ではここの分割の90%がクラスAで10％がクラスBになるように分割を行う。\n",
    "その理由であれば納得できぐら、回帰に関してはK分割交差検証をデフォルで利用していると記載あり。(P251)\n",
    "と思ったがどうやらモデルに依存している！！！！\n",
    "ロジッスティック回帰　= 分類だったからうまくいったようだ\n",
    "上の学習できなかった方法は関数KFold()で意図的にK分割交差検証を実施していた。\n",
    "\n",
    "\n",
    "#　デフォルト動作：\n",
    "回帰：K分割交差検証\n",
    "分類：層化K分割交差検証\n",
    "```"
   ]
  },
  {
   "cell_type": "code",
   "execution_count": 235,
   "metadata": {},
   "outputs": [
    {
     "name": "stdout",
     "output_type": "stream",
     "text": [
      "Cross-validation scores:\n",
      "[ 1.          0.93333333  0.43333333  0.96666667  0.43333333]\n"
     ]
    }
   ],
   "source": [
    "# 学習できなかった\n",
    "kfold = KFold(n_splits=5)\n",
    "print(\"Cross-validation scores:\\n{}\".format(\n",
    "    cross_val_score(logreg, iris.data, iris.target, cv=kfold)))"
   ]
  },
  {
   "cell_type": "code",
   "execution_count": 233,
   "metadata": {
    "scrolled": false
   },
   "outputs": [
    {
     "name": "stdout",
     "output_type": "stream",
     "text": [
      "Cross-validation scores:\n",
      "[ 0.9   0.96  0.96]\n"
     ]
    }
   ],
   "source": [
    "# シャッフルする\n",
    "kfold = KFold(n_splits=3,shuffle=True, random_state=0)\n",
    "print(\"Cross-validation scores:\\n{}\"\n",
    "      .format(cross_val_score(logreg, iris.data, iris.target, cv=kfold)))"
   ]
  },
  {
   "cell_type": "code",
   "execution_count": 10,
   "metadata": {},
   "outputs": [
    {
     "name": "stdout",
     "output_type": "stream",
     "text": [
      "Number of cv iterations： 150\n",
      "Mean accuracy:0.95\n"
     ]
    }
   ],
   "source": [
    "from sklearn.model_selection import LeaveOneOut\n",
    "loo = LeaveOneOut()\n",
    "scores = cross_val_score(logreg, iris.data, iris.target, cv=loo)\n",
    "print(\"Number of cv iterations：\", len(scores))\n",
    "print(\"Mean accuracy:{:.2f}\".format(scores.mean()))"
   ]
  },
  {
   "cell_type": "code",
   "execution_count": 11,
   "metadata": {},
   "outputs": [
    {
     "data": {
      "image/png": "[encoded data removed]",
      "text/plain": [
       "<matplotlib.figure.Figure at 0x116c1f7b8>"
      ]
     },
     "metadata": {},
     "output_type": "display_data"
    }
   ],
   "source": [
    "mglearn.plots.plot_shuffle_split()"
   ]
  },
  {
   "cell_type": "code",
   "execution_count": 12,
   "metadata": {},
   "outputs": [
    {
     "name": "stdout",
     "output_type": "stream",
     "text": [
      "ShuffleSplit(n_splits=10, random_state=None, test_size=0.5, train_size=0.5)\n",
      "Cross-validation scores:\n",
      "[ 1.          0.97333333  0.98666667  0.96        0.98666667  0.89333333\n",
      "  1.          0.96        0.92        0.92      ]\n"
     ]
    }
   ],
   "source": [
    "from sklearn.model_selection import ShuffleSplit\n",
    "shuffle_split = ShuffleSplit(test_size=.5, train_size=.5, n_splits=10)\n",
    "print(shuffle_split)\n",
    "scores = cross_val_score(logreg, iris.data, iris.target, cv=shuffle_split)\n",
    "print(\"Cross-validation scores:\\n{}\".format(scores))"
   ]
  },
  {
   "cell_type": "code",
   "execution_count": 13,
   "metadata": {},
   "outputs": [
    {
     "name": "stdout",
     "output_type": "stream",
     "text": [
      "Cross-validation scores:\n",
      "[ 0.75        0.8         0.66666667]\n"
     ]
    }
   ],
   "source": [
    "from sklearn.model_selection import GroupKFold\n",
    "#合成データセットを生成\n",
    "X, y = make_blobs(n_samples=12, random_state=0)\n",
    "groups = [0,0,0,1,1,1,1,2,2,3,3,3]\n",
    "scores = cross_val_score(logreg, X, y, groups, cv=GroupKFold(n_splits=3))\n",
    "print(\"Cross-validation scores:\\n{}\".format(scores))"
   ]
  },
  {
   "cell_type": "markdown",
   "metadata": {},
   "source": [
    "```\n",
    "メモ\n",
    "グループ付き考査検証：\n",
    "訓練データとテストデータでデータが重ならないようにする方法\n",
    "重ならないようにグループに分けておく\n",
    "```"
   ]
  },
  {
   "cell_type": "code",
   "execution_count": 14,
   "metadata": {},
   "outputs": [
    {
     "ename": "AttributeError",
     "evalue": "'module' object has no attribute 'plot_label_kfold'",
     "output_type": "error",
     "traceback": [
      "\u001b[0;31m---------------------------------------------------------------------------\u001b[0m",
      "\u001b[0;31mAttributeError\u001b[0m                            Traceback (most recent call last)",
      "\u001b[0;32m<ipython-input-14-cd61c7478e8a>\u001b[0m in \u001b[0;36m<module>\u001b[0;34m()\u001b[0m\n\u001b[0;32m----> 1\u001b[0;31m \u001b[0mmglearn\u001b[0m\u001b[0;34m.\u001b[0m\u001b[0mplots\u001b[0m\u001b[0;34m.\u001b[0m\u001b[0mplot_label_kfold\u001b[0m\u001b[0;34m(\u001b[0m\u001b[0;34m)\u001b[0m\u001b[0;34m\u001b[0m\u001b[0m\n\u001b[0m",
      "\u001b[0;31mAttributeError\u001b[0m: 'module' object has no attribute 'plot_label_kfold'"
     ]
    }
   ],
   "source": [
    "mglearn.plots.plot_label_kfold()"
   ]
  },
  {
   "cell_type": "markdown",
   "metadata": {},
   "source": [
    "# グリッドサーチ\n",
    "```\n",
    "用途：最適なパラメータの探索\n",
    "パラメータ全ての組み合わせに対して試す方法\n",
    "\n",
    "処理内容：\n",
    "分割した　訓練データとテストデータの\n",
    "訓練データを交差検証で訓練データ_2とテストデータ_2に分割し\n",
    "分割した訓練データ_2からモデルを構築する。テストデータ_2で評価精度が最も高くなる\n",
    "パラメータを選択する。\n",
    "\n",
    "メリット：\n",
    "パラメータの探索にテストデータを使っていないこと、交差検証のみ活用した場合の問題はモデルの\n",
    "構築でテストデータを活用していることだった。モデルの構築に活用したデータは評価には使えない。\n",
    "グリッドサーチは訓練データから、パレメータを探索しているため、テストデータで評価することができる。\n",
    "```"
   ]
  },
  {
   "cell_type": "code",
   "execution_count": null,
   "metadata": {},
   "outputs": [],
   "source": [
    "from sklearn.svm import SVC\n",
    "X_train, X_test, y_train, y_test = train_test_split(\n",
    "    iris.data, iris.target, random_state=0)\n",
    "print(\"Size of training set:{}　size of test set:{}\".format(X_train.shape[0], X_test.shape[0]))\n",
    "\n",
    "best_score = 0\n",
    "\n",
    "for gamma in [0.001, 0.01, 0.1, 1, 10, 100]:\n",
    "    for C in [0.001, 0.01, 0.1, 1, 10, 100]:\n",
    "        #それぞれのパラメータの組み合わせに足してSVCを訓練\n",
    "        svm = SVC(gamma=gamma, C=C)\n",
    "        svm.fit(X_train, y_train)\n",
    "        #SVCをテストセットで評価\n",
    "        score = svm.score(X_test, y_test)\n",
    "        #良いスコアであればスコアとパラメータを保持\n",
    "        if score > best_score:\n",
    "            best_score = score\n",
    "            best_parameters = {'C':C, 'gamma':gamma}\n",
    "print(\"Best score: {:.2f}\".format(best_score))\n",
    "print(\"Best parameters: {}\".format(best_parameters))"
   ]
  },
  {
   "cell_type": "code",
   "execution_count": null,
   "metadata": {},
   "outputs": [],
   "source": [
    "38 / (112 + 38)"
   ]
  },
  {
   "cell_type": "code",
   "execution_count": null,
   "metadata": {},
   "outputs": [],
   "source": [
    "mglearn.plots.plot_threefold_split()"
   ]
  },
  {
   "cell_type": "code",
   "execution_count": 228,
   "metadata": {
    "scrolled": false
   },
   "outputs": [
    {
     "name": "stdout",
     "output_type": "stream",
     "text": [
      "size of train set :84\n",
      "size of validation set:28\n",
      "size of test set:38\n",
      "\n",
      "Best score on validation set:0.96\n",
      "Best parameters: {'C': 10, 'gamma': 0.001}\n",
      "Test set score with best parameters:0.92\n"
     ]
    }
   ],
   "source": [
    "from sklearn.svm import SVC\n",
    "# データを訓練 + 検証セットとテストセットに分割する\n",
    "X_trainval, X_test, y_trainval, y_test = train_test_split(\n",
    "    iris.data, iris.target, random_state=0)\n",
    "#訓練+検証セットを訓練セットと検証セットに分割する\n",
    "X_train, X_valid, y_train, y_valid = train_test_split(X_trainval,y_trainval,random_state=1)\n",
    "print(\"size of train set :{}\\nsize of validation set:{}\\nsize of test set:\"\n",
    "       \"{}\\n\".format(X_train.shape[0], X_valid.shape[0], X_test.shape[0]))\n",
    "\n",
    "best_score = 0\n",
    "\n",
    "for gamma in [0.001, 0.01, 0.1, 1, 10, 100]:\n",
    "    for C in [0.001, 0.01, 0.1, 1, 10, 100]:\n",
    "        # それぞれのパラメータの組み合わせに対してSVCを訓練する\n",
    "        svm = SVC(gamma=gamma, C=C)\n",
    "        svm.fit(X_train, y_train)\n",
    "        # SVCを検証セットで評価\n",
    "        score = svm.score(X_valid, y_valid)\n",
    "        # 良いスコアだったらスコアとパラメータを保持\n",
    "        if score > best_score:\n",
    "            best_score = score\n",
    "            best_parameters = {'C':C, 'gamma':gamma}\n",
    "# 訓練セットと検証セットを用いてモデルを再構築し、\n",
    "#　テストセットで評価\n",
    "svm = SVC(**best_parameters)\n",
    "svm.fit(X_trainval, y_trainval)\n",
    "test_score = svm.score(X_test, y_test)\n",
    "print(\"Best score on validation set:{:.2f}\".format(best_score))\n",
    "print(\"Best parameters:\",best_parameters)\n",
    "print(\"Test set score with best parameters:{:.2f}\".format(test_score))"
   ]
  },
  {
   "cell_type": "markdown",
   "metadata": {},
   "source": [
    "# 交差検証を用いたグリッドサーチ"
   ]
  },
  {
   "cell_type": "code",
   "execution_count": 229,
   "metadata": {},
   "outputs": [
    {
     "data": {
      "text/plain": [
       "SVC(C=10, cache_size=200, class_weight=None, coef0=0.0,\n",
       "  decision_function_shape='ovr', degree=3, gamma=0.001, kernel='rbf',\n",
       "  max_iter=-1, probability=False, random_state=None, shrinking=True,\n",
       "  tol=0.001, verbose=False)"
      ]
     },
     "execution_count": 229,
     "metadata": {},
     "output_type": "execute_result"
    }
   ],
   "source": [
    "for gmma in [0.001,0.01, 0.1, 1, 10, 100]:\n",
    "    for C in [0.001,0.01,0.1,1,10,100]:\n",
    "        # それぞれのパラメータの組み合わせに対して\n",
    "        # SVCを訓練する\n",
    "        svm = SVC(gamma=gamma, C=C)\n",
    "        # 交差検証を行う\n",
    "        scores = cross_val_score(svm, X_trainval,y_trainval,cv=5)\n",
    "        # 交差検証の平均値を計算\n",
    "        score = np.mean(scores)\n",
    "        # 良いスコアであれbスコアとパラメータを記録\n",
    "        if score > best_score:\n",
    "            best_score = score\n",
    "            best_parameters = {'C':C,'gamma':gamma}\n",
    "# 訓練セットと検証セットを合わせてモデルを再構築する\n",
    "svm = SVC(**best_parameters)\n",
    "svm.fit(X_trainval, y_trainval)"
   ]
  },
  {
   "cell_type": "code",
   "execution_count": 15,
   "metadata": {
    "scrolled": true
   },
   "outputs": [
    {
     "name": "stderr",
     "output_type": "stream",
     "text": [
      "/Users/keisuke/.pyenv/versions/3.4.3/lib/python3.4/site-packages/sklearn/utils/deprecation.py:122: FutureWarning: You are accessing a training score ('mean_train_score'), which will not be available by default any more in 0.21. If you need training scores, please set return_train_score=True\n",
      "  warnings.warn(*warn_args, **warn_kwargs)\n",
      "/Users/keisuke/.pyenv/versions/3.4.3/lib/python3.4/site-packages/sklearn/utils/deprecation.py:122: FutureWarning: You are accessing a training score ('split0_train_score'), which will not be available by default any more in 0.21. If you need training scores, please set return_train_score=True\n",
      "  warnings.warn(*warn_args, **warn_kwargs)\n",
      "/Users/keisuke/.pyenv/versions/3.4.3/lib/python3.4/site-packages/sklearn/utils/deprecation.py:122: FutureWarning: You are accessing a training score ('split1_train_score'), which will not be available by default any more in 0.21. If you need training scores, please set return_train_score=True\n",
      "  warnings.warn(*warn_args, **warn_kwargs)\n",
      "/Users/keisuke/.pyenv/versions/3.4.3/lib/python3.4/site-packages/sklearn/utils/deprecation.py:122: FutureWarning: You are accessing a training score ('split2_train_score'), which will not be available by default any more in 0.21. If you need training scores, please set return_train_score=True\n",
      "  warnings.warn(*warn_args, **warn_kwargs)\n",
      "/Users/keisuke/.pyenv/versions/3.4.3/lib/python3.4/site-packages/sklearn/utils/deprecation.py:122: FutureWarning: You are accessing a training score ('split3_train_score'), which will not be available by default any more in 0.21. If you need training scores, please set return_train_score=True\n",
      "  warnings.warn(*warn_args, **warn_kwargs)\n",
      "/Users/keisuke/.pyenv/versions/3.4.3/lib/python3.4/site-packages/sklearn/utils/deprecation.py:122: FutureWarning: You are accessing a training score ('split4_train_score'), which will not be available by default any more in 0.21. If you need training scores, please set return_train_score=True\n",
      "  warnings.warn(*warn_args, **warn_kwargs)\n",
      "/Users/keisuke/.pyenv/versions/3.4.3/lib/python3.4/site-packages/sklearn/utils/deprecation.py:122: FutureWarning: You are accessing a training score ('std_train_score'), which will not be available by default any more in 0.21. If you need training scores, please set return_train_score=True\n",
      "  warnings.warn(*warn_args, **warn_kwargs)\n"
     ]
    },
    {
     "data": {
      "image/png": "[encoded data removed]",
      "text/plain": [
       "<matplotlib.figure.Figure at 0x116f38f60>"
      ]
     },
     "metadata": {},
     "output_type": "display_data"
    }
   ],
   "source": [
    "mglearn.plots.plot_cross_val_selection()"
   ]
  },
  {
   "cell_type": "code",
   "execution_count": 16,
   "metadata": {},
   "outputs": [
    {
     "data": {
      "image/png": "[encoded data removed]",
      "text/plain": [
       "<matplotlib.figure.Figure at 0x116c8fd68>"
      ]
     },
     "metadata": {},
     "output_type": "display_data"
    }
   ],
   "source": [
    "mglearn.plots.plot_grid_search_overview()"
   ]
  },
  {
   "cell_type": "markdown",
   "metadata": {},
   "source": [
    "# GridSearchCV Class\n",
    "```\n",
    "sckit-learnで提供されるGridSearchCVクラスを活用してハイパーパラメータを求める\n",
    "```"
   ]
  },
  {
   "cell_type": "code",
   "execution_count": 66,
   "metadata": {
    "scrolled": true
   },
   "outputs": [
    {
     "name": "stdout",
     "output_type": "stream",
     "text": [
      "Parameter grid:\n",
      "{'C': [0.001, 0.01, 0.1, 1, 10, 100], 'gamma': [0.001, 0.01, 0.1, 1, 10, 100]}\n",
      "test set score:0.97\n",
      "Best parameters:{'C': 100, 'gamma': 0.01}\n",
      "Best cross-validation score :0.97\n"
     ]
    }
   ],
   "source": [
    "# ライブラリ\n",
    "from sklearn.model_selection import GridSearchCV\n",
    "from sklearn.svm import SVC\n",
    "\n",
    "# パラメータ\n",
    "param_grid = {'C':[0.001, 0.01, 0.1, 1,10, 100],\n",
    "              'gamma':[0.001, 0.01, 0.1, 1, 10, 100]}\n",
    "print(\"Parameter grid:\\n{}\".format(param_grid))\n",
    "\n",
    "# GridSearch インスタンス生成\n",
    "grid_search = GridSearchCV(SVC(), param_grid, cv=5)\n",
    "\n",
    "# パラメータの過剰適合を防ぐためにさらに訓練セットとテストセットを分割\n",
    "X_train, X_test, y_train, y_test = train_test_split(\n",
    "    iris.data, iris.target, random_state=0)\n",
    "# 交差検証を実行\n",
    "grid_search.fit(X_train, y_train)\n",
    "print(\"test set score:{:.2f}\".format(grid_search.score(X_test, y_test)))\n",
    "print(\"Best parameters:{}\".format(grid_search.best_params_))\n",
    "print(\"Best cross-validation score :{:.2f}\".format(grid_search.best_score_))"
   ]
  },
  {
   "cell_type": "markdown",
   "metadata": {},
   "source": [
    "```\n",
    "この方法だとパラメータの過剰適合が起こってしまうのでは？\n",
    "交差検証でハイパーパラメータ探索時に、テストデータを使っている場合\n",
    "新しいデータに対して97%の精度を出せるとは言えない\n",
    "→　評価にテストセットを活用していない。つまり本当に精度の高いハイパーパラメータは\n",
    "Best parameters:{'C': 100, 'gamma': 0.01}ということだ。\n",
    "しかし、算出された精度97%は訓練セットに対しての精度だということに注意しなければならない。\n",
    "```"
   ]
  },
  {
   "cell_type": "code",
   "execution_count": 67,
   "metadata": {
    "scrolled": false
   },
   "outputs": [
    {
     "name": "stdout",
     "output_type": "stream",
     "text": [
      "train set score 0.97\n",
      "test set score 0.91\n"
     ]
    }
   ],
   "source": [
    "svm = SVC(**grid_search.best_params_)\n",
    "train_scores = cross_val_score(svm, X_train, y_train, cv= 5)\n",
    "print(\"train set score {:.2f}\".format(np.mean(train_scores)))\n",
    "test_scores = cross_val_score(svm, X_test, y_test, cv= 5)\n",
    "print(\"test set score {:.2f}\".format(np.mean(test_scores)))"
   ]
  },
  {
   "cell_type": "markdown",
   "metadata": {},
   "source": [
    "```\n",
    "気づき\n",
    "テストデータに対しては91%の精度である。\n",
    "パラメータ'C': 10, 'gamma': 0.001を利用した時は\n",
    "92%であった。\n",
    "パラメータ'C': 100, 'gamma': 0.01よりも'C': 10, 'gamma': 0.001\n",
    "の方が精度が高いのではないか？\n",
    "→　random_stateの値で精度が変わる。\n",
    "試しに、C=10, gamma=0.001で検証してみる\n",
    "```"
   ]
  },
  {
   "cell_type": "code",
   "execution_count": 68,
   "metadata": {
    "scrolled": true
   },
   "outputs": [
    {
     "name": "stdout",
     "output_type": "stream",
     "text": [
      "train set score 0.93\n",
      "test set score 0.77\n"
     ]
    }
   ],
   "source": [
    "svm = SVC(C=10, gamma=0.001)\n",
    "train_scores = cross_val_score(svm, X_train, y_train, cv= 5)\n",
    "print(\"train set score {:.2f}\".format(np.mean(train_scores)))\n",
    "test_scores = cross_val_score(svm, X_test, y_test, cv= 5)\n",
    "print(\"test set score {:.2f}\".format(np.mean(test_scores)))"
   ]
  },
  {
   "cell_type": "markdown",
   "metadata": {},
   "source": [
    "```\n",
    "気づき\n",
    "検証の結果やはり、C': 100, 'gamma': 0.01の方が\n",
    "モデルとして精度が高いようだ。\n",
    "```"
   ]
  },
  {
   "cell_type": "code",
   "execution_count": 69,
   "metadata": {
    "scrolled": true
   },
   "outputs": [
    {
     "name": "stdout",
     "output_type": "stream",
     "text": [
      "Best estimator:\n",
      "SVC(C=100, cache_size=200, class_weight=None, coef0=0.0,\n",
      "  decision_function_shape='ovr', degree=3, gamma=0.01, kernel='rbf',\n",
      "  max_iter=-1, probability=False, random_state=None, shrinking=True,\n",
      "  tol=0.001, verbose=False)\n"
     ]
    }
   ],
   "source": [
    "print(\"Best estimator:\\n{}\".format(grid_search.best_estimator_))"
   ]
  },
  {
   "cell_type": "markdown",
   "metadata": {},
   "source": [
    "# 交差検証の結果の解析"
   ]
  },
  {
   "cell_type": "code",
   "execution_count": 70,
   "metadata": {
    "scrolled": true
   },
   "outputs": [
    {
     "name": "stderr",
     "output_type": "stream",
     "text": [
      "/Users/keisuke/.pyenv/versions/3.4.3/lib/python3.4/site-packages/sklearn/utils/deprecation.py:122: FutureWarning: You are accessing a training score ('mean_train_score'), which will not be available by default any more in 0.21. If you need training scores, please set return_train_score=True\n",
      "  warnings.warn(*warn_args, **warn_kwargs)\n",
      "/Users/keisuke/.pyenv/versions/3.4.3/lib/python3.4/site-packages/sklearn/utils/deprecation.py:122: FutureWarning: You are accessing a training score ('split0_train_score'), which will not be available by default any more in 0.21. If you need training scores, please set return_train_score=True\n",
      "  warnings.warn(*warn_args, **warn_kwargs)\n",
      "/Users/keisuke/.pyenv/versions/3.4.3/lib/python3.4/site-packages/sklearn/utils/deprecation.py:122: FutureWarning: You are accessing a training score ('split1_train_score'), which will not be available by default any more in 0.21. If you need training scores, please set return_train_score=True\n",
      "  warnings.warn(*warn_args, **warn_kwargs)\n",
      "/Users/keisuke/.pyenv/versions/3.4.3/lib/python3.4/site-packages/sklearn/utils/deprecation.py:122: FutureWarning: You are accessing a training score ('split2_train_score'), which will not be available by default any more in 0.21. If you need training scores, please set return_train_score=True\n",
      "  warnings.warn(*warn_args, **warn_kwargs)\n",
      "/Users/keisuke/.pyenv/versions/3.4.3/lib/python3.4/site-packages/sklearn/utils/deprecation.py:122: FutureWarning: You are accessing a training score ('split3_train_score'), which will not be available by default any more in 0.21. If you need training scores, please set return_train_score=True\n",
      "  warnings.warn(*warn_args, **warn_kwargs)\n",
      "/Users/keisuke/.pyenv/versions/3.4.3/lib/python3.4/site-packages/sklearn/utils/deprecation.py:122: FutureWarning: You are accessing a training score ('split4_train_score'), which will not be available by default any more in 0.21. If you need training scores, please set return_train_score=True\n",
      "  warnings.warn(*warn_args, **warn_kwargs)\n",
      "/Users/keisuke/.pyenv/versions/3.4.3/lib/python3.4/site-packages/sklearn/utils/deprecation.py:122: FutureWarning: You are accessing a training score ('std_train_score'), which will not be available by default any more in 0.21. If you need training scores, please set return_train_score=True\n",
      "  warnings.warn(*warn_args, **warn_kwargs)\n"
     ]
    },
    {
     "data": {
      "text/html": [
       "<div>\n",
       "<style>\n",
       "    .dataframe thead tr:only-child th {\n",
       "        text-align: right;\n",
       "    }\n",
       "\n",
       "    .dataframe thead th {\n",
       "        text-align: left;\n",
       "    }\n",
       "\n",
       "    .dataframe tbody tr th {\n",
       "        vertical-align: top;\n",
       "    }\n",
       "</style>\n",
       "<table border=\"1\" class=\"dataframe\">\n",
       "  <thead>\n",
       "    <tr style=\"text-align: right;\">\n",
       "      <th></th>\n",
       "      <th>mean_fit_time</th>\n",
       "      <th>mean_score_time</th>\n",
       "      <th>mean_test_score</th>\n",
       "      <th>mean_train_score</th>\n",
       "      <th>param_C</th>\n",
       "      <th>param_gamma</th>\n",
       "      <th>params</th>\n",
       "      <th>rank_test_score</th>\n",
       "      <th>split0_test_score</th>\n",
       "      <th>split0_train_score</th>\n",
       "      <th>...</th>\n",
       "      <th>split2_test_score</th>\n",
       "      <th>split2_train_score</th>\n",
       "      <th>split3_test_score</th>\n",
       "      <th>split3_train_score</th>\n",
       "      <th>split4_test_score</th>\n",
       "      <th>split4_train_score</th>\n",
       "      <th>std_fit_time</th>\n",
       "      <th>std_score_time</th>\n",
       "      <th>std_test_score</th>\n",
       "      <th>std_train_score</th>\n",
       "    </tr>\n",
       "  </thead>\n",
       "  <tbody>\n",
       "    <tr>\n",
       "      <th>0</th>\n",
       "      <td>0.001281</td>\n",
       "      <td>0.000699</td>\n",
       "      <td>0.366071</td>\n",
       "      <td>0.366079</td>\n",
       "      <td>0.001</td>\n",
       "      <td>0.001</td>\n",
       "      <td>{'C': 0.001, 'gamma': 0.001}</td>\n",
       "      <td>22</td>\n",
       "      <td>0.375</td>\n",
       "      <td>0.363636</td>\n",
       "      <td>...</td>\n",
       "      <td>0.363636</td>\n",
       "      <td>0.366667</td>\n",
       "      <td>0.363636</td>\n",
       "      <td>0.366667</td>\n",
       "      <td>0.380952</td>\n",
       "      <td>0.362637</td>\n",
       "      <td>0.001038</td>\n",
       "      <td>0.000439</td>\n",
       "      <td>0.011371</td>\n",
       "      <td>0.002852</td>\n",
       "    </tr>\n",
       "    <tr>\n",
       "      <th>1</th>\n",
       "      <td>0.000638</td>\n",
       "      <td>0.000272</td>\n",
       "      <td>0.366071</td>\n",
       "      <td>0.366079</td>\n",
       "      <td>0.001</td>\n",
       "      <td>0.01</td>\n",
       "      <td>{'C': 0.001, 'gamma': 0.01}</td>\n",
       "      <td>22</td>\n",
       "      <td>0.375</td>\n",
       "      <td>0.363636</td>\n",
       "      <td>...</td>\n",
       "      <td>0.363636</td>\n",
       "      <td>0.366667</td>\n",
       "      <td>0.363636</td>\n",
       "      <td>0.366667</td>\n",
       "      <td>0.380952</td>\n",
       "      <td>0.362637</td>\n",
       "      <td>0.000060</td>\n",
       "      <td>0.000030</td>\n",
       "      <td>0.011371</td>\n",
       "      <td>0.002852</td>\n",
       "    </tr>\n",
       "    <tr>\n",
       "      <th>2</th>\n",
       "      <td>0.000665</td>\n",
       "      <td>0.000283</td>\n",
       "      <td>0.366071</td>\n",
       "      <td>0.366079</td>\n",
       "      <td>0.001</td>\n",
       "      <td>0.1</td>\n",
       "      <td>{'C': 0.001, 'gamma': 0.1}</td>\n",
       "      <td>22</td>\n",
       "      <td>0.375</td>\n",
       "      <td>0.363636</td>\n",
       "      <td>...</td>\n",
       "      <td>0.363636</td>\n",
       "      <td>0.366667</td>\n",
       "      <td>0.363636</td>\n",
       "      <td>0.366667</td>\n",
       "      <td>0.380952</td>\n",
       "      <td>0.362637</td>\n",
       "      <td>0.000094</td>\n",
       "      <td>0.000061</td>\n",
       "      <td>0.011371</td>\n",
       "      <td>0.002852</td>\n",
       "    </tr>\n",
       "    <tr>\n",
       "      <th>3</th>\n",
       "      <td>0.000710</td>\n",
       "      <td>0.000332</td>\n",
       "      <td>0.366071</td>\n",
       "      <td>0.366079</td>\n",
       "      <td>0.001</td>\n",
       "      <td>1</td>\n",
       "      <td>{'C': 0.001, 'gamma': 1}</td>\n",
       "      <td>22</td>\n",
       "      <td>0.375</td>\n",
       "      <td>0.363636</td>\n",
       "      <td>...</td>\n",
       "      <td>0.363636</td>\n",
       "      <td>0.366667</td>\n",
       "      <td>0.363636</td>\n",
       "      <td>0.366667</td>\n",
       "      <td>0.380952</td>\n",
       "      <td>0.362637</td>\n",
       "      <td>0.000088</td>\n",
       "      <td>0.000068</td>\n",
       "      <td>0.011371</td>\n",
       "      <td>0.002852</td>\n",
       "    </tr>\n",
       "    <tr>\n",
       "      <th>4</th>\n",
       "      <td>0.000615</td>\n",
       "      <td>0.000287</td>\n",
       "      <td>0.366071</td>\n",
       "      <td>0.366079</td>\n",
       "      <td>0.001</td>\n",
       "      <td>10</td>\n",
       "      <td>{'C': 0.001, 'gamma': 10}</td>\n",
       "      <td>22</td>\n",
       "      <td>0.375</td>\n",
       "      <td>0.363636</td>\n",
       "      <td>...</td>\n",
       "      <td>0.363636</td>\n",
       "      <td>0.366667</td>\n",
       "      <td>0.363636</td>\n",
       "      <td>0.366667</td>\n",
       "      <td>0.380952</td>\n",
       "      <td>0.362637</td>\n",
       "      <td>0.000042</td>\n",
       "      <td>0.000054</td>\n",
       "      <td>0.011371</td>\n",
       "      <td>0.002852</td>\n",
       "    </tr>\n",
       "  </tbody>\n",
       "</table>\n",
       "<p>5 rows × 22 columns</p>\n",
       "</div>"
      ],
      "text/plain": [
       "   mean_fit_time  mean_score_time  mean_test_score  mean_train_score param_C  \\\n",
       "0       0.001281         0.000699         0.366071          0.366079   0.001   \n",
       "1       0.000638         0.000272         0.366071          0.366079   0.001   \n",
       "2       0.000665         0.000283         0.366071          0.366079   0.001   \n",
       "3       0.000710         0.000332         0.366071          0.366079   0.001   \n",
       "4       0.000615         0.000287         0.366071          0.366079   0.001   \n",
       "\n",
       "  param_gamma                        params  rank_test_score  \\\n",
       "0       0.001  {'C': 0.001, 'gamma': 0.001}               22   \n",
       "1        0.01   {'C': 0.001, 'gamma': 0.01}               22   \n",
       "2         0.1    {'C': 0.001, 'gamma': 0.1}               22   \n",
       "3           1      {'C': 0.001, 'gamma': 1}               22   \n",
       "4          10     {'C': 0.001, 'gamma': 10}               22   \n",
       "\n",
       "   split0_test_score  split0_train_score       ...         split2_test_score  \\\n",
       "0              0.375            0.363636       ...                  0.363636   \n",
       "1              0.375            0.363636       ...                  0.363636   \n",
       "2              0.375            0.363636       ...                  0.363636   \n",
       "3              0.375            0.363636       ...                  0.363636   \n",
       "4              0.375            0.363636       ...                  0.363636   \n",
       "\n",
       "   split2_train_score  split3_test_score  split3_train_score  \\\n",
       "0            0.366667           0.363636            0.366667   \n",
       "1            0.366667           0.363636            0.366667   \n",
       "2            0.366667           0.363636            0.366667   \n",
       "3            0.366667           0.363636            0.366667   \n",
       "4            0.366667           0.363636            0.366667   \n",
       "\n",
       "   split4_test_score  split4_train_score  std_fit_time  std_score_time  \\\n",
       "0           0.380952            0.362637      0.001038        0.000439   \n",
       "1           0.380952            0.362637      0.000060        0.000030   \n",
       "2           0.380952            0.362637      0.000094        0.000061   \n",
       "3           0.380952            0.362637      0.000088        0.000068   \n",
       "4           0.380952            0.362637      0.000042        0.000054   \n",
       "\n",
       "   std_test_score  std_train_score  \n",
       "0        0.011371         0.002852  \n",
       "1        0.011371         0.002852  \n",
       "2        0.011371         0.002852  \n",
       "3        0.011371         0.002852  \n",
       "4        0.011371         0.002852  \n",
       "\n",
       "[5 rows x 22 columns]"
      ]
     },
     "metadata": {},
     "output_type": "display_data"
    }
   ],
   "source": [
    "import pandas as pd\n",
    "# グリッドサーチの結果：grid_search.cv_results_\n",
    "results = pd.DataFrame(grid_search.cv_results_)\n",
    "display(results.head())"
   ]
  },
  {
   "cell_type": "code",
   "execution_count": 63,
   "metadata": {},
   "outputs": [
    {
     "data": {
      "text/plain": [
       "array([ 0.36607143,  0.36607143,  0.36607143,  0.36607143,  0.36607143,\n",
       "        0.36607143,  0.36607143,  0.36607143,  0.36607143,  0.36607143,\n",
       "        0.36607143,  0.36607143,  0.36607143,  0.69642857,  0.91964286,\n",
       "        0.95535714,  0.36607143,  0.36607143,  0.92857143,  0.96428571,\n",
       "        0.96428571,  0.9375    ,  0.91964286,  0.5625    ,  0.96428571,\n",
       "        0.97321429,  0.95535714,  0.94642857,  0.91964286,  0.5625    ])"
      ]
     },
     "execution_count": 63,
     "metadata": {},
     "output_type": "execute_result"
    }
   ],
   "source": [
    "scores = np.array(results.mean_test_score)\n",
    "scores "
   ]
  },
  {
   "cell_type": "code",
   "execution_count": 72,
   "metadata": {},
   "outputs": [
    {
     "data": {
      "text/plain": [
       "<matplotlib.collections.PolyCollection at 0x10fda64a8>"
      ]
     },
     "execution_count": 72,
     "metadata": {},
     "output_type": "execute_result"
    },
    {
     "data": {
      "image/png": "[encoded data removed]",
      "text/plain": [
       "<matplotlib.figure.Figure at 0x117726710>"
      ]
     },
     "metadata": {},
     "output_type": "display_data"
    }
   ],
   "source": [
    "scores = np.array(results.mean_test_score).reshape(6,6)\n",
    "# 平均交差検証のスコアのプロット\n",
    "mglearn.tools.heatmap(scores, xlabel='gamma', xticklabels=param_grid['gamma'],\n",
    "                     ylabel ='C', yticklabels=param_grid['C'], cmap='viridis')"
   ]
  },
  {
   "cell_type": "code",
   "execution_count": 232,
   "metadata": {
    "scrolled": true
   },
   "outputs": [
    {
     "ename": "ValueError",
     "evalue": "gamma < 0",
     "output_type": "error",
     "traceback": [
      "\u001b[0;31m---------------------------------------------------------------------------\u001b[0m",
      "\u001b[0;31mValueError\u001b[0m                                Traceback (most recent call last)",
      "\u001b[0;32m<ipython-input-232-1e39fc748656>\u001b[0m in \u001b[0;36m<module>\u001b[0;34m()\u001b[0m\n\u001b[1;32m     14\u001b[0m     \u001b[0;31m#print(ax)\u001b[0m\u001b[0;34m\u001b[0m\u001b[0;34m\u001b[0m\u001b[0m\n\u001b[1;32m     15\u001b[0m     \u001b[0mgrid_search\u001b[0m \u001b[0;34m=\u001b[0m \u001b[0mGridSearchCV\u001b[0m\u001b[0;34m(\u001b[0m\u001b[0mSVC\u001b[0m\u001b[0;34m(\u001b[0m\u001b[0;34m)\u001b[0m\u001b[0;34m,\u001b[0m \u001b[0mparam_grid\u001b[0m\u001b[0;34m,\u001b[0m \u001b[0mcv\u001b[0m\u001b[0;34m=\u001b[0m\u001b[0;36m5\u001b[0m\u001b[0;34m)\u001b[0m\u001b[0;34m\u001b[0m\u001b[0m\n\u001b[0;32m---> 16\u001b[0;31m     \u001b[0mgrid_search\u001b[0m\u001b[0;34m.\u001b[0m\u001b[0mfit\u001b[0m\u001b[0;34m(\u001b[0m\u001b[0mX_train\u001b[0m\u001b[0;34m,\u001b[0m \u001b[0my_train\u001b[0m\u001b[0;34m)\u001b[0m\u001b[0;34m\u001b[0m\u001b[0m\n\u001b[0m\u001b[1;32m     17\u001b[0m \u001b[0;34m\u001b[0m\u001b[0m\n\u001b[1;32m     18\u001b[0m     \u001b[0mscores\u001b[0m \u001b[0;34m=\u001b[0m \u001b[0mgrid_search\u001b[0m\u001b[0;34m.\u001b[0m\u001b[0mcv_results_\u001b[0m\u001b[0;34m[\u001b[0m\u001b[0;34m'mean_test_score'\u001b[0m\u001b[0;34m]\u001b[0m\u001b[0;34m.\u001b[0m\u001b[0mreshape\u001b[0m\u001b[0;34m(\u001b[0m\u001b[0;36m6\u001b[0m\u001b[0;34m,\u001b[0m\u001b[0;36m6\u001b[0m\u001b[0;34m)\u001b[0m\u001b[0;34m\u001b[0m\u001b[0m\n",
      "\u001b[0;32m~/.pyenv/versions/3.4.3/lib/python3.4/site-packages/sklearn/model_selection/_search.py\u001b[0m in \u001b[0;36mfit\u001b[0;34m(self, X, y, groups, **fit_params)\u001b[0m\n\u001b[1;32m    637\u001b[0m                                   error_score=self.error_score)\n\u001b[1;32m    638\u001b[0m           for parameters, (train, test) in product(candidate_params,\n\u001b[0;32m--> 639\u001b[0;31m                                                    cv.split(X, y, groups)))\n\u001b[0m\u001b[1;32m    640\u001b[0m \u001b[0;34m\u001b[0m\u001b[0m\n\u001b[1;32m    641\u001b[0m         \u001b[0;31m# if one choose to see train score, \"out\" will contain train score info\u001b[0m\u001b[0;34m\u001b[0m\u001b[0;34m\u001b[0m\u001b[0m\n",
      "\u001b[0;32m~/.pyenv/versions/3.4.3/lib/python3.4/site-packages/sklearn/externals/joblib/parallel.py\u001b[0m in \u001b[0;36m__call__\u001b[0;34m(self, iterable)\u001b[0m\n\u001b[1;32m    777\u001b[0m             \u001b[0;31m# was dispatched. In particular this covers the edge\u001b[0m\u001b[0;34m\u001b[0m\u001b[0;34m\u001b[0m\u001b[0m\n\u001b[1;32m    778\u001b[0m             \u001b[0;31m# case of Parallel used with an exhausted iterator.\u001b[0m\u001b[0;34m\u001b[0m\u001b[0;34m\u001b[0m\u001b[0m\n\u001b[0;32m--> 779\u001b[0;31m             \u001b[0;32mwhile\u001b[0m \u001b[0mself\u001b[0m\u001b[0;34m.\u001b[0m\u001b[0mdispatch_one_batch\u001b[0m\u001b[0;34m(\u001b[0m\u001b[0miterator\u001b[0m\u001b[0;34m)\u001b[0m\u001b[0;34m:\u001b[0m\u001b[0;34m\u001b[0m\u001b[0m\n\u001b[0m\u001b[1;32m    780\u001b[0m                 \u001b[0mself\u001b[0m\u001b[0;34m.\u001b[0m\u001b[0m_iterating\u001b[0m \u001b[0;34m=\u001b[0m \u001b[0;32mTrue\u001b[0m\u001b[0;34m\u001b[0m\u001b[0m\n\u001b[1;32m    781\u001b[0m             \u001b[0;32melse\u001b[0m\u001b[0;34m:\u001b[0m\u001b[0;34m\u001b[0m\u001b[0m\n",
      "\u001b[0;32m~/.pyenv/versions/3.4.3/lib/python3.4/site-packages/sklearn/externals/joblib/parallel.py\u001b[0m in \u001b[0;36mdispatch_one_batch\u001b[0;34m(self, iterator)\u001b[0m\n\u001b[1;32m    623\u001b[0m                 \u001b[0;32mreturn\u001b[0m \u001b[0;32mFalse\u001b[0m\u001b[0;34m\u001b[0m\u001b[0m\n\u001b[1;32m    624\u001b[0m             \u001b[0;32melse\u001b[0m\u001b[0;34m:\u001b[0m\u001b[0;34m\u001b[0m\u001b[0m\n\u001b[0;32m--> 625\u001b[0;31m                 \u001b[0mself\u001b[0m\u001b[0;34m.\u001b[0m\u001b[0m_dispatch\u001b[0m\u001b[0;34m(\u001b[0m\u001b[0mtasks\u001b[0m\u001b[0;34m)\u001b[0m\u001b[0;34m\u001b[0m\u001b[0m\n\u001b[0m\u001b[1;32m    626\u001b[0m                 \u001b[0;32mreturn\u001b[0m \u001b[0;32mTrue\u001b[0m\u001b[0;34m\u001b[0m\u001b[0m\n\u001b[1;32m    627\u001b[0m \u001b[0;34m\u001b[0m\u001b[0m\n",
      "\u001b[0;32m~/.pyenv/versions/3.4.3/lib/python3.4/site-packages/sklearn/externals/joblib/parallel.py\u001b[0m in \u001b[0;36m_dispatch\u001b[0;34m(self, batch)\u001b[0m\n\u001b[1;32m    586\u001b[0m         \u001b[0mdispatch_timestamp\u001b[0m \u001b[0;34m=\u001b[0m \u001b[0mtime\u001b[0m\u001b[0;34m.\u001b[0m\u001b[0mtime\u001b[0m\u001b[0;34m(\u001b[0m\u001b[0;34m)\u001b[0m\u001b[0;34m\u001b[0m\u001b[0m\n\u001b[1;32m    587\u001b[0m         \u001b[0mcb\u001b[0m \u001b[0;34m=\u001b[0m \u001b[0mBatchCompletionCallBack\u001b[0m\u001b[0;34m(\u001b[0m\u001b[0mdispatch_timestamp\u001b[0m\u001b[0;34m,\u001b[0m \u001b[0mlen\u001b[0m\u001b[0;34m(\u001b[0m\u001b[0mbatch\u001b[0m\u001b[0;34m)\u001b[0m\u001b[0;34m,\u001b[0m \u001b[0mself\u001b[0m\u001b[0;34m)\u001b[0m\u001b[0;34m\u001b[0m\u001b[0m\n\u001b[0;32m--> 588\u001b[0;31m         \u001b[0mjob\u001b[0m \u001b[0;34m=\u001b[0m \u001b[0mself\u001b[0m\u001b[0;34m.\u001b[0m\u001b[0m_backend\u001b[0m\u001b[0;34m.\u001b[0m\u001b[0mapply_async\u001b[0m\u001b[0;34m(\u001b[0m\u001b[0mbatch\u001b[0m\u001b[0;34m,\u001b[0m \u001b[0mcallback\u001b[0m\u001b[0;34m=\u001b[0m\u001b[0mcb\u001b[0m\u001b[0;34m)\u001b[0m\u001b[0;34m\u001b[0m\u001b[0m\n\u001b[0m\u001b[1;32m    589\u001b[0m         \u001b[0mself\u001b[0m\u001b[0;34m.\u001b[0m\u001b[0m_jobs\u001b[0m\u001b[0;34m.\u001b[0m\u001b[0mappend\u001b[0m\u001b[0;34m(\u001b[0m\u001b[0mjob\u001b[0m\u001b[0;34m)\u001b[0m\u001b[0;34m\u001b[0m\u001b[0m\n\u001b[1;32m    590\u001b[0m \u001b[0;34m\u001b[0m\u001b[0m\n",
      "\u001b[0;32m~/.pyenv/versions/3.4.3/lib/python3.4/site-packages/sklearn/externals/joblib/_parallel_backends.py\u001b[0m in \u001b[0;36mapply_async\u001b[0;34m(self, func, callback)\u001b[0m\n\u001b[1;32m    109\u001b[0m     \u001b[0;32mdef\u001b[0m \u001b[0mapply_async\u001b[0m\u001b[0;34m(\u001b[0m\u001b[0mself\u001b[0m\u001b[0;34m,\u001b[0m \u001b[0mfunc\u001b[0m\u001b[0;34m,\u001b[0m \u001b[0mcallback\u001b[0m\u001b[0;34m=\u001b[0m\u001b[0;32mNone\u001b[0m\u001b[0;34m)\u001b[0m\u001b[0;34m:\u001b[0m\u001b[0;34m\u001b[0m\u001b[0m\n\u001b[1;32m    110\u001b[0m         \u001b[0;34m\"\"\"Schedule a func to be run\"\"\"\u001b[0m\u001b[0;34m\u001b[0m\u001b[0m\n\u001b[0;32m--> 111\u001b[0;31m         \u001b[0mresult\u001b[0m \u001b[0;34m=\u001b[0m \u001b[0mImmediateResult\u001b[0m\u001b[0;34m(\u001b[0m\u001b[0mfunc\u001b[0m\u001b[0;34m)\u001b[0m\u001b[0;34m\u001b[0m\u001b[0m\n\u001b[0m\u001b[1;32m    112\u001b[0m         \u001b[0;32mif\u001b[0m \u001b[0mcallback\u001b[0m\u001b[0;34m:\u001b[0m\u001b[0;34m\u001b[0m\u001b[0m\n\u001b[1;32m    113\u001b[0m             \u001b[0mcallback\u001b[0m\u001b[0;34m(\u001b[0m\u001b[0mresult\u001b[0m\u001b[0;34m)\u001b[0m\u001b[0;34m\u001b[0m\u001b[0m\n",
      "\u001b[0;32m~/.pyenv/versions/3.4.3/lib/python3.4/site-packages/sklearn/externals/joblib/_parallel_backends.py\u001b[0m in \u001b[0;36m__init__\u001b[0;34m(self, batch)\u001b[0m\n\u001b[1;32m    330\u001b[0m         \u001b[0;31m# Don't delay the application, to avoid keeping the input\u001b[0m\u001b[0;34m\u001b[0m\u001b[0;34m\u001b[0m\u001b[0m\n\u001b[1;32m    331\u001b[0m         \u001b[0;31m# arguments in memory\u001b[0m\u001b[0;34m\u001b[0m\u001b[0;34m\u001b[0m\u001b[0m\n\u001b[0;32m--> 332\u001b[0;31m         \u001b[0mself\u001b[0m\u001b[0;34m.\u001b[0m\u001b[0mresults\u001b[0m \u001b[0;34m=\u001b[0m \u001b[0mbatch\u001b[0m\u001b[0;34m(\u001b[0m\u001b[0;34m)\u001b[0m\u001b[0;34m\u001b[0m\u001b[0m\n\u001b[0m\u001b[1;32m    333\u001b[0m \u001b[0;34m\u001b[0m\u001b[0m\n\u001b[1;32m    334\u001b[0m     \u001b[0;32mdef\u001b[0m \u001b[0mget\u001b[0m\u001b[0;34m(\u001b[0m\u001b[0mself\u001b[0m\u001b[0;34m)\u001b[0m\u001b[0;34m:\u001b[0m\u001b[0;34m\u001b[0m\u001b[0m\n",
      "\u001b[0;32m~/.pyenv/versions/3.4.3/lib/python3.4/site-packages/sklearn/externals/joblib/parallel.py\u001b[0m in \u001b[0;36m__call__\u001b[0;34m(self)\u001b[0m\n\u001b[1;32m    129\u001b[0m \u001b[0;34m\u001b[0m\u001b[0m\n\u001b[1;32m    130\u001b[0m     \u001b[0;32mdef\u001b[0m \u001b[0m__call__\u001b[0m\u001b[0;34m(\u001b[0m\u001b[0mself\u001b[0m\u001b[0;34m)\u001b[0m\u001b[0;34m:\u001b[0m\u001b[0;34m\u001b[0m\u001b[0m\n\u001b[0;32m--> 131\u001b[0;31m         \u001b[0;32mreturn\u001b[0m \u001b[0;34m[\u001b[0m\u001b[0mfunc\u001b[0m\u001b[0;34m(\u001b[0m\u001b[0;34m*\u001b[0m\u001b[0margs\u001b[0m\u001b[0;34m,\u001b[0m \u001b[0;34m**\u001b[0m\u001b[0mkwargs\u001b[0m\u001b[0;34m)\u001b[0m \u001b[0;32mfor\u001b[0m \u001b[0mfunc\u001b[0m\u001b[0;34m,\u001b[0m \u001b[0margs\u001b[0m\u001b[0;34m,\u001b[0m \u001b[0mkwargs\u001b[0m \u001b[0;32min\u001b[0m \u001b[0mself\u001b[0m\u001b[0;34m.\u001b[0m\u001b[0mitems\u001b[0m\u001b[0;34m]\u001b[0m\u001b[0;34m\u001b[0m\u001b[0m\n\u001b[0m\u001b[1;32m    132\u001b[0m \u001b[0;34m\u001b[0m\u001b[0m\n\u001b[1;32m    133\u001b[0m     \u001b[0;32mdef\u001b[0m \u001b[0m__len__\u001b[0m\u001b[0;34m(\u001b[0m\u001b[0mself\u001b[0m\u001b[0;34m)\u001b[0m\u001b[0;34m:\u001b[0m\u001b[0;34m\u001b[0m\u001b[0m\n",
      "\u001b[0;32m~/.pyenv/versions/3.4.3/lib/python3.4/site-packages/sklearn/externals/joblib/parallel.py\u001b[0m in \u001b[0;36m<listcomp>\u001b[0;34m(.0)\u001b[0m\n\u001b[1;32m    129\u001b[0m \u001b[0;34m\u001b[0m\u001b[0m\n\u001b[1;32m    130\u001b[0m     \u001b[0;32mdef\u001b[0m \u001b[0m__call__\u001b[0m\u001b[0;34m(\u001b[0m\u001b[0mself\u001b[0m\u001b[0;34m)\u001b[0m\u001b[0;34m:\u001b[0m\u001b[0;34m\u001b[0m\u001b[0m\n\u001b[0;32m--> 131\u001b[0;31m         \u001b[0;32mreturn\u001b[0m \u001b[0;34m[\u001b[0m\u001b[0mfunc\u001b[0m\u001b[0;34m(\u001b[0m\u001b[0;34m*\u001b[0m\u001b[0margs\u001b[0m\u001b[0;34m,\u001b[0m \u001b[0;34m**\u001b[0m\u001b[0mkwargs\u001b[0m\u001b[0;34m)\u001b[0m \u001b[0;32mfor\u001b[0m \u001b[0mfunc\u001b[0m\u001b[0;34m,\u001b[0m \u001b[0margs\u001b[0m\u001b[0;34m,\u001b[0m \u001b[0mkwargs\u001b[0m \u001b[0;32min\u001b[0m \u001b[0mself\u001b[0m\u001b[0;34m.\u001b[0m\u001b[0mitems\u001b[0m\u001b[0;34m]\u001b[0m\u001b[0;34m\u001b[0m\u001b[0m\n\u001b[0m\u001b[1;32m    132\u001b[0m \u001b[0;34m\u001b[0m\u001b[0m\n\u001b[1;32m    133\u001b[0m     \u001b[0;32mdef\u001b[0m \u001b[0m__len__\u001b[0m\u001b[0;34m(\u001b[0m\u001b[0mself\u001b[0m\u001b[0;34m)\u001b[0m\u001b[0;34m:\u001b[0m\u001b[0;34m\u001b[0m\u001b[0m\n",
      "\u001b[0;32m~/.pyenv/versions/3.4.3/lib/python3.4/site-packages/sklearn/model_selection/_validation.py\u001b[0m in \u001b[0;36m_fit_and_score\u001b[0;34m(estimator, X, y, scorer, train, test, verbose, parameters, fit_params, return_train_score, return_parameters, return_n_test_samples, return_times, error_score)\u001b[0m\n\u001b[1;32m    456\u001b[0m             \u001b[0mestimator\u001b[0m\u001b[0;34m.\u001b[0m\u001b[0mfit\u001b[0m\u001b[0;34m(\u001b[0m\u001b[0mX_train\u001b[0m\u001b[0;34m,\u001b[0m \u001b[0;34m**\u001b[0m\u001b[0mfit_params\u001b[0m\u001b[0;34m)\u001b[0m\u001b[0;34m\u001b[0m\u001b[0m\n\u001b[1;32m    457\u001b[0m         \u001b[0;32melse\u001b[0m\u001b[0;34m:\u001b[0m\u001b[0;34m\u001b[0m\u001b[0m\n\u001b[0;32m--> 458\u001b[0;31m             \u001b[0mestimator\u001b[0m\u001b[0;34m.\u001b[0m\u001b[0mfit\u001b[0m\u001b[0;34m(\u001b[0m\u001b[0mX_train\u001b[0m\u001b[0;34m,\u001b[0m \u001b[0my_train\u001b[0m\u001b[0;34m,\u001b[0m \u001b[0;34m**\u001b[0m\u001b[0mfit_params\u001b[0m\u001b[0;34m)\u001b[0m\u001b[0;34m\u001b[0m\u001b[0m\n\u001b[0m\u001b[1;32m    459\u001b[0m \u001b[0;34m\u001b[0m\u001b[0m\n\u001b[1;32m    460\u001b[0m     \u001b[0;32mexcept\u001b[0m \u001b[0mException\u001b[0m \u001b[0;32mas\u001b[0m \u001b[0me\u001b[0m\u001b[0;34m:\u001b[0m\u001b[0;34m\u001b[0m\u001b[0m\n",
      "\u001b[0;32m~/.pyenv/versions/3.4.3/lib/python3.4/site-packages/sklearn/svm/base.py\u001b[0m in \u001b[0;36mfit\u001b[0;34m(self, X, y, sample_weight)\u001b[0m\n\u001b[1;32m    185\u001b[0m \u001b[0;34m\u001b[0m\u001b[0m\n\u001b[1;32m    186\u001b[0m         \u001b[0mseed\u001b[0m \u001b[0;34m=\u001b[0m \u001b[0mrnd\u001b[0m\u001b[0;34m.\u001b[0m\u001b[0mrandint\u001b[0m\u001b[0;34m(\u001b[0m\u001b[0mnp\u001b[0m\u001b[0;34m.\u001b[0m\u001b[0miinfo\u001b[0m\u001b[0;34m(\u001b[0m\u001b[0;34m'i'\u001b[0m\u001b[0;34m)\u001b[0m\u001b[0;34m.\u001b[0m\u001b[0mmax\u001b[0m\u001b[0;34m)\u001b[0m\u001b[0;34m\u001b[0m\u001b[0m\n\u001b[0;32m--> 187\u001b[0;31m         \u001b[0mfit\u001b[0m\u001b[0;34m(\u001b[0m\u001b[0mX\u001b[0m\u001b[0;34m,\u001b[0m \u001b[0my\u001b[0m\u001b[0;34m,\u001b[0m \u001b[0msample_weight\u001b[0m\u001b[0;34m,\u001b[0m \u001b[0msolver_type\u001b[0m\u001b[0;34m,\u001b[0m \u001b[0mkernel\u001b[0m\u001b[0;34m,\u001b[0m \u001b[0mrandom_seed\u001b[0m\u001b[0;34m=\u001b[0m\u001b[0mseed\u001b[0m\u001b[0;34m)\u001b[0m\u001b[0;34m\u001b[0m\u001b[0m\n\u001b[0m\u001b[1;32m    188\u001b[0m         \u001b[0;31m# see comment on the other call to np.iinfo in this file\u001b[0m\u001b[0;34m\u001b[0m\u001b[0;34m\u001b[0m\u001b[0m\n\u001b[1;32m    189\u001b[0m \u001b[0;34m\u001b[0m\u001b[0m\n",
      "\u001b[0;32m~/.pyenv/versions/3.4.3/lib/python3.4/site-packages/sklearn/svm/base.py\u001b[0m in \u001b[0;36m_dense_fit\u001b[0;34m(self, X, y, sample_weight, solver_type, kernel, random_seed)\u001b[0m\n\u001b[1;32m    252\u001b[0m                 \u001b[0mcache_size\u001b[0m\u001b[0;34m=\u001b[0m\u001b[0mself\u001b[0m\u001b[0;34m.\u001b[0m\u001b[0mcache_size\u001b[0m\u001b[0;34m,\u001b[0m \u001b[0mcoef0\u001b[0m\u001b[0;34m=\u001b[0m\u001b[0mself\u001b[0m\u001b[0;34m.\u001b[0m\u001b[0mcoef0\u001b[0m\u001b[0;34m,\u001b[0m\u001b[0;34m\u001b[0m\u001b[0m\n\u001b[1;32m    253\u001b[0m                 \u001b[0mgamma\u001b[0m\u001b[0;34m=\u001b[0m\u001b[0mself\u001b[0m\u001b[0;34m.\u001b[0m\u001b[0m_gamma\u001b[0m\u001b[0;34m,\u001b[0m \u001b[0mepsilon\u001b[0m\u001b[0;34m=\u001b[0m\u001b[0mself\u001b[0m\u001b[0;34m.\u001b[0m\u001b[0mepsilon\u001b[0m\u001b[0;34m,\u001b[0m\u001b[0;34m\u001b[0m\u001b[0m\n\u001b[0;32m--> 254\u001b[0;31m                 max_iter=self.max_iter, random_seed=random_seed)\n\u001b[0m\u001b[1;32m    255\u001b[0m \u001b[0;34m\u001b[0m\u001b[0m\n\u001b[1;32m    256\u001b[0m         \u001b[0mself\u001b[0m\u001b[0;34m.\u001b[0m\u001b[0m_warn_from_fit_status\u001b[0m\u001b[0;34m(\u001b[0m\u001b[0;34m)\u001b[0m\u001b[0;34m\u001b[0m\u001b[0m\n",
      "\u001b[0;32msklearn/svm/libsvm.pyx\u001b[0m in \u001b[0;36msklearn.svm.libsvm.fit\u001b[0;34m()\u001b[0m\n",
      "\u001b[0;31mValueError\u001b[0m: gamma < 0"
     ]
    },
    {
     "data": {
      "image/png": "[encoded data removed]",
      "text/plain": [
       "<matplotlib.figure.Figure at 0x10fc8f6a0>"
      ]
     },
     "metadata": {},
     "output_type": "display_data"
    }
   ],
   "source": [
    "\"\"\"\n",
    "テキストに従いエラーの出るソース\n",
    "\"\"\"\n",
    "\n",
    "fig , axes = plt.subplots(1, 3, figsize=(13,5))\n",
    "param_grid_linear = {'C':np.linspace(1,2,6),\n",
    "                    'gamma':np.linspace(1,2,6)}\n",
    "param_grid_one_log = {'C':np.linspace(1,2,6),\n",
    "                     'gamma':np.linspace(-3,2,6)}\n",
    "param_grid_range = {'C':np.linspace(-3,2,6),\n",
    "                     'gamma':np.linspace(-7,-2,6)}\n",
    "for param_grid, ax in zip([param_grid_linear,param_grid_one_log,param_grid_range],axes):\n",
    "    #print(param_grid)\n",
    "    #print(ax)\n",
    "    grid_search = GridSearchCV(SVC(), param_grid, cv=5)\n",
    "    grid_search.fit(X_train, y_train)\n",
    "    \n",
    "    scores = grid_search.cv_results_['mean_test_score'].reshape(6,6)\n",
    "    \n",
    "    #　平均交差検証精度をプロット\n",
    "    scores_image = mglearn.tools.heatmap(\n",
    "        scores,xlabel='gamma',ylabel='C',xticklabels=param_grid['gamma'],\n",
    "        yticklabels=param_grid['C'], cmap=\"viridis\", ax=ax)\n",
    "plt.colorbar(scores_image, ax=axes.tolist())\n",
    "    "
   ]
  },
  {
   "cell_type": "markdown",
   "metadata": {},
   "source": [
    "```\n",
    "gammaが-だとエラーになる\n",
    "```"
   ]
  },
  {
   "cell_type": "code",
   "execution_count": 74,
   "metadata": {},
   "outputs": [
    {
     "data": {
      "text/plain": [
       "<matplotlib.colorbar.Colorbar at 0x117c5ad68>"
      ]
     },
     "execution_count": 74,
     "metadata": {},
     "output_type": "execute_result"
    },
    {
     "data": {
      "image/png": "[encoded data removed]",
      "text/plain": [
       "<matplotlib.figure.Figure at 0x116d10d68>"
      ]
     },
     "metadata": {},
     "output_type": "display_data"
    }
   ],
   "source": [
    "fig , axes = plt.subplots(1, 3, figsize=(13,5))\n",
    "param_grid_linear = {'C':np.linspace(1,2,6),\n",
    "                    'gamma':np.linspace(1,2,6)}\n",
    "param_grid_one_log = {'C':np.linspace(1,2,6),\n",
    "                     'gamma':np.linspace(3,2,6)}\n",
    "param_grid_range = {'C':np.linspace(3,2,6),\n",
    "                     'gamma':np.linspace(7,2,6)}\n",
    "for param_grid, ax in zip([param_grid_linear,param_grid_one_log,param_grid_range],axes):\n",
    "    #print(param_grid)\n",
    "    #print(ax)\n",
    "    grid_search = GridSearchCV(SVC(), param_grid, cv=5)\n",
    "    grid_search.fit(X_train, y_train)\n",
    "    \n",
    "    scores = grid_search.cv_results_['mean_test_score'].reshape(6,6)\n",
    "    \n",
    "    #　平均交差検証精度をプロット\n",
    "    scores_image = mglearn.tools.heatmap(\n",
    "        scores,xlabel='gamma',ylabel='C',xticklabels=param_grid['gamma'],\n",
    "        yticklabels=param_grid['C'], cmap=\"viridis\", ax=ax)\n",
    "plt.colorbar(scores_image, ax=axes.tolist())"
   ]
  },
  {
   "cell_type": "markdown",
   "metadata": {},
   "source": [
    "# グリッドでないサーチ空間"
   ]
  },
  {
   "cell_type": "code",
   "execution_count": 202,
   "metadata": {
    "scrolled": true
   },
   "outputs": [
    {
     "name": "stdout",
     "output_type": "stream",
     "text": [
      "list of grids:\n",
      "[{'kernel': ['rbf'], 'C': [0.001, 0.01, 0.1, 1, 10, 100], 'gamma': [0.001, 0.01, 0.1, 1, 10, 100]}, {'kernel': ['linear'], 'C': [0.001, 0.01, 0.1, 1, 10, 100]}]\n"
     ]
    }
   ],
   "source": [
    "param_grid = [{'kernel':['rbf'],\n",
    "              'C':[0.001,0.01,0.1,1,10,100],\n",
    "              'gamma':[0.001,0.01,0.1,1,10,100]},\n",
    "             {'kernel':['linear'],\n",
    "             'C':[0.001,0.01,0.1,1,10,100]}]\n",
    "print(\"list of grids:\\n{}\".format(param_grid))"
   ]
  },
  {
   "cell_type": "code",
   "execution_count": 207,
   "metadata": {
    "scrolled": true
   },
   "outputs": [
    {
     "name": "stdout",
     "output_type": "stream",
     "text": [
      "best parameters：{'kernel': 'rbf', 'C': 100, 'gamma': 0.01}\n",
      "vest cross validation score:0.9732142857142857\n"
     ]
    }
   ],
   "source": [
    "# パラメータの過剰適合を防ぐためにさらに訓練セットとテストセットを分割\n",
    "X_train, X_test, y_train, y_test = train_test_split(\n",
    "    iris.data, iris.target, random_state=0)\n",
    "grid_search = GridSearchCV(SVC(),param_grid, cv=5)\n",
    "grid_search.fit(X_train,y_train)\n",
    "print(\"best parameters：{}\".format(grid_search.best_params_))\n",
    "print(\"vest cross validation score:{:}\".format(grid_search.best_score_))\n"
   ]
  },
  {
   "cell_type": "code",
   "execution_count": 214,
   "metadata": {},
   "outputs": [
    {
     "name": "stdout",
     "output_type": "stream",
     "text": [
      "best parameters test score:0.9736842105263158\n"
     ]
    }
   ],
   "source": [
    "# ハイパーパラメータでモデルを構築・評価\n",
    "clf = SVC(**grid_search.best_params_)\n",
    "clf.fit(X_train,y_train)\n",
    "print(\"best parameters test score:{:}\".format(clf.score(X_test,y_test)))"
   ]
  },
  {
   "cell_type": "code",
   "execution_count": 53,
   "metadata": {
    "scrolled": true
   },
   "outputs": [
    {
     "name": "stderr",
     "output_type": "stream",
     "text": [
      "/Users/keisuke/.pyenv/versions/3.4.3/lib/python3.4/site-packages/sklearn/utils/deprecation.py:122: FutureWarning: You are accessing a training score ('mean_train_score'), which will not be available by default any more in 0.21. If you need training scores, please set return_train_score=True\n",
      "  warnings.warn(*warn_args, **warn_kwargs)\n",
      "/Users/keisuke/.pyenv/versions/3.4.3/lib/python3.4/site-packages/sklearn/utils/deprecation.py:122: FutureWarning: You are accessing a training score ('split0_train_score'), which will not be available by default any more in 0.21. If you need training scores, please set return_train_score=True\n",
      "  warnings.warn(*warn_args, **warn_kwargs)\n",
      "/Users/keisuke/.pyenv/versions/3.4.3/lib/python3.4/site-packages/sklearn/utils/deprecation.py:122: FutureWarning: You are accessing a training score ('split1_train_score'), which will not be available by default any more in 0.21. If you need training scores, please set return_train_score=True\n",
      "  warnings.warn(*warn_args, **warn_kwargs)\n",
      "/Users/keisuke/.pyenv/versions/3.4.3/lib/python3.4/site-packages/sklearn/utils/deprecation.py:122: FutureWarning: You are accessing a training score ('split2_train_score'), which will not be available by default any more in 0.21. If you need training scores, please set return_train_score=True\n",
      "  warnings.warn(*warn_args, **warn_kwargs)\n",
      "/Users/keisuke/.pyenv/versions/3.4.3/lib/python3.4/site-packages/sklearn/utils/deprecation.py:122: FutureWarning: You are accessing a training score ('split3_train_score'), which will not be available by default any more in 0.21. If you need training scores, please set return_train_score=True\n",
      "  warnings.warn(*warn_args, **warn_kwargs)\n",
      "/Users/keisuke/.pyenv/versions/3.4.3/lib/python3.4/site-packages/sklearn/utils/deprecation.py:122: FutureWarning: You are accessing a training score ('split4_train_score'), which will not be available by default any more in 0.21. If you need training scores, please set return_train_score=True\n",
      "  warnings.warn(*warn_args, **warn_kwargs)\n",
      "/Users/keisuke/.pyenv/versions/3.4.3/lib/python3.4/site-packages/sklearn/utils/deprecation.py:122: FutureWarning: You are accessing a training score ('std_train_score'), which will not be available by default any more in 0.21. If you need training scores, please set return_train_score=True\n",
      "  warnings.warn(*warn_args, **warn_kwargs)\n"
     ]
    },
    {
     "data": {
      "text/html": [
       "<div>\n",
       "<style>\n",
       "    .dataframe thead tr:only-child th {\n",
       "        text-align: right;\n",
       "    }\n",
       "\n",
       "    .dataframe thead th {\n",
       "        text-align: left;\n",
       "    }\n",
       "\n",
       "    .dataframe tbody tr th {\n",
       "        vertical-align: top;\n",
       "    }\n",
       "</style>\n",
       "<table border=\"1\" class=\"dataframe\">\n",
       "  <thead>\n",
       "    <tr style=\"text-align: right;\">\n",
       "      <th></th>\n",
       "      <th>0</th>\n",
       "      <th>1</th>\n",
       "      <th>2</th>\n",
       "      <th>3</th>\n",
       "      <th>4</th>\n",
       "      <th>5</th>\n",
       "      <th>6</th>\n",
       "      <th>7</th>\n",
       "      <th>8</th>\n",
       "      <th>9</th>\n",
       "      <th>...</th>\n",
       "      <th>20</th>\n",
       "      <th>21</th>\n",
       "      <th>22</th>\n",
       "      <th>23</th>\n",
       "      <th>24</th>\n",
       "      <th>25</th>\n",
       "      <th>26</th>\n",
       "      <th>27</th>\n",
       "      <th>28</th>\n",
       "      <th>29</th>\n",
       "    </tr>\n",
       "  </thead>\n",
       "  <tbody>\n",
       "    <tr>\n",
       "      <th>mean_fit_time</th>\n",
       "      <td>0.000836372</td>\n",
       "      <td>0.000738001</td>\n",
       "      <td>0.000764799</td>\n",
       "      <td>0.000678205</td>\n",
       "      <td>0.000689554</td>\n",
       "      <td>0.000655413</td>\n",
       "      <td>0.000692368</td>\n",
       "      <td>0.000584221</td>\n",
       "      <td>0.000605631</td>\n",
       "      <td>0.00068078</td>\n",
       "      <td>...</td>\n",
       "      <td>0.000575161</td>\n",
       "      <td>0.000487947</td>\n",
       "      <td>0.000906992</td>\n",
       "      <td>0.000809717</td>\n",
       "      <td>0.000422812</td>\n",
       "      <td>0.000354242</td>\n",
       "      <td>0.000354147</td>\n",
       "      <td>0.000474787</td>\n",
       "      <td>0.000783491</td>\n",
       "      <td>0.000922012</td>\n",
       "    </tr>\n",
       "    <tr>\n",
       "      <th>mean_score_time</th>\n",
       "      <td>0.000341034</td>\n",
       "      <td>0.000324202</td>\n",
       "      <td>0.000331402</td>\n",
       "      <td>0.000263977</td>\n",
       "      <td>0.000353813</td>\n",
       "      <td>0.00026803</td>\n",
       "      <td>0.0003016</td>\n",
       "      <td>0.000256205</td>\n",
       "      <td>0.000304127</td>\n",
       "      <td>0.000287056</td>\n",
       "      <td>...</td>\n",
       "      <td>0.000338173</td>\n",
       "      <td>0.000253868</td>\n",
       "      <td>0.000335598</td>\n",
       "      <td>0.000287008</td>\n",
       "      <td>0.000240993</td>\n",
       "      <td>0.000207233</td>\n",
       "      <td>0.000204992</td>\n",
       "      <td>0.000217152</td>\n",
       "      <td>0.000235176</td>\n",
       "      <td>0.000299597</td>\n",
       "    </tr>\n",
       "    <tr>\n",
       "      <th>mean_test_score</th>\n",
       "      <td>0.366071</td>\n",
       "      <td>0.366071</td>\n",
       "      <td>0.366071</td>\n",
       "      <td>0.366071</td>\n",
       "      <td>0.366071</td>\n",
       "      <td>0.366071</td>\n",
       "      <td>0.366071</td>\n",
       "      <td>0.366071</td>\n",
       "      <td>0.366071</td>\n",
       "      <td>0.366071</td>\n",
       "      <td>...</td>\n",
       "      <td>0.964286</td>\n",
       "      <td>0.9375</td>\n",
       "      <td>0.919643</td>\n",
       "      <td>0.5625</td>\n",
       "      <td>0.964286</td>\n",
       "      <td>0.973214</td>\n",
       "      <td>0.955357</td>\n",
       "      <td>0.946429</td>\n",
       "      <td>0.919643</td>\n",
       "      <td>0.5625</td>\n",
       "    </tr>\n",
       "    <tr>\n",
       "      <th>mean_train_score</th>\n",
       "      <td>0.366079</td>\n",
       "      <td>0.366079</td>\n",
       "      <td>0.366079</td>\n",
       "      <td>0.366079</td>\n",
       "      <td>0.366079</td>\n",
       "      <td>0.366079</td>\n",
       "      <td>0.366079</td>\n",
       "      <td>0.366079</td>\n",
       "      <td>0.366079</td>\n",
       "      <td>0.366079</td>\n",
       "      <td>...</td>\n",
       "      <td>0.986566</td>\n",
       "      <td>0.986591</td>\n",
       "      <td>1</td>\n",
       "      <td>1</td>\n",
       "      <td>0.977676</td>\n",
       "      <td>0.984368</td>\n",
       "      <td>0.988788</td>\n",
       "      <td>1</td>\n",
       "      <td>1</td>\n",
       "      <td>1</td>\n",
       "    </tr>\n",
       "    <tr>\n",
       "      <th>param_C</th>\n",
       "      <td>0.001</td>\n",
       "      <td>0.001</td>\n",
       "      <td>0.001</td>\n",
       "      <td>0.001</td>\n",
       "      <td>0.001</td>\n",
       "      <td>0.001</td>\n",
       "      <td>0.01</td>\n",
       "      <td>0.01</td>\n",
       "      <td>0.01</td>\n",
       "      <td>0.01</td>\n",
       "      <td>...</td>\n",
       "      <td>10</td>\n",
       "      <td>10</td>\n",
       "      <td>10</td>\n",
       "      <td>10</td>\n",
       "      <td>100</td>\n",
       "      <td>100</td>\n",
       "      <td>100</td>\n",
       "      <td>100</td>\n",
       "      <td>100</td>\n",
       "      <td>100</td>\n",
       "    </tr>\n",
       "    <tr>\n",
       "      <th>param_gamma</th>\n",
       "      <td>0.001</td>\n",
       "      <td>0.01</td>\n",
       "      <td>0.1</td>\n",
       "      <td>1</td>\n",
       "      <td>10</td>\n",
       "      <td>100</td>\n",
       "      <td>0.001</td>\n",
       "      <td>0.01</td>\n",
       "      <td>0.1</td>\n",
       "      <td>1</td>\n",
       "      <td>...</td>\n",
       "      <td>0.1</td>\n",
       "      <td>1</td>\n",
       "      <td>10</td>\n",
       "      <td>100</td>\n",
       "      <td>0.001</td>\n",
       "      <td>0.01</td>\n",
       "      <td>0.1</td>\n",
       "      <td>1</td>\n",
       "      <td>10</td>\n",
       "      <td>100</td>\n",
       "    </tr>\n",
       "    <tr>\n",
       "      <th>params</th>\n",
       "      <td>{'C': 0.001, 'gamma': 0.001}</td>\n",
       "      <td>{'C': 0.001, 'gamma': 0.01}</td>\n",
       "      <td>{'C': 0.001, 'gamma': 0.1}</td>\n",
       "      <td>{'C': 0.001, 'gamma': 1}</td>\n",
       "      <td>{'C': 0.001, 'gamma': 10}</td>\n",
       "      <td>{'C': 0.001, 'gamma': 100}</td>\n",
       "      <td>{'C': 0.01, 'gamma': 0.001}</td>\n",
       "      <td>{'C': 0.01, 'gamma': 0.01}</td>\n",
       "      <td>{'C': 0.01, 'gamma': 0.1}</td>\n",
       "      <td>{'C': 0.01, 'gamma': 1}</td>\n",
       "      <td>...</td>\n",
       "      <td>{'C': 10, 'gamma': 0.1}</td>\n",
       "      <td>{'C': 10, 'gamma': 1}</td>\n",
       "      <td>{'C': 10, 'gamma': 10}</td>\n",
       "      <td>{'C': 10, 'gamma': 100}</td>\n",
       "      <td>{'C': 100, 'gamma': 0.001}</td>\n",
       "      <td>{'C': 100, 'gamma': 0.01}</td>\n",
       "      <td>{'C': 100, 'gamma': 0.1}</td>\n",
       "      <td>{'C': 100, 'gamma': 1}</td>\n",
       "      <td>{'C': 100, 'gamma': 10}</td>\n",
       "      <td>{'C': 100, 'gamma': 100}</td>\n",
       "    </tr>\n",
       "    <tr>\n",
       "      <th>rank_test_score</th>\n",
       "      <td>16</td>\n",
       "      <td>16</td>\n",
       "      <td>16</td>\n",
       "      <td>16</td>\n",
       "      <td>16</td>\n",
       "      <td>16</td>\n",
       "      <td>16</td>\n",
       "      <td>16</td>\n",
       "      <td>16</td>\n",
       "      <td>16</td>\n",
       "      <td>...</td>\n",
       "      <td>2</td>\n",
       "      <td>8</td>\n",
       "      <td>10</td>\n",
       "      <td>14</td>\n",
       "      <td>2</td>\n",
       "      <td>1</td>\n",
       "      <td>5</td>\n",
       "      <td>7</td>\n",
       "      <td>10</td>\n",
       "      <td>14</td>\n",
       "    </tr>\n",
       "    <tr>\n",
       "      <th>split0_test_score</th>\n",
       "      <td>0.375</td>\n",
       "      <td>0.375</td>\n",
       "      <td>0.375</td>\n",
       "      <td>0.375</td>\n",
       "      <td>0.375</td>\n",
       "      <td>0.375</td>\n",
       "      <td>0.375</td>\n",
       "      <td>0.375</td>\n",
       "      <td>0.375</td>\n",
       "      <td>0.375</td>\n",
       "      <td>...</td>\n",
       "      <td>0.958333</td>\n",
       "      <td>0.916667</td>\n",
       "      <td>0.875</td>\n",
       "      <td>0.541667</td>\n",
       "      <td>1</td>\n",
       "      <td>1</td>\n",
       "      <td>0.958333</td>\n",
       "      <td>0.916667</td>\n",
       "      <td>0.875</td>\n",
       "      <td>0.541667</td>\n",
       "    </tr>\n",
       "    <tr>\n",
       "      <th>split0_train_score</th>\n",
       "      <td>0.363636</td>\n",
       "      <td>0.363636</td>\n",
       "      <td>0.363636</td>\n",
       "      <td>0.363636</td>\n",
       "      <td>0.363636</td>\n",
       "      <td>0.363636</td>\n",
       "      <td>0.363636</td>\n",
       "      <td>0.363636</td>\n",
       "      <td>0.363636</td>\n",
       "      <td>0.363636</td>\n",
       "      <td>...</td>\n",
       "      <td>0.988636</td>\n",
       "      <td>0.988636</td>\n",
       "      <td>1</td>\n",
       "      <td>1</td>\n",
       "      <td>0.977273</td>\n",
       "      <td>0.988636</td>\n",
       "      <td>0.988636</td>\n",
       "      <td>1</td>\n",
       "      <td>1</td>\n",
       "      <td>1</td>\n",
       "    </tr>\n",
       "    <tr>\n",
       "      <th>split1_test_score</th>\n",
       "      <td>0.347826</td>\n",
       "      <td>0.347826</td>\n",
       "      <td>0.347826</td>\n",
       "      <td>0.347826</td>\n",
       "      <td>0.347826</td>\n",
       "      <td>0.347826</td>\n",
       "      <td>0.347826</td>\n",
       "      <td>0.347826</td>\n",
       "      <td>0.347826</td>\n",
       "      <td>0.347826</td>\n",
       "      <td>...</td>\n",
       "      <td>0.956522</td>\n",
       "      <td>0.956522</td>\n",
       "      <td>0.956522</td>\n",
       "      <td>0.478261</td>\n",
       "      <td>0.956522</td>\n",
       "      <td>0.956522</td>\n",
       "      <td>1</td>\n",
       "      <td>1</td>\n",
       "      <td>0.956522</td>\n",
       "      <td>0.478261</td>\n",
       "    </tr>\n",
       "    <tr>\n",
       "      <th>split1_train_score</th>\n",
       "      <td>0.370787</td>\n",
       "      <td>0.370787</td>\n",
       "      <td>0.370787</td>\n",
       "      <td>0.370787</td>\n",
       "      <td>0.370787</td>\n",
       "      <td>0.370787</td>\n",
       "      <td>0.370787</td>\n",
       "      <td>0.370787</td>\n",
       "      <td>0.370787</td>\n",
       "      <td>0.370787</td>\n",
       "      <td>...</td>\n",
       "      <td>0.977528</td>\n",
       "      <td>0.977528</td>\n",
       "      <td>1</td>\n",
       "      <td>1</td>\n",
       "      <td>0.977528</td>\n",
       "      <td>0.977528</td>\n",
       "      <td>0.977528</td>\n",
       "      <td>1</td>\n",
       "      <td>1</td>\n",
       "      <td>1</td>\n",
       "    </tr>\n",
       "    <tr>\n",
       "      <th>split2_test_score</th>\n",
       "      <td>0.363636</td>\n",
       "      <td>0.363636</td>\n",
       "      <td>0.363636</td>\n",
       "      <td>0.363636</td>\n",
       "      <td>0.363636</td>\n",
       "      <td>0.363636</td>\n",
       "      <td>0.363636</td>\n",
       "      <td>0.363636</td>\n",
       "      <td>0.363636</td>\n",
       "      <td>0.363636</td>\n",
       "      <td>...</td>\n",
       "      <td>1</td>\n",
       "      <td>1</td>\n",
       "      <td>1</td>\n",
       "      <td>0.590909</td>\n",
       "      <td>1</td>\n",
       "      <td>1</td>\n",
       "      <td>1</td>\n",
       "      <td>1</td>\n",
       "      <td>1</td>\n",
       "      <td>0.590909</td>\n",
       "    </tr>\n",
       "    <tr>\n",
       "      <th>split2_train_score</th>\n",
       "      <td>0.366667</td>\n",
       "      <td>0.366667</td>\n",
       "      <td>0.366667</td>\n",
       "      <td>0.366667</td>\n",
       "      <td>0.366667</td>\n",
       "      <td>0.366667</td>\n",
       "      <td>0.366667</td>\n",
       "      <td>0.366667</td>\n",
       "      <td>0.366667</td>\n",
       "      <td>0.366667</td>\n",
       "      <td>...</td>\n",
       "      <td>0.977778</td>\n",
       "      <td>0.977778</td>\n",
       "      <td>1</td>\n",
       "      <td>1</td>\n",
       "      <td>0.966667</td>\n",
       "      <td>0.977778</td>\n",
       "      <td>0.977778</td>\n",
       "      <td>1</td>\n",
       "      <td>1</td>\n",
       "      <td>1</td>\n",
       "    </tr>\n",
       "    <tr>\n",
       "      <th>split3_test_score</th>\n",
       "      <td>0.363636</td>\n",
       "      <td>0.363636</td>\n",
       "      <td>0.363636</td>\n",
       "      <td>0.363636</td>\n",
       "      <td>0.363636</td>\n",
       "      <td>0.363636</td>\n",
       "      <td>0.363636</td>\n",
       "      <td>0.363636</td>\n",
       "      <td>0.363636</td>\n",
       "      <td>0.363636</td>\n",
       "      <td>...</td>\n",
       "      <td>0.954545</td>\n",
       "      <td>0.863636</td>\n",
       "      <td>0.818182</td>\n",
       "      <td>0.590909</td>\n",
       "      <td>0.909091</td>\n",
       "      <td>0.954545</td>\n",
       "      <td>0.863636</td>\n",
       "      <td>0.863636</td>\n",
       "      <td>0.818182</td>\n",
       "      <td>0.590909</td>\n",
       "    </tr>\n",
       "    <tr>\n",
       "      <th>split3_train_score</th>\n",
       "      <td>0.366667</td>\n",
       "      <td>0.366667</td>\n",
       "      <td>0.366667</td>\n",
       "      <td>0.366667</td>\n",
       "      <td>0.366667</td>\n",
       "      <td>0.366667</td>\n",
       "      <td>0.366667</td>\n",
       "      <td>0.366667</td>\n",
       "      <td>0.366667</td>\n",
       "      <td>0.366667</td>\n",
       "      <td>...</td>\n",
       "      <td>0.988889</td>\n",
       "      <td>1</td>\n",
       "      <td>1</td>\n",
       "      <td>1</td>\n",
       "      <td>0.988889</td>\n",
       "      <td>0.988889</td>\n",
       "      <td>1</td>\n",
       "      <td>1</td>\n",
       "      <td>1</td>\n",
       "      <td>1</td>\n",
       "    </tr>\n",
       "    <tr>\n",
       "      <th>split4_test_score</th>\n",
       "      <td>0.380952</td>\n",
       "      <td>0.380952</td>\n",
       "      <td>0.380952</td>\n",
       "      <td>0.380952</td>\n",
       "      <td>0.380952</td>\n",
       "      <td>0.380952</td>\n",
       "      <td>0.380952</td>\n",
       "      <td>0.380952</td>\n",
       "      <td>0.380952</td>\n",
       "      <td>0.380952</td>\n",
       "      <td>...</td>\n",
       "      <td>0.952381</td>\n",
       "      <td>0.952381</td>\n",
       "      <td>0.952381</td>\n",
       "      <td>0.619048</td>\n",
       "      <td>0.952381</td>\n",
       "      <td>0.952381</td>\n",
       "      <td>0.952381</td>\n",
       "      <td>0.952381</td>\n",
       "      <td>0.952381</td>\n",
       "      <td>0.619048</td>\n",
       "    </tr>\n",
       "    <tr>\n",
       "      <th>split4_train_score</th>\n",
       "      <td>0.362637</td>\n",
       "      <td>0.362637</td>\n",
       "      <td>0.362637</td>\n",
       "      <td>0.362637</td>\n",
       "      <td>0.362637</td>\n",
       "      <td>0.362637</td>\n",
       "      <td>0.362637</td>\n",
       "      <td>0.362637</td>\n",
       "      <td>0.362637</td>\n",
       "      <td>0.362637</td>\n",
       "      <td>...</td>\n",
       "      <td>1</td>\n",
       "      <td>0.989011</td>\n",
       "      <td>1</td>\n",
       "      <td>1</td>\n",
       "      <td>0.978022</td>\n",
       "      <td>0.989011</td>\n",
       "      <td>1</td>\n",
       "      <td>1</td>\n",
       "      <td>1</td>\n",
       "      <td>1</td>\n",
       "    </tr>\n",
       "    <tr>\n",
       "      <th>std_fit_time</th>\n",
       "      <td>0.000159613</td>\n",
       "      <td>2.97985e-05</td>\n",
       "      <td>0.000126953</td>\n",
       "      <td>0.000129297</td>\n",
       "      <td>0.000109118</td>\n",
       "      <td>5.79705e-05</td>\n",
       "      <td>0.000217617</td>\n",
       "      <td>4.64545e-05</td>\n",
       "      <td>3.16533e-05</td>\n",
       "      <td>9.81374e-05</td>\n",
       "      <td>...</td>\n",
       "      <td>0.000107356</td>\n",
       "      <td>5.37109e-05</td>\n",
       "      <td>4.42585e-05</td>\n",
       "      <td>8.28313e-05</td>\n",
       "      <td>4.94861e-05</td>\n",
       "      <td>1.93377e-05</td>\n",
       "      <td>1.5192e-05</td>\n",
       "      <td>4.40585e-05</td>\n",
       "      <td>0.000104042</td>\n",
       "      <td>0.000135722</td>\n",
       "    </tr>\n",
       "    <tr>\n",
       "      <th>std_score_time</th>\n",
       "      <td>3.60249e-05</td>\n",
       "      <td>4.70195e-05</td>\n",
       "      <td>9.14148e-05</td>\n",
       "      <td>3.18495e-05</td>\n",
       "      <td>0.000113235</td>\n",
       "      <td>2.54853e-05</td>\n",
       "      <td>0.000105943</td>\n",
       "      <td>2.4025e-05</td>\n",
       "      <td>8.78554e-05</td>\n",
       "      <td>3.42055e-05</td>\n",
       "      <td>...</td>\n",
       "      <td>0.000146277</td>\n",
       "      <td>4.38388e-05</td>\n",
       "      <td>6.125e-05</td>\n",
       "      <td>3.64627e-05</td>\n",
       "      <td>2.51531e-05</td>\n",
       "      <td>3.95056e-06</td>\n",
       "      <td>3.97065e-06</td>\n",
       "      <td>8.14317e-06</td>\n",
       "      <td>9.46927e-06</td>\n",
       "      <td>4.2535e-05</td>\n",
       "    </tr>\n",
       "    <tr>\n",
       "      <th>std_test_score</th>\n",
       "      <td>0.0113708</td>\n",
       "      <td>0.0113708</td>\n",
       "      <td>0.0113708</td>\n",
       "      <td>0.0113708</td>\n",
       "      <td>0.0113708</td>\n",
       "      <td>0.0113708</td>\n",
       "      <td>0.0113708</td>\n",
       "      <td>0.0113708</td>\n",
       "      <td>0.0113708</td>\n",
       "      <td>0.0113708</td>\n",
       "      <td>...</td>\n",
       "      <td>0.0177687</td>\n",
       "      <td>0.0452528</td>\n",
       "      <td>0.0647906</td>\n",
       "      <td>0.0496678</td>\n",
       "      <td>0.0340769</td>\n",
       "      <td>0.0223995</td>\n",
       "      <td>0.0495662</td>\n",
       "      <td>0.0519227</td>\n",
       "      <td>0.0647906</td>\n",
       "      <td>0.0496678</td>\n",
       "    </tr>\n",
       "    <tr>\n",
       "      <th>std_train_score</th>\n",
       "      <td>0.00285176</td>\n",
       "      <td>0.00285176</td>\n",
       "      <td>0.00285176</td>\n",
       "      <td>0.00285176</td>\n",
       "      <td>0.00285176</td>\n",
       "      <td>0.00285176</td>\n",
       "      <td>0.00285176</td>\n",
       "      <td>0.00285176</td>\n",
       "      <td>0.00285176</td>\n",
       "      <td>0.00285176</td>\n",
       "      <td>...</td>\n",
       "      <td>0.00835549</td>\n",
       "      <td>0.00836242</td>\n",
       "      <td>0</td>\n",
       "      <td>0</td>\n",
       "      <td>0.00703191</td>\n",
       "      <td>0.00548507</td>\n",
       "      <td>0.00999451</td>\n",
       "      <td>0</td>\n",
       "      <td>0</td>\n",
       "      <td>0</td>\n",
       "    </tr>\n",
       "  </tbody>\n",
       "</table>\n",
       "<p>22 rows × 30 columns</p>\n",
       "</div>"
      ],
      "text/plain": [
       "                                              0                            1   \\\n",
       "mean_fit_time                        0.000836372                  0.000738001   \n",
       "mean_score_time                      0.000341034                  0.000324202   \n",
       "mean_test_score                         0.366071                     0.366071   \n",
       "mean_train_score                        0.366079                     0.366079   \n",
       "param_C                                    0.001                        0.001   \n",
       "param_gamma                                0.001                         0.01   \n",
       "params              {'C': 0.001, 'gamma': 0.001}  {'C': 0.001, 'gamma': 0.01}   \n",
       "rank_test_score                               16                           16   \n",
       "split0_test_score                          0.375                        0.375   \n",
       "split0_train_score                      0.363636                     0.363636   \n",
       "split1_test_score                       0.347826                     0.347826   \n",
       "split1_train_score                      0.370787                     0.370787   \n",
       "split2_test_score                       0.363636                     0.363636   \n",
       "split2_train_score                      0.366667                     0.366667   \n",
       "split3_test_score                       0.363636                     0.363636   \n",
       "split3_train_score                      0.366667                     0.366667   \n",
       "split4_test_score                       0.380952                     0.380952   \n",
       "split4_train_score                      0.362637                     0.362637   \n",
       "std_fit_time                         0.000159613                  2.97985e-05   \n",
       "std_score_time                       3.60249e-05                  4.70195e-05   \n",
       "std_test_score                         0.0113708                    0.0113708   \n",
       "std_train_score                       0.00285176                   0.00285176   \n",
       "\n",
       "                                            2                         3   \\\n",
       "mean_fit_time                      0.000764799               0.000678205   \n",
       "mean_score_time                    0.000331402               0.000263977   \n",
       "mean_test_score                       0.366071                  0.366071   \n",
       "mean_train_score                      0.366079                  0.366079   \n",
       "param_C                                  0.001                     0.001   \n",
       "param_gamma                                0.1                         1   \n",
       "params              {'C': 0.001, 'gamma': 0.1}  {'C': 0.001, 'gamma': 1}   \n",
       "rank_test_score                             16                        16   \n",
       "split0_test_score                        0.375                     0.375   \n",
       "split0_train_score                    0.363636                  0.363636   \n",
       "split1_test_score                     0.347826                  0.347826   \n",
       "split1_train_score                    0.370787                  0.370787   \n",
       "split2_test_score                     0.363636                  0.363636   \n",
       "split2_train_score                    0.366667                  0.366667   \n",
       "split3_test_score                     0.363636                  0.363636   \n",
       "split3_train_score                    0.366667                  0.366667   \n",
       "split4_test_score                     0.380952                  0.380952   \n",
       "split4_train_score                    0.362637                  0.362637   \n",
       "std_fit_time                       0.000126953               0.000129297   \n",
       "std_score_time                     9.14148e-05               3.18495e-05   \n",
       "std_test_score                       0.0113708                 0.0113708   \n",
       "std_train_score                     0.00285176                0.00285176   \n",
       "\n",
       "                                           4                           5   \\\n",
       "mean_fit_time                     0.000689554                 0.000655413   \n",
       "mean_score_time                   0.000353813                  0.00026803   \n",
       "mean_test_score                      0.366071                    0.366071   \n",
       "mean_train_score                     0.366079                    0.366079   \n",
       "param_C                                 0.001                       0.001   \n",
       "param_gamma                                10                         100   \n",
       "params              {'C': 0.001, 'gamma': 10}  {'C': 0.001, 'gamma': 100}   \n",
       "rank_test_score                            16                          16   \n",
       "split0_test_score                       0.375                       0.375   \n",
       "split0_train_score                   0.363636                    0.363636   \n",
       "split1_test_score                    0.347826                    0.347826   \n",
       "split1_train_score                   0.370787                    0.370787   \n",
       "split2_test_score                    0.363636                    0.363636   \n",
       "split2_train_score                   0.366667                    0.366667   \n",
       "split3_test_score                    0.363636                    0.363636   \n",
       "split3_train_score                   0.366667                    0.366667   \n",
       "split4_test_score                    0.380952                    0.380952   \n",
       "split4_train_score                   0.362637                    0.362637   \n",
       "std_fit_time                      0.000109118                 5.79705e-05   \n",
       "std_score_time                    0.000113235                 2.54853e-05   \n",
       "std_test_score                      0.0113708                   0.0113708   \n",
       "std_train_score                    0.00285176                  0.00285176   \n",
       "\n",
       "                                             6                           7   \\\n",
       "mean_fit_time                       0.000692368                 0.000584221   \n",
       "mean_score_time                       0.0003016                 0.000256205   \n",
       "mean_test_score                        0.366071                    0.366071   \n",
       "mean_train_score                       0.366079                    0.366079   \n",
       "param_C                                    0.01                        0.01   \n",
       "param_gamma                               0.001                        0.01   \n",
       "params              {'C': 0.01, 'gamma': 0.001}  {'C': 0.01, 'gamma': 0.01}   \n",
       "rank_test_score                              16                          16   \n",
       "split0_test_score                         0.375                       0.375   \n",
       "split0_train_score                     0.363636                    0.363636   \n",
       "split1_test_score                      0.347826                    0.347826   \n",
       "split1_train_score                     0.370787                    0.370787   \n",
       "split2_test_score                      0.363636                    0.363636   \n",
       "split2_train_score                     0.366667                    0.366667   \n",
       "split3_test_score                      0.363636                    0.363636   \n",
       "split3_train_score                     0.366667                    0.366667   \n",
       "split4_test_score                      0.380952                    0.380952   \n",
       "split4_train_score                     0.362637                    0.362637   \n",
       "std_fit_time                        0.000217617                 4.64545e-05   \n",
       "std_score_time                      0.000105943                  2.4025e-05   \n",
       "std_test_score                        0.0113708                   0.0113708   \n",
       "std_train_score                      0.00285176                  0.00285176   \n",
       "\n",
       "                                           8                        9   \\\n",
       "mean_fit_time                     0.000605631               0.00068078   \n",
       "mean_score_time                   0.000304127              0.000287056   \n",
       "mean_test_score                      0.366071                 0.366071   \n",
       "mean_train_score                     0.366079                 0.366079   \n",
       "param_C                                  0.01                     0.01   \n",
       "param_gamma                               0.1                        1   \n",
       "params              {'C': 0.01, 'gamma': 0.1}  {'C': 0.01, 'gamma': 1}   \n",
       "rank_test_score                            16                       16   \n",
       "split0_test_score                       0.375                    0.375   \n",
       "split0_train_score                   0.363636                 0.363636   \n",
       "split1_test_score                    0.347826                 0.347826   \n",
       "split1_train_score                   0.370787                 0.370787   \n",
       "split2_test_score                    0.363636                 0.363636   \n",
       "split2_train_score                   0.366667                 0.366667   \n",
       "split3_test_score                    0.363636                 0.363636   \n",
       "split3_train_score                   0.366667                 0.366667   \n",
       "split4_test_score                    0.380952                 0.380952   \n",
       "split4_train_score                   0.362637                 0.362637   \n",
       "std_fit_time                      3.16533e-05              9.81374e-05   \n",
       "std_score_time                    8.78554e-05              3.42055e-05   \n",
       "std_test_score                      0.0113708                0.0113708   \n",
       "std_train_score                    0.00285176               0.00285176   \n",
       "\n",
       "                              ...                                  20  \\\n",
       "mean_fit_time                 ...                         0.000575161   \n",
       "mean_score_time               ...                         0.000338173   \n",
       "mean_test_score               ...                            0.964286   \n",
       "mean_train_score              ...                            0.986566   \n",
       "param_C                       ...                                  10   \n",
       "param_gamma                   ...                                 0.1   \n",
       "params                        ...             {'C': 10, 'gamma': 0.1}   \n",
       "rank_test_score               ...                                   2   \n",
       "split0_test_score             ...                            0.958333   \n",
       "split0_train_score            ...                            0.988636   \n",
       "split1_test_score             ...                            0.956522   \n",
       "split1_train_score            ...                            0.977528   \n",
       "split2_test_score             ...                                   1   \n",
       "split2_train_score            ...                            0.977778   \n",
       "split3_test_score             ...                            0.954545   \n",
       "split3_train_score            ...                            0.988889   \n",
       "split4_test_score             ...                            0.952381   \n",
       "split4_train_score            ...                                   1   \n",
       "std_fit_time                  ...                         0.000107356   \n",
       "std_score_time                ...                         0.000146277   \n",
       "std_test_score                ...                           0.0177687   \n",
       "std_train_score               ...                          0.00835549   \n",
       "\n",
       "                                       21                      22  \\\n",
       "mean_fit_time                 0.000487947             0.000906992   \n",
       "mean_score_time               0.000253868             0.000335598   \n",
       "mean_test_score                    0.9375                0.919643   \n",
       "mean_train_score                 0.986591                       1   \n",
       "param_C                                10                      10   \n",
       "param_gamma                             1                      10   \n",
       "params              {'C': 10, 'gamma': 1}  {'C': 10, 'gamma': 10}   \n",
       "rank_test_score                         8                      10   \n",
       "split0_test_score                0.916667                   0.875   \n",
       "split0_train_score               0.988636                       1   \n",
       "split1_test_score                0.956522                0.956522   \n",
       "split1_train_score               0.977528                       1   \n",
       "split2_test_score                       1                       1   \n",
       "split2_train_score               0.977778                       1   \n",
       "split3_test_score                0.863636                0.818182   \n",
       "split3_train_score                      1                       1   \n",
       "split4_test_score                0.952381                0.952381   \n",
       "split4_train_score               0.989011                       1   \n",
       "std_fit_time                  5.37109e-05             4.42585e-05   \n",
       "std_score_time                4.38388e-05               6.125e-05   \n",
       "std_test_score                  0.0452528               0.0647906   \n",
       "std_train_score                0.00836242                       0   \n",
       "\n",
       "                                         23                          24  \\\n",
       "mean_fit_time                   0.000809717                 0.000422812   \n",
       "mean_score_time                 0.000287008                 0.000240993   \n",
       "mean_test_score                      0.5625                    0.964286   \n",
       "mean_train_score                          1                    0.977676   \n",
       "param_C                                  10                         100   \n",
       "param_gamma                             100                       0.001   \n",
       "params              {'C': 10, 'gamma': 100}  {'C': 100, 'gamma': 0.001}   \n",
       "rank_test_score                          14                           2   \n",
       "split0_test_score                  0.541667                           1   \n",
       "split0_train_score                        1                    0.977273   \n",
       "split1_test_score                  0.478261                    0.956522   \n",
       "split1_train_score                        1                    0.977528   \n",
       "split2_test_score                  0.590909                           1   \n",
       "split2_train_score                        1                    0.966667   \n",
       "split3_test_score                  0.590909                    0.909091   \n",
       "split3_train_score                        1                    0.988889   \n",
       "split4_test_score                  0.619048                    0.952381   \n",
       "split4_train_score                        1                    0.978022   \n",
       "std_fit_time                    8.28313e-05                 4.94861e-05   \n",
       "std_score_time                  3.64627e-05                 2.51531e-05   \n",
       "std_test_score                    0.0496678                   0.0340769   \n",
       "std_train_score                           0                  0.00703191   \n",
       "\n",
       "                                           25                        26  \\\n",
       "mean_fit_time                     0.000354242               0.000354147   \n",
       "mean_score_time                   0.000207233               0.000204992   \n",
       "mean_test_score                      0.973214                  0.955357   \n",
       "mean_train_score                     0.984368                  0.988788   \n",
       "param_C                                   100                       100   \n",
       "param_gamma                              0.01                       0.1   \n",
       "params              {'C': 100, 'gamma': 0.01}  {'C': 100, 'gamma': 0.1}   \n",
       "rank_test_score                             1                         5   \n",
       "split0_test_score                           1                  0.958333   \n",
       "split0_train_score                   0.988636                  0.988636   \n",
       "split1_test_score                    0.956522                         1   \n",
       "split1_train_score                   0.977528                  0.977528   \n",
       "split2_test_score                           1                         1   \n",
       "split2_train_score                   0.977778                  0.977778   \n",
       "split3_test_score                    0.954545                  0.863636   \n",
       "split3_train_score                   0.988889                         1   \n",
       "split4_test_score                    0.952381                  0.952381   \n",
       "split4_train_score                   0.989011                         1   \n",
       "std_fit_time                      1.93377e-05                1.5192e-05   \n",
       "std_score_time                    3.95056e-06               3.97065e-06   \n",
       "std_test_score                      0.0223995                 0.0495662   \n",
       "std_train_score                    0.00548507                0.00999451   \n",
       "\n",
       "                                        27                       28  \\\n",
       "mean_fit_time                  0.000474787              0.000783491   \n",
       "mean_score_time                0.000217152              0.000235176   \n",
       "mean_test_score                   0.946429                 0.919643   \n",
       "mean_train_score                         1                        1   \n",
       "param_C                                100                      100   \n",
       "param_gamma                              1                       10   \n",
       "params              {'C': 100, 'gamma': 1}  {'C': 100, 'gamma': 10}   \n",
       "rank_test_score                          7                       10   \n",
       "split0_test_score                 0.916667                    0.875   \n",
       "split0_train_score                       1                        1   \n",
       "split1_test_score                        1                 0.956522   \n",
       "split1_train_score                       1                        1   \n",
       "split2_test_score                        1                        1   \n",
       "split2_train_score                       1                        1   \n",
       "split3_test_score                 0.863636                 0.818182   \n",
       "split3_train_score                       1                        1   \n",
       "split4_test_score                 0.952381                 0.952381   \n",
       "split4_train_score                       1                        1   \n",
       "std_fit_time                   4.40585e-05              0.000104042   \n",
       "std_score_time                 8.14317e-06              9.46927e-06   \n",
       "std_test_score                   0.0519227                0.0647906   \n",
       "std_train_score                          0                        0   \n",
       "\n",
       "                                          29  \n",
       "mean_fit_time                    0.000922012  \n",
       "mean_score_time                  0.000299597  \n",
       "mean_test_score                       0.5625  \n",
       "mean_train_score                           1  \n",
       "param_C                                  100  \n",
       "param_gamma                              100  \n",
       "params              {'C': 100, 'gamma': 100}  \n",
       "rank_test_score                           14  \n",
       "split0_test_score                   0.541667  \n",
       "split0_train_score                         1  \n",
       "split1_test_score                   0.478261  \n",
       "split1_train_score                         1  \n",
       "split2_test_score                   0.590909  \n",
       "split2_train_score                         1  \n",
       "split3_test_score                   0.590909  \n",
       "split3_train_score                         1  \n",
       "split4_test_score                   0.619048  \n",
       "split4_train_score                         1  \n",
       "std_fit_time                     0.000135722  \n",
       "std_score_time                    4.2535e-05  \n",
       "std_test_score                     0.0496678  \n",
       "std_train_score                            0  \n",
       "\n",
       "[22 rows x 30 columns]"
      ]
     },
     "metadata": {},
     "output_type": "display_data"
    }
   ],
   "source": [
    "rsults = pd.DataFrame(grid_search.cv_results_)\n",
    "display(results.T)"
   ]
  },
  {
   "cell_type": "markdown",
   "metadata": {},
   "source": [
    "# ネストした交差検証\n",
    "```\n",
    "＃　交差検証課題：\n",
    "今まで実施した交差検証ではテストを１度だけ分割している。\n",
    "train_test_split関数で分割した訓練データを活用し、交差検証を実施している。\n",
    "この方法の問題は最初の一度だけの分割に結果が依存してしまい不安定になる可能性がある。\n",
    "そこで1度だけでなく交差検証で何度も分割することを考える。\n",
    "この手法をネストした交差検証と呼ぶ\n",
    "\n",
    "#　用途：\n",
    "あるモデルのあるデータセットに対する性能の評価\n",
    "```"
   ]
  },
  {
   "cell_type": "code",
   "execution_count": 215,
   "metadata": {
    "scrolled": false
   },
   "outputs": [
    {
     "name": "stdout",
     "output_type": "stream",
     "text": [
      "Cross-validation scores： [ 0.96666667  1.          0.9         0.96666667  1.        ]\n",
      "Mean cross-validation core 0.966666666667\n"
     ]
    }
   ],
   "source": [
    "scores = cross_val_score(GridSearchCV(SVC(), param_grid, cv=5),\n",
    "                         iris.data, iris.target, cv=5)\n",
    "print(\"Cross-validation scores：\",scores)\n",
    "print(\"Mean cross-validation core\", scores.mean())"
   ]
  },
  {
   "cell_type": "markdown",
   "metadata": {},
   "source": [
    "```\n",
    "ネスとした交差検証をscikit-learnで実行すりにはcross_val_ScoreをGridSearchCVのインスタンスをモデルとして呼び出せばいい\n",
    "```"
   ]
  },
  {
   "cell_type": "markdown",
   "metadata": {},
   "source": [
    "# ネストした交差検証\n",
    "```\n",
    "内部処理をわかりやすく実装する。下記を理解した上で活用することが重要だと思う。\n",
    "\n",
    "#　処理フロー\n",
    "\n",
    "1.外側ループ：交差検証回数分、交差検証で訓練データとテストデータに分割\n",
    "2.グリッドサーチ[ループ]：ハイパーパラメータの組み合わせ分\n",
    "3.内側ループ：交差検証回数分、外側ループで分割した訓練データを訓練データとテストデータに分割する\n",
    "分割したテストデータをハイパーパラメータ[g,m]の探索で活用する\n",
    "4.探索したハイパーパラメータと外側ループの訓練データでモデルを構築\n",
    "5.外側ループで分割し、まだ活用していないテストデータで評価する。\n",
    "6.評価精度をリストに追加する。\n",
    "```"
   ]
  },
  {
   "cell_type": "code",
   "execution_count": 217,
   "metadata": {},
   "outputs": [],
   "source": [
    "def nested_cv(X, y, inner_cv, outer_cv, Classifier, parameter_grid):\n",
    "    outer_scores = []\n",
    "    outer_params = []\n",
    "    \"\"\"\n",
    "    外側ループ：データセットを訓練セット/テストセットに分割\n",
    "    \"\"\"\n",
    "    #・交差検証：\n",
    "    # 1回目　5分割[訓練：4：テスト：1] training_samples　120 , test_samples 30\n",
    "    # 2回目　5分割[訓練：4：テスト：1] training_samples　120 , test_samples 30\n",
    "    # 3回目　5分割[訓練：4：テスト：1] training_samples　120 , test_samples 30\n",
    "    # 4回目　5分割[訓練：4：テスト：1] training_samples　120 , test_samples 30\n",
    "    # 5回目　5分割[訓練：4：テスト：1] training_samples　120 , test_samples 30\n",
    "    for training_samples, test_samples in outer_cv.split(X,y):\n",
    "        #　print(\"length train {}\".format(len(training_samples)))\n",
    "        #　print(\"train\"+ str(training_samples))\n",
    "        #　print(\"length test {}\".format(len(test_samples)))\n",
    "        #　print(\"test\"+ str(test_samples))\n",
    "        best_parms = {}\n",
    "        best_score = -np.inf\n",
    "        \"\"\"\n",
    "        グリッドサーチの実行\n",
    "        \"\"\"\n",
    "        for parameters in parameter_grid:\n",
    "            cv_scores = []\n",
    "            \"\"\"\n",
    "            内側ループ：外側のループで交差検証により分割された訓練データを交差検証で分割\n",
    "            \"\"\"\n",
    "            # 1回目　5分割[訓練：4：テスト：1] training_samples 96　 , test_samples 24\n",
    "            for inner_train, inner_test in inner_cv.split(X[training_samples],y[training_samples]):\n",
    "                #print(\"length train {}\".format(len(inner_train)))\n",
    "                #print(\"length test {}\".format(len(inner_test)))\n",
    "                #　モデル構築・学習・評価\n",
    "                clf = Classifier(**parameters)\n",
    "                clf.fit(X[inner_train],y[inner_train])\n",
    "                score = clf.score(X[inner_test],y[inner_test])\n",
    "                cv_scores.append(score)\n",
    "            mean_score = np.mean(cv_scores)\n",
    "            #　評価精度の高いパラメータを保持\n",
    "            if mean_score > best_score:\n",
    "                best_score = mean_score\n",
    "                best_params = parameters\n",
    "        \"\"\"\n",
    "        モデル構築\n",
    "        \"\"\"\n",
    "        # ハイパーパラメータ：最初に分割した訓練データを分解したテストデータの評価が高いパラメータ]\n",
    "        clf = Classifier(**best_params)\n",
    "        #　学習：訓練データ\n",
    "        clf.fit(X[training_samples], y[training_samples])\n",
    "        # 評価：パラメータの選択で活用していないテストデータ[未知]\n",
    "        outer_scores.append(clf.score(X[test_samples],y[test_samples]))\n",
    "        outer_params.append(best_params)\n",
    "    return np.array([outer_scores,outer_params ])"
   ]
  },
  {
   "cell_type": "code",
   "execution_count": 231,
   "metadata": {
    "scrolled": true
   },
   "outputs": [
    {
     "name": "stdout",
     "output_type": "stream",
     "text": [
      "Cross-validation scores:[[0.96666666666666667 1.0 0.96666666666666667 0.96666666666666667 1.0]\n",
      " [{'kernel': 'rbf', 'C': 100, 'gamma': 0.01}\n",
      "  {'kernel': 'rbf', 'C': 100, 'gamma': 0.01}\n",
      "  {'kernel': 'rbf', 'C': 100, 'gamma': 0.01}\n",
      "  {'kernel': 'rbf', 'C': 100, 'gamma': 0.01}\n",
      "  {'kernel': 'rbf', 'C': 100, 'gamma': 0.01}]]\n",
      "5\n",
      "Cross-validation mean scores:0.9800000000000001\n"
     ]
    }
   ],
   "source": [
    "from sklearn.model_selection import ParameterGrid, StratifiedKFold\n",
    "\n",
    "\n",
    "scores = nested_cv(iris.data, iris.target, StratifiedKFold(5),\n",
    "                  StratifiedKFold(5),SVC, ParameterGrid(param_grid))\n",
    "print(\"Cross-validation scores:{}\".format(scores))\n",
    "print(len(scores[0]))\n",
    "print(\"Cross-validation mean scores:{}\".format(scores[0].mean()))"
   ]
  },
  {
   "cell_type": "markdown",
   "metadata": {},
   "source": [
    "```\n",
    "気づき：\n",
    "ハイパーパラメータの値はtrain_test_splitで実行したものと一致した。\n",
    "'kernel': 'rbf', 'C': 100, 'gamma': 0.01}\n",
    "しかし、モデルの評価精度は下がった。\n",
    "こちらの方が不安定でない数値だと言える。\n",
    "あと、交差検証で1が出る理由がよくわからないなあ。\n",
    "shuffle関数を使えば学習できないことはないけど、1はまだ出る。\n",
    "評価精度100%がどうして出てくるのか？\n",
    "分割したテストデータを活用してるから未知のはず\n",
    "```"
   ]
  },
  {
   "cell_type": "code",
   "execution_count": 230,
   "metadata": {
    "scrolled": false
   },
   "outputs": [
    {
     "name": "stdout",
     "output_type": "stream",
     "text": [
      "Cross-validation scores:[[1.0 0.90000000000000002 0.96666666666666667 0.93333333333333335\n",
      "  0.96666666666666667]\n",
      " [{'kernel': 'rbf', 'C': 10, 'gamma': 1}\n",
      "  {'kernel': 'rbf', 'C': 100, 'gamma': 1}\n",
      "  {'kernel': 'rbf', 'C': 10, 'gamma': 0.1}\n",
      "  {'kernel': 'rbf', 'C': 10, 'gamma': 0.1}\n",
      "  {'kernel': 'rbf', 'C': 1, 'gamma': 0.1}]]\n",
      "5\n",
      "Cross-validation mean scores:0.9533333333333334\n"
     ]
    }
   ],
   "source": [
    "from sklearn.model_selection import ParameterGrid, StratifiedKFold\n",
    "\n",
    "\n",
    "scores = nested_cv(iris.data, iris.target, StratifiedKFold(n_splits=5,shuffle=True),\n",
    "                  StratifiedKFold(n_splits=5,shuffle=True),SVC, ParameterGrid(param_grid))\n",
    "print(\"Cross-validation scores:{}\".format(scores))\n",
    "print(len(scores[0]))\n",
    "print(\"Cross-validation mean scores:{}\".format(scores[0].mean()))"
   ]
  },
  {
   "cell_type": "markdown",
   "metadata": {},
   "source": [
    "# 偏ったデータセット"
   ]
  },
  {
   "cell_type": "code",
   "execution_count": 266,
   "metadata": {},
   "outputs": [
    {
     "name": "stdout",
     "output_type": "stream",
     "text": [
      "[False False False ..., False  True False]\n",
      "1797\n"
     ]
    }
   ],
   "source": [
    "from sklearn.datasets import load_digits\n",
    "\n",
    "digits = load_digits()\n",
    "y = digits.target == 9\n",
    "print(y)\n",
    "print(len(y))\n",
    "\n",
    "X_train,X_test, y_train, y_test = train_test_split(digits.data,y,random_state=0)"
   ]
  },
  {
   "cell_type": "code",
   "execution_count": 264,
   "metadata": {},
   "outputs": [
    {
     "name": "stdout",
     "output_type": "stream",
     "text": [
      "unique predicted labels[False]\n",
      "test score：0.90\n"
     ]
    }
   ],
   "source": [
    "from sklearn.dummy import DummyClassifier\n",
    "dummy_majority = DummyClassifier(strategy='most_frequent').fit(X_train,y_train)\n",
    "pred_most_frequent = dummy_majority.predict(X_test)\n",
    "print(\"unique predicted labels{}\".format(np.unique(pred_most_frequent)))\n",
    "print(\"test score：{:.2f}\".format(dummy_majority.score(X_test,y_test)))"
   ]
  },
  {
   "cell_type": "code",
   "execution_count": null,
   "metadata": {},
   "outputs": [],
   "source": []
  }
 ],
 "metadata": {
  "kernelspec": {
   "display_name": "Python 3",
   "language": "python",
   "name": "python3"
  },
  "language_info": {
   "codemirror_mode": {
    "name": "ipython",
    "version": 3
   },
   "file_extension": ".py",
   "mimetype": "text/x-python",
   "name": "python",
   "nbconvert_exporter": "python",
   "pygments_lexer": "ipython3",
   "version": "3.4.3"
  }
 },
 "nbformat": 4,
 "nbformat_minor": 2
}
