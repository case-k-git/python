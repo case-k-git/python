{
 "cells": [
  {
   "cell_type": "code",
   "execution_count": 1,
   "metadata": {
    "collapsed": true
   },
   "outputs": [],
   "source": [
    "import pandas  as pd\n",
    "import numpy as np\n",
    "from tqdm._tqdm_notebook import tqdm_notebook"
   ]
  },
  {
   "cell_type": "markdown",
   "metadata": {},
   "source": [
    "### Kaggleで使える！Pandasテクニック集\n",
    "```\n",
    "Qiita：https://qiita.com/R1ck29/items/9b75b630b37c9e3e4b3f\n",
    "```"
   ]
  },
  {
   "cell_type": "code",
   "execution_count": 17,
   "metadata": {
    "collapsed": false
   },
   "outputs": [
    {
     "name": "stdout",
     "output_type": "stream",
     "text": [
      "    0   1   2   3   4   5\n",
      "0  24   5  90  52  36  57\n",
      "1  61  25  26  64  78  20\n",
      "2  69  98  58  73  72  38\n",
      "3  97  37  26  38  42  36\n",
      "4  33  48  33  17  93  75\n",
      "\n"
     ]
    },
    {
     "data": {
      "text/html": [
       "<div>\n",
       "<table border=\"1\" class=\"dataframe\">\n",
       "  <thead>\n",
       "    <tr style=\"text-align: right;\">\n",
       "      <th></th>\n",
       "      <th>0</th>\n",
       "      <th>1</th>\n",
       "      <th>2</th>\n",
       "      <th>3</th>\n",
       "      <th>4</th>\n",
       "      <th>5</th>\n",
       "      <th>hoge</th>\n",
       "    </tr>\n",
       "  </thead>\n",
       "  <tbody>\n",
       "    <tr>\n",
       "      <th>0</th>\n",
       "      <td>24</td>\n",
       "      <td>5</td>\n",
       "      <td>90</td>\n",
       "      <td>52</td>\n",
       "      <td>36</td>\n",
       "      <td>57</td>\n",
       "      <td>576</td>\n",
       "    </tr>\n",
       "    <tr>\n",
       "      <th>1</th>\n",
       "      <td>61</td>\n",
       "      <td>25</td>\n",
       "      <td>26</td>\n",
       "      <td>64</td>\n",
       "      <td>78</td>\n",
       "      <td>20</td>\n",
       "      <td>3721</td>\n",
       "    </tr>\n",
       "    <tr>\n",
       "      <th>2</th>\n",
       "      <td>69</td>\n",
       "      <td>98</td>\n",
       "      <td>58</td>\n",
       "      <td>73</td>\n",
       "      <td>72</td>\n",
       "      <td>38</td>\n",
       "      <td>4761</td>\n",
       "    </tr>\n",
       "    <tr>\n",
       "      <th>3</th>\n",
       "      <td>97</td>\n",
       "      <td>37</td>\n",
       "      <td>26</td>\n",
       "      <td>38</td>\n",
       "      <td>42</td>\n",
       "      <td>36</td>\n",
       "      <td>9409</td>\n",
       "    </tr>\n",
       "    <tr>\n",
       "      <th>4</th>\n",
       "      <td>33</td>\n",
       "      <td>48</td>\n",
       "      <td>33</td>\n",
       "      <td>17</td>\n",
       "      <td>93</td>\n",
       "      <td>75</td>\n",
       "      <td>1089</td>\n",
       "    </tr>\n",
       "  </tbody>\n",
       "</table>\n",
       "</div>"
      ],
      "text/plain": [
       "    0   1   2   3   4   5  hoge\n",
       "0  24   5  90  52  36  57   576\n",
       "1  61  25  26  64  78  20  3721\n",
       "2  69  98  58  73  72  38  4761\n",
       "3  97  37  26  38  42  36  9409\n",
       "4  33  48  33  17  93  75  1089"
      ]
     },
     "execution_count": 17,
     "metadata": {},
     "output_type": "execute_result"
    }
   ],
   "source": [
    "df = pd.DataFrame(np.random.randint(0,100,(100000,6)))\n",
    "print(df.head())\n",
    "\n",
    "# プログレスバーのラベル設定\n",
    "tqdm_notebook.pandas(desc=\"hoge progress:\")\n",
    "df['hoge']  =df[0].progress_apply(lambda x: x**2)\n",
    "df.head()"
   ]
  },
  {
   "cell_type": "code",
   "execution_count": 18,
   "metadata": {
    "collapsed": false
   },
   "outputs": [
    {
     "name": "stderr",
     "output_type": "stream",
     "text": [
      "100%|██████████| 100000/100000 [00:00<00:00, 441105.44it/s]\n"
     ]
    },
    {
     "data": {
      "text/html": [
       "<div>\n",
       "<table border=\"1\" class=\"dataframe\">\n",
       "  <thead>\n",
       "    <tr style=\"text-align: right;\">\n",
       "      <th></th>\n",
       "      <th>0</th>\n",
       "      <th>1</th>\n",
       "      <th>2</th>\n",
       "      <th>3</th>\n",
       "      <th>4</th>\n",
       "      <th>5</th>\n",
       "      <th>hoge</th>\n",
       "    </tr>\n",
       "  </thead>\n",
       "  <tbody>\n",
       "    <tr>\n",
       "      <th>0</th>\n",
       "      <td>57</td>\n",
       "      <td>31</td>\n",
       "      <td>98</td>\n",
       "      <td>62</td>\n",
       "      <td>66</td>\n",
       "      <td>32</td>\n",
       "      <td>3249</td>\n",
       "    </tr>\n",
       "    <tr>\n",
       "      <th>1</th>\n",
       "      <td>55</td>\n",
       "      <td>64</td>\n",
       "      <td>84</td>\n",
       "      <td>7</td>\n",
       "      <td>97</td>\n",
       "      <td>30</td>\n",
       "      <td>3025</td>\n",
       "    </tr>\n",
       "    <tr>\n",
       "      <th>2</th>\n",
       "      <td>95</td>\n",
       "      <td>88</td>\n",
       "      <td>49</td>\n",
       "      <td>72</td>\n",
       "      <td>44</td>\n",
       "      <td>52</td>\n",
       "      <td>9025</td>\n",
       "    </tr>\n",
       "    <tr>\n",
       "      <th>3</th>\n",
       "      <td>60</td>\n",
       "      <td>52</td>\n",
       "      <td>99</td>\n",
       "      <td>35</td>\n",
       "      <td>30</td>\n",
       "      <td>52</td>\n",
       "      <td>3600</td>\n",
       "    </tr>\n",
       "    <tr>\n",
       "      <th>4</th>\n",
       "      <td>71</td>\n",
       "      <td>23</td>\n",
       "      <td>90</td>\n",
       "      <td>9</td>\n",
       "      <td>64</td>\n",
       "      <td>29</td>\n",
       "      <td>5041</td>\n",
       "    </tr>\n",
       "  </tbody>\n",
       "</table>\n",
       "</div>"
      ],
      "text/plain": [
       "    0   1   2   3   4   5  hoge\n",
       "0  57  31  98  62  66  32  3249\n",
       "1  55  64  84   7  97  30  3025\n",
       "2  95  88  49  72  44  52  9025\n",
       "3  60  52  99  35  30  52  3600\n",
       "4  71  23  90   9  64  29  5041"
      ]
     },
     "execution_count": 18,
     "metadata": {},
     "output_type": "execute_result"
    }
   ],
   "source": [
    "import pandas as pd\n",
    "import numpy as np\n",
    "from tqdm import tqdm\n",
    "tqdm.pandas()\n",
    "\n",
    "df = pd.DataFrame(np.random.randint(0,100,(100000,6)))\n",
    "\n",
    "df['hoge'] = df[0].progress_apply(lambda x : x**2)\n",
    "df.head()"
   ]
  },
  {
   "cell_type": "markdown",
   "metadata": {},
   "source": [
    "### CSVにJson形式のカラムがある場合の読み込み方\n",
    "```\n",
    "sampleがあるといいなあ。\n",
    "```"
   ]
  },
  {
   "cell_type": "code",
   "execution_count": 23,
   "metadata": {
    "collapsed": true
   },
   "outputs": [],
   "source": [
    "import os\n",
    "import random\n",
    "import pandas as pd\n",
    "import  json\n",
    "from pandas.io.json import json_normalize\n",
    "\n",
    "# json形式のカラムを設定\n",
    "columns = ['device','getNetwork','totals','trafficSource']\n",
    "\n"
   ]
  },
  {
   "cell_type": "markdown",
   "metadata": {},
   "source": [
    "### 大量データを読み込む場合の対処法\n",
    "```\n",
    "データ型の指定：サンプルあるとありがたいけどなあ。\n",
    "```"
   ]
  },
  {
   "cell_type": "code",
   "execution_count": 30,
   "metadata": {
    "collapsed": false
   },
   "outputs": [
    {
     "name": "stdout",
     "output_type": "stream",
     "text": [
      "<class 'pandas.core.frame.DataFrame'>\n",
      "RangeIndex: 100000 entries, 0 to 99999\n",
      "Data columns (total 6 columns):\n",
      "0    100000 non-null int64\n",
      "1    100000 non-null int64\n",
      "2    100000 non-null int64\n",
      "3    100000 non-null int64\n",
      "4    100000 non-null int64\n",
      "5    100000 non-null int64\n",
      "dtypes: int64(6)\n",
      "memory usage: 4.6 MB\n"
     ]
    }
   ],
   "source": [
    "# 　データ型を調べる\n",
    "train_df = pd.DataFrame(np.random.randint(0,100,(100000,6)))\n",
    "train_df.info()\n",
    "\n",
    "# dtype指定\n",
    "dtypes = {\n",
    "        'MachineIdentifier': 'category',\n",
    "        'ProductName': 'category',\n",
    "        'EngineVersion': 'category',\n",
    "        'AppVersion':  'category',\n",
    "        'AvSigVersion':'category',\n",
    "        'IsBeta': 'int8',\n",
    "        'RtpStateBitfield': 'float16'}\n",
    "\n",
    "#train_df = pd.read_csv(train_df,dtype=dtypes)"
   ]
  },
  {
   "cell_type": "markdown",
   "metadata": {},
   "source": [
    "### 時系列データあの操作"
   ]
  },
  {
   "cell_type": "code",
   "execution_count": null,
   "metadata": {
    "collapsed": true
   },
   "outputs": [],
   "source": []
  }
 ],
 "metadata": {
  "kernelspec": {
   "display_name": "Python 3",
   "language": "python",
   "name": "python3"
  },
  "language_info": {
   "codemirror_mode": {
    "name": "ipython",
    "version": 3
   },
   "file_extension": ".py",
   "mimetype": "text/x-python",
   "name": "python",
   "nbconvert_exporter": "python",
   "pygments_lexer": "ipython3",
   "version": "3.6.0"
  },
  "widgets": {
   "state": {
    "3fe21ca01c3e48f0b7ee09cc1a3af9ec": {
     "views": [
      {
       "cell_index": 2
      }
     ]
    }
   },
   "version": "1.2.0"
  }
 },
 "nbformat": 4,
 "nbformat_minor": 2
}
