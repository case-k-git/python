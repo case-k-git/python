{
 "cells": [
  {
   "cell_type": "markdown",
   "metadata": {},
   "source": [
    "### グリッドサーチとは？\n",
    "```\n",
    "グリッドサーチとは、モデルの精度を向上させるために用いられる手法で、全てのパラメータの組み合わせを試してみる方法のことです。\n",
    "イメージとしてはfor分回して、パラメータの組み合わせを全て試してみて最も評価精度の良いものを探索する方法です。\n",
    "```"
   ]
  },
  {
   "cell_type": "markdown",
   "metadata": {},
   "source": [
    "### グリッドサーチのメリット・デメリット\n",
    "```\n",
    "```"
   ]
  },
  {
   "cell_type": "markdown",
   "metadata": {},
   "source": [
    "### 単純なグリッドサーチ\n",
    "```\n",
    "単純なグリッドサーチは、2つのパラメータに対するただのforループで実装することができます。\n",
    "実際に試してみたいと思います。アルゴリズムは分類問題で利用される、SVM(サポートベクターマシン)を用いてみます。\n",
    "実施していることとしてはfor分でSVMのハイパーパラメータである、「gammaとC」を調整しているだけです。\n",
    "```\n",
    "#### ハイパーパラメータとは\n",
    "```\n",
    "機械学習で使われるモデルには多かれ少なかれ分析者が設定しなければならないパラメータがあります。機械学習で学習されない、機械学習の上にある（ハイパーな）パラメータなのでハイパーパラメータと呼ばれます。\n",
    "```\n",
    "\n",
    "#### 処理フロー\n",
    "```\n",
    "1.for list[gamma]\n",
    "2.for list[C]\n",
    "3.create the model\n",
    "4.get model score\n",
    "5.if model score > model score[pre]\n",
    "6.save model score and params\n",
    "7.print best score and params\n",
    "```\n"
   ]
  },
  {
   "cell_type": "code",
   "execution_count": 3,
   "metadata": {},
   "outputs": [],
   "source": [
    "from sklearn.svm import SVC\n",
    "from sklearn.datasets import make_blobs\n",
    "import numpy as np\n",
    "from sklearn.linear_model import LogisticRegression\n",
    "from sklearn.model_selection import train_test_split\n",
    "from sklearn.model_selection import cross_val_score\n",
    "from sklearn.datasets import load_iris\n",
    "from sklearn.linear_model import LogisticRegression\n",
    "import mglearn\n",
    "from matplotlib import pyplot as plt\n",
    "%matplotlib inline"
   ]
  },
  {
   "cell_type": "code",
   "execution_count": 7,
   "metadata": {
    "scrolled": true
   },
   "outputs": [
    {
     "name": "stdout",
     "output_type": "stream",
     "text": [
      "Size of training set:112　size of test set:38\n",
      "Best score: 0.97\n",
      "Best parameters: {'C': 100, 'gamma': 0.001}\n"
     ]
    }
   ],
   "source": [
    "iris = load_iris()\n",
    "X_train, X_test, y_train, y_test = train_test_split(\n",
    "    iris.data, iris.target, random_state=0)\n",
    "print(\"Size of training set:{}　size of test set:{}\".format(X_train.shape[0], X_test.shape[0]))\n",
    "\n",
    "best_score = 0\n",
    "\n",
    "for gamma in [0.001, 0.01, 0.1, 1, 10, 100]:\n",
    "    for C in [0.001, 0.01, 0.1, 1, 10, 100]:\n",
    "        #それぞれのパラメータの組み合わせに足してSVCを訓練\n",
    "        svm = SVC(gamma=gamma, C=C)\n",
    "        svm.fit(X_train, y_train)\n",
    "        #SVCをテストセットで評価\n",
    "        score = svm.score(X_test, y_test)\n",
    "        #良いスコアであればスコアとパラメータを保持\n",
    "        if score > best_score:\n",
    "            best_score = score\n",
    "            best_parameters = {'C':C, 'gamma':gamma}\n",
    "print(\"Best score: {:.2f}\".format(best_score))\n",
    "print(\"Best parameters: {}\".format(best_parameters))"
   ]
  },
  {
   "cell_type": "markdown",
   "metadata": {},
   "source": [
    "```\n",
    "評価制度の最も高くなるパラメータは、gamma: 0.001、C: 100であり、精度は97%と非常に高いスコアを得ることができました。\n",
    "```"
   ]
  },
  {
   "cell_type": "markdown",
   "metadata": {},
   "source": [
    "### 単純なグリッドサーチの問題点\n",
    "```\n",
    "上記は高い精度が確認できますが大きな問題点があります。上記の方法は、テストデータをパラメータのチューニングで活用してしまいました。パラメータのチューニングで活用したテストデータでモデルの精度を評価することができません。これは訓練データとテストデータを分けた理由と同じで、一度活用したデータで予測を行うこと＝未知のデータに対する予測にはならないからです。\n",
    "```"
   ]
  },
  {
   "cell_type": "markdown",
   "metadata": {},
   "source": [
    "### 解決方法\n",
    "```\n",
    "この問題を解決する1つの方法は、もう一度分割し、3つのセットにする方法です。各データセットの役割は以下の通りです。\n",
    "\n",
    "・training set:モデルを構築する訓練セット\n",
    "・validation set:モデルのパラメータ選択に用いる検証セット\n",
    "・test set:選択したパラメータの性能を評価するためのテストセット\n",
    "\n",
    "```"
   ]
  },
  {
   "cell_type": "code",
   "execution_count": 8,
   "metadata": {},
   "outputs": [
    {
     "data": {
      "image/png": "[encoded data removed]",
      "text/plain": [
       "<matplotlib.figure.Figure at 0x1094bb4e0>"
      ]
     },
     "metadata": {},
     "output_type": "display_data"
    }
   ],
   "source": [
    "mglearn.plots.plot_threefold_split()"
   ]
  },
  {
   "cell_type": "markdown",
   "metadata": {},
   "source": [
    "### 処理フロー\n",
    "```\n",
    "1.split and create train , validation, test data\n",
    "2.loop params\n",
    "3.create model by train data\n",
    "4.evaluate model by validation data\n",
    "5.save the high score params\n",
    "6.evaluate model made by high params by test data\n",
    "```"
   ]
  },
  {
   "cell_type": "code",
   "execution_count": 9,
   "metadata": {},
   "outputs": [
    {
     "name": "stdout",
     "output_type": "stream",
     "text": [
      "size of train set :84\n",
      "size of validation set:28\n",
      "size of test set:38\n",
      "\n",
      "Best score on validation set:0.96\n",
      "Best parameters: {'C': 10, 'gamma': 0.001}\n",
      "Test set score with best parameters:0.92\n"
     ]
    }
   ],
   "source": [
    "from sklearn.svm import SVC\n",
    "# データを訓練 + 検証セットとテストセットに分割する\n",
    "X_trainval, X_test, y_trainval, y_test = train_test_split(\n",
    "    iris.data, iris.target, random_state=0)\n",
    "#訓練+検証セットを訓練セットと検証セットに分割する\n",
    "X_train, X_valid, y_train, y_valid = train_test_split(X_trainval,y_trainval,random_state=1)\n",
    "print(\"size of train set :{}\\nsize of validation set:{}\\nsize of test set:\"\n",
    "       \"{}\\n\".format(X_train.shape[0], X_valid.shape[0], X_test.shape[0]))\n",
    "\n",
    "best_score = 0\n",
    "\n",
    "for gamma in [0.001, 0.01, 0.1, 1, 10, 100]:\n",
    "    for C in [0.001, 0.01, 0.1, 1, 10, 100]:\n",
    "        # それぞれのパラメータの組み合わせに対してSVCを訓練する\n",
    "        svm = SVC(gamma=gamma, C=C)\n",
    "        svm.fit(X_train, y_train)\n",
    "        # SVCを検証セットで評価\n",
    "        score = svm.score(X_valid, y_valid)\n",
    "        # 良いスコアだったらスコアとパラメータを保持\n",
    "        if score > best_score:\n",
    "            best_score = score\n",
    "            best_parameters = {'C':C, 'gamma':gamma}\n",
    "# 訓練セットと検証セットを用いてモデルを再構築し、\n",
    "#　テストセットで評価\n",
    "svm = SVC(**best_parameters)\n",
    "svm.fit(X_trainval, y_trainval)\n",
    "test_score = svm.score(X_test, y_test)\n",
    "print(\"Best score on validation set:{:.2f}\".format(best_score))\n",
    "print(\"Best parameters:\",best_parameters)\n",
    "print(\"Test set score with best parameters:{:.2f}\".format(test_score))"
   ]
  },
  {
   "cell_type": "markdown",
   "metadata": {},
   "source": [
    "```\n",
    "検証データに対する性能は0.96と先ほどより低くなっている。\n",
    "→　おそらく学習するデータ量が減ったため\n",
    "テストデータに対する性能は0.92とさらに低くなっている。\n",
    "→　新しいデータに対して主張できる性能は、単純なグリッドサーチで行った0.97ではなく、0.92である。\n",
    "```"
   ]
  },
  {
   "cell_type": "markdown",
   "metadata": {},
   "source": [
    "### 交差検証を用いたグリッドサーチ\n",
    "```\n",
    "上記で未知のデータに対して予測できるようになりました。しかし、汎化性を担保するためには分割時点で交差検証を用いる必要があります。データの分割方法によって性能が大きく変わるからです。交差検証に関しては以下を確認してください。\n",
    "```"
   ]
  },
  {
   "cell_type": "markdown",
   "metadata": {},
   "source": [
    "### 処理フロー\n",
    "```\n",
    "1.split the data set trainval and test\n",
    "2.for list[gamma]\n",
    "3.for list[C]\n",
    "4.create the model\n",
    "5.get model score by cross validation\n",
    "6.if model score > model score[pre]\n",
    "7.save model score and params\n",
    "8.print best score and params\n",
    "```"
   ]
  },
  {
   "cell_type": "code",
   "execution_count": 10,
   "metadata": {},
   "outputs": [
    {
     "data": {
      "text/plain": [
       "SVC(C=10, cache_size=200, class_weight=None, coef0=0.0,\n",
       "  decision_function_shape='ovr', degree=3, gamma=0.001, kernel='rbf',\n",
       "  max_iter=-1, probability=False, random_state=None, shrinking=True,\n",
       "  tol=0.001, verbose=False)"
      ]
     },
     "execution_count": 10,
     "metadata": {},
     "output_type": "execute_result"
    }
   ],
   "source": [
    "X_trainval, X_test, y_trainval, y_test = train_test_split(\n",
    "    iris.data, iris.target, random_state=0)\n",
    "\n",
    "for gmma in [0.001,0.01, 0.1, 1, 10, 100]:\n",
    "    for C in [0.001,0.01,0.1,1,10,100]:\n",
    "        # それぞれのパラメータの組み合わせに対して\n",
    "        # SVCを訓練する\n",
    "        svm = SVC(gamma=gamma, C=C)\n",
    "        # 交差検証を行う\n",
    "        scores = cross_val_score(svm, X_trainval,y_trainval,cv=5)\n",
    "        # 交差検証の平均値を計算\n",
    "        score = np.mean(scores)\n",
    "        # 良いスコアであれbスコアとパラメータを記録\n",
    "        if score > best_score:\n",
    "            best_score = score\n",
    "            best_parameters = {'C':C,'gamma':gamma}\n",
    "# 訓練セットと検証セットを合わせてモデルを再構築する\n",
    "svm = SVC(**best_parameters)\n",
    "svm.fit(X_trainval, y_trainval)"
   ]
  },
  {
   "cell_type": "markdown",
   "metadata": {},
   "source": [
    "```\n",
    "分割数は5なので、6*6*5=180通りのモデルを構築している。膨大な時間がかかるのが交差検証の問題点と言えます。交差検証はグリッドサーチのようなパラメータ探索手法と併用されることが多いため、交差検証を用いたグリッドサーチを指して交差検証と呼ぶことが多いです。scikit-learnはグリッドサーチを実装したクラス[GridSearchCV]を用意してくれています。\n",
    "実際に試してみたいと思います。\n",
    "```"
   ]
  },
  {
   "cell_type": "markdown",
   "metadata": {},
   "source": [
    "### 処理フロー\n",
    "1.create params\n",
    "2.create the GridSearchCV instance\n",
    "3.split the data  train and test\n",
    "4.cross-validation"
   ]
  },
  {
   "cell_type": "code",
   "execution_count": 11,
   "metadata": {},
   "outputs": [
    {
     "name": "stdout",
     "output_type": "stream",
     "text": [
      "Parameter grid:\n",
      "{'C': [0.001, 0.01, 0.1, 1, 10, 100], 'gamma': [0.001, 0.01, 0.1, 1, 10, 100]}\n",
      "test set score:0.97\n",
      "Best parameters:{'C': 100, 'gamma': 0.01}\n",
      "Best cross-validation score :0.97\n"
     ]
    }
   ],
   "source": [
    "# ライブラリ\n",
    "from sklearn.model_selection import GridSearchCV\n",
    "from sklearn.svm import SVC\n",
    "\n",
    "# パラメータ\n",
    "param_grid = {'C':[0.001, 0.01, 0.1, 1,10, 100],\n",
    "              'gamma':[0.001, 0.01, 0.1, 1, 10, 100]}\n",
    "print(\"Parameter grid:\\n{}\".format(param_grid))\n",
    "\n",
    "# GridSearch インスタンス生成\n",
    "grid_search = GridSearchCV(SVC(), param_grid, cv=5)\n",
    "\n",
    "# パラメータの過剰適合を防ぐためにさらに訓練セットとテストセットを分割\n",
    "X_train, X_test, y_train, y_test = train_test_split(\n",
    "    iris.data, iris.target, random_state=0)\n",
    "\n",
    "# 交差検証を実行\n",
    "grid_search.fit(X_train, y_train)\n",
    "print(\"test set score:{:.2f}\".format(grid_search.score(X_test, y_test)))\n",
    "print(\"Best parameters:{}\".format(grid_search.best_params_))\n",
    "print(\"Best cross-validation score :{:.2f}\".format(grid_search.best_score_))"
   ]
  },
  {
   "cell_type": "markdown",
   "metadata": {},
   "source": [
    "```\n",
    "この方法だとパラメータの過剰適合が起こってしまうのでは？と思った方がいるかもしれません。\n",
    "重要なのはテストセットを使わなかったということです。グリッドサーチで見つけたパラメータはbest_params属性に、交差検証精度はbest_score属性に格納されています。\n",
    "注意しなけれいかないことは、各データが何を意味しているかです。\n",
    "\n",
    "grid_search.score(X_test, y_test))\n",
    "→　こちらは訓練セット全体を用いて訓練したモデルをテストデータで評価した精度です。\n",
    "\n",
    "grid_search.best_score_\n",
    "→　こちらは訓練セットに対する交差検証の平均交差懸賞精度です。\n",
    "\n",
    "なのでGridSearchCVで探索した最適なパラメータはgrid_search.best_params_にあり、モデルの汎化性能に関する評価精度はgrid_search.score(X_test, y_test)に格納されております。\n",
    "\n",
    "```"
   ]
  },
  {
   "cell_type": "code",
   "execution_count": null,
   "metadata": {},
   "outputs": [],
   "source": []
  }
 ],
 "metadata": {
  "kernelspec": {
   "display_name": "Python 3",
   "language": "python",
   "name": "python3"
  },
  "language_info": {
   "codemirror_mode": {
    "name": "ipython",
    "version": 3
   },
   "file_extension": ".py",
   "mimetype": "text/x-python",
   "name": "python",
   "nbconvert_exporter": "python",
   "pygments_lexer": "ipython3",
   "version": "3.4.3"
  }
 },
 "nbformat": 4,
 "nbformat_minor": 2
}
