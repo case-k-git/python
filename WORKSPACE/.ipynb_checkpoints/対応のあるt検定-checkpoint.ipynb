{
 "cells": [
  {
   "cell_type": "markdown",
   "metadata": {},
   "source": [
    "# 対応のあるt検定\n",
    "```\n",
    "平均値の差の検定\n",
    "2群のデータに対するt検定を行います。\n",
    "2つの変数の間で平均値に差があるかどうか判断します。\n",
    "広告施策施策前と広告施策の後でWEBサイトへのアクセス数に差が出るかどうか判断します。\n",
    "```"
   ]
  },
  {
   "cell_type": "code",
   "execution_count": 203,
   "metadata": {},
   "outputs": [],
   "source": [
    "# ライブラリのimport\n",
    "import numpy as np\n",
    "import pandas as pd\n",
    "from matplotlib import pyplot as plt\n",
    "%matplotlib inline\n",
    "from scipy import stats"
   ]
  },
  {
   "cell_type": "code",
   "execution_count": 235,
   "metadata": {
    "scrolled": false
   },
   "outputs": [
    {
     "name": "stdout",
     "output_type": "stream",
     "text": [
      "  site access count before access count after\n",
      "0    A                 100                120\n",
      "1    B                1000               1100\n",
      "2    C                  10                 11\n",
      "3    D                  50                 51\n"
     ]
    }
   ],
   "source": [
    "# サンプルデータの作成\n",
    "columns = np.array(['site','access count before','access count after'])\n",
    "values = np.array([['A',100,120],\n",
    "                 ['B',1000,'1100'],\n",
    "                 ['C',10,11],\n",
    "                 ['D',50,51]])\n",
    "data = pd.DataFrame(columns=columns,data=values)\n",
    "print(data)"
   ]
  },
  {
   "cell_type": "markdown",
   "metadata": {},
   "source": [
    "```\n",
    "「施策前後の差分」に注目する。\n",
    "差分の列の平均値が0と異なれば「広告施策前と後でサイトアクセス数が異なる」と主張することができる。\n",
    "対応のあるt検定では、このように差分を取ってから「差分値が0と有意に異なるか」という1群のt検定を行う。\n",
    "```"
   ]
  },
  {
   "cell_type": "code",
   "execution_count": 236,
   "metadata": {
    "scrolled": false
   },
   "outputs": [
    {
     "name": "stdout",
     "output_type": "stream",
     "text": [
      "1\n",
      "  site access count before access count after  diff\n",
      "0    A                 100                120    20\n",
      "1    B                1000               1100   100\n",
      "2    C                  10                 11     1\n",
      "3    D                  50                 51     1\n"
     ]
    }
   ],
   "source": [
    "# 差分を追加\n",
    "diff_lsit = []\n",
    "for i in range(len(data)):\n",
    "    diff = str(int(data.loc[i]['access count after']) - int(data.loc[i]['access count before']))\n",
    "    diff_lsit.append(diff)\n",
    "print(diff)\n",
    "data['diff'] = diff_lsit\n",
    "data['diff'] = data['diff'].astype(np.int64)\n",
    "print(data)"
   ]
  },
  {
   "cell_type": "code",
   "execution_count": 237,
   "metadata": {
    "scrolled": true
   },
   "outputs": [
    {
     "data": {
      "text/plain": [
       "array([ 20, 100,   1,   1])"
      ]
     },
     "execution_count": 237,
     "metadata": {},
     "output_type": "execute_result"
    }
   ],
   "source": [
    "np.array(data['diff'])"
   ]
  },
  {
   "cell_type": "code",
   "execution_count": 238,
   "metadata": {
    "scrolled": true
   },
   "outputs": [
    {
     "data": {
      "text/plain": [
       "Ttest_1sampResult(statistic=1.2926165928222935, pvalue=0.2866973863600092)"
      ]
     },
     "execution_count": 238,
     "metadata": {},
     "output_type": "execute_result"
    }
   ],
   "source": [
    "stats.ttest_1samp(np.array(data['diff']),0)"
   ]
  },
  {
   "cell_type": "code",
   "execution_count": 239,
   "metadata": {},
   "outputs": [
    {
     "data": {
      "text/plain": [
       "Ttest_relResult(statistic=1.2926165928222935, pvalue=0.2866973863600092)"
      ]
     },
     "execution_count": 239,
     "metadata": {},
     "output_type": "execute_result"
    }
   ],
   "source": [
    "stats.ttest_rel(data['access count after'].astype(np.int64) , data['access count before'].astype(np.int64))"
   ]
  },
  {
   "cell_type": "code",
   "execution_count": 207,
   "metadata": {
    "scrolled": false
   },
   "outputs": [
    {
     "name": "stdout",
     "output_type": "stream",
     "text": [
      "0      200\n",
      "1      900\n",
      "2    20000\n",
      "3      250\n",
      "Name: diff, dtype: int64\n",
      "<class 'pandas.core.series.Series'>\n"
     ]
    },
    {
     "data": {
      "text/plain": [
       "5337.5"
      ]
     },
     "execution_count": 207,
     "metadata": {},
     "output_type": "execute_result"
    }
   ],
   "source": [
    "#　平均\n",
    "print(data['diff'])\n",
    "print(type(data['diff']))\n",
    "#a = (data['diff'].astype(np.int64)).mean()\n",
    "a = data['diff'].mean()\n",
    "a "
   ]
  },
  {
   "cell_type": "code",
   "execution_count": 208,
   "metadata": {},
   "outputs": [
    {
     "data": {
      "text/plain": [
       "0    -5137.5\n",
       "1    -4437.5\n",
       "2    14662.5\n",
       "3    -5087.5\n",
       "Name: diff, dtype: float64"
      ]
     },
     "execution_count": 208,
     "metadata": {},
     "output_type": "execute_result"
    }
   ],
   "source": [
    "data['diff'] - data['diff'].mean()"
   ]
  },
  {
   "cell_type": "code",
   "execution_count": 209,
   "metadata": {},
   "outputs": [
    {
     "name": "stdout",
     "output_type": "stream",
     "text": [
      "sample count：4\n",
      "degree of freedom：3\n",
      "diff mean score：5337.5\n",
      "variance：0.00000\n",
      "standard division：0.00000\n",
      "standard error：0.00000\n"
     ]
    },
    {
     "name": "stderr",
     "output_type": "stream",
     "text": [
      "/Users/keisuke/.pyenv/versions/3.4.3/lib/python3.4/site-packages/ipykernel_launcher.py:24: RuntimeWarning: divide by zero encountered in double_scalars\n"
     ]
    },
    {
     "data": {
      "text/plain": [
       "inf"
      ]
     },
     "execution_count": 209,
     "metadata": {},
     "output_type": "execute_result"
    }
   ],
   "source": [
    "# サンプル数\n",
    "n = len(data)\n",
    "print(\"sample count：{}\".format(n))\n",
    "# 自由度\n",
    "N = n - 1 \n",
    "print(\"degree of freedom：{}\".format(N))\n",
    "\n",
    "#　平均\n",
    "mean_score = data['diff'].mean()\n",
    "print(\"diff mean score：{}\".format(mean_score))\n",
    "\n",
    "# 不偏分散　差分が平均とどれだけずれているか\n",
    "V = np.sum(data['diff'] - mean_score ) / (n - 1)\n",
    "print(\"variance：{:.5f}\".format(V))\n",
    "\n",
    "# 不偏標準偏差\n",
    "std =  np.sqrt(V)\n",
    "print(\"standard division：{:.5f}\".format(std))\n",
    "\n",
    "# 標準誤差\n",
    "se = std / N\n",
    "print(\"standard error：{:.5f}\".format(se))\n",
    "\n",
    "t_value = (mean_score - 0)/se\n",
    "t_value "
   ]
  },
  {
   "cell_type": "code",
   "execution_count": null,
   "metadata": {},
   "outputs": [],
   "source": []
  },
  {
   "cell_type": "code",
   "execution_count": null,
   "metadata": {},
   "outputs": [],
   "source": []
  }
 ],
 "metadata": {
  "kernelspec": {
   "display_name": "Python 3",
   "language": "python",
   "name": "python3"
  },
  "language_info": {
   "codemirror_mode": {
    "name": "ipython",
    "version": 3
   },
   "file_extension": ".py",
   "mimetype": "text/x-python",
   "name": "python",
   "nbconvert_exporter": "python",
   "pygments_lexer": "ipython3",
   "version": "3.4.3"
  }
 },
 "nbformat": 4,
 "nbformat_minor": 2
}
