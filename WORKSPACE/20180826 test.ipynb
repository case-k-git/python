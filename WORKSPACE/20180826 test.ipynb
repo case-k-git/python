{
 "cells": [
  {
   "cell_type": "code",
   "execution_count": null,
   "metadata": {},
   "outputs": [
    {
     "name": "stdout",
     "output_type": "stream",
     "text": [
      "Requirement already satisfied: matplotlib in /Users/keisuke/.pyenv/versions/3.4.3/lib/python3.4/site-packages (2.0.2)\n",
      "Requirement already satisfied: python-dateutil in /Users/keisuke/.pyenv/versions/3.4.3/lib/python3.4/site-packages (from matplotlib) (2.6.0)\n",
      "Requirement already satisfied: six>=1.10 in /Users/keisuke/.pyenv/versions/3.4.3/lib/python3.4/site-packages (from matplotlib) (1.10.0)\n",
      "Requirement already satisfied: pytz in /Users/keisuke/.pyenv/versions/3.4.3/lib/python3.4/site-packages (from matplotlib) (2016.10)\n",
      "Requirement already satisfied: numpy>=1.7.1 in /Users/keisuke/.pyenv/versions/3.4.3/lib/python3.4/site-packages (from matplotlib) (1.14.5)\n",
      "Requirement already satisfied: pyparsing!=2.0.4,!=2.1.2,!=2.1.6,>=1.5.6 in /Users/keisuke/.pyenv/versions/3.4.3/lib/python3.4/site-packages (from matplotlib) (2.2.0)\n",
      "Requirement already satisfied: cycler>=0.10 in /Users/keisuke/.pyenv/versions/3.4.3/lib/python3.4/site-packages (from matplotlib) (0.10.0)\n",
      "\u001b[33mYou are using pip version 10.0.1, however version 18.0 is available.\n",
      "You should consider upgrading via the 'pip install --upgrade pip' command.\u001b[0m\n",
      "Updating Homebrew...\n",
      "\u001b[34m==>\u001b[0m \u001b[1mHomebrew is run entirely by unpaid volunteers. Please consider donating:\u001b[0m\n",
      "  \u001b[4mhttps://github.com/Homebrew/brew#donations\u001b[24m\n"
     ]
    }
   ],
   "source": [
    "! pip install matplotlib\n",
    "! brew install imagemagick # gif 保存用\n",
    "! brew install ffmpeg # mp4 保存用"
   ]
  },
  {
   "cell_type": "code",
   "execution_count": null,
   "metadata": {},
   "outputs": [],
   "source": [
    "import numpy as np\n",
    "import matplotlib.pyplot as plt\n",
    "import matplotlib.animation as animation\n",
    "\n",
    "fig = plt.figure()\n",
    "x = np.arange(0, 10, 0.1)\n",
    "\n",
    "ims = []\n",
    "for a in range(50):\n",
    "    y = np.sin(x - a)\n",
    "    line, = plt.plot(x, y, \"r\")\n",
    "    ims.append([line])\n",
    "\n",
    "ani = animation.ArtistAnimation(fig, ims)\n",
    "ani.save('anim.gif', writer=\"imagemagick\")\n",
    "ani.save('anim.mp4', writer=\"ffmpeg\")\n",
    "plt.show()"
   ]
  },
  {
   "cell_type": "code",
   "execution_count": null,
   "metadata": {},
   "outputs": [],
   "source": []
  }
 ],
 "metadata": {
  "kernelspec": {
   "display_name": "Python 3",
   "language": "python",
   "name": "python3"
  },
  "language_info": {
   "codemirror_mode": {
    "name": "ipython",
    "version": 3
   },
   "file_extension": ".py",
   "mimetype": "text/x-python",
   "name": "python",
   "nbconvert_exporter": "python",
   "pygments_lexer": "ipython3",
   "version": "3.4.3"
  }
 },
 "nbformat": 4,
 "nbformat_minor": 2
}
