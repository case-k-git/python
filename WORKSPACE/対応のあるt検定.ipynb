{
 "cells": [
  {
   "cell_type": "markdown",
   "metadata": {},
   "source": [
    "# 対応のあるt検定\n",
    "```\n",
    "平均値の差の検定\n",
    "2群のデータに対するt検定を行います。\n",
    "2つの変数の間で平均値に差があるかどうか判断します。\n",
    "広告施策施策前と広告施策の後でWEBサイトへのアクセス数に差が出るかどうか判断します。\n",
    "```"
   ]
  },
  {
   "cell_type": "code",
   "execution_count": 309,
   "metadata": {},
   "outputs": [],
   "source": [
    "# ライブラリのimport\n",
    "import numpy as np\n",
    "import pandas as pd\n",
    "from matplotlib import pyplot as plt\n",
    "%matplotlib inline\n",
    "from scipy import stats"
   ]
  },
  {
   "cell_type": "code",
   "execution_count": 318,
   "metadata": {
    "scrolled": false
   },
   "outputs": [
    {
     "name": "stdout",
     "output_type": "stream",
     "text": [
      "  site access count before access count after\n",
      "0    A                 100                120\n",
      "1    B                1000               1100\n",
      "2    C                  10                110\n",
      "3    D                  50                 59\n",
      "4    E                  60                600\n",
      "5    F                  60                100\n"
     ]
    }
   ],
   "source": [
    "# サンプルデータの作成\n",
    "columns = np.array(['site','access count before','access count after'])\n",
    "values = np.array([['A',100,120],\n",
    "                 ['B',1000,1100],\n",
    "                 ['C',10,110],\n",
    "                 ['D',50,59],\n",
    "                 ['E',60,600],\n",
    "                 ['F',60,100]])\n",
    "data = pd.DataFrame(columns=columns,data=values)\n",
    "print(data)"
   ]
  },
  {
   "cell_type": "code",
   "execution_count": 319,
   "metadata": {
    "scrolled": true
   },
   "outputs": [
    {
     "data": {
      "text/plain": [
       "\"\\n# サンプルデータの作成\\ncolumns = np.array(['site','access count before','access count after'])\\nvalues = np.array([['A',36.2,36.8],\\n                 ['B',36.2,36.1],\\n                 ['C',35.3,36.8],\\n                 ['D',36.1,37.1],\\n                 ['D',36.1,36.9]])\\ndata = pd.DataFrame(columns=columns,data=values)\\nprint(data)\\n\""
      ]
     },
     "execution_count": 319,
     "metadata": {},
     "output_type": "execute_result"
    }
   ],
   "source": [
    "\"\"\"\n",
    "# サンプルデータの作成\n",
    "columns = np.array(['site','access count before','access count after'])\n",
    "values = np.array([['A',36.2,36.8],\n",
    "                 ['B',36.2,36.1],\n",
    "                 ['C',35.3,36.8],\n",
    "                 ['D',36.1,37.1],\n",
    "                 ['D',36.1,36.9]])\n",
    "data = pd.DataFrame(columns=columns,data=values)\n",
    "print(data)\n",
    "\"\"\""
   ]
  },
  {
   "cell_type": "markdown",
   "metadata": {},
   "source": [
    "```\n",
    "「施策前後の差分」に注目する。\n",
    "差分の列の平均値が0と異なれば「広告施策前と後でサイトアクセス数が異なる」と主張することができる。\n",
    "対応のあるt検定では、このように差分を取ってから「差分値が0と有意に異なるか」という1群のt検定を行う。\n",
    "```"
   ]
  },
  {
   "cell_type": "code",
   "execution_count": 322,
   "metadata": {
    "scrolled": true
   },
   "outputs": [
    {
     "name": "stdout",
     "output_type": "stream",
     "text": [
      "  site access count before access count after   diff\n",
      "0    A                 100                120   20.0\n",
      "1    B                1000               1100  100.0\n",
      "2    C                  10                110  100.0\n",
      "3    D                  50                 59    9.0\n",
      "4    E                  60                600  540.0\n",
      "5    F                  60                100   40.0\n"
     ]
    }
   ],
   "source": [
    "# 差分を追加\n",
    "diff_lsit = []\n",
    "for i in range(len(data)):\n",
    "    diff = float(data.loc[i]['access count after']) - float(data.loc[i]['access count before'])\n",
    "    diff_lsit.append(diff)\n",
    "data['diff'] = diff_lsit\n",
    "data['diff'] = data['diff']\n",
    "print(data)"
   ]
  },
  {
   "cell_type": "markdown",
   "metadata": {},
   "source": [
    "```\n",
    "サンプル数1つでP値が大きく変わった。\n",
    "```"
   ]
  },
  {
   "cell_type": "code",
   "execution_count": 321,
   "metadata": {
    "scrolled": true
   },
   "outputs": [
    {
     "name": "stdout",
     "output_type": "stream",
     "text": [
      "sample count：6\n",
      "degree of freedom：5\n",
      "diff mean score：134.83333333333334\n",
      "variance：40920.16667\n",
      "standard division：202.28734\n",
      "standard error：40.45747\n",
      "t value：3.332718088172629\n",
      "p value：0.020717136\n"
     ]
    }
   ],
   "source": [
    "# サンプル数\n",
    "n = len(data)\n",
    "print(\"sample count：{}\".format(n))\n",
    "# 自由度\n",
    "N = n - 1 \n",
    "print(\"degree of freedom：{}\".format(N))\n",
    "\n",
    "#　平均\n",
    "mean_score = data['diff'].mean()\n",
    "print(\"diff mean score：{}\".format(mean_score))\n",
    "\n",
    "# 不偏分散\n",
    "V = np.sum(np.square(data['diff'] - mean_score)) / (n - 1)\n",
    "print(\"variance：{:.5f}\".format(V))\n",
    "\n",
    "# 不偏標準偏差\n",
    "std =  np.sqrt(V)\n",
    "print(\"standard division：{:.5f}\".format(std))\n",
    "\n",
    "# 標準誤差\n",
    "se = std / N\n",
    "print(\"standard error：{:.5f}\".format(se))\n",
    "\n",
    "# t値\n",
    "t_value = (mean_score - 0)/se\n",
    "print(\"t value：{}\".format(t_value)) \n",
    "\n",
    "# p値\n",
    "alpha = stats.t.cdf(t_value, df = N)\n",
    "p = (1-alpha)*2\n",
    "print(\"p value：{:.9f}\".format(p))"
   ]
  },
  {
   "cell_type": "code",
   "execution_count": null,
   "metadata": {},
   "outputs": [],
   "source": []
  },
  {
   "cell_type": "code",
   "execution_count": null,
   "metadata": {},
   "outputs": [],
   "source": []
  },
  {
   "cell_type": "code",
   "execution_count": null,
   "metadata": {},
   "outputs": [],
   "source": []
  },
  {
   "cell_type": "code",
   "execution_count": null,
   "metadata": {},
   "outputs": [],
   "source": []
  },
  {
   "cell_type": "code",
   "execution_count": null,
   "metadata": {},
   "outputs": [],
   "source": []
  }
 ],
 "metadata": {
  "kernelspec": {
   "display_name": "Python 3",
   "language": "python",
   "name": "python3"
  },
  "language_info": {
   "codemirror_mode": {
    "name": "ipython",
    "version": 3
   },
   "file_extension": ".py",
   "mimetype": "text/x-python",
   "name": "python",
   "nbconvert_exporter": "python",
   "pygments_lexer": "ipython3",
   "version": "3.4.3"
  }
 },
 "nbformat": 4,
 "nbformat_minor": 2
}
