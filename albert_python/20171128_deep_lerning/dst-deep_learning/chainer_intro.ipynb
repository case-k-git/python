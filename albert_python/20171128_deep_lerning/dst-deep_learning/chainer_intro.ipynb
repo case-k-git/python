{
 "cells": [
  {
   "cell_type": "markdown",
   "metadata": {},
   "source": [
    "# Numpyの使い方\n",
    "NumpyはPythonで数値計算を効率的に行うためのライブラリです。  \n",
    "ここでは次節「Chainerの使い方」で必要となる範囲でNumpyの使用方法を解説します。"
   ]
  },
  {
   "cell_type": "code",
   "execution_count": 1,
   "metadata": {
    "collapsed": true
   },
   "outputs": [],
   "source": [
    "# numpyをnpとしてインポート\n",
    "import numpy as np"
   ]
  },
  {
   "cell_type": "markdown",
   "metadata": {},
   "source": [
    "## index操作\n",
    "まずはnumpyの配列を生成し、その要素を取り出してみましょう。numpyの配列をつくるにはいろいろな方法があります。"
   ]
  },
  {
   "cell_type": "code",
   "execution_count": 2,
   "metadata": {},
   "outputs": [
    {
     "name": "stdout",
     "output_type": "stream",
     "text": [
      "[0 1 2 3 4]\n"
     ]
    }
   ],
   "source": [
    "# リストから\n",
    "a = np.array([0, 1, 2, 3, 4])\n",
    "print(a)"
   ]
  },
  {
   "cell_type": "code",
   "execution_count": 3,
   "metadata": {},
   "outputs": [
    {
     "name": "stdout",
     "output_type": "stream",
     "text": [
      "[0 1 2 3 4]\n"
     ]
    }
   ],
   "source": [
    "# arange\n",
    "a = np.arange(5)\n",
    "print(a)"
   ]
  },
  {
   "cell_type": "code",
   "execution_count": 4,
   "metadata": {},
   "outputs": [
    {
     "name": "stdout",
     "output_type": "stream",
     "text": [
      "[[ 0.  0.  0.  0.  0.]\n",
      " [ 0.  0.  0.  0.  0.]\n",
      " [ 0.  0.  0.  0.  0.]\n",
      " [ 0.  0.  0.  0.  0.]\n",
      " [ 0.  0.  0.  0.  0.]]\n"
     ]
    }
   ],
   "source": [
    "# zeros\n",
    "# 5*5のゼロ行列\n",
    "a = np.zeros((5, 5))\n",
    "print(a)"
   ]
  },
  {
   "cell_type": "markdown",
   "metadata": {},
   "source": [
    "なにが起こっているのかを把握しやすいので、今回はまずnp.arangeを用いて0から59までの等差数列をつくり、それを3*4*5にreshapeした三次元配列を使って説明していきます。"
   ]
  },
  {
   "cell_type": "code",
   "execution_count": 5,
   "metadata": {},
   "outputs": [
    {
     "name": "stdout",
     "output_type": "stream",
     "text": [
      "[ 0  1  2  3  4  5  6  7  8  9 10 11 12 13 14 15 16 17 18 19 20 21 22 23 24\n",
      " 25 26 27 28 29 30 31 32 33 34 35 36 37 38 39 40 41 42 43 44 45 46 47 48 49\n",
      " 50 51 52 53 54 55 56 57 58 59]\n"
     ]
    }
   ],
   "source": [
    "# 生成\n",
    "a = np.arange(60)\n",
    "print(a)"
   ]
  },
  {
   "cell_type": "code",
   "execution_count": 6,
   "metadata": {},
   "outputs": [
    {
     "name": "stdout",
     "output_type": "stream",
     "text": [
      "[[[ 0  1  2  3  4]\n",
      "  [ 5  6  7  8  9]\n",
      "  [10 11 12 13 14]\n",
      "  [15 16 17 18 19]]\n",
      "\n",
      " [[20 21 22 23 24]\n",
      "  [25 26 27 28 29]\n",
      "  [30 31 32 33 34]\n",
      "  [35 36 37 38 39]]\n",
      "\n",
      " [[40 41 42 43 44]\n",
      "  [45 46 47 48 49]\n",
      "  [50 51 52 53 54]\n",
      "  [55 56 57 58 59]]]\n"
     ]
    }
   ],
   "source": [
    "# reshape\n",
    "a = a.reshape(3, 4, 5)\n",
    "print(a)"
   ]
  },
  {
   "cell_type": "markdown",
   "metadata": {},
   "source": [
    "配列の形は.shapeで参照できます。"
   ]
  },
  {
   "cell_type": "code",
   "execution_count": 7,
   "metadata": {},
   "outputs": [
    {
     "data": {
      "text/plain": [
       "(3, 4, 5)"
      ]
     },
     "execution_count": 7,
     "metadata": {},
     "output_type": "execute_result"
    }
   ],
   "source": [
    "a.shape"
   ]
  },
  {
   "cell_type": "markdown",
   "metadata": {},
   "source": [
    "### インデックス操作いろいろ"
   ]
  },
  {
   "cell_type": "code",
   "execution_count": 8,
   "metadata": {},
   "outputs": [
    {
     "data": {
      "text/plain": [
       "array([[ 0,  1,  2,  3,  4],\n",
       "       [ 5,  6,  7,  8,  9],\n",
       "       [10, 11, 12, 13, 14],\n",
       "       [15, 16, 17, 18, 19]])"
      ]
     },
     "execution_count": 8,
     "metadata": {},
     "output_type": "execute_result"
    }
   ],
   "source": [
    "a[0]"
   ]
  },
  {
   "cell_type": "code",
   "execution_count": 9,
   "metadata": {},
   "outputs": [
    {
     "data": {
      "text/plain": [
       "array([[40, 41, 42, 43, 44],\n",
       "       [45, 46, 47, 48, 49],\n",
       "       [50, 51, 52, 53, 54],\n",
       "       [55, 56, 57, 58, 59]])"
      ]
     },
     "execution_count": 9,
     "metadata": {},
     "output_type": "execute_result"
    }
   ],
   "source": [
    "a[2]"
   ]
  },
  {
   "cell_type": "code",
   "execution_count": 10,
   "metadata": {},
   "outputs": [
    {
     "data": {
      "text/plain": [
       "array([30, 31, 32, 33, 34])"
      ]
     },
     "execution_count": 10,
     "metadata": {},
     "output_type": "execute_result"
    }
   ],
   "source": [
    "a[1, 2]"
   ]
  },
  {
   "cell_type": "code",
   "execution_count": 11,
   "metadata": {},
   "outputs": [
    {
     "data": {
      "text/plain": [
       "33"
      ]
     },
     "execution_count": 11,
     "metadata": {},
     "output_type": "execute_result"
    }
   ],
   "source": [
    "a[1, 2, 3]"
   ]
  },
  {
   "cell_type": "code",
   "execution_count": 13,
   "metadata": {},
   "outputs": [
    {
     "data": {
      "text/plain": [
       "array([[10, 11, 12, 13, 14],\n",
       "       [30, 31, 32, 33, 34],\n",
       "       [50, 51, 52, 53, 54]])"
      ]
     },
     "execution_count": 13,
     "metadata": {},
     "output_type": "execute_result"
    }
   ],
   "source": [
    "#縦軸で値を取得する\n",
    "a[:, 2]"
   ]
  },
  {
   "cell_type": "code",
   "execution_count": 14,
   "metadata": {},
   "outputs": [
    {
     "data": {
      "text/plain": [
       "array([[13, 14],\n",
       "       [33, 34],\n",
       "       [53, 54]])"
      ]
     },
     "execution_count": 14,
     "metadata": {},
     "output_type": "execute_result"
    }
   ],
   "source": [
    "a[:, 2, 3:5]"
   ]
  },
  {
   "cell_type": "code",
   "execution_count": null,
   "metadata": {
    "collapsed": true
   },
   "outputs": [],
   "source": [
    "a[:, :, 1]"
   ]
  },
  {
   "cell_type": "code",
   "execution_count": 15,
   "metadata": {},
   "outputs": [
    {
     "name": "stdout",
     "output_type": "stream",
     "text": [
      "[30 31 32 33 34] (5,)\n",
      "[[[30 31 32 33 34]]] (1, 1, 5)\n"
     ]
    }
   ],
   "source": [
    "# スライス操作で取り出すと次元が減らない\n",
    "print(a[1, 2], a[1, 2].shape)\n",
    "print(a[1:2, 2:3], a[1:2, 2:3].shape)"
   ]
  },
  {
   "cell_type": "code",
   "execution_count": 16,
   "metadata": {},
   "outputs": [
    {
     "data": {
      "text/plain": [
       "array([ 0,  1,  2,  3,  4,  5,  6,  7,  8,  9, 10, 11, 12, 13, 14, 15, 16,\n",
       "       17, 18, 19, 20, 21, 22, 23, 24, 25, 26, 27, 28, 29, 30, 31, 32, 33,\n",
       "       34, 35, 36, 37, 38, 39, 40, 41, 42, 43, 44, 45, 46, 47, 48, 49, 50,\n",
       "       51, 52, 53, 54, 55, 56, 57, 58, 59])"
      ]
     },
     "execution_count": 16,
     "metadata": {},
     "output_type": "execute_result"
    }
   ],
   "source": [
    "a.ravel()"
   ]
  },
  {
   "cell_type": "code",
   "execution_count": 18,
   "metadata": {},
   "outputs": [
    {
     "data": {
      "text/plain": [
       "array([ 3,  5,  7,  9, 11, 13, 15, 17, 19])"
      ]
     },
     "execution_count": 18,
     "metadata": {},
     "output_type": "execute_result"
    }
   ],
   "source": [
    "#3番目から20番目までを2個飛ばし\n",
    "a.ravel()[3:20:2]"
   ]
  },
  {
   "cell_type": "code",
   "execution_count": 19,
   "metadata": {},
   "outputs": [
    {
     "data": {
      "text/plain": [
       "array([59, 58, 57, 56, 55, 54, 53, 52, 51, 50, 49, 48, 47, 46, 45, 44, 43,\n",
       "       42, 41, 40, 39, 38, 37, 36, 35, 34, 33, 32, 31, 30, 29, 28, 27, 26,\n",
       "       25, 24, 23, 22, 21, 20, 19, 18, 17, 16, 15, 14, 13, 12, 11, 10,  9,\n",
       "        8,  7,  6,  5,  4,  3,  2,  1,  0])"
      ]
     },
     "execution_count": 19,
     "metadata": {},
     "output_type": "execute_result"
    }
   ],
   "source": [
    "#逆向きに取り出す\n",
    "a.ravel()[::-1]"
   ]
  },
  {
   "cell_type": "markdown",
   "metadata": {},
   "source": [
    "## 代入、演算"
   ]
  },
  {
   "cell_type": "code",
   "execution_count": null,
   "metadata": {
    "collapsed": true
   },
   "outputs": [],
   "source": [
    "a[1, 1, 1] = 1000\n",
    "print(a)"
   ]
  },
  {
   "cell_type": "code",
   "execution_count": null,
   "metadata": {
    "collapsed": true
   },
   "outputs": [],
   "source": [
    "a[:2, :2, 0]\n",
    "a[:2, :2, 0] = np.zeros((2, 2))"
   ]
  },
  {
   "cell_type": "code",
   "execution_count": null,
   "metadata": {
    "collapsed": true
   },
   "outputs": [],
   "source": [
    "print(a)"
   ]
  },
  {
   "cell_type": "code",
   "execution_count": null,
   "metadata": {
    "collapsed": true
   },
   "outputs": [],
   "source": [
    "# broadcast\n",
    "a[2] = 0\n",
    "print(a)"
   ]
  },
  {
   "cell_type": "code",
   "execution_count": null,
   "metadata": {
    "collapsed": true
   },
   "outputs": [],
   "source": [
    "a + a"
   ]
  },
  {
   "cell_type": "code",
   "execution_count": null,
   "metadata": {
    "collapsed": true
   },
   "outputs": [],
   "source": [
    "a ** 2"
   ]
  },
  {
   "cell_type": "code",
   "execution_count": null,
   "metadata": {
    "collapsed": true
   },
   "outputs": [],
   "source": [
    "a[0] += 10\n",
    "print(a)"
   ]
  },
  {
   "cell_type": "markdown",
   "metadata": {},
   "source": [
    "## 乱数"
   ]
  },
  {
   "cell_type": "code",
   "execution_count": 22,
   "metadata": {},
   "outputs": [
    {
     "data": {
      "text/plain": [
       "0.17132324712104618"
      ]
     },
     "execution_count": 22,
     "metadata": {},
     "output_type": "execute_result"
    }
   ],
   "source": [
    "# [0, 1]の一様乱数\n",
    "np.random.random()"
   ]
  },
  {
   "cell_type": "code",
   "execution_count": 21,
   "metadata": {},
   "outputs": [
    {
     "data": {
      "text/plain": [
       "array([[0, 8, 3, 8],\n",
       "       [9, 5, 4, 7],\n",
       "       [6, 6, 9, 7]])"
      ]
     },
     "execution_count": 21,
     "metadata": {},
     "output_type": "execute_result"
    }
   ],
   "source": [
    "# 0から9までの一様なランダムな整数を(3, 4)の配列として返す\n",
    "np.random.randint(0, 10, (3, 4))"
   ]
  },
  {
   "cell_type": "code",
   "execution_count": 20,
   "metadata": {},
   "outputs": [
    {
     "data": {
      "text/plain": [
       "array([[-1.47234461,  0.42501168, -1.19101994,  0.46204558],\n",
       "       [ 0.42353159, -0.32910738, -0.46187119,  0.97473377],\n",
       "       [ 0.2953923 , -0.99971182, -0.16886792,  0.60095062]])"
      ]
     },
     "execution_count": 20,
     "metadata": {},
     "output_type": "execute_result"
    }
   ],
   "source": [
    "# 正規分布\n",
    "np.random.normal(0, 1, (3, 4))"
   ]
  },
  {
   "cell_type": "markdown",
   "metadata": {},
   "source": [
    "## 行列の型について\n",
    "Deep Learningでは計算速度の都合で単精度浮動小数点での計算を行います。そのため配列のデータ型はint32またはfloat32である必要があります。"
   ]
  },
  {
   "cell_type": "code",
   "execution_count": null,
   "metadata": {
    "collapsed": true
   },
   "outputs": [],
   "source": [
    "a = np.array([1, 2, 3])\n",
    "b = np.array([1, 2, 3], dtype=np.float32)\n",
    "c = np.array([1, 2, 3], dtype=np.int32)\n",
    "\n",
    "print(a.dtype, b.dtype, c.dtype)"
   ]
  },
  {
   "cell_type": "code",
   "execution_count": null,
   "metadata": {
    "collapsed": true
   },
   "outputs": [],
   "source": [
    "a = a.astype(np.float32)\n",
    "print(a.dtype)"
   ]
  },
  {
   "cell_type": "markdown",
   "metadata": {},
   "source": [
    "# Chainerの使い方\n",
    "## Define by runについて\n",
    "ChainerではDefine by runという仕組みが採用されています。これは演算を行うたびに動的に計算グラフを構築していくというアイディアで、柔軟なモデリングを可能とします。"
   ]
  },
  {
   "cell_type": "markdown",
   "metadata": {},
   "source": [
    "## Variable\n",
    "Define by runで重要になるのがVariableオブジェクトです。Variableを含む計算は追跡され、計算グラフが自動的に生成されます。  \n",
    "この計算グラフを逆向きに辿ることにより誤差逆伝播法を実現しています。"
   ]
  },
  {
   "cell_type": "code",
   "execution_count": null,
   "metadata": {
    "collapsed": true
   },
   "outputs": [],
   "source": [
    "# これを行うことで微分ができるようだ"
   ]
  },
  {
   "cell_type": "markdown",
   "metadata": {},
   "source": [
    "例. $y = x^{2} - 2 x + 1$について、$x = 5$を代入したときの勾配を求める。"
   ]
  },
  {
   "cell_type": "code",
   "execution_count": 23,
   "metadata": {
    "collapsed": true
   },
   "outputs": [],
   "source": [
    "import chainer\n",
    "from chainer import Variable"
   ]
  },
  {
   "cell_type": "code",
   "execution_count": 24,
   "metadata": {
    "collapsed": true
   },
   "outputs": [],
   "source": [
    "x_data = np.array([5], dtype=np.float32)\n",
    "x = Variable(x_data)"
   ]
  },
  {
   "cell_type": "markdown",
   "metadata": {},
   "source": [
    "Variableオブジェクトの値はdata属性で参照できます。"
   ]
  },
  {
   "cell_type": "code",
   "execution_count": 25,
   "metadata": {},
   "outputs": [
    {
     "data": {
      "text/plain": [
       "array([ 5.], dtype=float32)"
      ]
     },
     "execution_count": 25,
     "metadata": {},
     "output_type": "execute_result"
    }
   ],
   "source": [
    "x.data"
   ]
  },
  {
   "cell_type": "code",
   "execution_count": 26,
   "metadata": {
    "collapsed": true
   },
   "outputs": [],
   "source": [
    "#  y=x2−2x+1 yにはこの計算結果が入る\n",
    "y = x ** 2 - 2 * x + 1"
   ]
  },
  {
   "cell_type": "markdown",
   "metadata": {},
   "source": [
    "Variableオブジェクトのxを代入したので, yもVariableオブジェクトになっています. "
   ]
  },
  {
   "cell_type": "code",
   "execution_count": 27,
   "metadata": {},
   "outputs": [
    {
     "data": {
      "text/plain": [
       "array([ 16.], dtype=float32)"
      ]
     },
     "execution_count": 27,
     "metadata": {},
     "output_type": "execute_result"
    }
   ],
   "source": [
    "y.data"
   ]
  },
  {
   "cell_type": "markdown",
   "metadata": {},
   "source": [
    "勾配は誤差逆伝搬法を用いることで求められます。Chainerではbackward関数を呼び出します."
   ]
  },
  {
   "cell_type": "code",
   "execution_count": 30,
   "metadata": {
    "collapsed": true
   },
   "outputs": [],
   "source": [
    "#backward() xでyを微分した微分係数が入っている\n",
    "y.backward()"
   ]
  },
  {
   "cell_type": "code",
   "execution_count": 31,
   "metadata": {},
   "outputs": [
    {
     "data": {
      "text/plain": [
       "array([ 24.], dtype=float32)"
      ]
     },
     "execution_count": 31,
     "metadata": {},
     "output_type": "execute_result"
    }
   ],
   "source": [
    "x.grad # (x^2 - 2x + 1)' = 2x - 2, x = 5が代入されて, 2 * 5 - 2 = 8"
   ]
  },
  {
   "cell_type": "markdown",
   "metadata": {},
   "source": [
    "$\\frac{dy}{dx}=2x-2$より$x=5$のときの微分係数は8."
   ]
  },
  {
   "cell_type": "markdown",
   "metadata": {},
   "source": [
    "## 計算グラフ\n",
    "計算グラフが構築されていることは、creatorを参照して遡ることで確認できます。"
   ]
  },
  {
   "cell_type": "code",
   "execution_count": 32,
   "metadata": {},
   "outputs": [
    {
     "data": {
      "text/plain": [
       "{'_data': [array([ 16.], dtype=float32)],\n",
       " '_node': <chainer.variable.VariableNode at 0x7fd06a666c18>,\n",
       " '_requires_grad': True}"
      ]
     },
     "execution_count": 32,
     "metadata": {},
     "output_type": "execute_result"
    }
   ],
   "source": [
    "y.__dict__"
   ]
  },
  {
   "cell_type": "code",
   "execution_count": 33,
   "metadata": {},
   "outputs": [
    {
     "data": {
      "text/plain": [
       "<chainer.functions.math.basic_math.AddConstant at 0x7fd06a666a90>"
      ]
     },
     "execution_count": 33,
     "metadata": {},
     "output_type": "execute_result"
    }
   ],
   "source": [
    "y.creator # yを生成したのはAddConstant"
   ]
  },
  {
   "cell_type": "code",
   "execution_count": 34,
   "metadata": {},
   "outputs": [
    {
     "data": {
      "text/plain": [
       "{'inputs': (<chainer.variable.VariableNode at 0x7fd06a666be0>,),\n",
       " 'output_data': None,\n",
       " 'outputs': (<weakref at 0x7fd06a663f48; to 'VariableNode' at 0x7fd06a666c18>,),\n",
       " 'rank': 2,\n",
       " 'value': 1}"
      ]
     },
     "execution_count": 34,
     "metadata": {},
     "output_type": "execute_result"
    }
   ],
   "source": [
    "y.creator.__dict__ # input(Variable)に1を足している"
   ]
  },
  {
   "cell_type": "code",
   "execution_count": 35,
   "metadata": {},
   "outputs": [
    {
     "data": {
      "text/plain": [
       "{'_creator': <chainer.functions.math.basic_math.Sub at 0x7fd06a666ac8>,\n",
       " '_data': None,\n",
       " '_grad': None,\n",
       " '_rank': 2,\n",
       " '_requires_grad': True,\n",
       " '_variable': <weakref at 0x7fd06a663e08; dead>,\n",
       " 'dtype': dtype('float32'),\n",
       " 'name': None,\n",
       " 'shape': (1,)}"
      ]
     },
     "execution_count": 35,
     "metadata": {},
     "output_type": "execute_result"
    }
   ],
   "source": [
    "y.creator.inputs[0].__dict__"
   ]
  },
  {
   "cell_type": "code",
   "execution_count": 36,
   "metadata": {},
   "outputs": [
    {
     "data": {
      "text/plain": [
       "{'inputs': (<chainer.variable.VariableNode at 0x7fd06a666a58>,\n",
       "  <chainer.variable.VariableNode at 0x7fd06a666b38>),\n",
       " 'output_data': None,\n",
       " 'outputs': (<weakref at 0x7fd06a663ea8; to 'VariableNode' at 0x7fd06a666be0>,),\n",
       " 'rank': 1}"
      ]
     },
     "execution_count": 36,
     "metadata": {},
     "output_type": "execute_result"
    }
   ],
   "source": [
    "y.creator.inputs[0].creator.__dict__"
   ]
  },
  {
   "cell_type": "markdown",
   "metadata": {},
   "source": [
    "## link とfunction\n",
    "ChainerはConvolutionやReLUなどといったDeep Learningに必要なさまざまな関数を備えています。  \n",
    "パラメタをもつものはlink、もたないものはfunctionです。"
   ]
  },
  {
   "cell_type": "code",
   "execution_count": 37,
   "metadata": {
    "collapsed": true
   },
   "outputs": [],
   "source": [
    "import chainer.functions as F\n",
    "import chainer.links as L"
   ]
  },
  {
   "cell_type": "markdown",
   "metadata": {},
   "source": [
    "よく使われる関数をひと通り見ていきましょう"
   ]
  },
  {
   "cell_type": "markdown",
   "metadata": {},
   "source": [
    "### Linear\n",
    "いわゆるFully connect層です。たとえば入力が2次元、出力5次元のLinear層は次のように生成します。"
   ]
  },
  {
   "cell_type": "code",
   "execution_count": 38,
   "metadata": {
    "collapsed": true
   },
   "outputs": [],
   "source": [
    "fc = L.Linear(2, 5)"
   ]
  },
  {
   "cell_type": "markdown",
   "metadata": {},
   "source": [
    "Deep Learningでは一般にパラメタはランダムに初期化されます。"
   ]
  },
  {
   "cell_type": "code",
   "execution_count": 39,
   "metadata": {},
   "outputs": [
    {
     "data": {
      "text/plain": [
       "array([[ 0.41782433, -0.67281073],\n",
       "       [ 1.18619013,  0.00866163],\n",
       "       [-0.5897969 ,  0.7978791 ],\n",
       "       [ 1.24165654,  0.14138831],\n",
       "       [-0.40714356, -0.08230445]], dtype=float32)"
      ]
     },
     "execution_count": 39,
     "metadata": {},
     "output_type": "execute_result"
    }
   ],
   "source": [
    "fc.W.data"
   ]
  },
  {
   "cell_type": "code",
   "execution_count": 40,
   "metadata": {},
   "outputs": [
    {
     "data": {
      "text/plain": [
       "array([ 0.,  0.,  0.,  0.,  0.], dtype=float32)"
      ]
     },
     "execution_count": 40,
     "metadata": {},
     "output_type": "execute_result"
    }
   ],
   "source": [
    "fc.b.data"
   ]
  },
  {
   "cell_type": "markdown",
   "metadata": {},
   "source": [
    "実際に二次元の入力をつくってLinear層に通してみましょう。  \n",
    "Chainerでは最初の軸はbatchとして扱われることに注意。"
   ]
  },
  {
   "cell_type": "code",
   "execution_count": 41,
   "metadata": {},
   "outputs": [
    {
     "name": "stdout",
     "output_type": "stream",
     "text": [
      "[[ 1.  1.]\n",
      " [ 1.  1.]\n",
      " [ 1.  1.]\n",
      " [ 1.  1.]\n",
      " [ 1.  1.]\n",
      " [ 1.  1.]\n",
      " [ 1.  1.]\n",
      " [ 1.  1.]]\n"
     ]
    }
   ],
   "source": [
    "x = np.ones((8, 2), dtype=np.float32) # (batch, 2)\n",
    "print(x)"
   ]
  },
  {
   "cell_type": "code",
   "execution_count": 42,
   "metadata": {},
   "outputs": [
    {
     "data": {
      "text/plain": [
       "(8, 2)"
      ]
     },
     "execution_count": 42,
     "metadata": {},
     "output_type": "execute_result"
    }
   ],
   "source": [
    "x.shape"
   ]
  },
  {
   "cell_type": "code",
   "execution_count": 43,
   "metadata": {
    "collapsed": true
   },
   "outputs": [],
   "source": [
    "y = fc(x)"
   ]
  },
  {
   "cell_type": "code",
   "execution_count": 44,
   "metadata": {},
   "outputs": [
    {
     "data": {
      "text/plain": [
       "array([[-0.25498641,  1.19485176,  0.2080822 ,  1.38304484, -0.48944801],\n",
       "       [-0.25498641,  1.19485176,  0.2080822 ,  1.38304484, -0.48944801],\n",
       "       [-0.25498641,  1.19485176,  0.2080822 ,  1.38304484, -0.48944801],\n",
       "       [-0.25498641,  1.19485176,  0.2080822 ,  1.38304484, -0.48944801],\n",
       "       [-0.25498641,  1.19485176,  0.2080822 ,  1.38304484, -0.48944801],\n",
       "       [-0.25498641,  1.19485176,  0.2080822 ,  1.38304484, -0.48944801],\n",
       "       [-0.25498641,  1.19485176,  0.2080822 ,  1.38304484, -0.48944801],\n",
       "       [-0.25498641,  1.19485176,  0.2080822 ,  1.38304484, -0.48944801]], dtype=float32)"
      ]
     },
     "execution_count": 44,
     "metadata": {},
     "output_type": "execute_result"
    }
   ],
   "source": [
    "y.data"
   ]
  },
  {
   "cell_type": "markdown",
   "metadata": {},
   "source": [
    "### Convolution2D\n",
    "Convolution層です。\n",
    "- 入力チャネル：3次元\n",
    "- 出力チャネル：8次元\n",
    "- カーネルサイズ：3\n",
    "- ストライド：2\n",
    "- パディング：１\n",
    "\n",
    "のConvolution層は次のように生成します。"
   ]
  },
  {
   "cell_type": "code",
   "execution_count": 45,
   "metadata": {
    "collapsed": true
   },
   "outputs": [],
   "source": [
    "conv = L.Convolution2D(3, 8, ksize=3, stride=2, pad=1)"
   ]
  },
  {
   "cell_type": "code",
   "execution_count": 46,
   "metadata": {},
   "outputs": [
    {
     "data": {
      "text/plain": [
       "array([[[[ -1.19233234e-02,   2.33312830e-01,  -1.25237152e-01],\n",
       "         [  1.34791031e-01,   1.88740030e-01,   1.90065317e-02],\n",
       "         [  2.06741598e-02,  -1.71182245e-01,   6.38270155e-02]],\n",
       "\n",
       "        [[  6.32110164e-02,   1.56077847e-01,   1.86105043e-01],\n",
       "         [ -1.09658418e-02,   1.70396939e-01,  -6.21258989e-02],\n",
       "         [ -1.74809262e-01,   1.26055345e-01,  -3.17141593e-01]],\n",
       "\n",
       "        [[ -5.60988002e-02,  -2.04296127e-01,  -2.91229039e-01],\n",
       "         [ -3.20182949e-01,  -7.82434046e-02,  -2.42871985e-01],\n",
       "         [  2.07216263e-01,  -2.79127538e-01,   2.40839571e-01]]],\n",
       "\n",
       "\n",
       "       [[[  7.33170286e-02,   1.84954237e-02,   1.83443278e-01],\n",
       "         [  2.14629978e-01,  -5.77316843e-02,   2.45458558e-01],\n",
       "         [ -2.82138437e-01,   2.67751575e-01,   1.71177953e-01]],\n",
       "\n",
       "        [[  3.50755870e-01,   1.19494021e-01,  -2.65093744e-02],\n",
       "         [ -2.08006933e-01,   1.05925620e-01,   3.54131162e-01],\n",
       "         [ -9.17986482e-02,  -7.92495757e-02,   5.75435348e-02]],\n",
       "\n",
       "        [[  7.56903961e-02,   2.73411092e-03,   1.85301900e-01],\n",
       "         [ -1.16366722e-01,  -1.07796393e-01,   8.06796253e-02],\n",
       "         [  5.54557703e-02,   6.30092248e-02,   5.12834907e-01]]],\n",
       "\n",
       "\n",
       "       [[[ -8.58169347e-02,  -2.49776185e-01,   5.87528870e-02],\n",
       "         [  1.05619980e-02,   8.52465928e-02,  -9.55602229e-02],\n",
       "         [ -1.59073323e-02,   2.87108887e-02,  -9.52739045e-02]],\n",
       "\n",
       "        [[  4.24778722e-02,   2.30439931e-01,  -6.34591162e-01],\n",
       "         [ -1.15409650e-01,  -1.04183912e-01,   3.78755108e-02],\n",
       "         [ -1.44785792e-01,   8.45202059e-02,  -9.65325758e-02]],\n",
       "\n",
       "        [[  9.51474681e-02,   1.56877279e-01,   1.20629929e-01],\n",
       "         [  6.66415095e-02,  -1.18203886e-01,   2.47585118e-01],\n",
       "         [  3.08429688e-01,  -1.23470433e-01,  -1.72915399e-01]]],\n",
       "\n",
       "\n",
       "       [[[ -3.96344692e-01,   2.78879881e-01,   1.38102956e-02],\n",
       "         [ -8.39148089e-02,   5.92885278e-02,  -1.29916668e-01],\n",
       "         [ -3.43791880e-02,  -6.84430003e-02,   5.48451617e-02]],\n",
       "\n",
       "        [[ -1.52576193e-01,  -8.20972547e-02,   1.66442573e-01],\n",
       "         [  1.27355069e-01,  -2.04604357e-01,   1.56171754e-01],\n",
       "         [  6.27155453e-02,   2.76479512e-01,  -6.10747747e-03]],\n",
       "\n",
       "        [[ -1.53912185e-02,   2.98327893e-01,  -2.01758906e-01],\n",
       "         [ -4.11938965e-01,   2.96709742e-02,   2.84656852e-01],\n",
       "         [  6.04561195e-02,  -1.19186923e-01,  -2.97562033e-02]]],\n",
       "\n",
       "\n",
       "       [[[ -1.51617363e-01,   3.11229322e-02,   1.55320257e-01],\n",
       "         [ -1.49188554e-02,  -1.12389430e-01,   5.56202605e-02],\n",
       "         [  1.62157074e-01,  -2.50559002e-02,  -1.07209645e-01]],\n",
       "\n",
       "        [[  3.26517485e-02,   8.43866467e-02,  -8.66924003e-02],\n",
       "         [ -4.39582407e-01,   2.86381185e-01,  -1.42577048e-02],\n",
       "         [  1.23270981e-01,   1.13095298e-01,   1.01310328e-01]],\n",
       "\n",
       "        [[ -1.56128645e-01,   1.19922988e-01,  -2.20602095e-01],\n",
       "         [  2.82374467e-03,   1.49688661e-01,  -3.93668264e-02],\n",
       "         [  2.28079751e-01,  -5.40689230e-02,  -4.60402854e-02]]],\n",
       "\n",
       "\n",
       "       [[[  3.89161557e-01,   6.77531958e-02,   2.93616466e-02],\n",
       "         [  2.97254860e-01,  -1.00043282e-01,   2.47044921e-01],\n",
       "         [ -6.61144778e-02,   1.09264813e-01,   5.67556010e-04]],\n",
       "\n",
       "        [[ -1.91262677e-01,  -2.66761631e-01,   1.84797630e-01],\n",
       "         [  4.62249279e-01,  -1.06988568e-02,  -2.15118662e-01],\n",
       "         [ -7.77412653e-02,  -5.39595902e-04,   1.65236577e-01]],\n",
       "\n",
       "        [[  3.00100986e-02,  -4.47477549e-02,   2.42433697e-01],\n",
       "         [  2.24217381e-02,   2.45315686e-01,  -1.95803121e-01],\n",
       "         [ -2.23930463e-01,   5.59889413e-02,  -3.60825628e-01]]],\n",
       "\n",
       "\n",
       "       [[[  8.89893472e-02,   2.51751989e-01,  -2.02172354e-01],\n",
       "         [  7.86162317e-02,  -8.58415440e-02,   3.04970652e-01],\n",
       "         [ -1.53621718e-01,   1.99475423e-01,   2.88352347e-03]],\n",
       "\n",
       "        [[ -7.69301802e-02,  -1.53276905e-01,  -1.83358297e-01],\n",
       "         [  9.32584703e-02,  -2.41204336e-01,  -2.13918895e-01],\n",
       "         [ -5.85508347e-02,  -1.03565514e-01,   1.65252373e-01]],\n",
       "\n",
       "        [[ -5.95711358e-02,   3.23618859e-01,  -1.85404584e-01],\n",
       "         [  7.95179605e-03,   2.39827588e-01,  -3.15172702e-01],\n",
       "         [ -2.83201396e-01,   3.76543492e-01,  -3.68385494e-01]]],\n",
       "\n",
       "\n",
       "       [[[  2.59427398e-01,   2.78396040e-01,  -2.91640371e-01],\n",
       "         [  1.60079524e-01,  -8.48279987e-03,   2.78649013e-02],\n",
       "         [  2.37019941e-01,  -3.15404654e-01,   1.07954048e-01]],\n",
       "\n",
       "        [[  9.33808554e-03,  -2.06113189e-01,   1.04487427e-01],\n",
       "         [  2.00968921e-01,   3.26628536e-02,   2.95567140e-02],\n",
       "         [  4.52846773e-02,   2.39223346e-01,  -2.64318198e-01]],\n",
       "\n",
       "        [[ -2.48659998e-02,  -1.92490324e-01,  -1.16004825e-01],\n",
       "         [  1.50401905e-01,  -5.03791422e-02,   4.43974929e-03],\n",
       "         [ -1.37340561e-01,  -8.62474293e-02,  -2.80788898e-01]]]], dtype=float32)"
      ]
     },
     "execution_count": 46,
     "metadata": {},
     "output_type": "execute_result"
    }
   ],
   "source": [
    "conv.W.data"
   ]
  },
  {
   "cell_type": "code",
   "execution_count": 47,
   "metadata": {},
   "outputs": [
    {
     "data": {
      "text/plain": [
       "array([ 0.,  0.,  0.,  0.,  0.,  0.,  0.,  0.], dtype=float32)"
      ]
     },
     "execution_count": 47,
     "metadata": {},
     "output_type": "execute_result"
    }
   ],
   "source": [
    "conv.b.data"
   ]
  },
  {
   "cell_type": "markdown",
   "metadata": {},
   "source": [
    "実際にデータをConvolution層に通してみましょう。"
   ]
  },
  {
   "cell_type": "code",
   "execution_count": 48,
   "metadata": {
    "collapsed": true
   },
   "outputs": [],
   "source": [
    "x = np.ones((1, 3, 5, 5), dtype=np.float32) #(batch, channel, height, width)"
   ]
  },
  {
   "cell_type": "code",
   "execution_count": 49,
   "metadata": {
    "collapsed": true
   },
   "outputs": [],
   "source": [
    "y = conv(x)"
   ]
  },
  {
   "cell_type": "code",
   "execution_count": 50,
   "metadata": {},
   "outputs": [
    {
     "data": {
      "text/plain": [
       "array([[[[-0.34182718, -0.48510388, -0.18663746],\n",
       "         [-0.38709381, -0.53518152, -0.00635403],\n",
       "         [-0.05036439, -0.25153327,  0.26481926]],\n",
       "\n",
       "        [[ 1.61373448,  1.18550944, -0.23631626],\n",
       "         [ 2.09669399,  2.1682322 ,  0.40417057],\n",
       "         [ 1.10362625,  1.49364591,  0.47114068]],\n",
       "\n",
       "        [[-0.322202  , -0.21267161, -0.03785013],\n",
       "         [-0.63986939, -0.47853041,  0.1514993 ],\n",
       "         [-0.26490808, -0.25130591,  0.01400209]],\n",
       "\n",
       "        [[ 0.3030982 ,  0.02339195, -0.30650151],\n",
       "         [ 0.77670264, -0.0673157 , -0.37570307],\n",
       "         [ 0.66887152, -0.26393926, -0.5533452 ]],\n",
       "\n",
       "        [[ 0.30770701,  0.36953723,  0.41948122],\n",
       "         [ 0.39116532,  0.1779014 ,  0.37981945],\n",
       "         [ 0.40913445, -0.31763726, -0.16765878]],\n",
       "\n",
       "        [[-0.05961064,  0.35452905,  0.71342742],\n",
       "         [ 0.15322617,  0.79527462,  0.69758016],\n",
       "         [ 0.18353346,  1.1933682 ,  0.90065217]],\n",
       "\n",
       "        [[-0.0391354 , -0.35468286,  0.06968766],\n",
       "         [-0.18797672, -0.55103618,  0.44426966],\n",
       "         [-0.46018055, -0.32786605,  0.46719018]],\n",
       "\n",
       "        [[-0.56391948,  0.0924949 ,  0.46778661],\n",
       "         [-0.98728472, -0.0869709 ,  0.59147853],\n",
       "         [-0.38770303,  0.36764687,  0.60894322]]]], dtype=float32)"
      ]
     },
     "execution_count": 50,
     "metadata": {},
     "output_type": "execute_result"
    }
   ],
   "source": [
    "y.data"
   ]
  },
  {
   "cell_type": "code",
   "execution_count": 51,
   "metadata": {},
   "outputs": [
    {
     "data": {
      "text/plain": [
       "(1, 8, 3, 3)"
      ]
     },
     "execution_count": 51,
     "metadata": {},
     "output_type": "execute_result"
    }
   ],
   "source": [
    "y.shape"
   ]
  },
  {
   "cell_type": "markdown",
   "metadata": {},
   "source": [
    "### max_pooling_2d\n",
    "Max Pooling層です。引数はConvolutionと似ています。"
   ]
  },
  {
   "cell_type": "code",
   "execution_count": 52,
   "metadata": {
    "collapsed": true
   },
   "outputs": [],
   "source": [
    "x = np.arange(16, dtype=np.float32).reshape(1, 1, 4, 4) # (batch, ch, h, w)"
   ]
  },
  {
   "cell_type": "code",
   "execution_count": 53,
   "metadata": {},
   "outputs": [
    {
     "data": {
      "text/plain": [
       "array([[[[  0.,   1.,   2.,   3.],\n",
       "         [  4.,   5.,   6.,   7.],\n",
       "         [  8.,   9.,  10.,  11.],\n",
       "         [ 12.,  13.,  14.,  15.]]]], dtype=float32)"
      ]
     },
     "execution_count": 53,
     "metadata": {},
     "output_type": "execute_result"
    }
   ],
   "source": [
    "x"
   ]
  },
  {
   "cell_type": "code",
   "execution_count": 54,
   "metadata": {
    "collapsed": true
   },
   "outputs": [],
   "source": [
    "y = F.max_pooling_2d(x, ksize=2, stride=2, pad=0)"
   ]
  },
  {
   "cell_type": "code",
   "execution_count": 55,
   "metadata": {},
   "outputs": [
    {
     "data": {
      "text/plain": [
       "array([[[[  5.,   7.],\n",
       "         [ 13.,  15.]]]], dtype=float32)"
      ]
     },
     "execution_count": 55,
     "metadata": {},
     "output_type": "execute_result"
    }
   ],
   "source": [
    "y.data"
   ]
  },
  {
   "cell_type": "markdown",
   "metadata": {},
   "source": [
    "各ウィンドウの最大値を取っていることが見て取れます。"
   ]
  },
  {
   "cell_type": "markdown",
   "metadata": {},
   "source": [
    "### relu\n",
    "Deep Learningでよく使われる活性化関数ReLUです。\n",
    "$$\n",
    "f_{relu}(x) = max \\{0, x\\}\n",
    "$$"
   ]
  },
  {
   "cell_type": "code",
   "execution_count": 56,
   "metadata": {
    "collapsed": true
   },
   "outputs": [],
   "source": [
    "x = np.array([-3, -2, -1, 0, 1, 2, 3], dtype=np.float32)"
   ]
  },
  {
   "cell_type": "code",
   "execution_count": 57,
   "metadata": {
    "collapsed": true
   },
   "outputs": [],
   "source": [
    "y = F.relu(x)"
   ]
  },
  {
   "cell_type": "code",
   "execution_count": 58,
   "metadata": {},
   "outputs": [
    {
     "data": {
      "text/plain": [
       "array([ 0.,  0.,  0.,  0.,  1.,  2.,  3.], dtype=float32)"
      ]
     },
     "execution_count": 58,
     "metadata": {},
     "output_type": "execute_result"
    }
   ],
   "source": [
    "y.data"
   ]
  },
  {
   "cell_type": "markdown",
   "metadata": {},
   "source": [
    "### softmax\n",
    "$$\n",
    "p[i] = \\displaystyle \\frac{\\exp \\{y[i]\\}}{\\displaystyle \\sum_{j} \\exp \\{y[j]\\}}\n",
    "$$"
   ]
  },
  {
   "cell_type": "code",
   "execution_count": 59,
   "metadata": {
    "collapsed": true
   },
   "outputs": [],
   "source": [
    "x = np.array([[1, 2, 3, 4, 5]], dtype = np.float32)"
   ]
  },
  {
   "cell_type": "code",
   "execution_count": 60,
   "metadata": {
    "collapsed": true
   },
   "outputs": [],
   "source": [
    "y = F.softmax(x)"
   ]
  },
  {
   "cell_type": "code",
   "execution_count": 61,
   "metadata": {},
   "outputs": [
    {
     "data": {
      "text/plain": [
       "array([[ 0.01165623,  0.03168492,  0.08612854,  0.23412167,  0.63640863]], dtype=float32)"
      ]
     },
     "execution_count": 61,
     "metadata": {},
     "output_type": "execute_result"
    }
   ],
   "source": [
    "y.data"
   ]
  },
  {
   "cell_type": "code",
   "execution_count": 62,
   "metadata": {
    "scrolled": true
   },
   "outputs": [
    {
     "data": {
      "text/plain": [
       "1.0"
      ]
     },
     "execution_count": 62,
     "metadata": {},
     "output_type": "execute_result"
    }
   ],
   "source": [
    "np.sum(y.data)"
   ]
  },
  {
   "cell_type": "markdown",
   "metadata": {},
   "source": [
    "### dropout\n",
    "ランダムに一定数のノードを無効にして過学習を防ぎます。  \n",
    "入力$x=\\begin{pmatrix} x_1 \\\\ x_2 \\\\ \\vdots \\\\ x_n \\end{pmatrix}$として$y=\\begin{pmatrix} y_1 \\\\ y_2 \\\\ \\vdots \\\\ y_n \\end{pmatrix}$, （ただし確率$ratio$で$y_i=0$、確率$1 - ratio$で$x \\times \\frac{1}{1 - ratio}$）を返します。"
   ]
  },
  {
   "cell_type": "code",
   "execution_count": 64,
   "metadata": {
    "collapsed": true
   },
   "outputs": [],
   "source": [
    "x = np.arange(10, dtype=np.float32)"
   ]
  },
  {
   "cell_type": "code",
   "execution_count": 65,
   "metadata": {},
   "outputs": [
    {
     "data": {
      "text/plain": [
       "variable([  0.,   2.,   4.,   0.,   8.,  10.,   0.,   0.,  16.,   0.])"
      ]
     },
     "execution_count": 65,
     "metadata": {},
     "output_type": "execute_result"
    }
   ],
   "source": [
    "F.dropout(x, ratio=0.5)"
   ]
  },
  {
   "cell_type": "markdown",
   "metadata": {},
   "source": [
    "### mean_squared_error\n",
    "二乗和誤差の総和を取り、バッチ数で割った値を返します。"
   ]
  },
  {
   "cell_type": "code",
   "execution_count": 66,
   "metadata": {
    "collapsed": true
   },
   "outputs": [],
   "source": [
    "x = np.array([1, 2, 3], dtype=np.float32)\n",
    "t = np.array([0, 0, 0], dtype=np.float32)"
   ]
  },
  {
   "cell_type": "code",
   "execution_count": null,
   "metadata": {
    "collapsed": true
   },
   "outputs": [],
   "source": [
    "F.mean_squared_error(x, t) # ((1-0)**2 + (2-0)**2 + (3-0)**2) / 3"
   ]
  },
  {
   "cell_type": "markdown",
   "metadata": {},
   "source": [
    "### softmax_cross_entropy\n",
    "Softmax cross entropyです。  \n",
    "入力$x=\\begin{pmatrix} x_1 \\\\ x_2 \\\\ \\vdots \\\\ x_n \\end{pmatrix}$、ラベル$k$に対して$y = - log(softmax(x))^T L$（ただし$L$はk次元目が1、それ以外が0のベクトル）を返す。"
   ]
  },
  {
   "cell_type": "code",
   "execution_count": 67,
   "metadata": {
    "collapsed": true
   },
   "outputs": [],
   "source": [
    "x = np.array([[1, 2, 3]], dtype=np.float32)\n",
    "t = np.array([1], dtype=np.int32)"
   ]
  },
  {
   "cell_type": "code",
   "execution_count": 68,
   "metadata": {},
   "outputs": [
    {
     "data": {
      "text/plain": [
       "variable(1.4076058864593506)"
      ]
     },
     "execution_count": 68,
     "metadata": {},
     "output_type": "execute_result"
    }
   ],
   "source": [
    "F.softmax_cross_entropy(x, t)"
   ]
  },
  {
   "cell_type": "markdown",
   "metadata": {},
   "source": [
    "## cupy\n",
    "cupyはGPUを用いて高速な行列演算を行うためのライブラリです。操作方法はnumpyと互換性があります。"
   ]
  },
  {
   "cell_type": "code",
   "execution_count": 69,
   "metadata": {
    "collapsed": true
   },
   "outputs": [],
   "source": [
    "import cupy as cp\n",
    "from chainer import cuda"
   ]
  },
  {
   "cell_type": "code",
   "execution_count": 70,
   "metadata": {},
   "outputs": [
    {
     "data": {
      "text/plain": [
       "array([ 0.,  1.,  2.,  3.,  4.], dtype=float32)"
      ]
     },
     "execution_count": 70,
     "metadata": {},
     "output_type": "execute_result"
    }
   ],
   "source": [
    "x = cp.array([0, 1, 2, 3, 4], dtype=np.float32)\n",
    "x"
   ]
  },
  {
   "cell_type": "markdown",
   "metadata": {},
   "source": [
    "numpy配列をcupy配列に変換するにはcuda.to_gpu()関数を用います。 <br>\n",
    "（cudaがインストールされていないとgpuが使えないので\"CUDA environment is not correctly set up\"と表示されます）。"
   ]
  },
  {
   "cell_type": "code",
   "execution_count": 71,
   "metadata": {},
   "outputs": [
    {
     "data": {
      "text/plain": [
       "array([ 0.,  1.,  2.,  3.,  4.], dtype=float32)"
      ]
     },
     "execution_count": 71,
     "metadata": {},
     "output_type": "execute_result"
    }
   ],
   "source": [
    "x_np = np.array([0, 1, 2, 3, 4], dtype=np.float32)\n",
    "x"
   ]
  },
  {
   "cell_type": "code",
   "execution_count": 72,
   "metadata": {},
   "outputs": [
    {
     "data": {
      "text/plain": [
       "array([ 0.,  1.,  2.,  3.,  4.], dtype=float32)"
      ]
     },
     "execution_count": 72,
     "metadata": {},
     "output_type": "execute_result"
    }
   ],
   "source": [
    "x_cp = cuda.to_gpu(x)\n",
    "x"
   ]
  },
  {
   "cell_type": "markdown",
   "metadata": {},
   "source": [
    "次のように変換することも出来ます。"
   ]
  },
  {
   "cell_type": "code",
   "execution_count": 73,
   "metadata": {},
   "outputs": [
    {
     "data": {
      "text/plain": [
       "array([ 0.,  1.,  2.,  3.,  4.], dtype=float32)"
      ]
     },
     "execution_count": 73,
     "metadata": {},
     "output_type": "execute_result"
    }
   ],
   "source": [
    "x_cp = cp.array(x_np)\n",
    "x_cp"
   ]
  },
  {
   "cell_type": "markdown",
   "metadata": {},
   "source": [
    "cupy配列からnumpy配列に戻したい場合はcuda.to_cpu()関数を用います。"
   ]
  },
  {
   "cell_type": "code",
   "execution_count": 74,
   "metadata": {},
   "outputs": [
    {
     "data": {
      "text/plain": [
       "array([ 0.,  1.,  2.,  3.,  4.], dtype=float32)"
      ]
     },
     "execution_count": 74,
     "metadata": {},
     "output_type": "execute_result"
    }
   ],
   "source": [
    "x_np = cuda.to_cpu(x_cp)\n",
    "x_np"
   ]
  },
  {
   "cell_type": "markdown",
   "metadata": {},
   "source": [
    "numpy配列とcupy配列の間で演算を行うことは出来ません。またmatplotlibなどに渡す際も一度numpy配列に変換する必要があります。"
   ]
  },
  {
   "cell_type": "code",
   "execution_count": 75,
   "metadata": {},
   "outputs": [
    {
     "ename": "TypeError",
     "evalue": "Unsupported type <class 'numpy.ndarray'>",
     "output_type": "error",
     "traceback": [
      "\u001b[0;31m---------------------------------------------------------------------------\u001b[0m",
      "\u001b[0;31mTypeError\u001b[0m                                 Traceback (most recent call last)",
      "\u001b[0;32m<ipython-input-75-a99725b72f6e>\u001b[0m in \u001b[0;36m<module>\u001b[0;34m()\u001b[0m\n\u001b[0;32m----> 1\u001b[0;31m \u001b[0mx_cp\u001b[0m \u001b[0;34m+\u001b[0m \u001b[0mx_np\u001b[0m\u001b[0;34m\u001b[0m\u001b[0m\n\u001b[0m",
      "\u001b[0;32mcupy/core/core.pyx\u001b[0m in \u001b[0;36mcupy.core.core.ndarray.__add__\u001b[0;34m()\u001b[0m\n",
      "\u001b[0;32mcupy/core/elementwise.pxi\u001b[0m in \u001b[0;36mcupy.core.core.ufunc.__call__\u001b[0;34m()\u001b[0m\n",
      "\u001b[0;32mcupy/core/elementwise.pxi\u001b[0m in \u001b[0;36mcupy.core.core._preprocess_args\u001b[0;34m()\u001b[0m\n",
      "\u001b[0;31mTypeError\u001b[0m: Unsupported type <class 'numpy.ndarray'>"
     ]
    }
   ],
   "source": [
    "x_cp + x_np"
   ]
  },
  {
   "cell_type": "markdown",
   "metadata": {},
   "source": [
    "## 簡単なモデルの定義とoptimizerのセットアップ"
   ]
  },
  {
   "cell_type": "markdown",
   "metadata": {},
   "source": [
    "Chainerでは一般に、Chainクラスを継承する形でモデルをつくります。  \n",
    "ここでは一層のニューラルネットワークを定義し、単回帰を学習させてみます。"
   ]
  },
  {
   "cell_type": "code",
   "execution_count": 76,
   "metadata": {
    "collapsed": true
   },
   "outputs": [],
   "source": [
    "# plot用\n",
    "%matplotlib inline\n",
    "import pylab as plt"
   ]
  },
  {
   "cell_type": "markdown",
   "metadata": {},
   "source": [
    "### モデル定義\n",
    "init_scope内で定義されたlinkは追跡され、optimizerによってパラメタを更新することが出来ます。"
   ]
  },
  {
   "cell_type": "code",
   "execution_count": 81,
   "metadata": {
    "collapsed": true
   },
   "outputs": [],
   "source": [
    "class MyChain(chainer.Chain):\n",
    "    def __init__(self):\n",
    "        #必要な関数を親から取得\n",
    "        super(MyChain, self).__init__()\n",
    "        with self.init_scope():\n",
    "            self.l0 = L.Linear(1, 1)\n",
    "    #call関数をオーバーライド\n",
    "    def __call__(self, x):\n",
    "        return self.l0(x)"
   ]
  },
  {
   "cell_type": "code",
   "execution_count": 82,
   "metadata": {
    "collapsed": true
   },
   "outputs": [],
   "source": [
    "# モデルの生成\n",
    "model = MyChain()"
   ]
  },
  {
   "cell_type": "code",
   "execution_count": 83,
   "metadata": {
    "collapsed": true
   },
   "outputs": [],
   "source": [
    "# ダミーデータの作成\n",
    "x = np.array([[1]], dtype=np.float32)"
   ]
  },
  {
   "cell_type": "code",
   "execution_count": 84,
   "metadata": {},
   "outputs": [
    {
     "data": {
      "text/plain": [
       "variable([[ 0.99259293]])"
      ]
     },
     "execution_count": 84,
     "metadata": {},
     "output_type": "execute_result"
    }
   ],
   "source": [
    "# forward\n",
    "model(x)"
   ]
  },
  {
   "cell_type": "markdown",
   "metadata": {},
   "source": [
    "### 単回帰\n",
    "以下のデータで回帰を行ってみます。(青い点からオレンジの線を引かせる)"
   ]
  },
  {
   "cell_type": "code",
   "execution_count": 86,
   "metadata": {},
   "outputs": [
    {
     "data": {
      "text/plain": [
       "[<matplotlib.lines.Line2D at 0x7fd05b840860>]"
      ]
     },
     "execution_count": 86,
     "metadata": {},
     "output_type": "execute_result"
    },
    {
     "data": {
      "image/png": "[encoded data removed]",
      "text/plain": [
       "<matplotlib.figure.Figure at 0x7fd05b840940>"
      ]
     },
     "metadata": {},
     "output_type": "display_data"
    }
   ],
   "source": [
    "#0.1ごとに増える数列を作成\n",
    "x = np.arange(0, 10, 0.1, dtype=np.float32)\n",
    "#乱数を作る\n",
    "t = x + np.array(np.random.normal(0, 1, size=100) * 2, dtype=np.float32)\n",
    "x = x[:, np.newaxis]   # sampleは第０次元、featureは第１次元に配置します\n",
    "t = t[:, np.newaxis]\n",
    "plt.plot(x, t, 'o')\n",
    "plt.plot(x, x, '-')"
   ]
  },
  {
   "cell_type": "markdown",
   "metadata": {},
   "source": [
    "モデルを生成します。"
   ]
  },
  {
   "cell_type": "code",
   "execution_count": 87,
   "metadata": {
    "collapsed": true
   },
   "outputs": [],
   "source": [
    "model = MyChain()"
   ]
  },
  {
   "cell_type": "markdown",
   "metadata": {},
   "source": [
    "optimizerを定義します。  \n",
    "今回は確率的勾配降下法（SDG）を使用します。"
   ]
  },
  {
   "cell_type": "code",
   "execution_count": 88,
   "metadata": {
    "collapsed": true
   },
   "outputs": [],
   "source": [
    "optimizer = chainer.optimizers.SGD(lr=1e-4) # lr: learning rate\n",
    "optimizer.setup(model)"
   ]
  },
  {
   "cell_type": "markdown",
   "metadata": {},
   "source": [
    "### 学習ループ\n",
    "次の手順を繰り返して学習を行います。\n",
    "1. データからランダムにミニバッチを取り出す。\n",
    "1. ミニバッチに対して損失を計算する。\n",
    "1. 損失を逆伝播させパラメタを更新する。"
   ]
  },
  {
   "cell_type": "markdown",
   "metadata": {},
   "source": [
    "今回は、ランダムにミニバッチを取り出すのにnp.random.permutation()を使います。"
   ]
  },
  {
   "cell_type": "code",
   "execution_count": 89,
   "metadata": {},
   "outputs": [
    {
     "data": {
      "text/plain": [
       "array([88, 79, 24, 69, 34, 92, 61, 22, 26, 19, 85, 33, 91, 63, 44, 48, 57,\n",
       "        9, 97, 37,  8, 78, 20, 74, 68, 82, 59, 51, 81,  7, 28, 49, 50, 52,\n",
       "       84, 76, 15, 11,  5, 66, 86, 16, 80, 17, 14, 39, 65, 89, 72, 58,  1,\n",
       "       32, 64, 27, 36, 53, 75,  4, 10, 56, 95,  6, 13, 54, 41, 42,  3, 70,\n",
       "       46, 67,  0, 87, 12, 90, 83, 77, 35, 47, 23, 31, 30, 94, 62, 73, 25,\n",
       "       55, 40, 98, 43, 96, 60, 21, 93, 99, 71,  2, 38, 18, 45, 29])"
      ]
     },
     "execution_count": 89,
     "metadata": {},
     "output_type": "execute_result"
    }
   ],
   "source": [
    "#len関数の引数の等差数列が可能\n",
    "perm = np.random.permutation(len(x))\n",
    "perm"
   ]
  },
  {
   "cell_type": "code",
   "execution_count": 90,
   "metadata": {},
   "outputs": [
    {
     "data": {
      "text/plain": [
       "(array([[ 8.80000019],\n",
       "        [ 7.9000001 ],\n",
       "        [ 2.4000001 ],\n",
       "        [ 6.9000001 ],\n",
       "        [ 3.4000001 ],\n",
       "        [ 9.19999981],\n",
       "        [ 6.0999999 ],\n",
       "        [ 2.20000005],\n",
       "        [ 2.60000014],\n",
       "        [ 1.89999998]], dtype=float32), array([[  9.83472061],\n",
       "        [  3.41231537],\n",
       "        [ -0.53294683],\n",
       "        [  7.64341784],\n",
       "        [  3.36850262],\n",
       "        [ 10.0673542 ],\n",
       "        [  8.43527699],\n",
       "        [  0.11064577],\n",
       "        [  5.35431957],\n",
       "        [ -1.51228011]], dtype=float32))"
      ]
     },
     "execution_count": 90,
     "metadata": {},
     "output_type": "execute_result"
    }
   ],
   "source": [
    "x[perm[0:10]], t[perm[0:10]]"
   ]
  },
  {
   "cell_type": "markdown",
   "metadata": {},
   "source": [
    "学習の設定"
   ]
  },
  {
   "cell_type": "code",
   "execution_count": 91,
   "metadata": {
    "collapsed": true
   },
   "outputs": [],
   "source": [
    "n_epoch = 50 # 学習データを何周するか\n",
    "batchsize = 8 # ミニバッチサイズ"
   ]
  },
  {
   "cell_type": "markdown",
   "metadata": {},
   "source": [
    "学習ループを書いていきます。Chainerには学習を行うためのより抽象化された方法が用意されているのですが、ここではベタで一般的な書き方をしています。"
   ]
  },
  {
   "cell_type": "code",
   "execution_count": 92,
   "metadata": {},
   "outputs": [
    {
     "name": "stdout",
     "output_type": "stream",
     "text": [
      "epoch: 0\n",
      "sum loss: 68.0840113163\n",
      "epoch: 1\n",
      "sum loss: 65.0516908169\n",
      "epoch: 2\n",
      "sum loss: 63.6163983345\n",
      "epoch: 3\n",
      "sum loss: 62.2717664242\n",
      "epoch: 4\n",
      "sum loss: 60.1899787188\n",
      "epoch: 5\n",
      "sum loss: 60.5970749855\n",
      "epoch: 6\n",
      "sum loss: 60.8258843422\n",
      "epoch: 7\n",
      "sum loss: 59.1949067116\n",
      "epoch: 8\n",
      "sum loss: 59.8175013065\n",
      "epoch: 9\n",
      "sum loss: 56.5990768671\n",
      "epoch: 10\n",
      "sum loss: 55.9045591354\n",
      "epoch: 11\n",
      "sum loss: 56.7855247259\n",
      "epoch: 12\n",
      "sum loss: 57.0672924519\n",
      "epoch: 13\n",
      "sum loss: 54.9061739445\n",
      "epoch: 14\n",
      "sum loss: 55.7696528435\n",
      "epoch: 15\n",
      "sum loss: 55.095607996\n",
      "epoch: 16\n",
      "sum loss: 58.5560977459\n",
      "epoch: 17\n",
      "sum loss: 56.9463067055\n",
      "epoch: 18\n",
      "sum loss: 55.729110837\n",
      "epoch: 19\n",
      "sum loss: 55.7682883739\n",
      "epoch: 20\n",
      "sum loss: 54.4153152704\n",
      "epoch: 21\n",
      "sum loss: 58.2007153034\n",
      "epoch: 22\n",
      "sum loss: 55.6757879257\n",
      "epoch: 23\n",
      "sum loss: 55.6080536842\n",
      "epoch: 24\n",
      "sum loss: 55.1971356869\n",
      "epoch: 25\n",
      "sum loss: 54.3079426289\n",
      "epoch: 26\n",
      "sum loss: 54.2318758965\n",
      "epoch: 27\n",
      "sum loss: 54.9138951302\n",
      "epoch: 28\n",
      "sum loss: 55.5813930035\n",
      "epoch: 29\n",
      "sum loss: 58.469976902\n",
      "epoch: 30\n",
      "sum loss: 53.8806548119\n",
      "epoch: 31\n",
      "sum loss: 54.6218836308\n",
      "epoch: 32\n",
      "sum loss: 55.0634591579\n",
      "epoch: 33\n",
      "sum loss: 56.6973032951\n",
      "epoch: 34\n",
      "sum loss: 54.9444497824\n",
      "epoch: 35\n",
      "sum loss: 55.479344368\n",
      "epoch: 36\n",
      "sum loss: 55.5291973352\n",
      "epoch: 37\n",
      "sum loss: 56.1305952072\n",
      "epoch: 38\n",
      "sum loss: 58.3949713707\n",
      "epoch: 39\n",
      "sum loss: 54.2948465347\n",
      "epoch: 40\n",
      "sum loss: 53.9820667505\n",
      "epoch: 41\n",
      "sum loss: 55.2746100426\n",
      "epoch: 42\n",
      "sum loss: 54.8436510563\n",
      "epoch: 43\n",
      "sum loss: 56.3708443642\n",
      "epoch: 44\n",
      "sum loss: 53.834572196\n",
      "epoch: 45\n",
      "sum loss: 53.4091258049\n",
      "epoch: 46\n",
      "sum loss: 53.8122903109\n",
      "epoch: 47\n",
      "sum loss: 58.4027675986\n",
      "epoch: 48\n",
      "sum loss: 53.3096587658\n",
      "epoch: 49\n",
      "sum loss: 53.5289649963\n"
     ]
    }
   ],
   "source": [
    "#ニューラルネットワークの学習プロセス\n",
    "for epoch in range(n_epoch):\n",
    "    print('epoch:', epoch)\n",
    "    perm = np.random.permutation(len(x))\n",
    "    sum_loss = 0. # 1 epochごとのlossの合計を記録する。\n",
    "    for i in range(0, len(x), batchsize):\n",
    "        #ミニバッチ生成\n",
    "        x_batch = x[perm[i:i+batchsize]]\n",
    "        t_batch = t[perm[i:i+batchsize]]\n",
    "\n",
    "        # 順伝播(forward)\n",
    "        y = model(x_batch)\n",
    "\n",
    "        # lossの計算\n",
    "        loss = F.mean_squared_error(y, t_batch)\n",
    "        \n",
    "        # 逆伝播(backward)\n",
    "        model.cleargrads() # gradientの初期化\n",
    "        loss.backward()\n",
    "        \n",
    "        # パラメタ更新\n",
    "        optimizer.update()\n",
    "        \n",
    "        sum_loss += loss.data\n",
    "    print('sum loss:', sum_loss)"
   ]
  },
  {
   "cell_type": "markdown",
   "metadata": {},
   "source": [
    "結果を表示します。"
   ]
  },
  {
   "cell_type": "code",
   "execution_count": 93,
   "metadata": {
    "scrolled": true
   },
   "outputs": [
    {
     "data": {
      "text/plain": [
       "[<matplotlib.lines.Line2D at 0x7fd05b70a9b0>]"
      ]
     },
     "execution_count": 93,
     "metadata": {},
     "output_type": "execute_result"
    },
    {
     "data": {
      "image/png": "[encoded data removed]",
      "text/plain": [
       "<matplotlib.figure.Figure at 0x7fd05b70a978>"
      ]
     },
     "metadata": {},
     "output_type": "display_data"
    }
   ],
   "source": [
    "y = model(x).data \n",
    "plt.plot(x, t, 'o') # データをプロットします\n",
    "plt.plot(x, y.data) #単回帰の結果をプロットします "
   ]
  },
  {
   "cell_type": "code",
   "execution_count": 94,
   "metadata": {
    "collapsed": true
   },
   "outputs": [],
   "source": [
    "#ニューラルネットワークの予測と近い"
   ]
  },
  {
   "cell_type": "code",
   "execution_count": null,
   "metadata": {
    "collapsed": true
   },
   "outputs": [],
   "source": []
  }
 ],
 "metadata": {
  "kernelspec": {
   "display_name": "Python 3",
   "language": "python",
   "name": "python3"
  },
  "language_info": {
   "codemirror_mode": {
    "name": "ipython",
    "version": 3
   },
   "file_extension": ".py",
   "mimetype": "text/x-python",
   "name": "python",
   "nbconvert_exporter": "python",
   "pygments_lexer": "ipython3",
   "version": "3.6.3"
  }
 },
 "nbformat": 4,
 "nbformat_minor": 2
}
