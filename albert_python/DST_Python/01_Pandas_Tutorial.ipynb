{
 "cells": [
  {
   "cell_type": "markdown",
   "metadata": {},
   "source": [
    "# Python でのデータ分析の基礎"
   ]
  },
  {
   "cell_type": "code",
   "execution_count": 1,
   "metadata": {},
   "outputs": [],
   "source": [
    "import pandas as pd\n",
    "import numpy as np\n",
    "import seaborn as sns"
   ]
  },
  {
   "cell_type": "code",
   "execution_count": 2,
   "metadata": {},
   "outputs": [],
   "source": [
    "%matplotlib inline"
   ]
  },
  {
   "cell_type": "markdown",
   "metadata": {},
   "source": [
    "## データの読み込み"
   ]
  },
  {
   "cell_type": "markdown",
   "metadata": {},
   "source": [
    "あるレストランのウェイターが数ヶ月の期間に受け取ったチップについて記録したデータをデータフレームとして読み込ます。結果を `tips` と名付けます。データは244行、7列からなります。各列は\n",
    "\n",
    "- bill: 請求額\n",
    "- tip: チップの額\n",
    "- sex: 会計をした客の性別\n",
    "- smoker: 客が喫煙者か否か\n",
    "- day: 週の曜日\n",
    "- time: 時間帯 ('Lunch', 'Dinner')\n",
    "- size: パーティーのサイズ\n",
    "\n",
    "で、金額の単位はドルです。"
   ]
  },
  {
   "cell_type": "code",
   "execution_count": 3,
   "metadata": {},
   "outputs": [],
   "source": [
    "tips = pd.read_csv('data/tips.csv')"
   ]
  },
  {
   "cell_type": "markdown",
   "metadata": {},
   "source": [
    "データの行数と列数を確認します。"
   ]
  },
  {
   "cell_type": "code",
   "execution_count": 4,
   "metadata": {},
   "outputs": [
    {
     "data": {
      "text/plain": [
       "(244, 7)"
      ]
     },
     "execution_count": 4,
     "metadata": {},
     "output_type": "execute_result"
    }
   ],
   "source": [
    "tips.shape"
   ]
  },
  {
   "cell_type": "markdown",
   "metadata": {},
   "source": [
    "上部と下部のレコードを確認します。"
   ]
  },
  {
   "cell_type": "code",
   "execution_count": 5,
   "metadata": {},
   "outputs": [
    {
     "data": {
      "text/html": [
       "<div>\n",
       "<style>\n",
       "    .dataframe thead tr:only-child th {\n",
       "        text-align: right;\n",
       "    }\n",
       "\n",
       "    .dataframe thead th {\n",
       "        text-align: left;\n",
       "    }\n",
       "\n",
       "    .dataframe tbody tr th {\n",
       "        vertical-align: top;\n",
       "    }\n",
       "</style>\n",
       "<table border=\"1\" class=\"dataframe\">\n",
       "  <thead>\n",
       "    <tr style=\"text-align: right;\">\n",
       "      <th></th>\n",
       "      <th>bill</th>\n",
       "      <th>tip</th>\n",
       "      <th>sex</th>\n",
       "      <th>smoker</th>\n",
       "      <th>day</th>\n",
       "      <th>time</th>\n",
       "      <th>size</th>\n",
       "    </tr>\n",
       "  </thead>\n",
       "  <tbody>\n",
       "    <tr>\n",
       "      <th>0</th>\n",
       "      <td>16.99</td>\n",
       "      <td>1.01</td>\n",
       "      <td>Female</td>\n",
       "      <td>No</td>\n",
       "      <td>Sun</td>\n",
       "      <td>Dinner</td>\n",
       "      <td>2</td>\n",
       "    </tr>\n",
       "    <tr>\n",
       "      <th>1</th>\n",
       "      <td>10.34</td>\n",
       "      <td>1.66</td>\n",
       "      <td>Male</td>\n",
       "      <td>No</td>\n",
       "      <td>Sun</td>\n",
       "      <td>Dinner</td>\n",
       "      <td>3</td>\n",
       "    </tr>\n",
       "    <tr>\n",
       "      <th>2</th>\n",
       "      <td>21.01</td>\n",
       "      <td>3.50</td>\n",
       "      <td>Male</td>\n",
       "      <td>No</td>\n",
       "      <td>Sun</td>\n",
       "      <td>Dinner</td>\n",
       "      <td>3</td>\n",
       "    </tr>\n",
       "    <tr>\n",
       "      <th>3</th>\n",
       "      <td>23.68</td>\n",
       "      <td>3.31</td>\n",
       "      <td>Male</td>\n",
       "      <td>No</td>\n",
       "      <td>Sun</td>\n",
       "      <td>Dinner</td>\n",
       "      <td>2</td>\n",
       "    </tr>\n",
       "    <tr>\n",
       "      <th>4</th>\n",
       "      <td>24.59</td>\n",
       "      <td>3.61</td>\n",
       "      <td>Female</td>\n",
       "      <td>No</td>\n",
       "      <td>Sun</td>\n",
       "      <td>Dinner</td>\n",
       "      <td>4</td>\n",
       "    </tr>\n",
       "  </tbody>\n",
       "</table>\n",
       "</div>"
      ],
      "text/plain": [
       "    bill   tip     sex smoker  day    time  size\n",
       "0  16.99  1.01  Female     No  Sun  Dinner     2\n",
       "1  10.34  1.66    Male     No  Sun  Dinner     3\n",
       "2  21.01  3.50    Male     No  Sun  Dinner     3\n",
       "3  23.68  3.31    Male     No  Sun  Dinner     2\n",
       "4  24.59  3.61  Female     No  Sun  Dinner     4"
      ]
     },
     "execution_count": 5,
     "metadata": {},
     "output_type": "execute_result"
    }
   ],
   "source": [
    "tips.head()"
   ]
  },
  {
   "cell_type": "code",
   "execution_count": 6,
   "metadata": {},
   "outputs": [
    {
     "data": {
      "text/html": [
       "<div>\n",
       "<style>\n",
       "    .dataframe thead tr:only-child th {\n",
       "        text-align: right;\n",
       "    }\n",
       "\n",
       "    .dataframe thead th {\n",
       "        text-align: left;\n",
       "    }\n",
       "\n",
       "    .dataframe tbody tr th {\n",
       "        vertical-align: top;\n",
       "    }\n",
       "</style>\n",
       "<table border=\"1\" class=\"dataframe\">\n",
       "  <thead>\n",
       "    <tr style=\"text-align: right;\">\n",
       "      <th></th>\n",
       "      <th>bill</th>\n",
       "      <th>tip</th>\n",
       "      <th>sex</th>\n",
       "      <th>smoker</th>\n",
       "      <th>day</th>\n",
       "      <th>time</th>\n",
       "      <th>size</th>\n",
       "    </tr>\n",
       "  </thead>\n",
       "  <tbody>\n",
       "    <tr>\n",
       "      <th>239</th>\n",
       "      <td>29.03</td>\n",
       "      <td>5.92</td>\n",
       "      <td>Male</td>\n",
       "      <td>No</td>\n",
       "      <td>Sat</td>\n",
       "      <td>Dinner</td>\n",
       "      <td>3</td>\n",
       "    </tr>\n",
       "    <tr>\n",
       "      <th>240</th>\n",
       "      <td>27.18</td>\n",
       "      <td>2.00</td>\n",
       "      <td>Female</td>\n",
       "      <td>Yes</td>\n",
       "      <td>Sat</td>\n",
       "      <td>Dinner</td>\n",
       "      <td>2</td>\n",
       "    </tr>\n",
       "    <tr>\n",
       "      <th>241</th>\n",
       "      <td>22.67</td>\n",
       "      <td>2.00</td>\n",
       "      <td>Male</td>\n",
       "      <td>Yes</td>\n",
       "      <td>Sat</td>\n",
       "      <td>Dinner</td>\n",
       "      <td>2</td>\n",
       "    </tr>\n",
       "    <tr>\n",
       "      <th>242</th>\n",
       "      <td>17.82</td>\n",
       "      <td>1.75</td>\n",
       "      <td>Male</td>\n",
       "      <td>No</td>\n",
       "      <td>Sat</td>\n",
       "      <td>Dinner</td>\n",
       "      <td>2</td>\n",
       "    </tr>\n",
       "    <tr>\n",
       "      <th>243</th>\n",
       "      <td>18.78</td>\n",
       "      <td>3.00</td>\n",
       "      <td>Female</td>\n",
       "      <td>No</td>\n",
       "      <td>Thur</td>\n",
       "      <td>Dinner</td>\n",
       "      <td>2</td>\n",
       "    </tr>\n",
       "  </tbody>\n",
       "</table>\n",
       "</div>"
      ],
      "text/plain": [
       "      bill   tip     sex smoker   day    time  size\n",
       "239  29.03  5.92    Male     No   Sat  Dinner     3\n",
       "240  27.18  2.00  Female    Yes   Sat  Dinner     2\n",
       "241  22.67  2.00    Male    Yes   Sat  Dinner     2\n",
       "242  17.82  1.75    Male     No   Sat  Dinner     2\n",
       "243  18.78  3.00  Female     No  Thur  Dinner     2"
      ]
     },
     "execution_count": 6,
     "metadata": {},
     "output_type": "execute_result"
    }
   ],
   "source": [
    "tips.tail()"
   ]
  },
  {
   "cell_type": "markdown",
   "metadata": {},
   "source": [
    "列名を確認します。"
   ]
  },
  {
   "cell_type": "code",
   "execution_count": 7,
   "metadata": {},
   "outputs": [
    {
     "data": {
      "text/plain": [
       "Index(['bill', 'tip', 'sex', 'smoker', 'day', 'time', 'size'], dtype='object')"
      ]
     },
     "execution_count": 7,
     "metadata": {},
     "output_type": "execute_result"
    }
   ],
   "source": [
    "tips.columns"
   ]
  },
  {
   "cell_type": "markdown",
   "metadata": {},
   "source": [
    "各列のデータ型を確認します。文字列は `object` と表示されます。"
   ]
  },
  {
   "cell_type": "code",
   "execution_count": 8,
   "metadata": {},
   "outputs": [
    {
     "data": {
      "text/plain": [
       "bill      float64\n",
       "tip       float64\n",
       "sex        object\n",
       "smoker     object\n",
       "day        object\n",
       "time       object\n",
       "size        int64\n",
       "dtype: object"
      ]
     },
     "execution_count": 8,
     "metadata": {},
     "output_type": "execute_result"
    }
   ],
   "source": [
    "tips.dtypes"
   ]
  },
  {
   "cell_type": "markdown",
   "metadata": {},
   "source": [
    "要素統計量を確認します。"
   ]
  },
  {
   "cell_type": "code",
   "execution_count": 9,
   "metadata": {},
   "outputs": [
    {
     "data": {
      "text/html": [
       "<div>\n",
       "<style>\n",
       "    .dataframe thead tr:only-child th {\n",
       "        text-align: right;\n",
       "    }\n",
       "\n",
       "    .dataframe thead th {\n",
       "        text-align: left;\n",
       "    }\n",
       "\n",
       "    .dataframe tbody tr th {\n",
       "        vertical-align: top;\n",
       "    }\n",
       "</style>\n",
       "<table border=\"1\" class=\"dataframe\">\n",
       "  <thead>\n",
       "    <tr style=\"text-align: right;\">\n",
       "      <th></th>\n",
       "      <th>bill</th>\n",
       "      <th>tip</th>\n",
       "      <th>size</th>\n",
       "    </tr>\n",
       "  </thead>\n",
       "  <tbody>\n",
       "    <tr>\n",
       "      <th>count</th>\n",
       "      <td>244.000000</td>\n",
       "      <td>244.000000</td>\n",
       "      <td>244.000000</td>\n",
       "    </tr>\n",
       "    <tr>\n",
       "      <th>mean</th>\n",
       "      <td>19.785943</td>\n",
       "      <td>2.998279</td>\n",
       "      <td>2.569672</td>\n",
       "    </tr>\n",
       "    <tr>\n",
       "      <th>std</th>\n",
       "      <td>8.902412</td>\n",
       "      <td>1.383638</td>\n",
       "      <td>0.951100</td>\n",
       "    </tr>\n",
       "    <tr>\n",
       "      <th>min</th>\n",
       "      <td>3.070000</td>\n",
       "      <td>1.000000</td>\n",
       "      <td>1.000000</td>\n",
       "    </tr>\n",
       "    <tr>\n",
       "      <th>25%</th>\n",
       "      <td>13.347500</td>\n",
       "      <td>2.000000</td>\n",
       "      <td>2.000000</td>\n",
       "    </tr>\n",
       "    <tr>\n",
       "      <th>50%</th>\n",
       "      <td>17.795000</td>\n",
       "      <td>2.900000</td>\n",
       "      <td>2.000000</td>\n",
       "    </tr>\n",
       "    <tr>\n",
       "      <th>75%</th>\n",
       "      <td>24.127500</td>\n",
       "      <td>3.562500</td>\n",
       "      <td>3.000000</td>\n",
       "    </tr>\n",
       "    <tr>\n",
       "      <th>max</th>\n",
       "      <td>50.810000</td>\n",
       "      <td>10.000000</td>\n",
       "      <td>6.000000</td>\n",
       "    </tr>\n",
       "  </tbody>\n",
       "</table>\n",
       "</div>"
      ],
      "text/plain": [
       "             bill         tip        size\n",
       "count  244.000000  244.000000  244.000000\n",
       "mean    19.785943    2.998279    2.569672\n",
       "std      8.902412    1.383638    0.951100\n",
       "min      3.070000    1.000000    1.000000\n",
       "25%     13.347500    2.000000    2.000000\n",
       "50%     17.795000    2.900000    2.000000\n",
       "75%     24.127500    3.562500    3.000000\n",
       "max     50.810000   10.000000    6.000000"
      ]
     },
     "execution_count": 9,
     "metadata": {},
     "output_type": "execute_result"
    }
   ],
   "source": [
    "tips.describe()"
   ]
  },
  {
   "cell_type": "markdown",
   "metadata": {},
   "source": [
    "数値型ではない列の要素統計量の確認をするには `describe(include=['O'])` とします。"
   ]
  },
  {
   "cell_type": "code",
   "execution_count": 10,
   "metadata": {},
   "outputs": [
    {
     "data": {
      "text/html": [
       "<div>\n",
       "<style>\n",
       "    .dataframe thead tr:only-child th {\n",
       "        text-align: right;\n",
       "    }\n",
       "\n",
       "    .dataframe thead th {\n",
       "        text-align: left;\n",
       "    }\n",
       "\n",
       "    .dataframe tbody tr th {\n",
       "        vertical-align: top;\n",
       "    }\n",
       "</style>\n",
       "<table border=\"1\" class=\"dataframe\">\n",
       "  <thead>\n",
       "    <tr style=\"text-align: right;\">\n",
       "      <th></th>\n",
       "      <th>sex</th>\n",
       "      <th>smoker</th>\n",
       "      <th>day</th>\n",
       "      <th>time</th>\n",
       "    </tr>\n",
       "  </thead>\n",
       "  <tbody>\n",
       "    <tr>\n",
       "      <th>count</th>\n",
       "      <td>244</td>\n",
       "      <td>244</td>\n",
       "      <td>244</td>\n",
       "      <td>244</td>\n",
       "    </tr>\n",
       "    <tr>\n",
       "      <th>unique</th>\n",
       "      <td>2</td>\n",
       "      <td>2</td>\n",
       "      <td>4</td>\n",
       "      <td>2</td>\n",
       "    </tr>\n",
       "    <tr>\n",
       "      <th>top</th>\n",
       "      <td>Male</td>\n",
       "      <td>No</td>\n",
       "      <td>Sat</td>\n",
       "      <td>Dinner</td>\n",
       "    </tr>\n",
       "    <tr>\n",
       "      <th>freq</th>\n",
       "      <td>157</td>\n",
       "      <td>151</td>\n",
       "      <td>87</td>\n",
       "      <td>176</td>\n",
       "    </tr>\n",
       "  </tbody>\n",
       "</table>\n",
       "</div>"
      ],
      "text/plain": [
       "         sex smoker  day    time\n",
       "count    244    244  244     244\n",
       "unique     2      2    4       2\n",
       "top     Male     No  Sat  Dinner\n",
       "freq     157    151   87     176"
      ]
     },
     "execution_count": 10,
     "metadata": {},
     "output_type": "execute_result"
    }
   ],
   "source": [
    "tips.describe(include=['O'])"
   ]
  },
  {
   "cell_type": "markdown",
   "metadata": {},
   "source": [
    "## データの選択"
   ]
  },
  {
   "cell_type": "markdown",
   "metadata": {},
   "source": [
    "列 tip を取り出します。"
   ]
  },
  {
   "cell_type": "code",
   "execution_count": 11,
   "metadata": {},
   "outputs": [
    {
     "data": {
      "text/plain": [
       "0    1.01\n",
       "1    1.66\n",
       "2    3.50\n",
       "3    3.31\n",
       "4    3.61\n",
       "Name: tip, dtype: float64"
      ]
     },
     "execution_count": 11,
     "metadata": {},
     "output_type": "execute_result"
    }
   ],
   "source": [
    "tips['tip'].head()"
   ]
  },
  {
   "cell_type": "markdown",
   "metadata": {},
   "source": [
    "列 tip と day を取り出します。"
   ]
  },
  {
   "cell_type": "code",
   "execution_count": 12,
   "metadata": {},
   "outputs": [
    {
     "data": {
      "text/html": [
       "<div>\n",
       "<style>\n",
       "    .dataframe thead tr:only-child th {\n",
       "        text-align: right;\n",
       "    }\n",
       "\n",
       "    .dataframe thead th {\n",
       "        text-align: left;\n",
       "    }\n",
       "\n",
       "    .dataframe tbody tr th {\n",
       "        vertical-align: top;\n",
       "    }\n",
       "</style>\n",
       "<table border=\"1\" class=\"dataframe\">\n",
       "  <thead>\n",
       "    <tr style=\"text-align: right;\">\n",
       "      <th></th>\n",
       "      <th>tip</th>\n",
       "      <th>day</th>\n",
       "    </tr>\n",
       "  </thead>\n",
       "  <tbody>\n",
       "    <tr>\n",
       "      <th>0</th>\n",
       "      <td>1.01</td>\n",
       "      <td>Sun</td>\n",
       "    </tr>\n",
       "    <tr>\n",
       "      <th>1</th>\n",
       "      <td>1.66</td>\n",
       "      <td>Sun</td>\n",
       "    </tr>\n",
       "    <tr>\n",
       "      <th>2</th>\n",
       "      <td>3.50</td>\n",
       "      <td>Sun</td>\n",
       "    </tr>\n",
       "    <tr>\n",
       "      <th>3</th>\n",
       "      <td>3.31</td>\n",
       "      <td>Sun</td>\n",
       "    </tr>\n",
       "    <tr>\n",
       "      <th>4</th>\n",
       "      <td>3.61</td>\n",
       "      <td>Sun</td>\n",
       "    </tr>\n",
       "  </tbody>\n",
       "</table>\n",
       "</div>"
      ],
      "text/plain": [
       "    tip  day\n",
       "0  1.01  Sun\n",
       "1  1.66  Sun\n",
       "2  3.50  Sun\n",
       "3  3.31  Sun\n",
       "4  3.61  Sun"
      ]
     },
     "execution_count": 12,
     "metadata": {},
     "output_type": "execute_result"
    }
   ],
   "source": [
    "tips[['tip', 'day']].head()"
   ]
  },
  {
   "cell_type": "markdown",
   "metadata": {},
   "source": [
    "5 から 9 番目のレコードを取り出します。"
   ]
  },
  {
   "cell_type": "code",
   "execution_count": 13,
   "metadata": {},
   "outputs": [
    {
     "data": {
      "text/html": [
       "<div>\n",
       "<style>\n",
       "    .dataframe thead tr:only-child th {\n",
       "        text-align: right;\n",
       "    }\n",
       "\n",
       "    .dataframe thead th {\n",
       "        text-align: left;\n",
       "    }\n",
       "\n",
       "    .dataframe tbody tr th {\n",
       "        vertical-align: top;\n",
       "    }\n",
       "</style>\n",
       "<table border=\"1\" class=\"dataframe\">\n",
       "  <thead>\n",
       "    <tr style=\"text-align: right;\">\n",
       "      <th></th>\n",
       "      <th>bill</th>\n",
       "      <th>tip</th>\n",
       "      <th>sex</th>\n",
       "      <th>smoker</th>\n",
       "      <th>day</th>\n",
       "      <th>time</th>\n",
       "      <th>size</th>\n",
       "    </tr>\n",
       "  </thead>\n",
       "  <tbody>\n",
       "    <tr>\n",
       "      <th>5</th>\n",
       "      <td>25.29</td>\n",
       "      <td>4.71</td>\n",
       "      <td>Male</td>\n",
       "      <td>No</td>\n",
       "      <td>Sun</td>\n",
       "      <td>Dinner</td>\n",
       "      <td>4</td>\n",
       "    </tr>\n",
       "    <tr>\n",
       "      <th>6</th>\n",
       "      <td>8.77</td>\n",
       "      <td>2.00</td>\n",
       "      <td>Male</td>\n",
       "      <td>No</td>\n",
       "      <td>Sun</td>\n",
       "      <td>Dinner</td>\n",
       "      <td>2</td>\n",
       "    </tr>\n",
       "    <tr>\n",
       "      <th>7</th>\n",
       "      <td>26.88</td>\n",
       "      <td>3.12</td>\n",
       "      <td>Male</td>\n",
       "      <td>No</td>\n",
       "      <td>Sun</td>\n",
       "      <td>Dinner</td>\n",
       "      <td>4</td>\n",
       "    </tr>\n",
       "    <tr>\n",
       "      <th>8</th>\n",
       "      <td>15.04</td>\n",
       "      <td>1.96</td>\n",
       "      <td>Male</td>\n",
       "      <td>No</td>\n",
       "      <td>Sun</td>\n",
       "      <td>Dinner</td>\n",
       "      <td>2</td>\n",
       "    </tr>\n",
       "    <tr>\n",
       "      <th>9</th>\n",
       "      <td>14.78</td>\n",
       "      <td>3.23</td>\n",
       "      <td>Male</td>\n",
       "      <td>No</td>\n",
       "      <td>Sun</td>\n",
       "      <td>Dinner</td>\n",
       "      <td>2</td>\n",
       "    </tr>\n",
       "  </tbody>\n",
       "</table>\n",
       "</div>"
      ],
      "text/plain": [
       "    bill   tip   sex smoker  day    time  size\n",
       "5  25.29  4.71  Male     No  Sun  Dinner     4\n",
       "6   8.77  2.00  Male     No  Sun  Dinner     2\n",
       "7  26.88  3.12  Male     No  Sun  Dinner     4\n",
       "8  15.04  1.96  Male     No  Sun  Dinner     2\n",
       "9  14.78  3.23  Male     No  Sun  Dinner     2"
      ]
     },
     "execution_count": 13,
     "metadata": {},
     "output_type": "execute_result"
    }
   ],
   "source": [
    "tips[5:10]"
   ]
  },
  {
   "cell_type": "markdown",
   "metadata": {},
   "source": [
    "チップの額が 7 ドルより大きいレコードを取り出します。"
   ]
  },
  {
   "cell_type": "code",
   "execution_count": 14,
   "metadata": {},
   "outputs": [
    {
     "data": {
      "text/html": [
       "<div>\n",
       "<style>\n",
       "    .dataframe thead tr:only-child th {\n",
       "        text-align: right;\n",
       "    }\n",
       "\n",
       "    .dataframe thead th {\n",
       "        text-align: left;\n",
       "    }\n",
       "\n",
       "    .dataframe tbody tr th {\n",
       "        vertical-align: top;\n",
       "    }\n",
       "</style>\n",
       "<table border=\"1\" class=\"dataframe\">\n",
       "  <thead>\n",
       "    <tr style=\"text-align: right;\">\n",
       "      <th></th>\n",
       "      <th>bill</th>\n",
       "      <th>tip</th>\n",
       "      <th>sex</th>\n",
       "      <th>smoker</th>\n",
       "      <th>day</th>\n",
       "      <th>time</th>\n",
       "      <th>size</th>\n",
       "    </tr>\n",
       "  </thead>\n",
       "  <tbody>\n",
       "    <tr>\n",
       "      <th>23</th>\n",
       "      <td>39.42</td>\n",
       "      <td>7.58</td>\n",
       "      <td>Male</td>\n",
       "      <td>No</td>\n",
       "      <td>Sat</td>\n",
       "      <td>Dinner</td>\n",
       "      <td>4</td>\n",
       "    </tr>\n",
       "    <tr>\n",
       "      <th>170</th>\n",
       "      <td>50.81</td>\n",
       "      <td>10.00</td>\n",
       "      <td>Male</td>\n",
       "      <td>Yes</td>\n",
       "      <td>Sat</td>\n",
       "      <td>Dinner</td>\n",
       "      <td>3</td>\n",
       "    </tr>\n",
       "    <tr>\n",
       "      <th>212</th>\n",
       "      <td>48.33</td>\n",
       "      <td>9.00</td>\n",
       "      <td>Male</td>\n",
       "      <td>No</td>\n",
       "      <td>Sat</td>\n",
       "      <td>Dinner</td>\n",
       "      <td>4</td>\n",
       "    </tr>\n",
       "  </tbody>\n",
       "</table>\n",
       "</div>"
      ],
      "text/plain": [
       "      bill    tip   sex smoker  day    time  size\n",
       "23   39.42   7.58  Male     No  Sat  Dinner     4\n",
       "170  50.81  10.00  Male    Yes  Sat  Dinner     3\n",
       "212  48.33   9.00  Male     No  Sat  Dinner     4"
      ]
     },
     "execution_count": 14,
     "metadata": {},
     "output_type": "execute_result"
    }
   ],
   "source": [
    "tips[tips['tip'] > 7]"
   ]
  },
  {
   "cell_type": "markdown",
   "metadata": {},
   "source": [
    "チップの額が 4 ドル以上 5 ドル未満のレコードを取り出します。"
   ]
  },
  {
   "cell_type": "code",
   "execution_count": 15,
   "metadata": {},
   "outputs": [
    {
     "data": {
      "text/html": [
       "<div>\n",
       "<style>\n",
       "    .dataframe thead tr:only-child th {\n",
       "        text-align: right;\n",
       "    }\n",
       "\n",
       "    .dataframe thead th {\n",
       "        text-align: left;\n",
       "    }\n",
       "\n",
       "    .dataframe tbody tr th {\n",
       "        vertical-align: top;\n",
       "    }\n",
       "</style>\n",
       "<table border=\"1\" class=\"dataframe\">\n",
       "  <thead>\n",
       "    <tr style=\"text-align: right;\">\n",
       "      <th></th>\n",
       "      <th>bill</th>\n",
       "      <th>tip</th>\n",
       "      <th>sex</th>\n",
       "      <th>smoker</th>\n",
       "      <th>day</th>\n",
       "      <th>time</th>\n",
       "      <th>size</th>\n",
       "    </tr>\n",
       "  </thead>\n",
       "  <tbody>\n",
       "    <tr>\n",
       "      <th>5</th>\n",
       "      <td>25.29</td>\n",
       "      <td>4.71</td>\n",
       "      <td>Male</td>\n",
       "      <td>No</td>\n",
       "      <td>Sun</td>\n",
       "      <td>Dinner</td>\n",
       "      <td>4</td>\n",
       "    </tr>\n",
       "    <tr>\n",
       "      <th>20</th>\n",
       "      <td>17.92</td>\n",
       "      <td>4.08</td>\n",
       "      <td>Male</td>\n",
       "      <td>No</td>\n",
       "      <td>Sat</td>\n",
       "      <td>Dinner</td>\n",
       "      <td>2</td>\n",
       "    </tr>\n",
       "    <tr>\n",
       "      <th>28</th>\n",
       "      <td>21.70</td>\n",
       "      <td>4.30</td>\n",
       "      <td>Male</td>\n",
       "      <td>No</td>\n",
       "      <td>Sat</td>\n",
       "      <td>Dinner</td>\n",
       "      <td>2</td>\n",
       "    </tr>\n",
       "    <tr>\n",
       "      <th>54</th>\n",
       "      <td>25.56</td>\n",
       "      <td>4.34</td>\n",
       "      <td>Male</td>\n",
       "      <td>No</td>\n",
       "      <td>Sun</td>\n",
       "      <td>Dinner</td>\n",
       "      <td>4</td>\n",
       "    </tr>\n",
       "    <tr>\n",
       "      <th>77</th>\n",
       "      <td>27.20</td>\n",
       "      <td>4.00</td>\n",
       "      <td>Male</td>\n",
       "      <td>No</td>\n",
       "      <td>Thur</td>\n",
       "      <td>Lunch</td>\n",
       "      <td>4</td>\n",
       "    </tr>\n",
       "  </tbody>\n",
       "</table>\n",
       "</div>"
      ],
      "text/plain": [
       "     bill   tip   sex smoker   day    time  size\n",
       "5   25.29  4.71  Male     No   Sun  Dinner     4\n",
       "20  17.92  4.08  Male     No   Sat  Dinner     2\n",
       "28  21.70  4.30  Male     No   Sat  Dinner     2\n",
       "54  25.56  4.34  Male     No   Sun  Dinner     4\n",
       "77  27.20  4.00  Male     No  Thur   Lunch     4"
      ]
     },
     "execution_count": 15,
     "metadata": {},
     "output_type": "execute_result"
    }
   ],
   "source": [
    "tips[(tips['tip'] >= 4) & (tips['tip'] < 5)].head()"
   ]
  },
  {
   "cell_type": "markdown",
   "metadata": {},
   "source": [
    "上記のような列の値による選択は `query()` で簡単に処理することができます。"
   ]
  },
  {
   "cell_type": "code",
   "execution_count": 16,
   "metadata": {},
   "outputs": [
    {
     "data": {
      "text/html": [
       "<div>\n",
       "<style>\n",
       "    .dataframe thead tr:only-child th {\n",
       "        text-align: right;\n",
       "    }\n",
       "\n",
       "    .dataframe thead th {\n",
       "        text-align: left;\n",
       "    }\n",
       "\n",
       "    .dataframe tbody tr th {\n",
       "        vertical-align: top;\n",
       "    }\n",
       "</style>\n",
       "<table border=\"1\" class=\"dataframe\">\n",
       "  <thead>\n",
       "    <tr style=\"text-align: right;\">\n",
       "      <th></th>\n",
       "      <th>bill</th>\n",
       "      <th>tip</th>\n",
       "      <th>sex</th>\n",
       "      <th>smoker</th>\n",
       "      <th>day</th>\n",
       "      <th>time</th>\n",
       "      <th>size</th>\n",
       "    </tr>\n",
       "  </thead>\n",
       "  <tbody>\n",
       "    <tr>\n",
       "      <th>5</th>\n",
       "      <td>25.29</td>\n",
       "      <td>4.71</td>\n",
       "      <td>Male</td>\n",
       "      <td>No</td>\n",
       "      <td>Sun</td>\n",
       "      <td>Dinner</td>\n",
       "      <td>4</td>\n",
       "    </tr>\n",
       "    <tr>\n",
       "      <th>20</th>\n",
       "      <td>17.92</td>\n",
       "      <td>4.08</td>\n",
       "      <td>Male</td>\n",
       "      <td>No</td>\n",
       "      <td>Sat</td>\n",
       "      <td>Dinner</td>\n",
       "      <td>2</td>\n",
       "    </tr>\n",
       "    <tr>\n",
       "      <th>28</th>\n",
       "      <td>21.70</td>\n",
       "      <td>4.30</td>\n",
       "      <td>Male</td>\n",
       "      <td>No</td>\n",
       "      <td>Sat</td>\n",
       "      <td>Dinner</td>\n",
       "      <td>2</td>\n",
       "    </tr>\n",
       "    <tr>\n",
       "      <th>54</th>\n",
       "      <td>25.56</td>\n",
       "      <td>4.34</td>\n",
       "      <td>Male</td>\n",
       "      <td>No</td>\n",
       "      <td>Sun</td>\n",
       "      <td>Dinner</td>\n",
       "      <td>4</td>\n",
       "    </tr>\n",
       "    <tr>\n",
       "      <th>77</th>\n",
       "      <td>27.20</td>\n",
       "      <td>4.00</td>\n",
       "      <td>Male</td>\n",
       "      <td>No</td>\n",
       "      <td>Thur</td>\n",
       "      <td>Lunch</td>\n",
       "      <td>4</td>\n",
       "    </tr>\n",
       "  </tbody>\n",
       "</table>\n",
       "</div>"
      ],
      "text/plain": [
       "     bill   tip   sex smoker   day    time  size\n",
       "5   25.29  4.71  Male     No   Sun  Dinner     4\n",
       "20  17.92  4.08  Male     No   Sat  Dinner     2\n",
       "28  21.70  4.30  Male     No   Sat  Dinner     2\n",
       "54  25.56  4.34  Male     No   Sun  Dinner     4\n",
       "77  27.20  4.00  Male     No  Thur   Lunch     4"
      ]
     },
     "execution_count": 16,
     "metadata": {},
     "output_type": "execute_result"
    }
   ],
   "source": [
    "tips.query('tip >= 4 & tip < 5').head()"
   ]
  },
  {
   "cell_type": "markdown",
   "metadata": {},
   "source": [
    "## 欠損データの確認と対処"
   ]
  },
  {
   "cell_type": "markdown",
   "metadata": {},
   "source": [
    "欠損データを含むデータファイルを読み込みます。"
   ]
  },
  {
   "cell_type": "code",
   "execution_count": 17,
   "metadata": {},
   "outputs": [],
   "source": [
    "tips = pd.read_csv('data/tips-2.csv')"
   ]
  },
  {
   "cell_type": "markdown",
   "metadata": {},
   "source": [
    "データフレームの上部を確認します。"
   ]
  },
  {
   "cell_type": "code",
   "execution_count": 18,
   "metadata": {},
   "outputs": [
    {
     "data": {
      "text/html": [
       "<div>\n",
       "<style>\n",
       "    .dataframe thead tr:only-child th {\n",
       "        text-align: right;\n",
       "    }\n",
       "\n",
       "    .dataframe thead th {\n",
       "        text-align: left;\n",
       "    }\n",
       "\n",
       "    .dataframe tbody tr th {\n",
       "        vertical-align: top;\n",
       "    }\n",
       "</style>\n",
       "<table border=\"1\" class=\"dataframe\">\n",
       "  <thead>\n",
       "    <tr style=\"text-align: right;\">\n",
       "      <th></th>\n",
       "      <th>bill</th>\n",
       "      <th>tip</th>\n",
       "      <th>sex</th>\n",
       "      <th>smoker</th>\n",
       "      <th>day</th>\n",
       "      <th>time</th>\n",
       "      <th>size</th>\n",
       "    </tr>\n",
       "  </thead>\n",
       "  <tbody>\n",
       "    <tr>\n",
       "      <th>0</th>\n",
       "      <td>16.99</td>\n",
       "      <td>1.01</td>\n",
       "      <td>Female</td>\n",
       "      <td>No</td>\n",
       "      <td>Sun</td>\n",
       "      <td>Dinner</td>\n",
       "      <td>2.0</td>\n",
       "    </tr>\n",
       "    <tr>\n",
       "      <th>1</th>\n",
       "      <td>10.34</td>\n",
       "      <td>1.66</td>\n",
       "      <td>Male</td>\n",
       "      <td>No</td>\n",
       "      <td>Sun</td>\n",
       "      <td>Dinner</td>\n",
       "      <td>3.0</td>\n",
       "    </tr>\n",
       "    <tr>\n",
       "      <th>2</th>\n",
       "      <td>21.01</td>\n",
       "      <td>3.50</td>\n",
       "      <td>Male</td>\n",
       "      <td>No</td>\n",
       "      <td>Sun</td>\n",
       "      <td>Dinner</td>\n",
       "      <td>3.0</td>\n",
       "    </tr>\n",
       "    <tr>\n",
       "      <th>3</th>\n",
       "      <td>23.68</td>\n",
       "      <td>3.31</td>\n",
       "      <td>Male</td>\n",
       "      <td>No</td>\n",
       "      <td>Sun</td>\n",
       "      <td>Dinner</td>\n",
       "      <td>2.0</td>\n",
       "    </tr>\n",
       "    <tr>\n",
       "      <th>4</th>\n",
       "      <td>24.59</td>\n",
       "      <td>3.61</td>\n",
       "      <td>Female</td>\n",
       "      <td>No</td>\n",
       "      <td>Sun</td>\n",
       "      <td>Dinner</td>\n",
       "      <td>4.0</td>\n",
       "    </tr>\n",
       "  </tbody>\n",
       "</table>\n",
       "</div>"
      ],
      "text/plain": [
       "    bill   tip     sex smoker  day    time  size\n",
       "0  16.99  1.01  Female     No  Sun  Dinner   2.0\n",
       "1  10.34  1.66    Male     No  Sun  Dinner   3.0\n",
       "2  21.01  3.50    Male     No  Sun  Dinner   3.0\n",
       "3  23.68  3.31    Male     No  Sun  Dinner   2.0\n",
       "4  24.59  3.61  Female     No  Sun  Dinner   4.0"
      ]
     },
     "execution_count": 18,
     "metadata": {},
     "output_type": "execute_result"
    }
   ],
   "source": [
    "tips.head()"
   ]
  },
  {
   "cell_type": "markdown",
   "metadata": {},
   "source": [
    "各列のデータ型を確認します。"
   ]
  },
  {
   "cell_type": "code",
   "execution_count": 19,
   "metadata": {},
   "outputs": [
    {
     "data": {
      "text/plain": [
       "bill      float64\n",
       "tip       float64\n",
       "sex        object\n",
       "smoker     object\n",
       "day        object\n",
       "time       object\n",
       "size      float64\n",
       "dtype: object"
      ]
     },
     "execution_count": 19,
     "metadata": {},
     "output_type": "execute_result"
    }
   ],
   "source": [
    "tips.dtypes"
   ]
  },
  {
   "cell_type": "markdown",
   "metadata": {},
   "source": [
    "int 型であるはずの列 size が float 型になっています。これは列の値に欠損データを含む可能性があることを示唆しています。欠損を一つでも含む列を確認します。"
   ]
  },
  {
   "cell_type": "code",
   "execution_count": 20,
   "metadata": {},
   "outputs": [
    {
     "data": {
      "text/html": [
       "<div>\n",
       "<style>\n",
       "    .dataframe thead tr:only-child th {\n",
       "        text-align: right;\n",
       "    }\n",
       "\n",
       "    .dataframe thead th {\n",
       "        text-align: left;\n",
       "    }\n",
       "\n",
       "    .dataframe tbody tr th {\n",
       "        vertical-align: top;\n",
       "    }\n",
       "</style>\n",
       "<table border=\"1\" class=\"dataframe\">\n",
       "  <thead>\n",
       "    <tr style=\"text-align: right;\">\n",
       "      <th></th>\n",
       "      <th>bill</th>\n",
       "      <th>tip</th>\n",
       "      <th>sex</th>\n",
       "      <th>smoker</th>\n",
       "      <th>day</th>\n",
       "      <th>time</th>\n",
       "      <th>size</th>\n",
       "    </tr>\n",
       "  </thead>\n",
       "  <tbody>\n",
       "    <tr>\n",
       "      <th>26</th>\n",
       "      <td>13.37</td>\n",
       "      <td>2.00</td>\n",
       "      <td>Male</td>\n",
       "      <td>No</td>\n",
       "      <td>Sat</td>\n",
       "      <td>Dinner</td>\n",
       "      <td>NaN</td>\n",
       "    </tr>\n",
       "    <tr>\n",
       "      <th>29</th>\n",
       "      <td>19.65</td>\n",
       "      <td>3.00</td>\n",
       "      <td>Female</td>\n",
       "      <td>No</td>\n",
       "      <td>Sat</td>\n",
       "      <td>Dinner</td>\n",
       "      <td>NaN</td>\n",
       "    </tr>\n",
       "    <tr>\n",
       "      <th>30</th>\n",
       "      <td>9.55</td>\n",
       "      <td>1.45</td>\n",
       "      <td>Male</td>\n",
       "      <td>No</td>\n",
       "      <td>Sat</td>\n",
       "      <td>Dinner</td>\n",
       "      <td>NaN</td>\n",
       "    </tr>\n",
       "    <tr>\n",
       "      <th>43</th>\n",
       "      <td>NaN</td>\n",
       "      <td>NaN</td>\n",
       "      <td>Male</td>\n",
       "      <td>No</td>\n",
       "      <td>Sun</td>\n",
       "      <td>Dinner</td>\n",
       "      <td>NaN</td>\n",
       "    </tr>\n",
       "    <tr>\n",
       "      <th>69</th>\n",
       "      <td>NaN</td>\n",
       "      <td>2.09</td>\n",
       "      <td>Male</td>\n",
       "      <td>Yes</td>\n",
       "      <td>Sat</td>\n",
       "      <td>Dinner</td>\n",
       "      <td>2.0</td>\n",
       "    </tr>\n",
       "  </tbody>\n",
       "</table>\n",
       "</div>"
      ],
      "text/plain": [
       "     bill   tip     sex smoker  day    time  size\n",
       "26  13.37  2.00    Male     No  Sat  Dinner   NaN\n",
       "29  19.65  3.00  Female     No  Sat  Dinner   NaN\n",
       "30   9.55  1.45    Male     No  Sat  Dinner   NaN\n",
       "43    NaN   NaN    Male     No  Sun  Dinner   NaN\n",
       "69    NaN  2.09    Male    Yes  Sat  Dinner   2.0"
      ]
     },
     "execution_count": 20,
     "metadata": {},
     "output_type": "execute_result"
    }
   ],
   "source": [
    "tips[tips.isnull().any(axis=1)]"
   ]
  },
  {
   "cell_type": "markdown",
   "metadata": {},
   "source": [
    "`bill` と `tip` のデータ欠損を削除します。"
   ]
  },
  {
   "cell_type": "code",
   "execution_count": 21,
   "metadata": {},
   "outputs": [],
   "source": [
    "tmp_1 = tips.dropna(subset=['bill', 'tip'])"
   ]
  },
  {
   "cell_type": "code",
   "execution_count": 22,
   "metadata": {},
   "outputs": [
    {
     "data": {
      "text/plain": [
       "bill      float64\n",
       "tip       float64\n",
       "sex        object\n",
       "smoker     object\n",
       "day        object\n",
       "time       object\n",
       "size      float64\n",
       "dtype: object"
      ]
     },
     "execution_count": 22,
     "metadata": {},
     "output_type": "execute_result"
    }
   ],
   "source": [
    "tmp_1.dtypes"
   ]
  },
  {
   "cell_type": "markdown",
   "metadata": {},
   "source": [
    "正しく削除できたかを確認します。"
   ]
  },
  {
   "cell_type": "code",
   "execution_count": 23,
   "metadata": {},
   "outputs": [
    {
     "data": {
      "text/html": [
       "<div>\n",
       "<style>\n",
       "    .dataframe thead tr:only-child th {\n",
       "        text-align: right;\n",
       "    }\n",
       "\n",
       "    .dataframe thead th {\n",
       "        text-align: left;\n",
       "    }\n",
       "\n",
       "    .dataframe tbody tr th {\n",
       "        vertical-align: top;\n",
       "    }\n",
       "</style>\n",
       "<table border=\"1\" class=\"dataframe\">\n",
       "  <thead>\n",
       "    <tr style=\"text-align: right;\">\n",
       "      <th></th>\n",
       "      <th>bill</th>\n",
       "      <th>tip</th>\n",
       "      <th>sex</th>\n",
       "      <th>smoker</th>\n",
       "      <th>day</th>\n",
       "      <th>time</th>\n",
       "      <th>size</th>\n",
       "    </tr>\n",
       "  </thead>\n",
       "  <tbody>\n",
       "    <tr>\n",
       "      <th>26</th>\n",
       "      <td>13.37</td>\n",
       "      <td>2.00</td>\n",
       "      <td>Male</td>\n",
       "      <td>No</td>\n",
       "      <td>Sat</td>\n",
       "      <td>Dinner</td>\n",
       "      <td>NaN</td>\n",
       "    </tr>\n",
       "    <tr>\n",
       "      <th>29</th>\n",
       "      <td>19.65</td>\n",
       "      <td>3.00</td>\n",
       "      <td>Female</td>\n",
       "      <td>No</td>\n",
       "      <td>Sat</td>\n",
       "      <td>Dinner</td>\n",
       "      <td>NaN</td>\n",
       "    </tr>\n",
       "    <tr>\n",
       "      <th>30</th>\n",
       "      <td>9.55</td>\n",
       "      <td>1.45</td>\n",
       "      <td>Male</td>\n",
       "      <td>No</td>\n",
       "      <td>Sat</td>\n",
       "      <td>Dinner</td>\n",
       "      <td>NaN</td>\n",
       "    </tr>\n",
       "  </tbody>\n",
       "</table>\n",
       "</div>"
      ],
      "text/plain": [
       "     bill   tip     sex smoker  day    time  size\n",
       "26  13.37  2.00    Male     No  Sat  Dinner   NaN\n",
       "29  19.65  3.00  Female     No  Sat  Dinner   NaN\n",
       "30   9.55  1.45    Male     No  Sat  Dinner   NaN"
      ]
     },
     "execution_count": 23,
     "metadata": {},
     "output_type": "execute_result"
    }
   ],
   "source": [
    "tmp_1[tmp_1.isnull().any(axis=1)]"
   ]
  },
  {
   "cell_type": "markdown",
   "metadata": {},
   "source": [
    "`size` のデータ欠損は `size` の最頻値で修正します。`size` の各値に対応するレコード数を確認します。"
   ]
  },
  {
   "cell_type": "code",
   "execution_count": 24,
   "metadata": {},
   "outputs": [
    {
     "data": {
      "text/plain": [
       "2.0    152\n",
       "3.0     38\n",
       "4.0     37\n",
       "5.0      5\n",
       "6.0      4\n",
       "1.0      4\n",
       "Name: size, dtype: int64"
      ]
     },
     "execution_count": 24,
     "metadata": {},
     "output_type": "execute_result"
    }
   ],
   "source": [
    "tips['size'].value_counts()"
   ]
  },
  {
   "cell_type": "markdown",
   "metadata": {},
   "source": [
    "最頻値は 2 であることがわかります。size のデータ欠損を 2 で修正します。"
   ]
  },
  {
   "cell_type": "code",
   "execution_count": 25,
   "metadata": {},
   "outputs": [],
   "source": [
    "tmp_2 = tmp_1.fillna({'size': 2})"
   ]
  },
  {
   "cell_type": "markdown",
   "metadata": {},
   "source": [
    "正しく修正できたかを確認します。"
   ]
  },
  {
   "cell_type": "code",
   "execution_count": 26,
   "metadata": {},
   "outputs": [
    {
     "data": {
      "text/html": [
       "<div>\n",
       "<style>\n",
       "    .dataframe thead tr:only-child th {\n",
       "        text-align: right;\n",
       "    }\n",
       "\n",
       "    .dataframe thead th {\n",
       "        text-align: left;\n",
       "    }\n",
       "\n",
       "    .dataframe tbody tr th {\n",
       "        vertical-align: top;\n",
       "    }\n",
       "</style>\n",
       "<table border=\"1\" class=\"dataframe\">\n",
       "  <thead>\n",
       "    <tr style=\"text-align: right;\">\n",
       "      <th></th>\n",
       "      <th>bill</th>\n",
       "      <th>tip</th>\n",
       "      <th>sex</th>\n",
       "      <th>smoker</th>\n",
       "      <th>day</th>\n",
       "      <th>time</th>\n",
       "      <th>size</th>\n",
       "    </tr>\n",
       "  </thead>\n",
       "  <tbody>\n",
       "  </tbody>\n",
       "</table>\n",
       "</div>"
      ],
      "text/plain": [
       "Empty DataFrame\n",
       "Columns: [bill, tip, sex, smoker, day, time, size]\n",
       "Index: []"
      ]
     },
     "execution_count": 26,
     "metadata": {},
     "output_type": "execute_result"
    }
   ],
   "source": [
    "tmp_2[tmp_2.isnull().any(axis=1)]"
   ]
  },
  {
   "cell_type": "code",
   "execution_count": 29,
   "metadata": {},
   "outputs": [],
   "source": [
    "tips = tmp_2"
   ]
  },
  {
   "cell_type": "markdown",
   "metadata": {},
   "source": [
    "列 `size` のデータ型を int 型に変換します。"
   ]
  },
  {
   "cell_type": "code",
   "execution_count": 28,
   "metadata": {},
   "outputs": [],
   "source": [
    "tips['size'] = tips['size'].astype('int')\n",
    "# 欠損値をなくす。削除や最頻値での置き換え。その後正しい型に修正する。"
   ]
  },
  {
   "cell_type": "markdown",
   "metadata": {},
   "source": [
    "## グルーピング"
   ]
  },
  {
   "cell_type": "markdown",
   "metadata": {},
   "source": [
    "週の曜日ごとの要素統計量を知りたくなりました。このように、ある列の値ごとの何かを集計したい場合はグループバイという処理を用います。 "
   ]
  },
  {
   "cell_type": "markdown",
   "metadata": {},
   "source": [
    "グループバイは以下の一連のステップからなる処理のことです。\n",
    "\n",
    "1. データをある条件によってグループに分割する\n",
    "2. それぞれのグループに対して独立に関数を適用する（例えば、総和をとる、平均をとる等）\n",
    "3. 結果を結合してデータフレームにする"
   ]
  },
  {
   "cell_type": "markdown",
   "metadata": {},
   "source": [
    "データを `day` の値によってグループに分割します。グルーピングの結果は `DataFrameGroupBy` オブジェクトです。"
   ]
  },
  {
   "cell_type": "code",
   "execution_count": 30,
   "metadata": {},
   "outputs": [],
   "source": [
    "grouped = tips.groupby('day')"
   ]
  },
  {
   "cell_type": "code",
   "execution_count": 31,
   "metadata": {},
   "outputs": [
    {
     "data": {
      "text/plain": [
       "pandas.core.groupby.DataFrameGroupBy"
      ]
     },
     "execution_count": 31,
     "metadata": {},
     "output_type": "execute_result"
    }
   ],
   "source": [
    "type(grouped)"
   ]
  },
  {
   "cell_type": "markdown",
   "metadata": {},
   "source": [
    "どのようにグループに分割されたか確認してみます。"
   ]
  },
  {
   "cell_type": "code",
   "execution_count": 32,
   "metadata": {
    "scrolled": true
   },
   "outputs": [
    {
     "name": "stdout",
     "output_type": "stream",
     "text": [
      "Fri\n",
      "      bill   tip     sex smoker  day    time  size\n",
      "90   28.97  3.00    Male    Yes  Fri  Dinner     2\n",
      "91   22.49  3.50    Male     No  Fri  Dinner     2\n",
      "92    5.75  1.00  Female    Yes  Fri  Dinner     2\n",
      "93   16.32  4.30  Female    Yes  Fri  Dinner     2\n",
      "94   22.75  3.25  Female     No  Fri  Dinner     2\n",
      "95   40.17  4.73    Male    Yes  Fri  Dinner     4\n",
      "96   27.28  4.00    Male    Yes  Fri  Dinner     2\n",
      "97   12.03  1.50    Male    Yes  Fri  Dinner     2\n",
      "98   21.01  3.00    Male    Yes  Fri  Dinner     2\n",
      "99   12.46  1.50    Male     No  Fri  Dinner     2\n",
      "100  11.35  2.50  Female    Yes  Fri  Dinner     2\n",
      "101  15.38  3.00  Female    Yes  Fri  Dinner     2\n",
      "220  12.16  2.20    Male    Yes  Fri   Lunch     2\n",
      "221  13.42  3.48  Female    Yes  Fri   Lunch     2\n",
      "222   8.58  1.92    Male    Yes  Fri   Lunch     1\n",
      "223  15.98  3.00  Female     No  Fri   Lunch     3\n",
      "224  13.42  1.58    Male    Yes  Fri   Lunch     2\n",
      "225  16.27  2.50  Female    Yes  Fri   Lunch     2\n",
      "226  10.09  2.00  Female    Yes  Fri   Lunch     2\n",
      "\n",
      "Sat\n",
      "      bill   tip     sex smoker  day    time  size\n",
      "19   20.65  3.35    Male     No  Sat  Dinner     3\n",
      "20   17.92  4.08    Male     No  Sat  Dinner     2\n",
      "21   20.29  2.75  Female     No  Sat  Dinner     2\n",
      "22   15.77  2.23  Female     No  Sat  Dinner     2\n",
      "23   39.42  7.58    Male     No  Sat  Dinner     4\n",
      "24   19.82  3.18    Male     No  Sat  Dinner     2\n",
      "25   17.81  2.34    Male     No  Sat  Dinner     4\n",
      "26   13.37  2.00    Male     No  Sat  Dinner     2\n",
      "27   12.69  2.00    Male     No  Sat  Dinner     2\n",
      "28   21.70  4.30    Male     No  Sat  Dinner     2\n",
      "29   19.65  3.00  Female     No  Sat  Dinner     2\n",
      "30    9.55  1.45    Male     No  Sat  Dinner     2\n",
      "31   18.35  2.50    Male     No  Sat  Dinner     4\n",
      "32   15.06  3.00  Female     No  Sat  Dinner     2\n",
      "33   20.69  2.45  Female     No  Sat  Dinner     4\n",
      "34   17.78  3.27    Male     No  Sat  Dinner     2\n",
      "35   24.06  3.60    Male     No  Sat  Dinner     3\n",
      "36   16.31  2.00    Male     No  Sat  Dinner     3\n",
      "37   16.93  3.07  Female     No  Sat  Dinner     3\n",
      "38   18.69  2.31    Male     No  Sat  Dinner     3\n",
      "39   31.27  5.00    Male     No  Sat  Dinner     3\n",
      "40   16.04  2.24    Male     No  Sat  Dinner     3\n",
      "56   38.01  3.00    Male    Yes  Sat  Dinner     4\n",
      "57   26.41  1.50  Female     No  Sat  Dinner     2\n",
      "58   11.24  1.76    Male    Yes  Sat  Dinner     2\n",
      "59   48.27  6.73    Male     No  Sat  Dinner     4\n",
      "60   20.29  3.21    Male    Yes  Sat  Dinner     2\n",
      "61   13.81  2.00    Male    Yes  Sat  Dinner     2\n",
      "62   11.02  1.98    Male    Yes  Sat  Dinner     2\n",
      "63   18.29  3.76    Male    Yes  Sat  Dinner     4\n",
      "..     ...   ...     ...    ...  ...     ...   ...\n",
      "206  26.59  3.41    Male    Yes  Sat  Dinner     3\n",
      "207  38.73  3.00    Male    Yes  Sat  Dinner     4\n",
      "208  24.27  2.03    Male    Yes  Sat  Dinner     2\n",
      "209  12.76  2.23  Female    Yes  Sat  Dinner     2\n",
      "210  30.06  2.00    Male    Yes  Sat  Dinner     3\n",
      "211  25.89  5.16    Male    Yes  Sat  Dinner     4\n",
      "212  48.33  9.00    Male     No  Sat  Dinner     4\n",
      "213  13.27  2.50  Female    Yes  Sat  Dinner     2\n",
      "214  28.17  6.50  Female    Yes  Sat  Dinner     3\n",
      "215  12.90  1.10  Female    Yes  Sat  Dinner     2\n",
      "216  28.15  3.00    Male    Yes  Sat  Dinner     5\n",
      "217  11.59  1.50    Male    Yes  Sat  Dinner     2\n",
      "218   7.74  1.44    Male    Yes  Sat  Dinner     2\n",
      "219  30.14  3.09  Female    Yes  Sat  Dinner     4\n",
      "227  20.45  3.00    Male     No  Sat  Dinner     4\n",
      "228  13.28  2.72    Male     No  Sat  Dinner     2\n",
      "229  22.12  2.88  Female    Yes  Sat  Dinner     2\n",
      "230  24.01  2.00    Male    Yes  Sat  Dinner     4\n",
      "231  15.69  3.00    Male    Yes  Sat  Dinner     3\n",
      "232  11.61  3.39    Male     No  Sat  Dinner     2\n",
      "233  10.77  1.47    Male     No  Sat  Dinner     2\n",
      "234  15.53  3.00    Male    Yes  Sat  Dinner     2\n",
      "235  10.07  1.25    Male     No  Sat  Dinner     2\n",
      "236  12.60  1.00    Male    Yes  Sat  Dinner     2\n",
      "237  32.83  1.17    Male    Yes  Sat  Dinner     2\n",
      "238  35.83  4.67  Female     No  Sat  Dinner     3\n",
      "239  29.03  5.92    Male     No  Sat  Dinner     3\n",
      "240  27.18  2.00  Female    Yes  Sat  Dinner     2\n",
      "241  22.67  2.00    Male    Yes  Sat  Dinner     2\n",
      "242  17.82  1.75    Male     No  Sat  Dinner     2\n",
      "\n",
      "[86 rows x 7 columns]\n",
      "\n",
      "Sun\n",
      "      bill   tip     sex smoker  day    time  size\n",
      "0    16.99  1.01  Female     No  Sun  Dinner     2\n",
      "1    10.34  1.66    Male     No  Sun  Dinner     3\n",
      "2    21.01  3.50    Male     No  Sun  Dinner     3\n",
      "3    23.68  3.31    Male     No  Sun  Dinner     2\n",
      "4    24.59  3.61  Female     No  Sun  Dinner     4\n",
      "5    25.29  4.71    Male     No  Sun  Dinner     4\n",
      "6     8.77  2.00    Male     No  Sun  Dinner     2\n",
      "7    26.88  3.12    Male     No  Sun  Dinner     4\n",
      "8    15.04  1.96    Male     No  Sun  Dinner     2\n",
      "9    14.78  3.23    Male     No  Sun  Dinner     2\n",
      "10   10.27  1.71    Male     No  Sun  Dinner     2\n",
      "11   35.26  5.00  Female     No  Sun  Dinner     4\n",
      "12   15.42  1.57    Male     No  Sun  Dinner     2\n",
      "13   18.43  3.00    Male     No  Sun  Dinner     4\n",
      "14   14.83  3.02  Female     No  Sun  Dinner     2\n",
      "15   21.58  3.92    Male     No  Sun  Dinner     2\n",
      "16   10.33  1.67  Female     No  Sun  Dinner     3\n",
      "17   16.29  3.71    Male     No  Sun  Dinner     3\n",
      "18   16.97  3.50  Female     No  Sun  Dinner     3\n",
      "41   17.46  2.54    Male     No  Sun  Dinner     2\n",
      "42   13.94  3.06    Male     No  Sun  Dinner     2\n",
      "44   30.40  5.60    Male     No  Sun  Dinner     4\n",
      "45   18.29  3.00    Male     No  Sun  Dinner     2\n",
      "46   22.23  5.00    Male     No  Sun  Dinner     2\n",
      "47   32.40  6.00    Male     No  Sun  Dinner     4\n",
      "48   28.55  2.05    Male     No  Sun  Dinner     3\n",
      "49   18.04  3.00    Male     No  Sun  Dinner     2\n",
      "50   12.54  2.50    Male     No  Sun  Dinner     2\n",
      "51   10.29  2.60  Female     No  Sun  Dinner     2\n",
      "52   34.81  5.20  Female     No  Sun  Dinner     4\n",
      "..     ...   ...     ...    ...  ...     ...   ...\n",
      "157  25.00  3.75  Female     No  Sun  Dinner     4\n",
      "158  13.39  2.61  Female     No  Sun  Dinner     2\n",
      "159  16.49  2.00    Male     No  Sun  Dinner     4\n",
      "160  21.50  3.50    Male     No  Sun  Dinner     4\n",
      "161  12.66  2.50    Male     No  Sun  Dinner     2\n",
      "162  16.21  2.00  Female     No  Sun  Dinner     3\n",
      "163  13.81  2.00    Male     No  Sun  Dinner     2\n",
      "164  17.51  3.00  Female    Yes  Sun  Dinner     2\n",
      "165  24.52  3.48    Male     No  Sun  Dinner     3\n",
      "166  20.76  2.24    Male     No  Sun  Dinner     2\n",
      "167  31.71  4.50    Male     No  Sun  Dinner     4\n",
      "172   7.25  5.15    Male    Yes  Sun  Dinner     2\n",
      "173  31.85  3.18    Male    Yes  Sun  Dinner     2\n",
      "174  16.82  4.00    Male    Yes  Sun  Dinner     2\n",
      "175  32.90  3.11    Male    Yes  Sun  Dinner     2\n",
      "176  17.89  2.00    Male    Yes  Sun  Dinner     2\n",
      "177  14.48  2.00    Male    Yes  Sun  Dinner     2\n",
      "178   9.60  4.00  Female    Yes  Sun  Dinner     2\n",
      "179  34.63  3.55    Male    Yes  Sun  Dinner     2\n",
      "180  34.65  3.68    Male    Yes  Sun  Dinner     4\n",
      "181  23.33  5.65    Male    Yes  Sun  Dinner     2\n",
      "182  45.35  3.50    Male    Yes  Sun  Dinner     3\n",
      "183  23.17  6.50    Male    Yes  Sun  Dinner     4\n",
      "184  40.55  3.00    Male    Yes  Sun  Dinner     2\n",
      "185  20.69  5.00    Male     No  Sun  Dinner     5\n",
      "186  20.90  3.50  Female    Yes  Sun  Dinner     3\n",
      "187  30.46  2.00    Male    Yes  Sun  Dinner     5\n",
      "188  18.15  3.50  Female    Yes  Sun  Dinner     3\n",
      "189  23.10  4.00    Male    Yes  Sun  Dinner     3\n",
      "190  15.69  1.50    Male    Yes  Sun  Dinner     2\n",
      "\n",
      "[75 rows x 7 columns]\n",
      "\n",
      "Thur\n",
      "      bill   tip     sex smoker   day    time  size\n",
      "77   27.20  4.00    Male     No  Thur   Lunch     4\n",
      "78   22.76  3.00    Male     No  Thur   Lunch     2\n",
      "79   17.29  2.71    Male     No  Thur   Lunch     2\n",
      "80   19.44  3.00    Male    Yes  Thur   Lunch     2\n",
      "81   16.66  3.40    Male     No  Thur   Lunch     2\n",
      "82   10.07  1.83  Female     No  Thur   Lunch     1\n",
      "83   32.68  5.00    Male    Yes  Thur   Lunch     2\n",
      "84   15.98  2.03    Male     No  Thur   Lunch     2\n",
      "85   34.83  5.17  Female     No  Thur   Lunch     4\n",
      "86   13.03  2.00    Male     No  Thur   Lunch     2\n",
      "87   18.28  4.00    Male     No  Thur   Lunch     2\n",
      "88   24.71  5.85    Male     No  Thur   Lunch     2\n",
      "89   21.16  3.00    Male     No  Thur   Lunch     2\n",
      "117  10.65  1.50  Female     No  Thur   Lunch     2\n",
      "118  12.43  1.80  Female     No  Thur   Lunch     2\n",
      "119  24.08  2.92  Female     No  Thur   Lunch     4\n",
      "120  11.69  2.31    Male     No  Thur   Lunch     2\n",
      "121  13.42  1.68  Female     No  Thur   Lunch     2\n",
      "122  14.26  2.50    Male     No  Thur   Lunch     2\n",
      "123  15.95  2.00    Male     No  Thur   Lunch     2\n",
      "124  12.48  2.52  Female     No  Thur   Lunch     2\n",
      "125  29.80  4.20  Female     No  Thur   Lunch     6\n",
      "126   8.52  1.48    Male     No  Thur   Lunch     2\n",
      "127  14.52  2.00  Female     No  Thur   Lunch     2\n",
      "128  11.38  2.00  Female     No  Thur   Lunch     2\n",
      "129  22.82  2.18    Male     No  Thur   Lunch     3\n",
      "130  19.08  1.50    Male     No  Thur   Lunch     2\n",
      "131  20.27  2.83  Female     No  Thur   Lunch     2\n",
      "132  11.17  1.50  Female     No  Thur   Lunch     2\n",
      "133  12.26  2.00  Female     No  Thur   Lunch     2\n",
      "..     ...   ...     ...    ...   ...     ...   ...\n",
      "136  10.33  2.00  Female     No  Thur   Lunch     2\n",
      "137  14.15  2.00  Female     No  Thur   Lunch     2\n",
      "138  16.00  2.00    Male    Yes  Thur   Lunch     2\n",
      "139  13.16  2.75  Female     No  Thur   Lunch     2\n",
      "140  17.47  3.50  Female     No  Thur   Lunch     2\n",
      "141  34.30  6.70    Male     No  Thur   Lunch     6\n",
      "142  41.19  5.00    Male     No  Thur   Lunch     5\n",
      "143  27.05  5.00  Female     No  Thur   Lunch     6\n",
      "144  16.43  2.30  Female     No  Thur   Lunch     2\n",
      "145   8.35  1.50  Female     No  Thur   Lunch     2\n",
      "146  18.64  1.36  Female     No  Thur   Lunch     3\n",
      "147  11.87  1.63  Female     No  Thur   Lunch     2\n",
      "148   9.78  1.73    Male     No  Thur   Lunch     2\n",
      "149   7.51  2.00    Male     No  Thur   Lunch     2\n",
      "191  19.81  4.19  Female    Yes  Thur   Lunch     2\n",
      "192  28.44  2.56    Male    Yes  Thur   Lunch     2\n",
      "193  15.48  2.02    Male    Yes  Thur   Lunch     2\n",
      "194  16.58  4.00    Male    Yes  Thur   Lunch     2\n",
      "195   7.56  1.44    Male     No  Thur   Lunch     2\n",
      "196  10.34  2.00    Male    Yes  Thur   Lunch     2\n",
      "197  43.11  5.00  Female    Yes  Thur   Lunch     4\n",
      "198  13.00  2.00  Female    Yes  Thur   Lunch     2\n",
      "199  13.51  2.00    Male    Yes  Thur   Lunch     2\n",
      "200  18.71  4.00    Male    Yes  Thur   Lunch     3\n",
      "201  12.74  2.01  Female    Yes  Thur   Lunch     2\n",
      "202  13.00  2.00  Female    Yes  Thur   Lunch     2\n",
      "203  16.40  2.50  Female    Yes  Thur   Lunch     2\n",
      "204  20.53  4.00    Male    Yes  Thur   Lunch     4\n",
      "205  16.47  3.23  Female    Yes  Thur   Lunch     3\n",
      "243  18.78  3.00  Female     No  Thur  Dinner     2\n",
      "\n",
      "[62 rows x 7 columns]\n",
      "\n"
     ]
    }
   ],
   "source": [
    "for name, group in grouped:\n",
    "    print(name)\n",
    "    print(group)\n",
    "    print()\n",
    "# dayはFridayになっている。下にスクロールするとsaturdayになっている。列dayによってgroupに分割した"
   ]
  },
  {
   "cell_type": "markdown",
   "metadata": {},
   "source": [
    "列 `day` の値によってグループに分割されていることが確認できました。`describe()` を用いてそれぞれのグループの要素統計量を集計します。"
   ]
  },
  {
   "cell_type": "code",
   "execution_count": 33,
   "metadata": {},
   "outputs": [
    {
     "data": {
      "text/html": [
       "<div>\n",
       "<style>\n",
       "    .dataframe thead tr:only-child th {\n",
       "        text-align: right;\n",
       "    }\n",
       "\n",
       "    .dataframe thead th {\n",
       "        text-align: left;\n",
       "    }\n",
       "\n",
       "    .dataframe tbody tr th {\n",
       "        vertical-align: top;\n",
       "    }\n",
       "</style>\n",
       "<table border=\"1\" class=\"dataframe\">\n",
       "  <thead>\n",
       "    <tr>\n",
       "      <th></th>\n",
       "      <th colspan=\"8\" halign=\"left\">bill</th>\n",
       "      <th colspan=\"5\" halign=\"left\">size</th>\n",
       "      <th colspan=\"8\" halign=\"left\">tip</th>\n",
       "    </tr>\n",
       "    <tr>\n",
       "      <th></th>\n",
       "      <th>count</th>\n",
       "      <th>mean</th>\n",
       "      <th>std</th>\n",
       "      <th>min</th>\n",
       "      <th>25%</th>\n",
       "      <th>50%</th>\n",
       "      <th>75%</th>\n",
       "      <th>max</th>\n",
       "      <th>count</th>\n",
       "      <th>mean</th>\n",
       "      <th>...</th>\n",
       "      <th>75%</th>\n",
       "      <th>max</th>\n",
       "      <th>count</th>\n",
       "      <th>mean</th>\n",
       "      <th>std</th>\n",
       "      <th>min</th>\n",
       "      <th>25%</th>\n",
       "      <th>50%</th>\n",
       "      <th>75%</th>\n",
       "      <th>max</th>\n",
       "    </tr>\n",
       "    <tr>\n",
       "      <th>day</th>\n",
       "      <th></th>\n",
       "      <th></th>\n",
       "      <th></th>\n",
       "      <th></th>\n",
       "      <th></th>\n",
       "      <th></th>\n",
       "      <th></th>\n",
       "      <th></th>\n",
       "      <th></th>\n",
       "      <th></th>\n",
       "      <th></th>\n",
       "      <th></th>\n",
       "      <th></th>\n",
       "      <th></th>\n",
       "      <th></th>\n",
       "      <th></th>\n",
       "      <th></th>\n",
       "      <th></th>\n",
       "      <th></th>\n",
       "      <th></th>\n",
       "      <th></th>\n",
       "    </tr>\n",
       "  </thead>\n",
       "  <tbody>\n",
       "    <tr>\n",
       "      <th>Fri</th>\n",
       "      <td>19.0</td>\n",
       "      <td>17.151579</td>\n",
       "      <td>8.302660</td>\n",
       "      <td>5.75</td>\n",
       "      <td>12.0950</td>\n",
       "      <td>15.380</td>\n",
       "      <td>21.750</td>\n",
       "      <td>40.17</td>\n",
       "      <td>19.0</td>\n",
       "      <td>2.105263</td>\n",
       "      <td>...</td>\n",
       "      <td>2.0</td>\n",
       "      <td>4.0</td>\n",
       "      <td>19.0</td>\n",
       "      <td>2.734737</td>\n",
       "      <td>1.019577</td>\n",
       "      <td>1.00</td>\n",
       "      <td>1.960</td>\n",
       "      <td>3.000</td>\n",
       "      <td>3.3650</td>\n",
       "      <td>4.73</td>\n",
       "    </tr>\n",
       "    <tr>\n",
       "      <th>Sat</th>\n",
       "      <td>86.0</td>\n",
       "      <td>20.504535</td>\n",
       "      <td>9.517596</td>\n",
       "      <td>3.07</td>\n",
       "      <td>13.8575</td>\n",
       "      <td>18.265</td>\n",
       "      <td>24.975</td>\n",
       "      <td>50.81</td>\n",
       "      <td>86.0</td>\n",
       "      <td>2.523256</td>\n",
       "      <td>...</td>\n",
       "      <td>3.0</td>\n",
       "      <td>5.0</td>\n",
       "      <td>86.0</td>\n",
       "      <td>3.003605</td>\n",
       "      <td>1.637619</td>\n",
       "      <td>1.00</td>\n",
       "      <td>2.000</td>\n",
       "      <td>2.815</td>\n",
       "      <td>3.3800</td>\n",
       "      <td>10.00</td>\n",
       "    </tr>\n",
       "    <tr>\n",
       "      <th>Sun</th>\n",
       "      <td>75.0</td>\n",
       "      <td>21.566400</td>\n",
       "      <td>8.785008</td>\n",
       "      <td>7.25</td>\n",
       "      <td>15.2300</td>\n",
       "      <td>19.770</td>\n",
       "      <td>25.635</td>\n",
       "      <td>48.17</td>\n",
       "      <td>75.0</td>\n",
       "      <td>2.853333</td>\n",
       "      <td>...</td>\n",
       "      <td>4.0</td>\n",
       "      <td>6.0</td>\n",
       "      <td>75.0</td>\n",
       "      <td>3.280933</td>\n",
       "      <td>1.222398</td>\n",
       "      <td>1.01</td>\n",
       "      <td>2.145</td>\n",
       "      <td>3.180</td>\n",
       "      <td>4.0000</td>\n",
       "      <td>6.50</td>\n",
       "    </tr>\n",
       "    <tr>\n",
       "      <th>Thur</th>\n",
       "      <td>62.0</td>\n",
       "      <td>17.682742</td>\n",
       "      <td>7.886170</td>\n",
       "      <td>7.51</td>\n",
       "      <td>12.4425</td>\n",
       "      <td>16.200</td>\n",
       "      <td>20.155</td>\n",
       "      <td>43.11</td>\n",
       "      <td>62.0</td>\n",
       "      <td>2.451613</td>\n",
       "      <td>...</td>\n",
       "      <td>2.0</td>\n",
       "      <td>6.0</td>\n",
       "      <td>62.0</td>\n",
       "      <td>2.771452</td>\n",
       "      <td>1.240223</td>\n",
       "      <td>1.25</td>\n",
       "      <td>2.000</td>\n",
       "      <td>2.305</td>\n",
       "      <td>3.3625</td>\n",
       "      <td>6.70</td>\n",
       "    </tr>\n",
       "  </tbody>\n",
       "</table>\n",
       "<p>4 rows × 24 columns</p>\n",
       "</div>"
      ],
      "text/plain": [
       "      bill                                                             size  \\\n",
       "     count       mean       std   min      25%     50%     75%    max count   \n",
       "day                                                                           \n",
       "Fri   19.0  17.151579  8.302660  5.75  12.0950  15.380  21.750  40.17  19.0   \n",
       "Sat   86.0  20.504535  9.517596  3.07  13.8575  18.265  24.975  50.81  86.0   \n",
       "Sun   75.0  21.566400  8.785008  7.25  15.2300  19.770  25.635  48.17  75.0   \n",
       "Thur  62.0  17.682742  7.886170  7.51  12.4425  16.200  20.155  43.11  62.0   \n",
       "\n",
       "                ...               tip                                          \\\n",
       "          mean  ...    75%  max count      mean       std   min    25%    50%   \n",
       "day             ...                                                             \n",
       "Fri   2.105263  ...    2.0  4.0  19.0  2.734737  1.019577  1.00  1.960  3.000   \n",
       "Sat   2.523256  ...    3.0  5.0  86.0  3.003605  1.637619  1.00  2.000  2.815   \n",
       "Sun   2.853333  ...    4.0  6.0  75.0  3.280933  1.222398  1.01  2.145  3.180   \n",
       "Thur  2.451613  ...    2.0  6.0  62.0  2.771452  1.240223  1.25  2.000  2.305   \n",
       "\n",
       "                     \n",
       "         75%    max  \n",
       "day                  \n",
       "Fri   3.3650   4.73  \n",
       "Sat   3.3800  10.00  \n",
       "Sun   4.0000   6.50  \n",
       "Thur  3.3625   6.70  \n",
       "\n",
       "[4 rows x 24 columns]"
      ]
     },
     "execution_count": 33,
     "metadata": {},
     "output_type": "execute_result"
    }
   ],
   "source": [
    "grouped.describe()"
   ]
  },
  {
   "cell_type": "markdown",
   "metadata": {},
   "source": [
    "出力が横に長過ぎて見づらいので行と列を転置します。"
   ]
  },
  {
   "cell_type": "code",
   "execution_count": 34,
   "metadata": {},
   "outputs": [
    {
     "data": {
      "text/html": [
       "<div>\n",
       "<style>\n",
       "    .dataframe thead tr:only-child th {\n",
       "        text-align: right;\n",
       "    }\n",
       "\n",
       "    .dataframe thead th {\n",
       "        text-align: left;\n",
       "    }\n",
       "\n",
       "    .dataframe tbody tr th {\n",
       "        vertical-align: top;\n",
       "    }\n",
       "</style>\n",
       "<table border=\"1\" class=\"dataframe\">\n",
       "  <thead>\n",
       "    <tr style=\"text-align: right;\">\n",
       "      <th></th>\n",
       "      <th>day</th>\n",
       "      <th>Fri</th>\n",
       "      <th>Sat</th>\n",
       "      <th>Sun</th>\n",
       "      <th>Thur</th>\n",
       "    </tr>\n",
       "  </thead>\n",
       "  <tbody>\n",
       "    <tr>\n",
       "      <th rowspan=\"8\" valign=\"top\">bill</th>\n",
       "      <th>count</th>\n",
       "      <td>19.000000</td>\n",
       "      <td>86.000000</td>\n",
       "      <td>75.000000</td>\n",
       "      <td>62.000000</td>\n",
       "    </tr>\n",
       "    <tr>\n",
       "      <th>mean</th>\n",
       "      <td>17.151579</td>\n",
       "      <td>20.504535</td>\n",
       "      <td>21.566400</td>\n",
       "      <td>17.682742</td>\n",
       "    </tr>\n",
       "    <tr>\n",
       "      <th>std</th>\n",
       "      <td>8.302660</td>\n",
       "      <td>9.517596</td>\n",
       "      <td>8.785008</td>\n",
       "      <td>7.886170</td>\n",
       "    </tr>\n",
       "    <tr>\n",
       "      <th>min</th>\n",
       "      <td>5.750000</td>\n",
       "      <td>3.070000</td>\n",
       "      <td>7.250000</td>\n",
       "      <td>7.510000</td>\n",
       "    </tr>\n",
       "    <tr>\n",
       "      <th>25%</th>\n",
       "      <td>12.095000</td>\n",
       "      <td>13.857500</td>\n",
       "      <td>15.230000</td>\n",
       "      <td>12.442500</td>\n",
       "    </tr>\n",
       "    <tr>\n",
       "      <th>50%</th>\n",
       "      <td>15.380000</td>\n",
       "      <td>18.265000</td>\n",
       "      <td>19.770000</td>\n",
       "      <td>16.200000</td>\n",
       "    </tr>\n",
       "    <tr>\n",
       "      <th>75%</th>\n",
       "      <td>21.750000</td>\n",
       "      <td>24.975000</td>\n",
       "      <td>25.635000</td>\n",
       "      <td>20.155000</td>\n",
       "    </tr>\n",
       "    <tr>\n",
       "      <th>max</th>\n",
       "      <td>40.170000</td>\n",
       "      <td>50.810000</td>\n",
       "      <td>48.170000</td>\n",
       "      <td>43.110000</td>\n",
       "    </tr>\n",
       "    <tr>\n",
       "      <th rowspan=\"8\" valign=\"top\">size</th>\n",
       "      <th>count</th>\n",
       "      <td>19.000000</td>\n",
       "      <td>86.000000</td>\n",
       "      <td>75.000000</td>\n",
       "      <td>62.000000</td>\n",
       "    </tr>\n",
       "    <tr>\n",
       "      <th>mean</th>\n",
       "      <td>2.105263</td>\n",
       "      <td>2.523256</td>\n",
       "      <td>2.853333</td>\n",
       "      <td>2.451613</td>\n",
       "    </tr>\n",
       "    <tr>\n",
       "      <th>std</th>\n",
       "      <td>0.567131</td>\n",
       "      <td>0.822146</td>\n",
       "      <td>1.009326</td>\n",
       "      <td>1.066285</td>\n",
       "    </tr>\n",
       "    <tr>\n",
       "      <th>min</th>\n",
       "      <td>1.000000</td>\n",
       "      <td>1.000000</td>\n",
       "      <td>2.000000</td>\n",
       "      <td>1.000000</td>\n",
       "    </tr>\n",
       "    <tr>\n",
       "      <th>25%</th>\n",
       "      <td>2.000000</td>\n",
       "      <td>2.000000</td>\n",
       "      <td>2.000000</td>\n",
       "      <td>2.000000</td>\n",
       "    </tr>\n",
       "    <tr>\n",
       "      <th>50%</th>\n",
       "      <td>2.000000</td>\n",
       "      <td>2.000000</td>\n",
       "      <td>2.000000</td>\n",
       "      <td>2.000000</td>\n",
       "    </tr>\n",
       "    <tr>\n",
       "      <th>75%</th>\n",
       "      <td>2.000000</td>\n",
       "      <td>3.000000</td>\n",
       "      <td>4.000000</td>\n",
       "      <td>2.000000</td>\n",
       "    </tr>\n",
       "    <tr>\n",
       "      <th>max</th>\n",
       "      <td>4.000000</td>\n",
       "      <td>5.000000</td>\n",
       "      <td>6.000000</td>\n",
       "      <td>6.000000</td>\n",
       "    </tr>\n",
       "    <tr>\n",
       "      <th rowspan=\"8\" valign=\"top\">tip</th>\n",
       "      <th>count</th>\n",
       "      <td>19.000000</td>\n",
       "      <td>86.000000</td>\n",
       "      <td>75.000000</td>\n",
       "      <td>62.000000</td>\n",
       "    </tr>\n",
       "    <tr>\n",
       "      <th>mean</th>\n",
       "      <td>2.734737</td>\n",
       "      <td>3.003605</td>\n",
       "      <td>3.280933</td>\n",
       "      <td>2.771452</td>\n",
       "    </tr>\n",
       "    <tr>\n",
       "      <th>std</th>\n",
       "      <td>1.019577</td>\n",
       "      <td>1.637619</td>\n",
       "      <td>1.222398</td>\n",
       "      <td>1.240223</td>\n",
       "    </tr>\n",
       "    <tr>\n",
       "      <th>min</th>\n",
       "      <td>1.000000</td>\n",
       "      <td>1.000000</td>\n",
       "      <td>1.010000</td>\n",
       "      <td>1.250000</td>\n",
       "    </tr>\n",
       "    <tr>\n",
       "      <th>25%</th>\n",
       "      <td>1.960000</td>\n",
       "      <td>2.000000</td>\n",
       "      <td>2.145000</td>\n",
       "      <td>2.000000</td>\n",
       "    </tr>\n",
       "    <tr>\n",
       "      <th>50%</th>\n",
       "      <td>3.000000</td>\n",
       "      <td>2.815000</td>\n",
       "      <td>3.180000</td>\n",
       "      <td>2.305000</td>\n",
       "    </tr>\n",
       "    <tr>\n",
       "      <th>75%</th>\n",
       "      <td>3.365000</td>\n",
       "      <td>3.380000</td>\n",
       "      <td>4.000000</td>\n",
       "      <td>3.362500</td>\n",
       "    </tr>\n",
       "    <tr>\n",
       "      <th>max</th>\n",
       "      <td>4.730000</td>\n",
       "      <td>10.000000</td>\n",
       "      <td>6.500000</td>\n",
       "      <td>6.700000</td>\n",
       "    </tr>\n",
       "  </tbody>\n",
       "</table>\n",
       "</div>"
      ],
      "text/plain": [
       "day               Fri        Sat        Sun       Thur\n",
       "bill count  19.000000  86.000000  75.000000  62.000000\n",
       "     mean   17.151579  20.504535  21.566400  17.682742\n",
       "     std     8.302660   9.517596   8.785008   7.886170\n",
       "     min     5.750000   3.070000   7.250000   7.510000\n",
       "     25%    12.095000  13.857500  15.230000  12.442500\n",
       "     50%    15.380000  18.265000  19.770000  16.200000\n",
       "     75%    21.750000  24.975000  25.635000  20.155000\n",
       "     max    40.170000  50.810000  48.170000  43.110000\n",
       "size count  19.000000  86.000000  75.000000  62.000000\n",
       "     mean    2.105263   2.523256   2.853333   2.451613\n",
       "     std     0.567131   0.822146   1.009326   1.066285\n",
       "     min     1.000000   1.000000   2.000000   1.000000\n",
       "     25%     2.000000   2.000000   2.000000   2.000000\n",
       "     50%     2.000000   2.000000   2.000000   2.000000\n",
       "     75%     2.000000   3.000000   4.000000   2.000000\n",
       "     max     4.000000   5.000000   6.000000   6.000000\n",
       "tip  count  19.000000  86.000000  75.000000  62.000000\n",
       "     mean    2.734737   3.003605   3.280933   2.771452\n",
       "     std     1.019577   1.637619   1.222398   1.240223\n",
       "     min     1.000000   1.000000   1.010000   1.250000\n",
       "     25%     1.960000   2.000000   2.145000   2.000000\n",
       "     50%     3.000000   2.815000   3.180000   2.305000\n",
       "     75%     3.365000   3.380000   4.000000   3.362500\n",
       "     max     4.730000  10.000000   6.500000   6.700000"
      ]
     },
     "execution_count": 34,
     "metadata": {},
     "output_type": "execute_result"
    }
   ],
   "source": [
    "#転置して見やすくする。\n",
    "#billごとの要素統計量, sizeごとの要素統計量\n",
    "#都道府県ごとの売り上げを見たい時などに便利\n",
    "grouped.describe().transpose()"
   ]
  },
  {
   "cell_type": "code",
   "execution_count": 35,
   "metadata": {},
   "outputs": [
    {
     "data": {
      "text/plain": [
       "day\n",
       "Fri      51.96\n",
       "Sat     258.31\n",
       "Sun     246.07\n",
       "Thur    171.83\n",
       "Name: tip, dtype: float64"
      ]
     },
     "execution_count": 35,
     "metadata": {},
     "output_type": "execute_result"
    }
   ],
   "source": [
    "#各曜日ごとのtipの総額を見たい時に便利\n",
    "grouped['tip'].sum()"
   ]
  },
  {
   "cell_type": "markdown",
   "metadata": {},
   "source": [
    "## 集計と可視化"
   ]
  },
  {
   "cell_type": "markdown",
   "metadata": {},
   "source": [
    "便宜上、文字列型のデータをカテゴリー型に変換します。"
   ]
  },
  {
   "cell_type": "code",
   "execution_count": 36,
   "metadata": {},
   "outputs": [],
   "source": [
    "categories = {\n",
    "    'day': ['Thur', 'Fri', 'Sat', 'Sun'],\n",
    "    'sex': ['Male', 'Female'],\n",
    "    'time': ['Lunch', 'Dinner'],\n",
    "    'smoker': ['Yes', 'No']\n",
    "}\n",
    "for col, values in categories.items():\n",
    "    tips[col] = pd.Categorical(tips[col], values)"
   ]
  },
  {
   "cell_type": "code",
   "execution_count": 37,
   "metadata": {},
   "outputs": [
    {
     "data": {
      "text/plain": [
       "bill       float64\n",
       "tip        float64\n",
       "sex       category\n",
       "smoker    category\n",
       "day       category\n",
       "time      category\n",
       "size         int64\n",
       "dtype: object"
      ]
     },
     "execution_count": 37,
     "metadata": {},
     "output_type": "execute_result"
    }
   ],
   "source": [
    "tips.dtypes"
   ]
  },
  {
   "cell_type": "markdown",
   "metadata": {},
   "source": [
    "このウェイターが集計期間にチップだけでいくら稼いだかを計算してみましょう。"
   ]
  },
  {
   "cell_type": "code",
   "execution_count": 38,
   "metadata": {},
   "outputs": [
    {
     "data": {
      "text/plain": [
       "728.16999999999996"
      ]
     },
     "execution_count": 38,
     "metadata": {},
     "output_type": "execute_result"
    }
   ],
   "source": [
    "tips['tip'].sum()"
   ]
  },
  {
   "cell_type": "markdown",
   "metadata": {},
   "source": [
    "728ドル！結構稼いでいますね。ディナータイムとランチタイムでは、どちらでよりチップを稼いでいたのかを見てみましょう。`groupby()` で時間帯ごとにグルーピングして `tip` の総和を計算します。"
   ]
  },
  {
   "cell_type": "code",
   "execution_count": 39,
   "metadata": {},
   "outputs": [
    {
     "data": {
      "text/plain": [
       "time\n",
       "Lunch     185.51\n",
       "Dinner    542.66\n",
       "Name: tip, dtype: float64"
      ]
     },
     "execution_count": 39,
     "metadata": {},
     "output_type": "execute_result"
    }
   ],
   "source": [
    "tips.groupby('time')['tip'].sum()"
   ]
  },
  {
   "cell_type": "markdown",
   "metadata": {},
   "source": [
    "圧倒的にディナータイムにチップを稼いでいたようですね。"
   ]
  },
  {
   "cell_type": "markdown",
   "metadata": {},
   "source": [
    "チップの額の上位10のレコードを調べてみましょう。"
   ]
  },
  {
   "cell_type": "code",
   "execution_count": 40,
   "metadata": {},
   "outputs": [
    {
     "data": {
      "text/html": [
       "<div>\n",
       "<style>\n",
       "    .dataframe thead tr:only-child th {\n",
       "        text-align: right;\n",
       "    }\n",
       "\n",
       "    .dataframe thead th {\n",
       "        text-align: left;\n",
       "    }\n",
       "\n",
       "    .dataframe tbody tr th {\n",
       "        vertical-align: top;\n",
       "    }\n",
       "</style>\n",
       "<table border=\"1\" class=\"dataframe\">\n",
       "  <thead>\n",
       "    <tr style=\"text-align: right;\">\n",
       "      <th></th>\n",
       "      <th>bill</th>\n",
       "      <th>tip</th>\n",
       "      <th>sex</th>\n",
       "      <th>smoker</th>\n",
       "      <th>day</th>\n",
       "      <th>time</th>\n",
       "      <th>size</th>\n",
       "    </tr>\n",
       "  </thead>\n",
       "  <tbody>\n",
       "    <tr>\n",
       "      <th>170</th>\n",
       "      <td>50.81</td>\n",
       "      <td>10.00</td>\n",
       "      <td>Male</td>\n",
       "      <td>Yes</td>\n",
       "      <td>Sat</td>\n",
       "      <td>Dinner</td>\n",
       "      <td>3</td>\n",
       "    </tr>\n",
       "    <tr>\n",
       "      <th>212</th>\n",
       "      <td>48.33</td>\n",
       "      <td>9.00</td>\n",
       "      <td>Male</td>\n",
       "      <td>No</td>\n",
       "      <td>Sat</td>\n",
       "      <td>Dinner</td>\n",
       "      <td>4</td>\n",
       "    </tr>\n",
       "    <tr>\n",
       "      <th>23</th>\n",
       "      <td>39.42</td>\n",
       "      <td>7.58</td>\n",
       "      <td>Male</td>\n",
       "      <td>No</td>\n",
       "      <td>Sat</td>\n",
       "      <td>Dinner</td>\n",
       "      <td>4</td>\n",
       "    </tr>\n",
       "    <tr>\n",
       "      <th>59</th>\n",
       "      <td>48.27</td>\n",
       "      <td>6.73</td>\n",
       "      <td>Male</td>\n",
       "      <td>No</td>\n",
       "      <td>Sat</td>\n",
       "      <td>Dinner</td>\n",
       "      <td>4</td>\n",
       "    </tr>\n",
       "    <tr>\n",
       "      <th>141</th>\n",
       "      <td>34.30</td>\n",
       "      <td>6.70</td>\n",
       "      <td>Male</td>\n",
       "      <td>No</td>\n",
       "      <td>Thur</td>\n",
       "      <td>Lunch</td>\n",
       "      <td>6</td>\n",
       "    </tr>\n",
       "    <tr>\n",
       "      <th>183</th>\n",
       "      <td>23.17</td>\n",
       "      <td>6.50</td>\n",
       "      <td>Male</td>\n",
       "      <td>Yes</td>\n",
       "      <td>Sun</td>\n",
       "      <td>Dinner</td>\n",
       "      <td>4</td>\n",
       "    </tr>\n",
       "    <tr>\n",
       "      <th>214</th>\n",
       "      <td>28.17</td>\n",
       "      <td>6.50</td>\n",
       "      <td>Female</td>\n",
       "      <td>Yes</td>\n",
       "      <td>Sat</td>\n",
       "      <td>Dinner</td>\n",
       "      <td>3</td>\n",
       "    </tr>\n",
       "    <tr>\n",
       "      <th>47</th>\n",
       "      <td>32.40</td>\n",
       "      <td>6.00</td>\n",
       "      <td>Male</td>\n",
       "      <td>No</td>\n",
       "      <td>Sun</td>\n",
       "      <td>Dinner</td>\n",
       "      <td>4</td>\n",
       "    </tr>\n",
       "    <tr>\n",
       "      <th>239</th>\n",
       "      <td>29.03</td>\n",
       "      <td>5.92</td>\n",
       "      <td>Male</td>\n",
       "      <td>No</td>\n",
       "      <td>Sat</td>\n",
       "      <td>Dinner</td>\n",
       "      <td>3</td>\n",
       "    </tr>\n",
       "    <tr>\n",
       "      <th>88</th>\n",
       "      <td>24.71</td>\n",
       "      <td>5.85</td>\n",
       "      <td>Male</td>\n",
       "      <td>No</td>\n",
       "      <td>Thur</td>\n",
       "      <td>Lunch</td>\n",
       "      <td>2</td>\n",
       "    </tr>\n",
       "  </tbody>\n",
       "</table>\n",
       "</div>"
      ],
      "text/plain": [
       "      bill    tip     sex smoker   day    time  size\n",
       "170  50.81  10.00    Male    Yes   Sat  Dinner     3\n",
       "212  48.33   9.00    Male     No   Sat  Dinner     4\n",
       "23   39.42   7.58    Male     No   Sat  Dinner     4\n",
       "59   48.27   6.73    Male     No   Sat  Dinner     4\n",
       "141  34.30   6.70    Male     No  Thur   Lunch     6\n",
       "183  23.17   6.50    Male    Yes   Sun  Dinner     4\n",
       "214  28.17   6.50  Female    Yes   Sat  Dinner     3\n",
       "47   32.40   6.00    Male     No   Sun  Dinner     4\n",
       "239  29.03   5.92    Male     No   Sat  Dinner     3\n",
       "88   24.71   5.85    Male     No  Thur   Lunch     2"
      ]
     },
     "execution_count": 40,
     "metadata": {},
     "output_type": "execute_result"
    }
   ],
   "source": [
    "#チップの額が高いもので昇順でならべ変える。linuxに似ている。\n",
    "tips.sort_values(by='tip', ascending=False).head(10)"
   ]
  },
  {
   "cell_type": "markdown",
   "metadata": {},
   "source": [
    "このレストランの客の喫煙者と非喫煙者の割合はそれくらいでしょうか？分かりやすいように円グラフとしてプロットしてみます。`groupby()` で喫煙者・非喫煙者でグルーピングしてから列 `tip` レコード数を取り出します。結果を `smoker` と名付けます。"
   ]
  },
  {
   "cell_type": "code",
   "execution_count": 41,
   "metadata": {},
   "outputs": [],
   "source": [
    "#スモーカーの値ごとに集計を行う。\n",
    "#グループ分けしたものからtipカラムを取得する\n",
    "#countメソッドを利用し、レコードの数を数える\n",
    "smoker = tips.groupby('smoker')['tip'].count()"
   ]
  },
  {
   "cell_type": "markdown",
   "metadata": {},
   "source": [
    "`smoker` を円グラフとしてプロットします。"
   ]
  },
  {
   "cell_type": "code",
   "execution_count": 42,
   "metadata": {},
   "outputs": [
    {
     "data": {
      "text/plain": [
       "<matplotlib.axes._subplots.AxesSubplot at 0x1126fcd68>"
      ]
     },
     "execution_count": 42,
     "metadata": {},
     "output_type": "execute_result"
    },
    {
     "data": {
      "image/png": "[encoded data removed]",
      "text/plain": [
       "<matplotlib.figure.Figure at 0x1126f5390>"
      ]
     },
     "metadata": {},
     "output_type": "display_data"
    }
   ],
   "source": [
    "smoker.plot.pie(figsize=(6, 6))"
   ]
  },
  {
   "cell_type": "markdown",
   "metadata": {},
   "source": [
    "喫煙者と非喫煙者の割合はおよそ 2:1 というところでしょうか。"
   ]
  },
  {
   "cell_type": "markdown",
   "metadata": {},
   "source": [
    "週の曜日ごとに請求額とチップの額の平均を棒グラフとしてプロットします。`groupby()` で曜日ごとにグルーピングして `bill` と `tip` の平均をとります。結果を `tips_by_dow` と名付けます。"
   ]
  },
  {
   "cell_type": "code",
   "execution_count": 43,
   "metadata": {},
   "outputs": [
    {
     "data": {
      "text/html": [
       "<div>\n",
       "<style>\n",
       "    .dataframe thead tr:only-child th {\n",
       "        text-align: right;\n",
       "    }\n",
       "\n",
       "    .dataframe thead th {\n",
       "        text-align: left;\n",
       "    }\n",
       "\n",
       "    .dataframe tbody tr th {\n",
       "        vertical-align: top;\n",
       "    }\n",
       "</style>\n",
       "<table border=\"1\" class=\"dataframe\">\n",
       "  <thead>\n",
       "    <tr style=\"text-align: right;\">\n",
       "      <th></th>\n",
       "      <th>bill</th>\n",
       "      <th>tip</th>\n",
       "    </tr>\n",
       "    <tr>\n",
       "      <th>day</th>\n",
       "      <th></th>\n",
       "      <th></th>\n",
       "    </tr>\n",
       "  </thead>\n",
       "  <tbody>\n",
       "    <tr>\n",
       "      <th>Thur</th>\n",
       "      <td>17.682742</td>\n",
       "      <td>2.771452</td>\n",
       "    </tr>\n",
       "    <tr>\n",
       "      <th>Fri</th>\n",
       "      <td>17.151579</td>\n",
       "      <td>2.734737</td>\n",
       "    </tr>\n",
       "    <tr>\n",
       "      <th>Sat</th>\n",
       "      <td>20.504535</td>\n",
       "      <td>3.003605</td>\n",
       "    </tr>\n",
       "    <tr>\n",
       "      <th>Sun</th>\n",
       "      <td>21.566400</td>\n",
       "      <td>3.280933</td>\n",
       "    </tr>\n",
       "  </tbody>\n",
       "</table>\n",
       "</div>"
      ],
      "text/plain": [
       "           bill       tip\n",
       "day                      \n",
       "Thur  17.682742  2.771452\n",
       "Fri   17.151579  2.734737\n",
       "Sat   20.504535  3.003605\n",
       "Sun   21.566400  3.280933"
      ]
     },
     "execution_count": 43,
     "metadata": {},
     "output_type": "execute_result"
    }
   ],
   "source": [
    "#日付ごとに集計し、集計結果からbillとtipを取得す流。\n",
    "tips_by_dow = tips.groupby('day')[['bill', 'tip']].mean()\n",
    "tips_by_dow.head()"
   ]
  },
  {
   "cell_type": "markdown",
   "metadata": {},
   "source": [
    "`tips_by_dow` を棒グラフとしてプロットします。"
   ]
  },
  {
   "cell_type": "code",
   "execution_count": 44,
   "metadata": {},
   "outputs": [
    {
     "data": {
      "text/plain": [
       "<matplotlib.axes._subplots.AxesSubplot at 0x1127b3f98>"
      ]
     },
     "execution_count": 44,
     "metadata": {},
     "output_type": "execute_result"
    },
    {
     "data": {
      "image/png": "[encoded data removed]",
      "text/plain": [
       "<matplotlib.figure.Figure at 0x11278d438>"
      ]
     },
     "metadata": {},
     "output_type": "display_data"
    }
   ],
   "source": [
    "#棒グラフとして表示させる。\n",
    "tips_by_dow.plot.bar()"
   ]
  },
  {
   "cell_type": "markdown",
   "metadata": {},
   "source": [
    "週日にくらべて週末のほうが請求額が多くなってることがわかります。チップの額は微増しているように見えます。上のグラフでは、支払い額がひと目ではわかりにくくなっています。`tips_by_dow` を積み上げ棒グラフとしてプロットします。"
   ]
  },
  {
   "cell_type": "code",
   "execution_count": 45,
   "metadata": {
    "scrolled": true
   },
   "outputs": [
    {
     "data": {
      "text/plain": [
       "<matplotlib.axes._subplots.AxesSubplot at 0x1127d0ba8>"
      ]
     },
     "execution_count": 45,
     "metadata": {},
     "output_type": "execute_result"
    },
    {
     "data": {
      "image/png": "[encoded data removed]",
      "text/plain": [
       "<matplotlib.figure.Figure at 0x1128a9b38>"
      ]
     },
     "metadata": {},
     "output_type": "display_data"
    }
   ],
   "source": [
    "#billとtipが同じぼうグラフに乗る。\n",
    "#支払額が一目でわかる。\n",
    "tips_by_dow.plot.bar(stacked=True)"
   ]
  },
  {
   "cell_type": "markdown",
   "metadata": {},
   "source": [
    "週日にくらべて週末のほうが支払額が多くなってることがひと目でわかります。しかし、チップの額の変化は上のグラフの方が見やすいですね。支払額におけるチップの額の割合を知りたくなりました。支払額を 1 とした場合のチップの額の割合を計算します。結果を `frac_tips_by_dow` と名付けます。この計算には `apply()` を用います。デフォルトでは `apply()` は引数として渡した関数を各列に適用します。"
   ]
  },
  {
   "cell_type": "code",
   "execution_count": 46,
   "metadata": {},
   "outputs": [
    {
     "data": {
      "text/html": [
       "<div>\n",
       "<style>\n",
       "    .dataframe thead tr:only-child th {\n",
       "        text-align: right;\n",
       "    }\n",
       "\n",
       "    .dataframe thead th {\n",
       "        text-align: left;\n",
       "    }\n",
       "\n",
       "    .dataframe tbody tr th {\n",
       "        vertical-align: top;\n",
       "    }\n",
       "</style>\n",
       "<table border=\"1\" class=\"dataframe\">\n",
       "  <thead>\n",
       "    <tr style=\"text-align: right;\">\n",
       "      <th></th>\n",
       "      <th>bill</th>\n",
       "      <th>tip</th>\n",
       "    </tr>\n",
       "    <tr>\n",
       "      <th>day</th>\n",
       "      <th></th>\n",
       "      <th></th>\n",
       "    </tr>\n",
       "  </thead>\n",
       "  <tbody>\n",
       "    <tr>\n",
       "      <th>Thur</th>\n",
       "      <td>0.864504</td>\n",
       "      <td>0.135496</td>\n",
       "    </tr>\n",
       "    <tr>\n",
       "      <th>Fri</th>\n",
       "      <td>0.862481</td>\n",
       "      <td>0.137519</td>\n",
       "    </tr>\n",
       "    <tr>\n",
       "      <th>Sat</th>\n",
       "      <td>0.872231</td>\n",
       "      <td>0.127769</td>\n",
       "    </tr>\n",
       "    <tr>\n",
       "      <th>Sun</th>\n",
       "      <td>0.867956</td>\n",
       "      <td>0.132044</td>\n",
       "    </tr>\n",
       "  </tbody>\n",
       "</table>\n",
       "</div>"
      ],
      "text/plain": [
       "          bill       tip\n",
       "day                     \n",
       "Thur  0.864504  0.135496\n",
       "Fri   0.862481  0.137519\n",
       "Sat   0.872231  0.127769\n",
       "Sun   0.867956  0.132044"
      ]
     },
     "execution_count": 46,
     "metadata": {},
     "output_type": "execute_result"
    }
   ],
   "source": [
    "#棒グラフの中でのtipの割合を調べる。\n",
    "#各行を足した値を、値で割ることで求める。\n",
    "#x:xは各列\n",
    "# / tips_by_dow.sum(axis=1：足し合わせたもの\n",
    "frac_tips_by_dow = tips_by_dow.apply(lambda x : x / tips_by_dow.sum(axis=1))\n",
    "frac_tips_by_dow"
   ]
  },
  {
   "cell_type": "code",
   "execution_count": null,
   "metadata": {},
   "outputs": [],
   "source": []
  },
  {
   "cell_type": "markdown",
   "metadata": {},
   "source": [
    "支払額を 1 とした場合のチップの額の割合を曜日ごとに積み上げ棒グラフとしてプロットします。"
   ]
  },
  {
   "cell_type": "code",
   "execution_count": 47,
   "metadata": {
    "scrolled": true
   },
   "outputs": [
    {
     "data": {
      "text/plain": [
       "<matplotlib.axes._subplots.AxesSubplot at 0x1128eaeb8>"
      ]
     },
     "execution_count": 47,
     "metadata": {},
     "output_type": "execute_result"
    },
    {
     "data": {
      "image/png": "[encoded data removed]",
      "text/plain": [
       "<matplotlib.figure.Figure at 0x1129b0c18>"
      ]
     },
     "metadata": {},
     "output_type": "display_data"
    }
   ],
   "source": [
    "#支払額を1とした時のtipとbilの割合\n",
    "frac_tips_by_dow.plot.bar(stacked=True)"
   ]
  },
  {
   "cell_type": "markdown",
   "metadata": {},
   "source": [
    "支払額におけるチップの額の割合は、ほとんど変化していませんが週末に微減していることがわかりました。"
   ]
  },
  {
   "cell_type": "markdown",
   "metadata": {},
   "source": [
    "上の一連のグラフのY軸にはラベルがありません。また、X軸のラベルが day というのは分かりやすい名前とは言えません。さらに、上のグラフでは凡例が棒グラフを重なってしまって見えにくくなっています。グラフの見た目を整えるときには [matplotlib](https://matplotlib.org/) を用います。"
   ]
  },
  {
   "cell_type": "code",
   "execution_count": null,
   "metadata": {
    "collapsed": true
   },
   "outputs": [],
   "source": [
    "import matplotlib.pyplot as plt"
   ]
  },
  {
   "cell_type": "code",
   "execution_count": null,
   "metadata": {
    "scrolled": true
   },
   "outputs": [],
   "source": [
    "fig, ax = plt.subplots()\n",
    "(tips_by_dow\n",
    " .apply(lambda x : x / tips_by_dow.sum(axis=1))\n",
    " .plot.bar(stacked=True, ax=ax))\n",
    "ax.set_xlabel('Day of week')\n",
    "ax.set_ylabel('Bill vs tip')\n",
    "ax.legend(loc='center left', bbox_to_anchor=(1.0, 0.5))"
   ]
  },
  {
   "cell_type": "markdown",
   "metadata": {},
   "source": [
    "支払額の棒グラフと支払額におけるチップの額の割合の棒グラフを横に並べてプロットしてみます。"
   ]
  },
  {
   "cell_type": "code",
   "execution_count": null,
   "metadata": {
    "scrolled": false
   },
   "outputs": [],
   "source": [
    "fig, axes = plt.subplots(nrows=1, ncols=2, figsize=(12, 4))\n",
    "\n",
    "tips_by_dow.plot.bar(stacked=True, ax=axes[0])\n",
    "(tips_by_dow\n",
    " .apply(lambda x : x / tips_by_dow.sum(axis=1))\n",
    " .plot.bar(stacked=True, ax=axes[1]))\n",
    "\n",
    "for ax in axes:\n",
    "    ax.set_xlabel('Day of week')\n",
    "axes[0].set_ylabel('Total payment')\n",
    "axes[1].set_ylabel('Bill vs tip')\n",
    "axes[0].legend().set_visible(False)\n",
    "axes[1].legend(loc='center left', bbox_to_anchor=(1.0, 0.5))"
   ]
  },
  {
   "cell_type": "markdown",
   "metadata": {},
   "source": [
    "### 練習問題"
   ]
  },
  {
   "cell_type": "code",
   "execution_count": null,
   "metadata": {
    "collapsed": true
   },
   "outputs": [],
   "source": [
    "# 時間ごと（Lunch/Dinner）の請求額とチップの額の平均を可視化してください。何がわかりますか？"
   ]
  }
 ],
 "metadata": {
  "kernelspec": {
   "display_name": "Python 3",
   "language": "python",
   "name": "python3"
  },
  "language_info": {
   "codemirror_mode": {
    "name": "ipython",
    "version": 3
   },
   "file_extension": ".py",
   "mimetype": "text/x-python",
   "name": "python",
   "nbconvert_exporter": "python",
   "pygments_lexer": "ipython3",
   "version": "3.4.3"
  }
 },
 "nbformat": 4,
 "nbformat_minor": 2
}
