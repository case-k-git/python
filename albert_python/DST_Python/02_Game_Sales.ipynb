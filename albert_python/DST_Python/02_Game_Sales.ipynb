{
 "cells": [
  {
   "cell_type": "markdown",
   "metadata": {},
   "source": [
    "# Game Sales"
   ]
  },
  {
   "cell_type": "code",
   "execution_count": 1,
   "metadata": {},
   "outputs": [],
   "source": [
    "import pandas as pd\n",
    "import matplotlib.pyplot as plt\n",
    "import seaborn as sns"
   ]
  },
  {
   "cell_type": "code",
   "execution_count": 2,
   "metadata": {},
   "outputs": [],
   "source": [
    "%matplotlib inline"
   ]
  },
  {
   "cell_type": "markdown",
   "metadata": {},
   "source": [
    "## 1 分析の目的"
   ]
  },
  {
   "cell_type": "markdown",
   "metadata": {},
   "source": [
    "世界のゲームの販売データから地域別の販売傾向を分析します。\n",
    "\n",
    "![](images/video-game-sales-screenshot.png)\n",
    "\n",
    "データは Kaggle Dataset [Video Game Sales](https://www.kaggle.com/gregorut/videogamesales) から入手したものを本講座用に加工したものを使います。"
   ]
  },
  {
   "cell_type": "markdown",
   "metadata": {},
   "source": [
    "## 2 データ"
   ]
  },
  {
   "cell_type": "markdown",
   "metadata": {},
   "source": [
    "集計対象は、1980年から2016年10月までの世界のゲームの販売データです。データは以下の二つのファイルに分割されています。\n",
    "\n",
    "- `game_sales.csv`: ゲームタイトルの販売数を地域別に記録したデータ\n",
    "- `game_info.csv`: ゲームタイトルの情報を記録したデータ"
   ]
  },
  {
   "cell_type": "markdown",
   "metadata": {},
   "source": [
    "## 3 データの読み込みと確認"
   ]
  },
  {
   "cell_type": "markdown",
   "metadata": {},
   "source": [
    "### データの読み込み "
   ]
  },
  {
   "cell_type": "markdown",
   "metadata": {},
   "source": [
    "`data/game_sales.csv` を `DataFrame` として読み込んで `game_sales` と名付けて下さい。`game_sales.csv` に記録されているデータは16598行、6列で、各行は\n",
    "\n",
    "- `ID`: ゲームタイトルのID\n",
    "- `NA_Sales`: 北米での販売数\n",
    "- `EU_Sales`: 欧州での販売数\n",
    "- `JP_Sales`: 日本での販売数\n",
    "- `Other_Sales`: その他地域での販売数\n",
    "- `Global_Sales`: 全世界での販売数\n",
    "\n",
    "となっています。販売数の単位は100万本です。"
   ]
  },
  {
   "cell_type": "code",
   "execution_count": 3,
   "metadata": {
    "scrolled": true
   },
   "outputs": [
    {
     "data": {
      "text/html": [
       "<div>\n",
       "<style>\n",
       "    .dataframe thead tr:only-child th {\n",
       "        text-align: right;\n",
       "    }\n",
       "\n",
       "    .dataframe thead th {\n",
       "        text-align: left;\n",
       "    }\n",
       "\n",
       "    .dataframe tbody tr th {\n",
       "        vertical-align: top;\n",
       "    }\n",
       "</style>\n",
       "<table border=\"1\" class=\"dataframe\">\n",
       "  <thead>\n",
       "    <tr style=\"text-align: right;\">\n",
       "      <th></th>\n",
       "      <th>NA_Sales</th>\n",
       "      <th>EU_Sales</th>\n",
       "      <th>JP_Sales</th>\n",
       "      <th>Other_Sales</th>\n",
       "      <th>Global_Sales</th>\n",
       "    </tr>\n",
       "    <tr>\n",
       "      <th>ID</th>\n",
       "      <th></th>\n",
       "      <th></th>\n",
       "      <th></th>\n",
       "      <th></th>\n",
       "      <th></th>\n",
       "    </tr>\n",
       "  </thead>\n",
       "  <tbody>\n",
       "    <tr>\n",
       "      <th>18690</th>\n",
       "      <td>0.09</td>\n",
       "      <td>0.18</td>\n",
       "      <td>0.01</td>\n",
       "      <td>0.10</td>\n",
       "      <td>0.37</td>\n",
       "    </tr>\n",
       "    <tr>\n",
       "      <th>16381</th>\n",
       "      <td>0.11</td>\n",
       "      <td>0.15</td>\n",
       "      <td>0.00</td>\n",
       "      <td>0.06</td>\n",
       "      <td>0.32</td>\n",
       "    </tr>\n",
       "    <tr>\n",
       "      <th>7473</th>\n",
       "      <td>0.00</td>\n",
       "      <td>0.00</td>\n",
       "      <td>0.02</td>\n",
       "      <td>0.00</td>\n",
       "      <td>0.02</td>\n",
       "    </tr>\n",
       "    <tr>\n",
       "      <th>12972</th>\n",
       "      <td>0.41</td>\n",
       "      <td>0.11</td>\n",
       "      <td>0.00</td>\n",
       "      <td>0.04</td>\n",
       "      <td>0.55</td>\n",
       "    </tr>\n",
       "    <tr>\n",
       "      <th>4354</th>\n",
       "      <td>0.01</td>\n",
       "      <td>0.00</td>\n",
       "      <td>0.00</td>\n",
       "      <td>0.00</td>\n",
       "      <td>0.01</td>\n",
       "    </tr>\n",
       "  </tbody>\n",
       "</table>\n",
       "</div>"
      ],
      "text/plain": [
       "       NA_Sales  EU_Sales  JP_Sales  Other_Sales  Global_Sales\n",
       "ID                                                            \n",
       "18690      0.09      0.18      0.01         0.10          0.37\n",
       "16381      0.11      0.15      0.00         0.06          0.32\n",
       "7473       0.00      0.00      0.02         0.00          0.02\n",
       "12972      0.41      0.11      0.00         0.04          0.55\n",
       "4354       0.01      0.00      0.00         0.00          0.01"
      ]
     },
     "execution_count": 3,
     "metadata": {},
     "output_type": "execute_result"
    }
   ],
   "source": [
    "# data/game_sales.csv を DataFrame として読み込んで game_sales と名付けて下さい。\n",
    "game_sales = pd.read_csv('data/game_sales.csv', index_col=0)\n",
    "game_sales.head()"
   ]
  },
  {
   "cell_type": "markdown",
   "metadata": {},
   "source": [
    "### データの確認"
   ]
  },
  {
   "cell_type": "markdown",
   "metadata": {},
   "source": [
    "データの行数と列数が正しいかどうかを確認します。"
   ]
  },
  {
   "cell_type": "code",
   "execution_count": 4,
   "metadata": {},
   "outputs": [
    {
     "data": {
      "text/plain": [
       "(16598, 5)"
      ]
     },
     "execution_count": 4,
     "metadata": {},
     "output_type": "execute_result"
    }
   ],
   "source": [
    "# game_sales の行数と列数が正しいことを確認してください。\n",
    "game_sales.shape"
   ]
  },
  {
   "cell_type": "markdown",
   "metadata": {
    "collapsed": true
   },
   "source": [
    "各列のデータ型を確認します。データ型を変換する必要があるのかどうかを確認します。"
   ]
  },
  {
   "cell_type": "code",
   "execution_count": 5,
   "metadata": {},
   "outputs": [
    {
     "data": {
      "text/plain": [
       "NA_Sales        float64\n",
       "EU_Sales        float64\n",
       "JP_Sales        float64\n",
       "Other_Sales     float64\n",
       "Global_Sales    float64\n",
       "dtype: object"
      ]
     },
     "execution_count": 5,
     "metadata": {},
     "output_type": "execute_result"
    }
   ],
   "source": [
    "# 各列のデータ型を確認してください。\n",
    "game_sales.dtypes"
   ]
  },
  {
   "cell_type": "markdown",
   "metadata": {},
   "source": [
    "データの要約統計量を確認します。確認するべき点は\n",
    "\n",
    "- データの欠損\n",
    "- 外れ値\n",
    "- 矛盾のある数値"
   ]
  },
  {
   "cell_type": "code",
   "execution_count": 6,
   "metadata": {},
   "outputs": [
    {
     "data": {
      "text/html": [
       "<div>\n",
       "<style>\n",
       "    .dataframe thead tr:only-child th {\n",
       "        text-align: right;\n",
       "    }\n",
       "\n",
       "    .dataframe thead th {\n",
       "        text-align: left;\n",
       "    }\n",
       "\n",
       "    .dataframe tbody tr th {\n",
       "        vertical-align: top;\n",
       "    }\n",
       "</style>\n",
       "<table border=\"1\" class=\"dataframe\">\n",
       "  <thead>\n",
       "    <tr style=\"text-align: right;\">\n",
       "      <th></th>\n",
       "      <th>NA_Sales</th>\n",
       "      <th>EU_Sales</th>\n",
       "      <th>JP_Sales</th>\n",
       "      <th>Other_Sales</th>\n",
       "      <th>Global_Sales</th>\n",
       "    </tr>\n",
       "  </thead>\n",
       "  <tbody>\n",
       "    <tr>\n",
       "      <th>count</th>\n",
       "      <td>16598.000000</td>\n",
       "      <td>16598.000000</td>\n",
       "      <td>16593.000000</td>\n",
       "      <td>16598.000000</td>\n",
       "      <td>16583.000000</td>\n",
       "    </tr>\n",
       "    <tr>\n",
       "      <th>mean</th>\n",
       "      <td>0.264667</td>\n",
       "      <td>0.146652</td>\n",
       "      <td>0.077638</td>\n",
       "      <td>0.048063</td>\n",
       "      <td>0.537739</td>\n",
       "    </tr>\n",
       "    <tr>\n",
       "      <th>std</th>\n",
       "      <td>0.816683</td>\n",
       "      <td>0.505351</td>\n",
       "      <td>0.309496</td>\n",
       "      <td>0.188588</td>\n",
       "      <td>1.555655</td>\n",
       "    </tr>\n",
       "    <tr>\n",
       "      <th>min</th>\n",
       "      <td>0.000000</td>\n",
       "      <td>0.000000</td>\n",
       "      <td>-0.500000</td>\n",
       "      <td>0.000000</td>\n",
       "      <td>0.010000</td>\n",
       "    </tr>\n",
       "    <tr>\n",
       "      <th>25%</th>\n",
       "      <td>0.000000</td>\n",
       "      <td>0.000000</td>\n",
       "      <td>0.000000</td>\n",
       "      <td>0.000000</td>\n",
       "      <td>0.060000</td>\n",
       "    </tr>\n",
       "    <tr>\n",
       "      <th>50%</th>\n",
       "      <td>0.080000</td>\n",
       "      <td>0.020000</td>\n",
       "      <td>0.000000</td>\n",
       "      <td>0.010000</td>\n",
       "      <td>0.170000</td>\n",
       "    </tr>\n",
       "    <tr>\n",
       "      <th>75%</th>\n",
       "      <td>0.240000</td>\n",
       "      <td>0.110000</td>\n",
       "      <td>0.040000</td>\n",
       "      <td>0.040000</td>\n",
       "      <td>0.470000</td>\n",
       "    </tr>\n",
       "    <tr>\n",
       "      <th>max</th>\n",
       "      <td>41.490000</td>\n",
       "      <td>29.020000</td>\n",
       "      <td>10.220000</td>\n",
       "      <td>10.570000</td>\n",
       "      <td>82.740000</td>\n",
       "    </tr>\n",
       "  </tbody>\n",
       "</table>\n",
       "</div>"
      ],
      "text/plain": [
       "           NA_Sales      EU_Sales      JP_Sales   Other_Sales  Global_Sales\n",
       "count  16598.000000  16598.000000  16593.000000  16598.000000  16583.000000\n",
       "mean       0.264667      0.146652      0.077638      0.048063      0.537739\n",
       "std        0.816683      0.505351      0.309496      0.188588      1.555655\n",
       "min        0.000000      0.000000     -0.500000      0.000000      0.010000\n",
       "25%        0.000000      0.000000      0.000000      0.000000      0.060000\n",
       "50%        0.080000      0.020000      0.000000      0.010000      0.170000\n",
       "75%        0.240000      0.110000      0.040000      0.040000      0.470000\n",
       "max       41.490000     29.020000     10.220000     10.570000     82.740000"
      ]
     },
     "execution_count": 6,
     "metadata": {},
     "output_type": "execute_result"
    }
   ],
   "source": [
    "# データの要約統計量を確認してください。\n",
    "#各地域全世界の販売数。販売数なので0より大きくないとおかしい。まず可視化させておかしい値を見てみる。\n",
    "game_sales.describe()"
   ]
  },
  {
   "cell_type": "code",
   "execution_count": 7,
   "metadata": {
    "scrolled": true
   },
   "outputs": [
    {
     "data": {
      "text/html": [
       "<div>\n",
       "<style>\n",
       "    .dataframe thead tr:only-child th {\n",
       "        text-align: right;\n",
       "    }\n",
       "\n",
       "    .dataframe thead th {\n",
       "        text-align: left;\n",
       "    }\n",
       "\n",
       "    .dataframe tbody tr th {\n",
       "        vertical-align: top;\n",
       "    }\n",
       "</style>\n",
       "<table border=\"1\" class=\"dataframe\">\n",
       "  <thead>\n",
       "    <tr style=\"text-align: right;\">\n",
       "      <th></th>\n",
       "      <th>NA_Sales</th>\n",
       "      <th>EU_Sales</th>\n",
       "      <th>JP_Sales</th>\n",
       "      <th>Other_Sales</th>\n",
       "      <th>Global_Sales</th>\n",
       "    </tr>\n",
       "    <tr>\n",
       "      <th>ID</th>\n",
       "      <th></th>\n",
       "      <th></th>\n",
       "      <th></th>\n",
       "      <th></th>\n",
       "      <th></th>\n",
       "    </tr>\n",
       "  </thead>\n",
       "  <tbody>\n",
       "    <tr>\n",
       "      <th>15893</th>\n",
       "      <td>0.00</td>\n",
       "      <td>0.08</td>\n",
       "      <td>-0.5</td>\n",
       "      <td>0.01</td>\n",
       "      <td>NaN</td>\n",
       "    </tr>\n",
       "    <tr>\n",
       "      <th>5164</th>\n",
       "      <td>0.03</td>\n",
       "      <td>0.01</td>\n",
       "      <td>-0.5</td>\n",
       "      <td>0.00</td>\n",
       "      <td>NaN</td>\n",
       "    </tr>\n",
       "    <tr>\n",
       "      <th>5126</th>\n",
       "      <td>0.09</td>\n",
       "      <td>0.00</td>\n",
       "      <td>-0.5</td>\n",
       "      <td>0.01</td>\n",
       "      <td>NaN</td>\n",
       "    </tr>\n",
       "    <tr>\n",
       "      <th>13629</th>\n",
       "      <td>0.00</td>\n",
       "      <td>0.00</td>\n",
       "      <td>-0.5</td>\n",
       "      <td>0.00</td>\n",
       "      <td>NaN</td>\n",
       "    </tr>\n",
       "    <tr>\n",
       "      <th>13893</th>\n",
       "      <td>0.01</td>\n",
       "      <td>0.00</td>\n",
       "      <td>-0.5</td>\n",
       "      <td>0.00</td>\n",
       "      <td>NaN</td>\n",
       "    </tr>\n",
       "  </tbody>\n",
       "</table>\n",
       "</div>"
      ],
      "text/plain": [
       "       NA_Sales  EU_Sales  JP_Sales  Other_Sales  Global_Sales\n",
       "ID                                                            \n",
       "15893      0.00      0.08      -0.5         0.01           NaN\n",
       "5164       0.03      0.01      -0.5         0.00           NaN\n",
       "5126       0.09      0.00      -0.5         0.01           NaN\n",
       "13629      0.00      0.00      -0.5         0.00           NaN\n",
       "13893      0.01      0.00      -0.5         0.00           NaN"
      ]
     },
     "execution_count": 7,
     "metadata": {},
     "output_type": "execute_result"
    }
   ],
   "source": [
    "# 外れ値や欠損のあるレコードを確認してください。\n",
    "game_sales.query('JP_Sales < 0')"
   ]
  },
  {
   "cell_type": "code",
   "execution_count": 8,
   "metadata": {},
   "outputs": [
    {
     "data": {
      "text/html": [
       "<div>\n",
       "<style>\n",
       "    .dataframe thead tr:only-child th {\n",
       "        text-align: right;\n",
       "    }\n",
       "\n",
       "    .dataframe thead th {\n",
       "        text-align: left;\n",
       "    }\n",
       "\n",
       "    .dataframe tbody tr th {\n",
       "        vertical-align: top;\n",
       "    }\n",
       "</style>\n",
       "<table border=\"1\" class=\"dataframe\">\n",
       "  <thead>\n",
       "    <tr style=\"text-align: right;\">\n",
       "      <th></th>\n",
       "      <th>NA_Sales</th>\n",
       "      <th>EU_Sales</th>\n",
       "      <th>JP_Sales</th>\n",
       "      <th>Other_Sales</th>\n",
       "      <th>Global_Sales</th>\n",
       "    </tr>\n",
       "    <tr>\n",
       "      <th>ID</th>\n",
       "      <th></th>\n",
       "      <th></th>\n",
       "      <th></th>\n",
       "      <th></th>\n",
       "      <th></th>\n",
       "    </tr>\n",
       "  </thead>\n",
       "  <tbody>\n",
       "    <tr>\n",
       "      <th>1738</th>\n",
       "      <td>0.00</td>\n",
       "      <td>0.00</td>\n",
       "      <td>NaN</td>\n",
       "      <td>0.00</td>\n",
       "      <td>NaN</td>\n",
       "    </tr>\n",
       "    <tr>\n",
       "      <th>239</th>\n",
       "      <td>0.10</td>\n",
       "      <td>0.08</td>\n",
       "      <td>0.00</td>\n",
       "      <td>0.03</td>\n",
       "      <td>NaN</td>\n",
       "    </tr>\n",
       "    <tr>\n",
       "      <th>10421</th>\n",
       "      <td>0.20</td>\n",
       "      <td>0.08</td>\n",
       "      <td>0.00</td>\n",
       "      <td>0.01</td>\n",
       "      <td>NaN</td>\n",
       "    </tr>\n",
       "    <tr>\n",
       "      <th>15893</th>\n",
       "      <td>0.00</td>\n",
       "      <td>0.08</td>\n",
       "      <td>-0.50</td>\n",
       "      <td>0.01</td>\n",
       "      <td>NaN</td>\n",
       "    </tr>\n",
       "    <tr>\n",
       "      <th>8960</th>\n",
       "      <td>1.52</td>\n",
       "      <td>0.10</td>\n",
       "      <td>0.00</td>\n",
       "      <td>0.02</td>\n",
       "      <td>NaN</td>\n",
       "    </tr>\n",
       "    <tr>\n",
       "      <th>13236</th>\n",
       "      <td>0.00</td>\n",
       "      <td>0.00</td>\n",
       "      <td>0.01</td>\n",
       "      <td>0.00</td>\n",
       "      <td>NaN</td>\n",
       "    </tr>\n",
       "    <tr>\n",
       "      <th>6793</th>\n",
       "      <td>0.10</td>\n",
       "      <td>0.04</td>\n",
       "      <td>0.00</td>\n",
       "      <td>0.00</td>\n",
       "      <td>NaN</td>\n",
       "    </tr>\n",
       "    <tr>\n",
       "      <th>2450</th>\n",
       "      <td>0.00</td>\n",
       "      <td>0.00</td>\n",
       "      <td>NaN</td>\n",
       "      <td>0.00</td>\n",
       "      <td>NaN</td>\n",
       "    </tr>\n",
       "    <tr>\n",
       "      <th>9700</th>\n",
       "      <td>0.02</td>\n",
       "      <td>0.02</td>\n",
       "      <td>NaN</td>\n",
       "      <td>0.01</td>\n",
       "      <td>NaN</td>\n",
       "    </tr>\n",
       "    <tr>\n",
       "      <th>5550</th>\n",
       "      <td>0.12</td>\n",
       "      <td>0.00</td>\n",
       "      <td>NaN</td>\n",
       "      <td>0.01</td>\n",
       "      <td>NaN</td>\n",
       "    </tr>\n",
       "    <tr>\n",
       "      <th>7032</th>\n",
       "      <td>0.00</td>\n",
       "      <td>0.15</td>\n",
       "      <td>NaN</td>\n",
       "      <td>0.01</td>\n",
       "      <td>NaN</td>\n",
       "    </tr>\n",
       "    <tr>\n",
       "      <th>5164</th>\n",
       "      <td>0.03</td>\n",
       "      <td>0.01</td>\n",
       "      <td>-0.50</td>\n",
       "      <td>0.00</td>\n",
       "      <td>NaN</td>\n",
       "    </tr>\n",
       "    <tr>\n",
       "      <th>5126</th>\n",
       "      <td>0.09</td>\n",
       "      <td>0.00</td>\n",
       "      <td>-0.50</td>\n",
       "      <td>0.01</td>\n",
       "      <td>NaN</td>\n",
       "    </tr>\n",
       "    <tr>\n",
       "      <th>13629</th>\n",
       "      <td>0.00</td>\n",
       "      <td>0.00</td>\n",
       "      <td>-0.50</td>\n",
       "      <td>0.00</td>\n",
       "      <td>NaN</td>\n",
       "    </tr>\n",
       "    <tr>\n",
       "      <th>13893</th>\n",
       "      <td>0.01</td>\n",
       "      <td>0.00</td>\n",
       "      <td>-0.50</td>\n",
       "      <td>0.00</td>\n",
       "      <td>NaN</td>\n",
       "    </tr>\n",
       "  </tbody>\n",
       "</table>\n",
       "</div>"
      ],
      "text/plain": [
       "       NA_Sales  EU_Sales  JP_Sales  Other_Sales  Global_Sales\n",
       "ID                                                            \n",
       "1738       0.00      0.00       NaN         0.00           NaN\n",
       "239        0.10      0.08      0.00         0.03           NaN\n",
       "10421      0.20      0.08      0.00         0.01           NaN\n",
       "15893      0.00      0.08     -0.50         0.01           NaN\n",
       "8960       1.52      0.10      0.00         0.02           NaN\n",
       "13236      0.00      0.00      0.01         0.00           NaN\n",
       "6793       0.10      0.04      0.00         0.00           NaN\n",
       "2450       0.00      0.00       NaN         0.00           NaN\n",
       "9700       0.02      0.02       NaN         0.01           NaN\n",
       "5550       0.12      0.00       NaN         0.01           NaN\n",
       "7032       0.00      0.15       NaN         0.01           NaN\n",
       "5164       0.03      0.01     -0.50         0.00           NaN\n",
       "5126       0.09      0.00     -0.50         0.01           NaN\n",
       "13629      0.00      0.00     -0.50         0.00           NaN\n",
       "13893      0.01      0.00     -0.50         0.00           NaN"
      ]
     },
     "execution_count": 8,
     "metadata": {},
     "output_type": "execute_result"
    }
   ],
   "source": [
    "#Global_Salesもおかしいことがわかる。\n",
    "#データ全体で欠損がないか確認する\n",
    "#データ欠損のある箇所を取り出す。\n",
    "game_sales[game_sales.isnull().any(axis=1)]\n",
    "#Global_Salesには欠損値がたくさんあり、JP_Salesにも欠損があることがわかる。"
   ]
  },
  {
   "cell_type": "code",
   "execution_count": 9,
   "metadata": {},
   "outputs": [],
   "source": [
    "#ステップ1 -0.50と言われても何が正しいかわからない。　→　削除する。\n",
    "# ステップ2Global_Salesは他の地域の和である。　なので和をもとめて置き換える。\n"
   ]
  },
  {
   "cell_type": "code",
   "execution_count": null,
   "metadata": {},
   "outputs": [],
   "source": []
  },
  {
   "cell_type": "markdown",
   "metadata": {},
   "source": [
    "### 外れ値や欠損データの処理"
   ]
  },
  {
   "cell_type": "markdown",
   "metadata": {},
   "source": [
    "外れ値や欠損のある場合はそれらを含むレコードを処理してください。"
   ]
  },
  {
   "cell_type": "code",
   "execution_count": 10,
   "metadata": {},
   "outputs": [],
   "source": [
    "tmp_1 = game_sales.query('JP_Sales >= 0')"
   ]
  },
  {
   "cell_type": "code",
   "execution_count": 11,
   "metadata": {},
   "outputs": [
    {
     "data": {
      "text/html": [
       "<div>\n",
       "<style>\n",
       "    .dataframe thead tr:only-child th {\n",
       "        text-align: right;\n",
       "    }\n",
       "\n",
       "    .dataframe thead th {\n",
       "        text-align: left;\n",
       "    }\n",
       "\n",
       "    .dataframe tbody tr th {\n",
       "        vertical-align: top;\n",
       "    }\n",
       "</style>\n",
       "<table border=\"1\" class=\"dataframe\">\n",
       "  <thead>\n",
       "    <tr style=\"text-align: right;\">\n",
       "      <th></th>\n",
       "      <th>NA_Sales</th>\n",
       "      <th>EU_Sales</th>\n",
       "      <th>JP_Sales</th>\n",
       "      <th>Other_Sales</th>\n",
       "      <th>Global_Sales</th>\n",
       "    </tr>\n",
       "    <tr>\n",
       "      <th>ID</th>\n",
       "      <th></th>\n",
       "      <th></th>\n",
       "      <th></th>\n",
       "      <th></th>\n",
       "      <th></th>\n",
       "    </tr>\n",
       "  </thead>\n",
       "  <tbody>\n",
       "    <tr>\n",
       "      <th>16381</th>\n",
       "      <td>0.11</td>\n",
       "      <td>0.15</td>\n",
       "      <td>0.0</td>\n",
       "      <td>0.06</td>\n",
       "      <td>0.32</td>\n",
       "    </tr>\n",
       "    <tr>\n",
       "      <th>12972</th>\n",
       "      <td>0.41</td>\n",
       "      <td>0.11</td>\n",
       "      <td>0.0</td>\n",
       "      <td>0.04</td>\n",
       "      <td>0.55</td>\n",
       "    </tr>\n",
       "    <tr>\n",
       "      <th>4354</th>\n",
       "      <td>0.01</td>\n",
       "      <td>0.00</td>\n",
       "      <td>0.0</td>\n",
       "      <td>0.00</td>\n",
       "      <td>0.01</td>\n",
       "    </tr>\n",
       "    <tr>\n",
       "      <th>14541</th>\n",
       "      <td>0.10</td>\n",
       "      <td>0.07</td>\n",
       "      <td>0.0</td>\n",
       "      <td>0.02</td>\n",
       "      <td>0.18</td>\n",
       "    </tr>\n",
       "    <tr>\n",
       "      <th>10424</th>\n",
       "      <td>0.08</td>\n",
       "      <td>0.00</td>\n",
       "      <td>0.0</td>\n",
       "      <td>0.01</td>\n",
       "      <td>0.09</td>\n",
       "    </tr>\n",
       "    <tr>\n",
       "      <th>11851</th>\n",
       "      <td>0.02</td>\n",
       "      <td>0.01</td>\n",
       "      <td>0.0</td>\n",
       "      <td>0.00</td>\n",
       "      <td>0.03</td>\n",
       "    </tr>\n",
       "    <tr>\n",
       "      <th>18470</th>\n",
       "      <td>0.13</td>\n",
       "      <td>0.03</td>\n",
       "      <td>0.0</td>\n",
       "      <td>0.00</td>\n",
       "      <td>0.17</td>\n",
       "    </tr>\n",
       "    <tr>\n",
       "      <th>17354</th>\n",
       "      <td>1.69</td>\n",
       "      <td>0.04</td>\n",
       "      <td>0.0</td>\n",
       "      <td>0.01</td>\n",
       "      <td>1.74</td>\n",
       "    </tr>\n",
       "    <tr>\n",
       "      <th>15397</th>\n",
       "      <td>0.00</td>\n",
       "      <td>0.14</td>\n",
       "      <td>0.0</td>\n",
       "      <td>0.02</td>\n",
       "      <td>0.16</td>\n",
       "    </tr>\n",
       "    <tr>\n",
       "      <th>18791</th>\n",
       "      <td>0.02</td>\n",
       "      <td>0.02</td>\n",
       "      <td>0.0</td>\n",
       "      <td>0.01</td>\n",
       "      <td>0.04</td>\n",
       "    </tr>\n",
       "    <tr>\n",
       "      <th>7832</th>\n",
       "      <td>0.05</td>\n",
       "      <td>0.00</td>\n",
       "      <td>0.0</td>\n",
       "      <td>0.00</td>\n",
       "      <td>0.05</td>\n",
       "    </tr>\n",
       "    <tr>\n",
       "      <th>8181</th>\n",
       "      <td>0.00</td>\n",
       "      <td>0.05</td>\n",
       "      <td>0.0</td>\n",
       "      <td>0.01</td>\n",
       "      <td>0.06</td>\n",
       "    </tr>\n",
       "    <tr>\n",
       "      <th>6099</th>\n",
       "      <td>0.17</td>\n",
       "      <td>0.04</td>\n",
       "      <td>0.0</td>\n",
       "      <td>0.04</td>\n",
       "      <td>0.25</td>\n",
       "    </tr>\n",
       "    <tr>\n",
       "      <th>8542</th>\n",
       "      <td>0.05</td>\n",
       "      <td>0.00</td>\n",
       "      <td>0.0</td>\n",
       "      <td>0.00</td>\n",
       "      <td>0.06</td>\n",
       "    </tr>\n",
       "    <tr>\n",
       "      <th>9444</th>\n",
       "      <td>0.30</td>\n",
       "      <td>0.33</td>\n",
       "      <td>0.0</td>\n",
       "      <td>0.06</td>\n",
       "      <td>0.68</td>\n",
       "    </tr>\n",
       "    <tr>\n",
       "      <th>18919</th>\n",
       "      <td>0.05</td>\n",
       "      <td>0.03</td>\n",
       "      <td>0.0</td>\n",
       "      <td>0.01</td>\n",
       "      <td>0.09</td>\n",
       "    </tr>\n",
       "    <tr>\n",
       "      <th>13043</th>\n",
       "      <td>0.01</td>\n",
       "      <td>0.00</td>\n",
       "      <td>0.0</td>\n",
       "      <td>0.00</td>\n",
       "      <td>0.02</td>\n",
       "    </tr>\n",
       "    <tr>\n",
       "      <th>11453</th>\n",
       "      <td>0.02</td>\n",
       "      <td>0.00</td>\n",
       "      <td>0.0</td>\n",
       "      <td>0.00</td>\n",
       "      <td>0.02</td>\n",
       "    </tr>\n",
       "    <tr>\n",
       "      <th>6506</th>\n",
       "      <td>0.02</td>\n",
       "      <td>0.00</td>\n",
       "      <td>0.0</td>\n",
       "      <td>0.00</td>\n",
       "      <td>0.02</td>\n",
       "    </tr>\n",
       "    <tr>\n",
       "      <th>5518</th>\n",
       "      <td>0.09</td>\n",
       "      <td>0.07</td>\n",
       "      <td>0.0</td>\n",
       "      <td>0.02</td>\n",
       "      <td>0.18</td>\n",
       "    </tr>\n",
       "    <tr>\n",
       "      <th>9336</th>\n",
       "      <td>0.02</td>\n",
       "      <td>0.01</td>\n",
       "      <td>0.0</td>\n",
       "      <td>0.00</td>\n",
       "      <td>0.03</td>\n",
       "    </tr>\n",
       "    <tr>\n",
       "      <th>6235</th>\n",
       "      <td>0.85</td>\n",
       "      <td>0.43</td>\n",
       "      <td>0.0</td>\n",
       "      <td>0.06</td>\n",
       "      <td>1.34</td>\n",
       "    </tr>\n",
       "    <tr>\n",
       "      <th>10608</th>\n",
       "      <td>0.07</td>\n",
       "      <td>0.09</td>\n",
       "      <td>0.0</td>\n",
       "      <td>0.04</td>\n",
       "      <td>0.19</td>\n",
       "    </tr>\n",
       "    <tr>\n",
       "      <th>604</th>\n",
       "      <td>0.14</td>\n",
       "      <td>0.00</td>\n",
       "      <td>0.0</td>\n",
       "      <td>0.01</td>\n",
       "      <td>0.16</td>\n",
       "    </tr>\n",
       "    <tr>\n",
       "      <th>15953</th>\n",
       "      <td>0.72</td>\n",
       "      <td>0.38</td>\n",
       "      <td>0.0</td>\n",
       "      <td>0.12</td>\n",
       "      <td>1.23</td>\n",
       "    </tr>\n",
       "    <tr>\n",
       "      <th>3856</th>\n",
       "      <td>0.44</td>\n",
       "      <td>0.16</td>\n",
       "      <td>0.0</td>\n",
       "      <td>0.01</td>\n",
       "      <td>0.61</td>\n",
       "    </tr>\n",
       "    <tr>\n",
       "      <th>1967</th>\n",
       "      <td>0.61</td>\n",
       "      <td>0.18</td>\n",
       "      <td>0.0</td>\n",
       "      <td>0.94</td>\n",
       "      <td>1.72</td>\n",
       "    </tr>\n",
       "    <tr>\n",
       "      <th>15778</th>\n",
       "      <td>2.18</td>\n",
       "      <td>0.01</td>\n",
       "      <td>0.0</td>\n",
       "      <td>0.18</td>\n",
       "      <td>2.37</td>\n",
       "    </tr>\n",
       "    <tr>\n",
       "      <th>14012</th>\n",
       "      <td>0.17</td>\n",
       "      <td>0.00</td>\n",
       "      <td>0.0</td>\n",
       "      <td>0.01</td>\n",
       "      <td>0.18</td>\n",
       "    </tr>\n",
       "    <tr>\n",
       "      <th>17170</th>\n",
       "      <td>0.00</td>\n",
       "      <td>0.09</td>\n",
       "      <td>0.0</td>\n",
       "      <td>0.01</td>\n",
       "      <td>0.10</td>\n",
       "    </tr>\n",
       "    <tr>\n",
       "      <th>...</th>\n",
       "      <td>...</td>\n",
       "      <td>...</td>\n",
       "      <td>...</td>\n",
       "      <td>...</td>\n",
       "      <td>...</td>\n",
       "    </tr>\n",
       "    <tr>\n",
       "      <th>4100</th>\n",
       "      <td>0.13</td>\n",
       "      <td>0.09</td>\n",
       "      <td>0.0</td>\n",
       "      <td>0.02</td>\n",
       "      <td>0.24</td>\n",
       "    </tr>\n",
       "    <tr>\n",
       "      <th>2386</th>\n",
       "      <td>0.01</td>\n",
       "      <td>0.01</td>\n",
       "      <td>0.0</td>\n",
       "      <td>0.00</td>\n",
       "      <td>0.02</td>\n",
       "    </tr>\n",
       "    <tr>\n",
       "      <th>11773</th>\n",
       "      <td>0.20</td>\n",
       "      <td>0.16</td>\n",
       "      <td>0.0</td>\n",
       "      <td>0.05</td>\n",
       "      <td>0.41</td>\n",
       "    </tr>\n",
       "    <tr>\n",
       "      <th>18324</th>\n",
       "      <td>0.15</td>\n",
       "      <td>0.04</td>\n",
       "      <td>0.0</td>\n",
       "      <td>0.01</td>\n",
       "      <td>0.20</td>\n",
       "    </tr>\n",
       "    <tr>\n",
       "      <th>11974</th>\n",
       "      <td>0.74</td>\n",
       "      <td>0.50</td>\n",
       "      <td>0.0</td>\n",
       "      <td>0.09</td>\n",
       "      <td>1.33</td>\n",
       "    </tr>\n",
       "    <tr>\n",
       "      <th>3349</th>\n",
       "      <td>0.00</td>\n",
       "      <td>0.01</td>\n",
       "      <td>0.0</td>\n",
       "      <td>0.00</td>\n",
       "      <td>0.01</td>\n",
       "    </tr>\n",
       "    <tr>\n",
       "      <th>5612</th>\n",
       "      <td>0.28</td>\n",
       "      <td>0.21</td>\n",
       "      <td>0.0</td>\n",
       "      <td>0.07</td>\n",
       "      <td>0.56</td>\n",
       "    </tr>\n",
       "    <tr>\n",
       "      <th>15477</th>\n",
       "      <td>0.11</td>\n",
       "      <td>0.03</td>\n",
       "      <td>0.0</td>\n",
       "      <td>0.01</td>\n",
       "      <td>0.15</td>\n",
       "    </tr>\n",
       "    <tr>\n",
       "      <th>8417</th>\n",
       "      <td>0.04</td>\n",
       "      <td>0.03</td>\n",
       "      <td>0.0</td>\n",
       "      <td>0.01</td>\n",
       "      <td>0.08</td>\n",
       "    </tr>\n",
       "    <tr>\n",
       "      <th>5945</th>\n",
       "      <td>0.05</td>\n",
       "      <td>0.00</td>\n",
       "      <td>0.0</td>\n",
       "      <td>0.00</td>\n",
       "      <td>0.06</td>\n",
       "    </tr>\n",
       "    <tr>\n",
       "      <th>3679</th>\n",
       "      <td>1.15</td>\n",
       "      <td>0.41</td>\n",
       "      <td>0.0</td>\n",
       "      <td>0.15</td>\n",
       "      <td>1.71</td>\n",
       "    </tr>\n",
       "    <tr>\n",
       "      <th>12147</th>\n",
       "      <td>0.02</td>\n",
       "      <td>0.00</td>\n",
       "      <td>0.0</td>\n",
       "      <td>0.00</td>\n",
       "      <td>0.02</td>\n",
       "    </tr>\n",
       "    <tr>\n",
       "      <th>3961</th>\n",
       "      <td>0.23</td>\n",
       "      <td>0.06</td>\n",
       "      <td>0.0</td>\n",
       "      <td>0.00</td>\n",
       "      <td>0.29</td>\n",
       "    </tr>\n",
       "    <tr>\n",
       "      <th>15215</th>\n",
       "      <td>0.03</td>\n",
       "      <td>0.00</td>\n",
       "      <td>0.0</td>\n",
       "      <td>0.00</td>\n",
       "      <td>0.03</td>\n",
       "    </tr>\n",
       "    <tr>\n",
       "      <th>7383</th>\n",
       "      <td>1.56</td>\n",
       "      <td>0.88</td>\n",
       "      <td>0.0</td>\n",
       "      <td>0.22</td>\n",
       "      <td>2.65</td>\n",
       "    </tr>\n",
       "    <tr>\n",
       "      <th>17068</th>\n",
       "      <td>0.02</td>\n",
       "      <td>0.00</td>\n",
       "      <td>0.0</td>\n",
       "      <td>0.00</td>\n",
       "      <td>0.02</td>\n",
       "    </tr>\n",
       "    <tr>\n",
       "      <th>15844</th>\n",
       "      <td>0.19</td>\n",
       "      <td>0.07</td>\n",
       "      <td>0.0</td>\n",
       "      <td>0.00</td>\n",
       "      <td>0.27</td>\n",
       "    </tr>\n",
       "    <tr>\n",
       "      <th>18391</th>\n",
       "      <td>0.39</td>\n",
       "      <td>0.18</td>\n",
       "      <td>0.0</td>\n",
       "      <td>0.05</td>\n",
       "      <td>0.61</td>\n",
       "    </tr>\n",
       "    <tr>\n",
       "      <th>6068</th>\n",
       "      <td>0.10</td>\n",
       "      <td>0.01</td>\n",
       "      <td>0.0</td>\n",
       "      <td>0.01</td>\n",
       "      <td>0.11</td>\n",
       "    </tr>\n",
       "    <tr>\n",
       "      <th>8371</th>\n",
       "      <td>0.51</td>\n",
       "      <td>0.00</td>\n",
       "      <td>0.0</td>\n",
       "      <td>0.04</td>\n",
       "      <td>0.56</td>\n",
       "    </tr>\n",
       "    <tr>\n",
       "      <th>9106</th>\n",
       "      <td>0.01</td>\n",
       "      <td>0.01</td>\n",
       "      <td>0.0</td>\n",
       "      <td>0.00</td>\n",
       "      <td>0.02</td>\n",
       "    </tr>\n",
       "    <tr>\n",
       "      <th>16008</th>\n",
       "      <td>0.22</td>\n",
       "      <td>0.17</td>\n",
       "      <td>0.0</td>\n",
       "      <td>0.06</td>\n",
       "      <td>0.45</td>\n",
       "    </tr>\n",
       "    <tr>\n",
       "      <th>7712</th>\n",
       "      <td>0.15</td>\n",
       "      <td>0.00</td>\n",
       "      <td>0.0</td>\n",
       "      <td>0.01</td>\n",
       "      <td>0.16</td>\n",
       "    </tr>\n",
       "    <tr>\n",
       "      <th>15088</th>\n",
       "      <td>0.75</td>\n",
       "      <td>0.03</td>\n",
       "      <td>0.0</td>\n",
       "      <td>0.01</td>\n",
       "      <td>0.79</td>\n",
       "    </tr>\n",
       "    <tr>\n",
       "      <th>2382</th>\n",
       "      <td>0.00</td>\n",
       "      <td>0.01</td>\n",
       "      <td>0.0</td>\n",
       "      <td>0.00</td>\n",
       "      <td>0.01</td>\n",
       "    </tr>\n",
       "    <tr>\n",
       "      <th>2355</th>\n",
       "      <td>0.07</td>\n",
       "      <td>0.00</td>\n",
       "      <td>0.0</td>\n",
       "      <td>0.01</td>\n",
       "      <td>0.08</td>\n",
       "    </tr>\n",
       "    <tr>\n",
       "      <th>8472</th>\n",
       "      <td>0.03</td>\n",
       "      <td>0.01</td>\n",
       "      <td>0.0</td>\n",
       "      <td>0.00</td>\n",
       "      <td>0.04</td>\n",
       "    </tr>\n",
       "    <tr>\n",
       "      <th>6459</th>\n",
       "      <td>0.05</td>\n",
       "      <td>0.02</td>\n",
       "      <td>0.0</td>\n",
       "      <td>0.00</td>\n",
       "      <td>0.07</td>\n",
       "    </tr>\n",
       "    <tr>\n",
       "      <th>1699</th>\n",
       "      <td>0.05</td>\n",
       "      <td>0.00</td>\n",
       "      <td>0.0</td>\n",
       "      <td>0.00</td>\n",
       "      <td>0.05</td>\n",
       "    </tr>\n",
       "    <tr>\n",
       "      <th>5101</th>\n",
       "      <td>0.03</td>\n",
       "      <td>0.01</td>\n",
       "      <td>0.0</td>\n",
       "      <td>0.00</td>\n",
       "      <td>0.04</td>\n",
       "    </tr>\n",
       "  </tbody>\n",
       "</table>\n",
       "<p>10449 rows × 5 columns</p>\n",
       "</div>"
      ],
      "text/plain": [
       "       NA_Sales  EU_Sales  JP_Sales  Other_Sales  Global_Sales\n",
       "ID                                                            \n",
       "16381      0.11      0.15       0.0         0.06          0.32\n",
       "12972      0.41      0.11       0.0         0.04          0.55\n",
       "4354       0.01      0.00       0.0         0.00          0.01\n",
       "14541      0.10      0.07       0.0         0.02          0.18\n",
       "10424      0.08      0.00       0.0         0.01          0.09\n",
       "11851      0.02      0.01       0.0         0.00          0.03\n",
       "18470      0.13      0.03       0.0         0.00          0.17\n",
       "17354      1.69      0.04       0.0         0.01          1.74\n",
       "15397      0.00      0.14       0.0         0.02          0.16\n",
       "18791      0.02      0.02       0.0         0.01          0.04\n",
       "7832       0.05      0.00       0.0         0.00          0.05\n",
       "8181       0.00      0.05       0.0         0.01          0.06\n",
       "6099       0.17      0.04       0.0         0.04          0.25\n",
       "8542       0.05      0.00       0.0         0.00          0.06\n",
       "9444       0.30      0.33       0.0         0.06          0.68\n",
       "18919      0.05      0.03       0.0         0.01          0.09\n",
       "13043      0.01      0.00       0.0         0.00          0.02\n",
       "11453      0.02      0.00       0.0         0.00          0.02\n",
       "6506       0.02      0.00       0.0         0.00          0.02\n",
       "5518       0.09      0.07       0.0         0.02          0.18\n",
       "9336       0.02      0.01       0.0         0.00          0.03\n",
       "6235       0.85      0.43       0.0         0.06          1.34\n",
       "10608      0.07      0.09       0.0         0.04          0.19\n",
       "604        0.14      0.00       0.0         0.01          0.16\n",
       "15953      0.72      0.38       0.0         0.12          1.23\n",
       "3856       0.44      0.16       0.0         0.01          0.61\n",
       "1967       0.61      0.18       0.0         0.94          1.72\n",
       "15778      2.18      0.01       0.0         0.18          2.37\n",
       "14012      0.17      0.00       0.0         0.01          0.18\n",
       "17170      0.00      0.09       0.0         0.01          0.10\n",
       "...         ...       ...       ...          ...           ...\n",
       "4100       0.13      0.09       0.0         0.02          0.24\n",
       "2386       0.01      0.01       0.0         0.00          0.02\n",
       "11773      0.20      0.16       0.0         0.05          0.41\n",
       "18324      0.15      0.04       0.0         0.01          0.20\n",
       "11974      0.74      0.50       0.0         0.09          1.33\n",
       "3349       0.00      0.01       0.0         0.00          0.01\n",
       "5612       0.28      0.21       0.0         0.07          0.56\n",
       "15477      0.11      0.03       0.0         0.01          0.15\n",
       "8417       0.04      0.03       0.0         0.01          0.08\n",
       "5945       0.05      0.00       0.0         0.00          0.06\n",
       "3679       1.15      0.41       0.0         0.15          1.71\n",
       "12147      0.02      0.00       0.0         0.00          0.02\n",
       "3961       0.23      0.06       0.0         0.00          0.29\n",
       "15215      0.03      0.00       0.0         0.00          0.03\n",
       "7383       1.56      0.88       0.0         0.22          2.65\n",
       "17068      0.02      0.00       0.0         0.00          0.02\n",
       "15844      0.19      0.07       0.0         0.00          0.27\n",
       "18391      0.39      0.18       0.0         0.05          0.61\n",
       "6068       0.10      0.01       0.0         0.01          0.11\n",
       "8371       0.51      0.00       0.0         0.04          0.56\n",
       "9106       0.01      0.01       0.0         0.00          0.02\n",
       "16008      0.22      0.17       0.0         0.06          0.45\n",
       "7712       0.15      0.00       0.0         0.01          0.16\n",
       "15088      0.75      0.03       0.0         0.01          0.79\n",
       "2382       0.00      0.01       0.0         0.00          0.01\n",
       "2355       0.07      0.00       0.0         0.01          0.08\n",
       "8472       0.03      0.01       0.0         0.00          0.04\n",
       "6459       0.05      0.02       0.0         0.00          0.07\n",
       "1699       0.05      0.00       0.0         0.00          0.05\n",
       "5101       0.03      0.01       0.0         0.00          0.04\n",
       "\n",
       "[10449 rows x 5 columns]"
      ]
     },
     "execution_count": 11,
     "metadata": {},
     "output_type": "execute_result"
    }
   ],
   "source": [
    "#取り除かれたか確認\n",
    "tmp_1.query('JP_Sales <= 0')"
   ]
  },
  {
   "cell_type": "code",
   "execution_count": 12,
   "metadata": {
    "scrolled": true
   },
   "outputs": [
    {
     "data": {
      "text/html": [
       "<div>\n",
       "<style>\n",
       "    .dataframe thead tr:only-child th {\n",
       "        text-align: right;\n",
       "    }\n",
       "\n",
       "    .dataframe thead th {\n",
       "        text-align: left;\n",
       "    }\n",
       "\n",
       "    .dataframe tbody tr th {\n",
       "        vertical-align: top;\n",
       "    }\n",
       "</style>\n",
       "<table border=\"1\" class=\"dataframe\">\n",
       "  <thead>\n",
       "    <tr style=\"text-align: right;\">\n",
       "      <th></th>\n",
       "      <th>NA_Sales</th>\n",
       "      <th>EU_Sales</th>\n",
       "      <th>JP_Sales</th>\n",
       "      <th>Other_Sales</th>\n",
       "      <th>Global_Sales</th>\n",
       "    </tr>\n",
       "    <tr>\n",
       "      <th>ID</th>\n",
       "      <th></th>\n",
       "      <th></th>\n",
       "      <th></th>\n",
       "      <th></th>\n",
       "      <th></th>\n",
       "    </tr>\n",
       "  </thead>\n",
       "  <tbody>\n",
       "    <tr>\n",
       "      <th>239</th>\n",
       "      <td>0.10</td>\n",
       "      <td>0.08</td>\n",
       "      <td>0.00</td>\n",
       "      <td>0.03</td>\n",
       "      <td>NaN</td>\n",
       "    </tr>\n",
       "    <tr>\n",
       "      <th>10421</th>\n",
       "      <td>0.20</td>\n",
       "      <td>0.08</td>\n",
       "      <td>0.00</td>\n",
       "      <td>0.01</td>\n",
       "      <td>NaN</td>\n",
       "    </tr>\n",
       "    <tr>\n",
       "      <th>8960</th>\n",
       "      <td>1.52</td>\n",
       "      <td>0.10</td>\n",
       "      <td>0.00</td>\n",
       "      <td>0.02</td>\n",
       "      <td>NaN</td>\n",
       "    </tr>\n",
       "    <tr>\n",
       "      <th>13236</th>\n",
       "      <td>0.00</td>\n",
       "      <td>0.00</td>\n",
       "      <td>0.01</td>\n",
       "      <td>0.00</td>\n",
       "      <td>NaN</td>\n",
       "    </tr>\n",
       "    <tr>\n",
       "      <th>6793</th>\n",
       "      <td>0.10</td>\n",
       "      <td>0.04</td>\n",
       "      <td>0.00</td>\n",
       "      <td>0.00</td>\n",
       "      <td>NaN</td>\n",
       "    </tr>\n",
       "  </tbody>\n",
       "</table>\n",
       "</div>"
      ],
      "text/plain": [
       "       NA_Sales  EU_Sales  JP_Sales  Other_Sales  Global_Sales\n",
       "ID                                                            \n",
       "239        0.10      0.08      0.00         0.03           NaN\n",
       "10421      0.20      0.08      0.00         0.01           NaN\n",
       "8960       1.52      0.10      0.00         0.02           NaN\n",
       "13236      0.00      0.00      0.01         0.00           NaN\n",
       "6793       0.10      0.04      0.00         0.00           NaN"
      ]
     },
     "execution_count": 12,
     "metadata": {},
     "output_type": "execute_result"
    }
   ],
   "source": [
    "#確認するとJP_Salesのデータ欠損は取り除かれたことがわかる。\n",
    "#Global_Salesはまだ欠損値がある。　→　Global_Salesを各地域の和に置き換える。\n",
    "tmp_1[tmp_1.isnull().any(axis=1)]"
   ]
  },
  {
   "cell_type": "code",
   "execution_count": 13,
   "metadata": {
    "scrolled": true
   },
   "outputs": [
    {
     "data": {
      "text/html": [
       "<div>\n",
       "<style>\n",
       "    .dataframe thead tr:only-child th {\n",
       "        text-align: right;\n",
       "    }\n",
       "\n",
       "    .dataframe thead th {\n",
       "        text-align: left;\n",
       "    }\n",
       "\n",
       "    .dataframe tbody tr th {\n",
       "        vertical-align: top;\n",
       "    }\n",
       "</style>\n",
       "<table border=\"1\" class=\"dataframe\">\n",
       "  <thead>\n",
       "    <tr style=\"text-align: right;\">\n",
       "      <th></th>\n",
       "      <th>NA_Sales</th>\n",
       "      <th>EU_Sales</th>\n",
       "      <th>JP_Sales</th>\n",
       "      <th>Other_Sales</th>\n",
       "      <th>Global_Sales</th>\n",
       "    </tr>\n",
       "    <tr>\n",
       "      <th>ID</th>\n",
       "      <th></th>\n",
       "      <th></th>\n",
       "      <th></th>\n",
       "      <th></th>\n",
       "      <th></th>\n",
       "    </tr>\n",
       "  </thead>\n",
       "  <tbody>\n",
       "  </tbody>\n",
       "</table>\n",
       "</div>"
      ],
      "text/plain": [
       "Empty DataFrame\n",
       "Columns: [NA_Sales, EU_Sales, JP_Sales, Other_Sales, Global_Sales]\n",
       "Index: []"
      ]
     },
     "execution_count": 13,
     "metadata": {},
     "output_type": "execute_result"
    }
   ],
   "source": [
    "#処理の概要：　販売数の総和を求める \n",
    "#1,列を取り出す。\n",
    "#2,和を求める \n",
    "#3,global_salesの値を求める\n",
    "\n",
    "# 1,列を取り出す。　2,和を求める\n",
    "#tmp_1[['NA_Sales','EU_Sales','JP_Sales','Other_Sales']].sum(axis=1)\n",
    "\n",
    "#3. global_salesの値を求める\n",
    "tmp_2 = tmp_1.fillna({\n",
    "    'Global_Sales': tmp_1[['NA_Sales','EU_Sales','JP_Sales','Other_Sales']].sum(axis=1)\n",
    "})\n",
    "#データ欠損がなくなっているか確認する。　→　欠損がなくなっていることを確認する。\n",
    "tmp_2[tmp_2.isnull().any(axis=1)]"
   ]
  },
  {
   "cell_type": "code",
   "execution_count": 14,
   "metadata": {},
   "outputs": [],
   "source": [
    "#欠損値を取り除いた値を格納し直す。\n",
    "game_sales = tmp_2"
   ]
  },
  {
   "cell_type": "markdown",
   "metadata": {},
   "source": [
    "### 演習問題"
   ]
  },
  {
   "cell_type": "markdown",
   "metadata": {},
   "source": [
    "`data/game_info.csv` を `DataFrame` として読み込んで `game_info` という変数にしてください。`game_info.csv` に記録されているデータは16598行、6列で、各行は\n",
    "\n",
    "- `ID`: ゲームタイトルのID\n",
    "- `Rank`: 販売数での順位\n",
    "- `Name`: 名前\n",
    "- `Year`: 発売年\n",
    "- `Platform`: プラットフォーム (PS4、Wii等)\n",
    "- `Genre`: ジャンル\n",
    "- `Publisher`: 販売会社\n",
    "\n",
    "となっています。"
   ]
  },
  {
   "cell_type": "markdown",
   "metadata": {},
   "source": [
    "#### データの読み込み"
   ]
  },
  {
   "cell_type": "code",
   "execution_count": 15,
   "metadata": {},
   "outputs": [],
   "source": [
    "# data/game_sales.csv を DataFrame として読み込んで game_info と名付けて下さい。\n",
    "game_info = pd.read_csv('data/game_info.csv', index_col=0)"
   ]
  },
  {
   "cell_type": "markdown",
   "metadata": {},
   "source": [
    "#### データの確認"
   ]
  },
  {
   "cell_type": "code",
   "execution_count": 16,
   "metadata": {},
   "outputs": [
    {
     "data": {
      "text/plain": [
       "(16598, 6)"
      ]
     },
     "execution_count": 16,
     "metadata": {},
     "output_type": "execute_result"
    }
   ],
   "source": [
    "# game_info の行数と列数を確認してください。\n",
    "game_info.shape"
   ]
  },
  {
   "cell_type": "code",
   "execution_count": 17,
   "metadata": {},
   "outputs": [
    {
     "data": {
      "text/plain": [
       "Rank           int64\n",
       "Name          object\n",
       "Platform      object\n",
       "Year         float64\n",
       "Genre         object\n",
       "Publisher     object\n",
       "dtype: object"
      ]
     },
     "execution_count": 17,
     "metadata": {},
     "output_type": "execute_result"
    }
   ],
   "source": [
    "# 各列のデータ型を確認してください。\n",
    "game_info.dtypes"
   ]
  },
  {
   "cell_type": "code",
   "execution_count": 18,
   "metadata": {},
   "outputs": [
    {
     "data": {
      "text/html": [
       "<div>\n",
       "<style>\n",
       "    .dataframe thead tr:only-child th {\n",
       "        text-align: right;\n",
       "    }\n",
       "\n",
       "    .dataframe thead th {\n",
       "        text-align: left;\n",
       "    }\n",
       "\n",
       "    .dataframe tbody tr th {\n",
       "        vertical-align: top;\n",
       "    }\n",
       "</style>\n",
       "<table border=\"1\" class=\"dataframe\">\n",
       "  <thead>\n",
       "    <tr style=\"text-align: right;\">\n",
       "      <th></th>\n",
       "      <th>Rank</th>\n",
       "      <th>Year</th>\n",
       "    </tr>\n",
       "  </thead>\n",
       "  <tbody>\n",
       "    <tr>\n",
       "      <th>count</th>\n",
       "      <td>16598.000000</td>\n",
       "      <td>16327.000000</td>\n",
       "    </tr>\n",
       "    <tr>\n",
       "      <th>mean</th>\n",
       "      <td>8300.605254</td>\n",
       "      <td>2006.406443</td>\n",
       "    </tr>\n",
       "    <tr>\n",
       "      <th>std</th>\n",
       "      <td>4791.853933</td>\n",
       "      <td>5.828981</td>\n",
       "    </tr>\n",
       "    <tr>\n",
       "      <th>min</th>\n",
       "      <td>1.000000</td>\n",
       "      <td>1980.000000</td>\n",
       "    </tr>\n",
       "    <tr>\n",
       "      <th>25%</th>\n",
       "      <td>4151.250000</td>\n",
       "      <td>2003.000000</td>\n",
       "    </tr>\n",
       "    <tr>\n",
       "      <th>50%</th>\n",
       "      <td>8300.500000</td>\n",
       "      <td>2007.000000</td>\n",
       "    </tr>\n",
       "    <tr>\n",
       "      <th>75%</th>\n",
       "      <td>12449.750000</td>\n",
       "      <td>2010.000000</td>\n",
       "    </tr>\n",
       "    <tr>\n",
       "      <th>max</th>\n",
       "      <td>16600.000000</td>\n",
       "      <td>2020.000000</td>\n",
       "    </tr>\n",
       "  </tbody>\n",
       "</table>\n",
       "</div>"
      ],
      "text/plain": [
       "               Rank          Year\n",
       "count  16598.000000  16327.000000\n",
       "mean    8300.605254   2006.406443\n",
       "std     4791.853933      5.828981\n",
       "min        1.000000   1980.000000\n",
       "25%     4151.250000   2003.000000\n",
       "50%     8300.500000   2007.000000\n",
       "75%    12449.750000   2010.000000\n",
       "max    16600.000000   2020.000000"
      ]
     },
     "execution_count": 18,
     "metadata": {},
     "output_type": "execute_result"
    }
   ],
   "source": [
    "# データの要約統計量を確認してください。\n",
    "game_info.describe()"
   ]
  },
  {
   "cell_type": "code",
   "execution_count": null,
   "metadata": {},
   "outputs": [],
   "source": []
  },
  {
   "cell_type": "code",
   "execution_count": 19,
   "metadata": {},
   "outputs": [],
   "source": [
    "#欠損値の確認\n",
    "game_info[game_info.isnull().any(axis=1)]\n",
    "\n",
    "#NAN\n",
    "game_info= game_info.dropna()\n",
    "# Year をint型にする\n",
    "game_info['Year'] = game_info['Year'].astype('int')"
   ]
  },
  {
   "cell_type": "code",
   "execution_count": 20,
   "metadata": {},
   "outputs": [
    {
     "data": {
      "text/html": [
       "<div>\n",
       "<style>\n",
       "    .dataframe thead tr:only-child th {\n",
       "        text-align: right;\n",
       "    }\n",
       "\n",
       "    .dataframe thead th {\n",
       "        text-align: left;\n",
       "    }\n",
       "\n",
       "    .dataframe tbody tr th {\n",
       "        vertical-align: top;\n",
       "    }\n",
       "</style>\n",
       "<table border=\"1\" class=\"dataframe\">\n",
       "  <thead>\n",
       "    <tr style=\"text-align: right;\">\n",
       "      <th></th>\n",
       "      <th>Rank</th>\n",
       "      <th>Name</th>\n",
       "      <th>Platform</th>\n",
       "      <th>Year</th>\n",
       "      <th>Genre</th>\n",
       "      <th>Publisher</th>\n",
       "    </tr>\n",
       "    <tr>\n",
       "      <th>ID</th>\n",
       "      <th></th>\n",
       "      <th></th>\n",
       "      <th></th>\n",
       "      <th></th>\n",
       "      <th></th>\n",
       "      <th></th>\n",
       "    </tr>\n",
       "  </thead>\n",
       "  <tbody>\n",
       "    <tr>\n",
       "      <th>4833</th>\n",
       "      <td>1</td>\n",
       "      <td>Wii Sports</td>\n",
       "      <td>Wii</td>\n",
       "      <td>2006</td>\n",
       "      <td>Sports</td>\n",
       "      <td>Nintendo</td>\n",
       "    </tr>\n",
       "    <tr>\n",
       "      <th>8443</th>\n",
       "      <td>2</td>\n",
       "      <td>Super Mario Bros.</td>\n",
       "      <td>NES</td>\n",
       "      <td>1985</td>\n",
       "      <td>Platform</td>\n",
       "      <td>Nintendo</td>\n",
       "    </tr>\n",
       "    <tr>\n",
       "      <th>17315</th>\n",
       "      <td>3</td>\n",
       "      <td>Mario Kart Wii</td>\n",
       "      <td>Wii</td>\n",
       "      <td>2008</td>\n",
       "      <td>Racing</td>\n",
       "      <td>Nintendo</td>\n",
       "    </tr>\n",
       "    <tr>\n",
       "      <th>15726</th>\n",
       "      <td>4</td>\n",
       "      <td>Wii Sports Resort</td>\n",
       "      <td>Wii</td>\n",
       "      <td>2009</td>\n",
       "      <td>Sports</td>\n",
       "      <td>Nintendo</td>\n",
       "    </tr>\n",
       "    <tr>\n",
       "      <th>17712</th>\n",
       "      <td>5</td>\n",
       "      <td>Pokemon Red/Pokemon Blue</td>\n",
       "      <td>GB</td>\n",
       "      <td>1996</td>\n",
       "      <td>Role-Playing</td>\n",
       "      <td>Nintendo</td>\n",
       "    </tr>\n",
       "    <tr>\n",
       "      <th>679</th>\n",
       "      <td>6</td>\n",
       "      <td>Tetris</td>\n",
       "      <td>GB</td>\n",
       "      <td>1989</td>\n",
       "      <td>Puzzle</td>\n",
       "      <td>Nintendo</td>\n",
       "    </tr>\n",
       "    <tr>\n",
       "      <th>732</th>\n",
       "      <td>7</td>\n",
       "      <td>New Super Mario Bros.</td>\n",
       "      <td>DS</td>\n",
       "      <td>2006</td>\n",
       "      <td>Platform</td>\n",
       "      <td>Nintendo</td>\n",
       "    </tr>\n",
       "    <tr>\n",
       "      <th>3967</th>\n",
       "      <td>8</td>\n",
       "      <td>Wii Play</td>\n",
       "      <td>Wii</td>\n",
       "      <td>2006</td>\n",
       "      <td>Misc</td>\n",
       "      <td>Nintendo</td>\n",
       "    </tr>\n",
       "    <tr>\n",
       "      <th>16221</th>\n",
       "      <td>9</td>\n",
       "      <td>New Super Mario Bros. Wii</td>\n",
       "      <td>Wii</td>\n",
       "      <td>2009</td>\n",
       "      <td>Platform</td>\n",
       "      <td>Nintendo</td>\n",
       "    </tr>\n",
       "    <tr>\n",
       "      <th>4935</th>\n",
       "      <td>10</td>\n",
       "      <td>Duck Hunt</td>\n",
       "      <td>NES</td>\n",
       "      <td>1984</td>\n",
       "      <td>Shooter</td>\n",
       "      <td>Nintendo</td>\n",
       "    </tr>\n",
       "    <tr>\n",
       "      <th>8862</th>\n",
       "      <td>11</td>\n",
       "      <td>Nintendogs</td>\n",
       "      <td>DS</td>\n",
       "      <td>2005</td>\n",
       "      <td>Simulation</td>\n",
       "      <td>Nintendo</td>\n",
       "    </tr>\n",
       "    <tr>\n",
       "      <th>1785</th>\n",
       "      <td>12</td>\n",
       "      <td>Mario Kart DS</td>\n",
       "      <td>DS</td>\n",
       "      <td>2005</td>\n",
       "      <td>Racing</td>\n",
       "      <td>Nintendo</td>\n",
       "    </tr>\n",
       "    <tr>\n",
       "      <th>2815</th>\n",
       "      <td>13</td>\n",
       "      <td>Pokemon Gold/Pokemon Silver</td>\n",
       "      <td>GB</td>\n",
       "      <td>1999</td>\n",
       "      <td>Role-Playing</td>\n",
       "      <td>Nintendo</td>\n",
       "    </tr>\n",
       "    <tr>\n",
       "      <th>526</th>\n",
       "      <td>14</td>\n",
       "      <td>Wii Fit</td>\n",
       "      <td>Wii</td>\n",
       "      <td>2007</td>\n",
       "      <td>Sports</td>\n",
       "      <td>Nintendo</td>\n",
       "    </tr>\n",
       "    <tr>\n",
       "      <th>15075</th>\n",
       "      <td>15</td>\n",
       "      <td>Wii Fit Plus</td>\n",
       "      <td>Wii</td>\n",
       "      <td>2009</td>\n",
       "      <td>Sports</td>\n",
       "      <td>Nintendo</td>\n",
       "    </tr>\n",
       "    <tr>\n",
       "      <th>19616</th>\n",
       "      <td>16</td>\n",
       "      <td>Kinect Adventures!</td>\n",
       "      <td>X360</td>\n",
       "      <td>2010</td>\n",
       "      <td>Misc</td>\n",
       "      <td>Microsoft Game Studios</td>\n",
       "    </tr>\n",
       "    <tr>\n",
       "      <th>9307</th>\n",
       "      <td>17</td>\n",
       "      <td>Grand Theft Auto V</td>\n",
       "      <td>PS3</td>\n",
       "      <td>2013</td>\n",
       "      <td>Action</td>\n",
       "      <td>Take-Two Interactive</td>\n",
       "    </tr>\n",
       "    <tr>\n",
       "      <th>9725</th>\n",
       "      <td>18</td>\n",
       "      <td>Grand Theft Auto: San Andreas</td>\n",
       "      <td>PS2</td>\n",
       "      <td>2004</td>\n",
       "      <td>Action</td>\n",
       "      <td>Take-Two Interactive</td>\n",
       "    </tr>\n",
       "    <tr>\n",
       "      <th>11282</th>\n",
       "      <td>19</td>\n",
       "      <td>Super Mario World</td>\n",
       "      <td>SNES</td>\n",
       "      <td>1990</td>\n",
       "      <td>Platform</td>\n",
       "      <td>Nintendo</td>\n",
       "    </tr>\n",
       "    <tr>\n",
       "      <th>9629</th>\n",
       "      <td>20</td>\n",
       "      <td>Brain Age: Train Your Brain in Minutes a Day</td>\n",
       "      <td>DS</td>\n",
       "      <td>2005</td>\n",
       "      <td>Misc</td>\n",
       "      <td>Nintendo</td>\n",
       "    </tr>\n",
       "    <tr>\n",
       "      <th>18660</th>\n",
       "      <td>21</td>\n",
       "      <td>Pokemon Diamond/Pokemon Pearl</td>\n",
       "      <td>DS</td>\n",
       "      <td>2006</td>\n",
       "      <td>Role-Playing</td>\n",
       "      <td>Nintendo</td>\n",
       "    </tr>\n",
       "    <tr>\n",
       "      <th>13674</th>\n",
       "      <td>22</td>\n",
       "      <td>Super Mario Land</td>\n",
       "      <td>GB</td>\n",
       "      <td>1989</td>\n",
       "      <td>Platform</td>\n",
       "      <td>Nintendo</td>\n",
       "    </tr>\n",
       "    <tr>\n",
       "      <th>2050</th>\n",
       "      <td>23</td>\n",
       "      <td>Super Mario Bros. 3</td>\n",
       "      <td>NES</td>\n",
       "      <td>1988</td>\n",
       "      <td>Platform</td>\n",
       "      <td>Nintendo</td>\n",
       "    </tr>\n",
       "    <tr>\n",
       "      <th>13975</th>\n",
       "      <td>24</td>\n",
       "      <td>Grand Theft Auto V</td>\n",
       "      <td>X360</td>\n",
       "      <td>2013</td>\n",
       "      <td>Action</td>\n",
       "      <td>Take-Two Interactive</td>\n",
       "    </tr>\n",
       "    <tr>\n",
       "      <th>5539</th>\n",
       "      <td>25</td>\n",
       "      <td>Grand Theft Auto: Vice City</td>\n",
       "      <td>PS2</td>\n",
       "      <td>2002</td>\n",
       "      <td>Action</td>\n",
       "      <td>Take-Two Interactive</td>\n",
       "    </tr>\n",
       "    <tr>\n",
       "      <th>17390</th>\n",
       "      <td>26</td>\n",
       "      <td>Pokemon Ruby/Pokemon Sapphire</td>\n",
       "      <td>GBA</td>\n",
       "      <td>2002</td>\n",
       "      <td>Role-Playing</td>\n",
       "      <td>Nintendo</td>\n",
       "    </tr>\n",
       "    <tr>\n",
       "      <th>4568</th>\n",
       "      <td>27</td>\n",
       "      <td>Pokemon Black/Pokemon White</td>\n",
       "      <td>DS</td>\n",
       "      <td>2010</td>\n",
       "      <td>Role-Playing</td>\n",
       "      <td>Nintendo</td>\n",
       "    </tr>\n",
       "    <tr>\n",
       "      <th>2387</th>\n",
       "      <td>28</td>\n",
       "      <td>Brain Age 2: More Training in Minutes a Day</td>\n",
       "      <td>DS</td>\n",
       "      <td>2005</td>\n",
       "      <td>Puzzle</td>\n",
       "      <td>Nintendo</td>\n",
       "    </tr>\n",
       "    <tr>\n",
       "      <th>16706</th>\n",
       "      <td>29</td>\n",
       "      <td>Gran Turismo 3: A-Spec</td>\n",
       "      <td>PS2</td>\n",
       "      <td>2001</td>\n",
       "      <td>Racing</td>\n",
       "      <td>Sony Computer Entertainment</td>\n",
       "    </tr>\n",
       "    <tr>\n",
       "      <th>640</th>\n",
       "      <td>30</td>\n",
       "      <td>Call of Duty: Modern Warfare 3</td>\n",
       "      <td>X360</td>\n",
       "      <td>2011</td>\n",
       "      <td>Shooter</td>\n",
       "      <td>Activision</td>\n",
       "    </tr>\n",
       "    <tr>\n",
       "      <th>...</th>\n",
       "      <td>...</td>\n",
       "      <td>...</td>\n",
       "      <td>...</td>\n",
       "      <td>...</td>\n",
       "      <td>...</td>\n",
       "      <td>...</td>\n",
       "    </tr>\n",
       "    <tr>\n",
       "      <th>6137</th>\n",
       "      <td>16571</td>\n",
       "      <td>XI Coliseum</td>\n",
       "      <td>PSP</td>\n",
       "      <td>2006</td>\n",
       "      <td>Puzzle</td>\n",
       "      <td>Sony Computer Entertainment</td>\n",
       "    </tr>\n",
       "    <tr>\n",
       "      <th>10313</th>\n",
       "      <td>16572</td>\n",
       "      <td>Resident Evil 4 HD</td>\n",
       "      <td>XOne</td>\n",
       "      <td>2016</td>\n",
       "      <td>Shooter</td>\n",
       "      <td>Capcom</td>\n",
       "    </tr>\n",
       "    <tr>\n",
       "      <th>2823</th>\n",
       "      <td>16573</td>\n",
       "      <td>Farming 2017 - The Simulation</td>\n",
       "      <td>PS4</td>\n",
       "      <td>2016</td>\n",
       "      <td>Simulation</td>\n",
       "      <td>UIG Entertainment</td>\n",
       "    </tr>\n",
       "    <tr>\n",
       "      <th>12539</th>\n",
       "      <td>16574</td>\n",
       "      <td>Grisaia no Kajitsu: La Fruit de la Grisaia</td>\n",
       "      <td>PSP</td>\n",
       "      <td>2013</td>\n",
       "      <td>Adventure</td>\n",
       "      <td>Prototype</td>\n",
       "    </tr>\n",
       "    <tr>\n",
       "      <th>11011</th>\n",
       "      <td>16575</td>\n",
       "      <td>Scarlett: Nichijou no Kyoukaisen</td>\n",
       "      <td>PS2</td>\n",
       "      <td>2008</td>\n",
       "      <td>Adventure</td>\n",
       "      <td>Kadokawa Shoten</td>\n",
       "    </tr>\n",
       "    <tr>\n",
       "      <th>6677</th>\n",
       "      <td>16576</td>\n",
       "      <td>Mini Desktop Racing</td>\n",
       "      <td>Wii</td>\n",
       "      <td>2007</td>\n",
       "      <td>Racing</td>\n",
       "      <td>Popcorn Arcade</td>\n",
       "    </tr>\n",
       "    <tr>\n",
       "      <th>8704</th>\n",
       "      <td>16577</td>\n",
       "      <td>Yattaman Wii: BikkuriDokkiri Machine de Mou Ra...</td>\n",
       "      <td>Wii</td>\n",
       "      <td>2008</td>\n",
       "      <td>Racing</td>\n",
       "      <td>Takara Tomy</td>\n",
       "    </tr>\n",
       "    <tr>\n",
       "      <th>1697</th>\n",
       "      <td>16578</td>\n",
       "      <td>Neo Angelique Special</td>\n",
       "      <td>PSP</td>\n",
       "      <td>2008</td>\n",
       "      <td>Adventure</td>\n",
       "      <td>Tecmo Koei</td>\n",
       "    </tr>\n",
       "    <tr>\n",
       "      <th>1721</th>\n",
       "      <td>16579</td>\n",
       "      <td>Rugby Challenge 3</td>\n",
       "      <td>XOne</td>\n",
       "      <td>2016</td>\n",
       "      <td>Sports</td>\n",
       "      <td>Alternative Software</td>\n",
       "    </tr>\n",
       "    <tr>\n",
       "      <th>18411</th>\n",
       "      <td>16580</td>\n",
       "      <td>Damnation</td>\n",
       "      <td>PC</td>\n",
       "      <td>2009</td>\n",
       "      <td>Shooter</td>\n",
       "      <td>Codemasters</td>\n",
       "    </tr>\n",
       "    <tr>\n",
       "      <th>13063</th>\n",
       "      <td>16581</td>\n",
       "      <td>Outdoors Unleashed: Africa 3D</td>\n",
       "      <td>3DS</td>\n",
       "      <td>2011</td>\n",
       "      <td>Sports</td>\n",
       "      <td>Mastiff</td>\n",
       "    </tr>\n",
       "    <tr>\n",
       "      <th>15137</th>\n",
       "      <td>16582</td>\n",
       "      <td>PGA European Tour</td>\n",
       "      <td>N64</td>\n",
       "      <td>2000</td>\n",
       "      <td>Sports</td>\n",
       "      <td>Infogrames</td>\n",
       "    </tr>\n",
       "    <tr>\n",
       "      <th>17</th>\n",
       "      <td>16583</td>\n",
       "      <td>Real Rode</td>\n",
       "      <td>PS2</td>\n",
       "      <td>2008</td>\n",
       "      <td>Adventure</td>\n",
       "      <td>Kadokawa Shoten</td>\n",
       "    </tr>\n",
       "    <tr>\n",
       "      <th>5499</th>\n",
       "      <td>16584</td>\n",
       "      <td>Fit &amp; Fun</td>\n",
       "      <td>Wii</td>\n",
       "      <td>2011</td>\n",
       "      <td>Sports</td>\n",
       "      <td>Unknown</td>\n",
       "    </tr>\n",
       "    <tr>\n",
       "      <th>474</th>\n",
       "      <td>16585</td>\n",
       "      <td>Planet Monsters</td>\n",
       "      <td>GBA</td>\n",
       "      <td>2001</td>\n",
       "      <td>Action</td>\n",
       "      <td>Titus</td>\n",
       "    </tr>\n",
       "    <tr>\n",
       "      <th>13991</th>\n",
       "      <td>16586</td>\n",
       "      <td>Carmageddon 64</td>\n",
       "      <td>N64</td>\n",
       "      <td>1999</td>\n",
       "      <td>Action</td>\n",
       "      <td>Virgin Interactive</td>\n",
       "    </tr>\n",
       "    <tr>\n",
       "      <th>4354</th>\n",
       "      <td>16587</td>\n",
       "      <td>Bust-A-Move 3000</td>\n",
       "      <td>GC</td>\n",
       "      <td>2003</td>\n",
       "      <td>Puzzle</td>\n",
       "      <td>Ubisoft</td>\n",
       "    </tr>\n",
       "    <tr>\n",
       "      <th>12036</th>\n",
       "      <td>16588</td>\n",
       "      <td>Breach</td>\n",
       "      <td>PC</td>\n",
       "      <td>2011</td>\n",
       "      <td>Shooter</td>\n",
       "      <td>Destineer</td>\n",
       "    </tr>\n",
       "    <tr>\n",
       "      <th>19322</th>\n",
       "      <td>16589</td>\n",
       "      <td>Secret Files 2: Puritas Cordis</td>\n",
       "      <td>DS</td>\n",
       "      <td>2009</td>\n",
       "      <td>Adventure</td>\n",
       "      <td>Deep Silver</td>\n",
       "    </tr>\n",
       "    <tr>\n",
       "      <th>18633</th>\n",
       "      <td>16590</td>\n",
       "      <td>Mezase!! Tsuri Master DS</td>\n",
       "      <td>DS</td>\n",
       "      <td>2009</td>\n",
       "      <td>Sports</td>\n",
       "      <td>Hudson Soft</td>\n",
       "    </tr>\n",
       "    <tr>\n",
       "      <th>19566</th>\n",
       "      <td>16591</td>\n",
       "      <td>Mega Brain Boost</td>\n",
       "      <td>DS</td>\n",
       "      <td>2008</td>\n",
       "      <td>Puzzle</td>\n",
       "      <td>Majesco Entertainment</td>\n",
       "    </tr>\n",
       "    <tr>\n",
       "      <th>9235</th>\n",
       "      <td>16592</td>\n",
       "      <td>Chou Ezaru wa Akai Hana: Koi wa Tsuki ni Shiru...</td>\n",
       "      <td>PSV</td>\n",
       "      <td>2016</td>\n",
       "      <td>Action</td>\n",
       "      <td>dramatic create</td>\n",
       "    </tr>\n",
       "    <tr>\n",
       "      <th>7455</th>\n",
       "      <td>16593</td>\n",
       "      <td>Eiyuu Densetsu: Sora no Kiseki Material Collec...</td>\n",
       "      <td>PSP</td>\n",
       "      <td>2007</td>\n",
       "      <td>Role-Playing</td>\n",
       "      <td>Falcom Corporation</td>\n",
       "    </tr>\n",
       "    <tr>\n",
       "      <th>15979</th>\n",
       "      <td>16594</td>\n",
       "      <td>Myst IV: Revelation</td>\n",
       "      <td>PC</td>\n",
       "      <td>2004</td>\n",
       "      <td>Adventure</td>\n",
       "      <td>Ubisoft</td>\n",
       "    </tr>\n",
       "    <tr>\n",
       "      <th>17260</th>\n",
       "      <td>16595</td>\n",
       "      <td>Plushees</td>\n",
       "      <td>DS</td>\n",
       "      <td>2008</td>\n",
       "      <td>Simulation</td>\n",
       "      <td>Destineer</td>\n",
       "    </tr>\n",
       "    <tr>\n",
       "      <th>6375</th>\n",
       "      <td>16596</td>\n",
       "      <td>Woody Woodpecker in Crazy Castle 5</td>\n",
       "      <td>GBA</td>\n",
       "      <td>2002</td>\n",
       "      <td>Platform</td>\n",
       "      <td>Kemco</td>\n",
       "    </tr>\n",
       "    <tr>\n",
       "      <th>13332</th>\n",
       "      <td>16597</td>\n",
       "      <td>Men in Black II: Alien Escape</td>\n",
       "      <td>GC</td>\n",
       "      <td>2003</td>\n",
       "      <td>Shooter</td>\n",
       "      <td>Infogrames</td>\n",
       "    </tr>\n",
       "    <tr>\n",
       "      <th>13856</th>\n",
       "      <td>16598</td>\n",
       "      <td>SCORE International Baja 1000: The Official Game</td>\n",
       "      <td>PS2</td>\n",
       "      <td>2008</td>\n",
       "      <td>Racing</td>\n",
       "      <td>Activision</td>\n",
       "    </tr>\n",
       "    <tr>\n",
       "      <th>5504</th>\n",
       "      <td>16599</td>\n",
       "      <td>Know How 2</td>\n",
       "      <td>DS</td>\n",
       "      <td>2010</td>\n",
       "      <td>Puzzle</td>\n",
       "      <td>7G//AMES</td>\n",
       "    </tr>\n",
       "    <tr>\n",
       "      <th>16579</th>\n",
       "      <td>16600</td>\n",
       "      <td>Spirits &amp; Spells</td>\n",
       "      <td>GBA</td>\n",
       "      <td>2003</td>\n",
       "      <td>Platform</td>\n",
       "      <td>Wanadoo</td>\n",
       "    </tr>\n",
       "  </tbody>\n",
       "</table>\n",
       "<p>16287 rows × 6 columns</p>\n",
       "</div>"
      ],
      "text/plain": [
       "        Rank                                               Name Platform  \\\n",
       "ID                                                                         \n",
       "4833       1                                         Wii Sports      Wii   \n",
       "8443       2                                  Super Mario Bros.      NES   \n",
       "17315      3                                     Mario Kart Wii      Wii   \n",
       "15726      4                                  Wii Sports Resort      Wii   \n",
       "17712      5                           Pokemon Red/Pokemon Blue       GB   \n",
       "679        6                                             Tetris       GB   \n",
       "732        7                              New Super Mario Bros.       DS   \n",
       "3967       8                                           Wii Play      Wii   \n",
       "16221      9                          New Super Mario Bros. Wii      Wii   \n",
       "4935      10                                          Duck Hunt      NES   \n",
       "8862      11                                         Nintendogs       DS   \n",
       "1785      12                                      Mario Kart DS       DS   \n",
       "2815      13                        Pokemon Gold/Pokemon Silver       GB   \n",
       "526       14                                            Wii Fit      Wii   \n",
       "15075     15                                       Wii Fit Plus      Wii   \n",
       "19616     16                                 Kinect Adventures!     X360   \n",
       "9307      17                                 Grand Theft Auto V      PS3   \n",
       "9725      18                      Grand Theft Auto: San Andreas      PS2   \n",
       "11282     19                                  Super Mario World     SNES   \n",
       "9629      20       Brain Age: Train Your Brain in Minutes a Day       DS   \n",
       "18660     21                      Pokemon Diamond/Pokemon Pearl       DS   \n",
       "13674     22                                   Super Mario Land       GB   \n",
       "2050      23                                Super Mario Bros. 3      NES   \n",
       "13975     24                                 Grand Theft Auto V     X360   \n",
       "5539      25                        Grand Theft Auto: Vice City      PS2   \n",
       "17390     26                      Pokemon Ruby/Pokemon Sapphire      GBA   \n",
       "4568      27                        Pokemon Black/Pokemon White       DS   \n",
       "2387      28        Brain Age 2: More Training in Minutes a Day       DS   \n",
       "16706     29                             Gran Turismo 3: A-Spec      PS2   \n",
       "640       30                     Call of Duty: Modern Warfare 3     X360   \n",
       "...      ...                                                ...      ...   \n",
       "6137   16571                                        XI Coliseum      PSP   \n",
       "10313  16572                                 Resident Evil 4 HD     XOne   \n",
       "2823   16573                      Farming 2017 - The Simulation      PS4   \n",
       "12539  16574         Grisaia no Kajitsu: La Fruit de la Grisaia      PSP   \n",
       "11011  16575                   Scarlett: Nichijou no Kyoukaisen      PS2   \n",
       "6677   16576                                Mini Desktop Racing      Wii   \n",
       "8704   16577  Yattaman Wii: BikkuriDokkiri Machine de Mou Ra...      Wii   \n",
       "1697   16578                              Neo Angelique Special      PSP   \n",
       "1721   16579                                  Rugby Challenge 3     XOne   \n",
       "18411  16580                                          Damnation       PC   \n",
       "13063  16581                      Outdoors Unleashed: Africa 3D      3DS   \n",
       "15137  16582                                  PGA European Tour      N64   \n",
       "17     16583                                          Real Rode      PS2   \n",
       "5499   16584                                          Fit & Fun      Wii   \n",
       "474    16585                                    Planet Monsters      GBA   \n",
       "13991  16586                                     Carmageddon 64      N64   \n",
       "4354   16587                                   Bust-A-Move 3000       GC   \n",
       "12036  16588                                             Breach       PC   \n",
       "19322  16589                     Secret Files 2: Puritas Cordis       DS   \n",
       "18633  16590                           Mezase!! Tsuri Master DS       DS   \n",
       "19566  16591                                   Mega Brain Boost       DS   \n",
       "9235   16592  Chou Ezaru wa Akai Hana: Koi wa Tsuki ni Shiru...      PSV   \n",
       "7455   16593  Eiyuu Densetsu: Sora no Kiseki Material Collec...      PSP   \n",
       "15979  16594                                Myst IV: Revelation       PC   \n",
       "17260  16595                                           Plushees       DS   \n",
       "6375   16596                 Woody Woodpecker in Crazy Castle 5      GBA   \n",
       "13332  16597                      Men in Black II: Alien Escape       GC   \n",
       "13856  16598   SCORE International Baja 1000: The Official Game      PS2   \n",
       "5504   16599                                         Know How 2       DS   \n",
       "16579  16600                                   Spirits & Spells      GBA   \n",
       "\n",
       "       Year         Genre                    Publisher  \n",
       "ID                                                      \n",
       "4833   2006        Sports                     Nintendo  \n",
       "8443   1985      Platform                     Nintendo  \n",
       "17315  2008        Racing                     Nintendo  \n",
       "15726  2009        Sports                     Nintendo  \n",
       "17712  1996  Role-Playing                     Nintendo  \n",
       "679    1989        Puzzle                     Nintendo  \n",
       "732    2006      Platform                     Nintendo  \n",
       "3967   2006          Misc                     Nintendo  \n",
       "16221  2009      Platform                     Nintendo  \n",
       "4935   1984       Shooter                     Nintendo  \n",
       "8862   2005    Simulation                     Nintendo  \n",
       "1785   2005        Racing                     Nintendo  \n",
       "2815   1999  Role-Playing                     Nintendo  \n",
       "526    2007        Sports                     Nintendo  \n",
       "15075  2009        Sports                     Nintendo  \n",
       "19616  2010          Misc       Microsoft Game Studios  \n",
       "9307   2013        Action         Take-Two Interactive  \n",
       "9725   2004        Action         Take-Two Interactive  \n",
       "11282  1990      Platform                     Nintendo  \n",
       "9629   2005          Misc                     Nintendo  \n",
       "18660  2006  Role-Playing                     Nintendo  \n",
       "13674  1989      Platform                     Nintendo  \n",
       "2050   1988      Platform                     Nintendo  \n",
       "13975  2013        Action         Take-Two Interactive  \n",
       "5539   2002        Action         Take-Two Interactive  \n",
       "17390  2002  Role-Playing                     Nintendo  \n",
       "4568   2010  Role-Playing                     Nintendo  \n",
       "2387   2005        Puzzle                     Nintendo  \n",
       "16706  2001        Racing  Sony Computer Entertainment  \n",
       "640    2011       Shooter                   Activision  \n",
       "...     ...           ...                          ...  \n",
       "6137   2006        Puzzle  Sony Computer Entertainment  \n",
       "10313  2016       Shooter                       Capcom  \n",
       "2823   2016    Simulation            UIG Entertainment  \n",
       "12539  2013     Adventure                    Prototype  \n",
       "11011  2008     Adventure              Kadokawa Shoten  \n",
       "6677   2007        Racing               Popcorn Arcade  \n",
       "8704   2008        Racing                  Takara Tomy  \n",
       "1697   2008     Adventure                   Tecmo Koei  \n",
       "1721   2016        Sports         Alternative Software  \n",
       "18411  2009       Shooter                  Codemasters  \n",
       "13063  2011        Sports                      Mastiff  \n",
       "15137  2000        Sports                   Infogrames  \n",
       "17     2008     Adventure              Kadokawa Shoten  \n",
       "5499   2011        Sports                      Unknown  \n",
       "474    2001        Action                        Titus  \n",
       "13991  1999        Action           Virgin Interactive  \n",
       "4354   2003        Puzzle                      Ubisoft  \n",
       "12036  2011       Shooter                    Destineer  \n",
       "19322  2009     Adventure                  Deep Silver  \n",
       "18633  2009        Sports                  Hudson Soft  \n",
       "19566  2008        Puzzle        Majesco Entertainment  \n",
       "9235   2016        Action              dramatic create  \n",
       "7455   2007  Role-Playing           Falcom Corporation  \n",
       "15979  2004     Adventure                      Ubisoft  \n",
       "17260  2008    Simulation                    Destineer  \n",
       "6375   2002      Platform                        Kemco  \n",
       "13332  2003       Shooter                   Infogrames  \n",
       "13856  2008        Racing                   Activision  \n",
       "5504   2010        Puzzle                     7G//AMES  \n",
       "16579  2003      Platform                      Wanadoo  \n",
       "\n",
       "[16287 rows x 6 columns]"
      ]
     },
     "execution_count": 20,
     "metadata": {},
     "output_type": "execute_result"
    }
   ],
   "source": [
    "# 2016年以前のものを抽出する\n",
    "game_info = game_info.query('Year <= 2016')\n",
    "game_info"
   ]
  },
  {
   "cell_type": "markdown",
   "metadata": {},
   "source": [
    "#### 外れ値や欠損データの処理"
   ]
  },
  {
   "cell_type": "code",
   "execution_count": 21,
   "metadata": {},
   "outputs": [],
   "source": [
    "# 外れ値や欠損のある場合はそれらを含むレコードを処理してください。\n"
   ]
  },
  {
   "cell_type": "markdown",
   "metadata": {},
   "source": [
    "## 4 データ加工と基礎集計"
   ]
  },
  {
   "cell_type": "markdown",
   "metadata": {},
   "source": [
    "### データのマージ"
   ]
  },
  {
   "cell_type": "markdown",
   "metadata": {},
   "source": [
    "集計に必要な情報が二つのテーブル（`game_sales` と `game_info`）に分離しているため一つにまとめます。この作業をマージと呼びます。確認すべき点は\n",
    "\n",
    "- マージ前後での件数の変化と\n",
    "- マージ後の欠損データの有無\n",
    "\n",
    "です。"
   ]
  },
  {
   "cell_type": "code",
   "execution_count": 22,
   "metadata": {},
   "outputs": [],
   "source": [
    "# game_sales と game_info をマージして game_data と名付けてください。\n",
    "game_data = pd.concat([game_sales, game_info], axis=1, join='inner')"
   ]
  },
  {
   "cell_type": "code",
   "execution_count": 23,
   "metadata": {},
   "outputs": [
    {
     "data": {
      "text/plain": [
       "(16277, 11)"
      ]
     },
     "execution_count": 23,
     "metadata": {},
     "output_type": "execute_result"
    }
   ],
   "source": [
    "game_data.shape"
   ]
  },
  {
   "cell_type": "code",
   "execution_count": 24,
   "metadata": {},
   "outputs": [
    {
     "data": {
      "text/plain": [
       "NA_Sales        float64\n",
       "EU_Sales        float64\n",
       "JP_Sales        float64\n",
       "Other_Sales     float64\n",
       "Global_Sales    float64\n",
       "Rank              int64\n",
       "Name             object\n",
       "Platform         object\n",
       "Year              int64\n",
       "Genre            object\n",
       "Publisher        object\n",
       "dtype: object"
      ]
     },
     "execution_count": 24,
     "metadata": {},
     "output_type": "execute_result"
    }
   ],
   "source": [
    "game_data.dtypes"
   ]
  },
  {
   "cell_type": "markdown",
   "metadata": {},
   "source": [
    "今回は2001年から2015年までの期間を対象にするので、この期間外のデータを削除します。"
   ]
  },
  {
   "cell_type": "code",
   "execution_count": 25,
   "metadata": {},
   "outputs": [
    {
     "data": {
      "text/html": [
       "<div>\n",
       "<style>\n",
       "    .dataframe thead tr:only-child th {\n",
       "        text-align: right;\n",
       "    }\n",
       "\n",
       "    .dataframe thead th {\n",
       "        text-align: left;\n",
       "    }\n",
       "\n",
       "    .dataframe tbody tr th {\n",
       "        vertical-align: top;\n",
       "    }\n",
       "</style>\n",
       "<table border=\"1\" class=\"dataframe\">\n",
       "  <thead>\n",
       "    <tr style=\"text-align: right;\">\n",
       "      <th></th>\n",
       "      <th>NA_Sales</th>\n",
       "      <th>EU_Sales</th>\n",
       "      <th>JP_Sales</th>\n",
       "      <th>Other_Sales</th>\n",
       "      <th>Global_Sales</th>\n",
       "      <th>Rank</th>\n",
       "      <th>Name</th>\n",
       "      <th>Platform</th>\n",
       "      <th>Year</th>\n",
       "      <th>Genre</th>\n",
       "      <th>Publisher</th>\n",
       "    </tr>\n",
       "    <tr>\n",
       "      <th>ID</th>\n",
       "      <th></th>\n",
       "      <th></th>\n",
       "      <th></th>\n",
       "      <th></th>\n",
       "      <th></th>\n",
       "      <th></th>\n",
       "      <th></th>\n",
       "      <th></th>\n",
       "      <th></th>\n",
       "      <th></th>\n",
       "      <th></th>\n",
       "    </tr>\n",
       "  </thead>\n",
       "  <tbody>\n",
       "    <tr>\n",
       "      <th>18690</th>\n",
       "      <td>0.09</td>\n",
       "      <td>0.18</td>\n",
       "      <td>0.01</td>\n",
       "      <td>0.10</td>\n",
       "      <td>0.37</td>\n",
       "      <td>5113</td>\n",
       "      <td>Prince of Persia: The Forgotten Sands</td>\n",
       "      <td>PSP</td>\n",
       "      <td>2010</td>\n",
       "      <td>Action</td>\n",
       "      <td>Ubisoft</td>\n",
       "    </tr>\n",
       "    <tr>\n",
       "      <th>16381</th>\n",
       "      <td>0.11</td>\n",
       "      <td>0.15</td>\n",
       "      <td>0.00</td>\n",
       "      <td>0.06</td>\n",
       "      <td>0.32</td>\n",
       "      <td>5603</td>\n",
       "      <td>Overlord II</td>\n",
       "      <td>PS3</td>\n",
       "      <td>2009</td>\n",
       "      <td>Action</td>\n",
       "      <td>Codemasters</td>\n",
       "    </tr>\n",
       "    <tr>\n",
       "      <th>7473</th>\n",
       "      <td>0.00</td>\n",
       "      <td>0.00</td>\n",
       "      <td>0.02</td>\n",
       "      <td>0.00</td>\n",
       "      <td>0.02</td>\n",
       "      <td>15860</td>\n",
       "      <td>Kadenz fermata//Akkord:fortissimo</td>\n",
       "      <td>PSV</td>\n",
       "      <td>2014</td>\n",
       "      <td>Adventure</td>\n",
       "      <td>5pb</td>\n",
       "    </tr>\n",
       "    <tr>\n",
       "      <th>12972</th>\n",
       "      <td>0.41</td>\n",
       "      <td>0.11</td>\n",
       "      <td>0.00</td>\n",
       "      <td>0.04</td>\n",
       "      <td>0.55</td>\n",
       "      <td>3632</td>\n",
       "      <td>ZhuZhu Pets 2: Featuring The Wild Bunch</td>\n",
       "      <td>DS</td>\n",
       "      <td>2010</td>\n",
       "      <td>Simulation</td>\n",
       "      <td>Activision</td>\n",
       "    </tr>\n",
       "    <tr>\n",
       "      <th>4354</th>\n",
       "      <td>0.01</td>\n",
       "      <td>0.00</td>\n",
       "      <td>0.00</td>\n",
       "      <td>0.00</td>\n",
       "      <td>0.01</td>\n",
       "      <td>16587</td>\n",
       "      <td>Bust-A-Move 3000</td>\n",
       "      <td>GC</td>\n",
       "      <td>2003</td>\n",
       "      <td>Puzzle</td>\n",
       "      <td>Ubisoft</td>\n",
       "    </tr>\n",
       "  </tbody>\n",
       "</table>\n",
       "</div>"
      ],
      "text/plain": [
       "       NA_Sales  EU_Sales  JP_Sales  Other_Sales  Global_Sales   Rank  \\\n",
       "ID                                                                      \n",
       "18690      0.09      0.18      0.01         0.10          0.37   5113   \n",
       "16381      0.11      0.15      0.00         0.06          0.32   5603   \n",
       "7473       0.00      0.00      0.02         0.00          0.02  15860   \n",
       "12972      0.41      0.11      0.00         0.04          0.55   3632   \n",
       "4354       0.01      0.00      0.00         0.00          0.01  16587   \n",
       "\n",
       "                                          Name Platform  Year       Genre  \\\n",
       "ID                                                                          \n",
       "18690    Prince of Persia: The Forgotten Sands      PSP  2010      Action   \n",
       "16381                              Overlord II      PS3  2009      Action   \n",
       "7473         Kadenz fermata//Akkord:fortissimo      PSV  2014   Adventure   \n",
       "12972  ZhuZhu Pets 2: Featuring The Wild Bunch       DS  2010  Simulation   \n",
       "4354                          Bust-A-Move 3000       GC  2003      Puzzle   \n",
       "\n",
       "         Publisher  \n",
       "ID                  \n",
       "18690      Ubisoft  \n",
       "16381  Codemasters  \n",
       "7473           5pb  \n",
       "12972   Activision  \n",
       "4354       Ubisoft  "
      ]
     },
     "execution_count": 25,
     "metadata": {},
     "output_type": "execute_result"
    }
   ],
   "source": [
    "game_data.query('Year > 2000 & Year < 2016', inplace=True)\n",
    "game_data.head()"
   ]
  },
  {
   "cell_type": "code",
   "execution_count": 26,
   "metadata": {},
   "outputs": [
    {
     "data": {
      "text/plain": [
       "(13613, 11)"
      ]
     },
     "execution_count": 26,
     "metadata": {},
     "output_type": "execute_result"
    }
   ],
   "source": [
    "# game_data の行数と列数を確認してください\n",
    "game_data.shape"
   ]
  },
  {
   "cell_type": "code",
   "execution_count": 27,
   "metadata": {},
   "outputs": [
    {
     "data": {
      "text/plain": [
       "NA_Sales        float64\n",
       "EU_Sales        float64\n",
       "JP_Sales        float64\n",
       "Other_Sales     float64\n",
       "Global_Sales    float64\n",
       "Rank              int64\n",
       "Name             object\n",
       "Platform         object\n",
       "Year              int64\n",
       "Genre            object\n",
       "Publisher        object\n",
       "dtype: object"
      ]
     },
     "execution_count": 27,
     "metadata": {},
     "output_type": "execute_result"
    }
   ],
   "source": [
    "# game_data の各列のデータ型を確認してください。\n",
    "game_data.dtypes"
   ]
  },
  {
   "cell_type": "code",
   "execution_count": 28,
   "metadata": {},
   "outputs": [
    {
     "data": {
      "text/html": [
       "<div>\n",
       "<style>\n",
       "    .dataframe thead tr:only-child th {\n",
       "        text-align: right;\n",
       "    }\n",
       "\n",
       "    .dataframe thead th {\n",
       "        text-align: left;\n",
       "    }\n",
       "\n",
       "    .dataframe tbody tr th {\n",
       "        vertical-align: top;\n",
       "    }\n",
       "</style>\n",
       "<table border=\"1\" class=\"dataframe\">\n",
       "  <thead>\n",
       "    <tr style=\"text-align: right;\">\n",
       "      <th></th>\n",
       "      <th>NA_Sales</th>\n",
       "      <th>EU_Sales</th>\n",
       "      <th>JP_Sales</th>\n",
       "      <th>Other_Sales</th>\n",
       "      <th>Global_Sales</th>\n",
       "      <th>Rank</th>\n",
       "      <th>Year</th>\n",
       "    </tr>\n",
       "  </thead>\n",
       "  <tbody>\n",
       "    <tr>\n",
       "      <th>count</th>\n",
       "      <td>13613.000000</td>\n",
       "      <td>13613.000000</td>\n",
       "      <td>13613.000000</td>\n",
       "      <td>13613.000000</td>\n",
       "      <td>13613.000000</td>\n",
       "      <td>13613.000000</td>\n",
       "      <td>13613.000000</td>\n",
       "    </tr>\n",
       "    <tr>\n",
       "      <th>mean</th>\n",
       "      <td>0.249628</td>\n",
       "      <td>0.147868</td>\n",
       "      <td>0.055293</td>\n",
       "      <td>0.052518</td>\n",
       "      <td>0.505617</td>\n",
       "      <td>8503.209946</td>\n",
       "      <td>2007.944906</td>\n",
       "    </tr>\n",
       "    <tr>\n",
       "      <th>std</th>\n",
       "      <td>0.730933</td>\n",
       "      <td>0.525472</td>\n",
       "      <td>0.249835</td>\n",
       "      <td>0.205090</td>\n",
       "      <td>1.501231</td>\n",
       "      <td>4781.767702</td>\n",
       "      <td>3.736084</td>\n",
       "    </tr>\n",
       "    <tr>\n",
       "      <th>min</th>\n",
       "      <td>0.000000</td>\n",
       "      <td>0.000000</td>\n",
       "      <td>0.000000</td>\n",
       "      <td>0.000000</td>\n",
       "      <td>0.010000</td>\n",
       "      <td>1.000000</td>\n",
       "      <td>2001.000000</td>\n",
       "    </tr>\n",
       "    <tr>\n",
       "      <th>25%</th>\n",
       "      <td>0.000000</td>\n",
       "      <td>0.000000</td>\n",
       "      <td>0.000000</td>\n",
       "      <td>0.000000</td>\n",
       "      <td>0.060000</td>\n",
       "      <td>4359.000000</td>\n",
       "      <td>2005.000000</td>\n",
       "    </tr>\n",
       "    <tr>\n",
       "      <th>50%</th>\n",
       "      <td>0.080000</td>\n",
       "      <td>0.020000</td>\n",
       "      <td>0.000000</td>\n",
       "      <td>0.010000</td>\n",
       "      <td>0.160000</td>\n",
       "      <td>8603.000000</td>\n",
       "      <td>2008.000000</td>\n",
       "    </tr>\n",
       "    <tr>\n",
       "      <th>75%</th>\n",
       "      <td>0.230000</td>\n",
       "      <td>0.110000</td>\n",
       "      <td>0.030000</td>\n",
       "      <td>0.040000</td>\n",
       "      <td>0.450000</td>\n",
       "      <td>12662.000000</td>\n",
       "      <td>2011.000000</td>\n",
       "    </tr>\n",
       "    <tr>\n",
       "      <th>max</th>\n",
       "      <td>41.490000</td>\n",
       "      <td>29.020000</td>\n",
       "      <td>6.500000</td>\n",
       "      <td>10.570000</td>\n",
       "      <td>82.740000</td>\n",
       "      <td>16600.000000</td>\n",
       "      <td>2015.000000</td>\n",
       "    </tr>\n",
       "  </tbody>\n",
       "</table>\n",
       "</div>"
      ],
      "text/plain": [
       "           NA_Sales      EU_Sales      JP_Sales   Other_Sales  Global_Sales  \\\n",
       "count  13613.000000  13613.000000  13613.000000  13613.000000  13613.000000   \n",
       "mean       0.249628      0.147868      0.055293      0.052518      0.505617   \n",
       "std        0.730933      0.525472      0.249835      0.205090      1.501231   \n",
       "min        0.000000      0.000000      0.000000      0.000000      0.010000   \n",
       "25%        0.000000      0.000000      0.000000      0.000000      0.060000   \n",
       "50%        0.080000      0.020000      0.000000      0.010000      0.160000   \n",
       "75%        0.230000      0.110000      0.030000      0.040000      0.450000   \n",
       "max       41.490000     29.020000      6.500000     10.570000     82.740000   \n",
       "\n",
       "               Rank          Year  \n",
       "count  13613.000000  13613.000000  \n",
       "mean    8503.209946   2007.944906  \n",
       "std     4781.767702      3.736084  \n",
       "min        1.000000   2001.000000  \n",
       "25%     4359.000000   2005.000000  \n",
       "50%     8603.000000   2008.000000  \n",
       "75%    12662.000000   2011.000000  \n",
       "max    16600.000000   2015.000000  "
      ]
     },
     "execution_count": 28,
     "metadata": {},
     "output_type": "execute_result"
    }
   ],
   "source": [
    "# game_data の要約統計量を確認してください。\n",
    "game_data.describe()"
   ]
  },
  {
   "cell_type": "code",
   "execution_count": 29,
   "metadata": {},
   "outputs": [
    {
     "data": {
      "text/html": [
       "<div>\n",
       "<style>\n",
       "    .dataframe thead tr:only-child th {\n",
       "        text-align: right;\n",
       "    }\n",
       "\n",
       "    .dataframe thead th {\n",
       "        text-align: left;\n",
       "    }\n",
       "\n",
       "    .dataframe tbody tr th {\n",
       "        vertical-align: top;\n",
       "    }\n",
       "</style>\n",
       "<table border=\"1\" class=\"dataframe\">\n",
       "  <thead>\n",
       "    <tr style=\"text-align: right;\">\n",
       "      <th></th>\n",
       "      <th>Name</th>\n",
       "      <th>Platform</th>\n",
       "      <th>Genre</th>\n",
       "      <th>Publisher</th>\n",
       "    </tr>\n",
       "  </thead>\n",
       "  <tbody>\n",
       "    <tr>\n",
       "      <th>count</th>\n",
       "      <td>13613</td>\n",
       "      <td>13613</td>\n",
       "      <td>13613</td>\n",
       "      <td>13613</td>\n",
       "    </tr>\n",
       "    <tr>\n",
       "      <th>unique</th>\n",
       "      <td>9105</td>\n",
       "      <td>20</td>\n",
       "      <td>12</td>\n",
       "      <td>434</td>\n",
       "    </tr>\n",
       "    <tr>\n",
       "      <th>top</th>\n",
       "      <td>Need for Speed: Most Wanted</td>\n",
       "      <td>DS</td>\n",
       "      <td>Action</td>\n",
       "      <td>Electronic Arts</td>\n",
       "    </tr>\n",
       "    <tr>\n",
       "      <th>freq</th>\n",
       "      <td>12</td>\n",
       "      <td>2128</td>\n",
       "      <td>2857</td>\n",
       "      <td>1180</td>\n",
       "    </tr>\n",
       "  </tbody>\n",
       "</table>\n",
       "</div>"
      ],
      "text/plain": [
       "                               Name Platform   Genre        Publisher\n",
       "count                         13613    13613   13613            13613\n",
       "unique                         9105       20      12              434\n",
       "top     Need for Speed: Most Wanted       DS  Action  Electronic Arts\n",
       "freq                             12     2128    2857             1180"
      ]
     },
     "execution_count": 29,
     "metadata": {},
     "output_type": "execute_result"
    }
   ],
   "source": [
    "game_data.describe(include=['O'])"
   ]
  },
  {
   "cell_type": "markdown",
   "metadata": {},
   "source": [
    "### 各列の分布の確認"
   ]
  },
  {
   "cell_type": "code",
   "execution_count": null,
   "metadata": {},
   "outputs": [],
   "source": []
  },
  {
   "cell_type": "markdown",
   "metadata": {},
   "source": [
    "分布の集計と可視化の方法は、データ型によって異なります。\n",
    "\n",
    "| データ型 |       集計      |       可視化      |\n",
    "|:--------:|:---------------:|:-----------------:|\n",
    "|   数値   |  四分位数、分散  |    ヒストグラム   |\n",
    "| カテゴリ | ユニーク数、分布 | 棒グラフ、円グラフ |"
   ]
  },
  {
   "cell_type": "markdown",
   "metadata": {},
   "source": [
    "数値データの分布を確認します。全世界での売上本数の四分位数と分散を確認します。"
   ]
  },
  {
   "cell_type": "code",
   "execution_count": 30,
   "metadata": {},
   "outputs": [
    {
     "data": {
      "text/plain": [
       "count    13613.000000\n",
       "mean         0.505617\n",
       "std          1.501231\n",
       "min          0.010000\n",
       "25%          0.060000\n",
       "50%          0.160000\n",
       "75%          0.450000\n",
       "max         82.740000\n",
       "Name: Global_Sales, dtype: float64"
      ]
     },
     "execution_count": 30,
     "metadata": {},
     "output_type": "execute_result"
    }
   ],
   "source": [
    "# 全世界での売上数の要約統計量を確認してください。\n",
    "#メモ：　集計方法はいろいろあるができるだけ大きいスコープから求めるのが良い。\n",
    "#　そこから時間的な推移など徐々にブレークダウンしていく。(データ欠損はない)\n",
    "game_data['Global_Sales'].describe()\n",
    "#ここから何が言えるのか？データから。\n",
    "#販売数売り上げの単位は１００万。mean(平均)が50万は少ないのでは？\n",
    "#しかし最大値(max)をみると8300万\n",
    "#しぶんい数(75%)も大したことないのに\n",
    "#　結論：売れているものはめちゃくちゃ売れてるが、そうでないものはあまり売れていないことが言える"
   ]
  },
  {
   "cell_type": "markdown",
   "metadata": {},
   "source": [
    "全世界での売上本数の分布をヒストグラムから確認します。"
   ]
  },
  {
   "cell_type": "code",
   "execution_count": 31,
   "metadata": {},
   "outputs": [
    {
     "data": {
      "text/plain": [
       "<matplotlib.axes._subplots.AxesSubplot at 0x10a479198>"
      ]
     },
     "execution_count": 31,
     "metadata": {},
     "output_type": "execute_result"
    },
    {
     "data": {
      "image/png": "[encoded data removed]",
      "text/plain": [
       "<matplotlib.figure.Figure at 0x10a479b00>"
      ]
     },
     "metadata": {},
     "output_type": "display_data"
    }
   ],
   "source": [
    "# 全世界での売上数のヒストグラムをプロットしてください。\n",
    "game_data['Global_Sales'].plot.hist()\n",
    "#ヒストグラムの見方　x軸　　Y軸　本数　0から10万まで\n",
    "#このグラフだと全体の傾向がわからない。　→　ヒストグラムの棒の数を増やしてみる。"
   ]
  },
  {
   "cell_type": "code",
   "execution_count": 32,
   "metadata": {},
   "outputs": [
    {
     "data": {
      "text/plain": [
       "<matplotlib.axes._subplots.AxesSubplot at 0x10a483c18>"
      ]
     },
     "execution_count": 32,
     "metadata": {},
     "output_type": "execute_result"
    },
    {
     "data": {
      "image/png": "[encoded data removed]",
      "text/plain": [
       "<matplotlib.figure.Figure at 0x109be06a0>"
      ]
     },
     "metadata": {},
     "output_type": "display_data"
    }
   ],
   "source": [
    "#売れてるのと　売れてないのでさが大きいためよくわからない\n",
    "game_data['Global_Sales'].plot.hist(bins=50)\n",
    "#ので"
   ]
  },
  {
   "cell_type": "code",
   "execution_count": 33,
   "metadata": {},
   "outputs": [
    {
     "data": {
      "text/plain": [
       "<matplotlib.axes._subplots.AxesSubplot at 0x109c417f0>"
      ]
     },
     "execution_count": 33,
     "metadata": {},
     "output_type": "execute_result"
    },
    {
     "data": {
      "image/png": "[encoded data removed]",
      "text/plain": [
       "<matplotlib.figure.Figure at 0x109c1aef0>"
      ]
     },
     "metadata": {},
     "output_type": "display_data"
    }
   ],
   "source": [
    "#スクリーニングを行う(50万以上売れたゲームを可視化させる)\n",
    "game_data.query('Global_Sales > 5')['Global_Sales'].plot.hist(bins=50)"
   ]
  },
  {
   "cell_type": "markdown",
   "metadata": {},
   "source": [
    "カテゴリデータの分布を確認します。各年に発売されたゲームの分布数を確認します。"
   ]
  },
  {
   "cell_type": "code",
   "execution_count": 34,
   "metadata": {},
   "outputs": [
    {
     "data": {
      "text/plain": [
       "2001     482\n",
       "2002     828\n",
       "2003     775\n",
       "2004     744\n",
       "2005     934\n",
       "2006    1008\n",
       "2007    1201\n",
       "2008    1428\n",
       "2009    1429\n",
       "2010    1257\n",
       "2011    1134\n",
       "2012     655\n",
       "2013     545\n",
       "2014     579\n",
       "2015     614\n",
       "Name: Year, dtype: int64"
      ]
     },
     "execution_count": 34,
     "metadata": {},
     "output_type": "execute_result"
    }
   ],
   "source": [
    "#各年に発売されたゲームタイトル数の分布を確認してください。\n",
    "titles_by_year=game_data['Year'].value_counts().sort_index()\n",
    "titles_by_year\n",
    "# 分析 2009年に販売数がピーク。近年は下降気味であることがわかる。"
   ]
  },
  {
   "cell_type": "markdown",
   "metadata": {},
   "source": [
    "各年に発売されたゲームの分布を棒グラフで確認します。"
   ]
  },
  {
   "cell_type": "code",
   "execution_count": 35,
   "metadata": {},
   "outputs": [
    {
     "data": {
      "text/plain": [
       "<matplotlib.axes._subplots.AxesSubplot at 0x10a6396d8>"
      ]
     },
     "execution_count": 35,
     "metadata": {},
     "output_type": "execute_result"
    },
    {
     "data": {
      "image/png": "[encoded data removed]",
      "text/plain": [
       "<matplotlib.figure.Figure at 0x10a737ac8>"
      ]
     },
     "metadata": {},
     "output_type": "display_data"
    }
   ],
   "source": [
    "# 各年に発売されたゲームタイトル数を棒グラフとしてプロットしてください。\n",
    "titles_by_year.plot.bar()\n",
    "#数字だけで見た場合と同様であることがわかる。数値だけではわからなかった細かいことがわかる\n",
    "#2004 ~ 2005で何かがありゲームの販売数が上がった。"
   ]
  },
  {
   "cell_type": "markdown",
   "metadata": {},
   "source": [
    "### 練習問題"
   ]
  },
  {
   "cell_type": "code",
   "execution_count": 36,
   "metadata": {},
   "outputs": [
    {
     "data": {
      "text/plain": [
       "<matplotlib.axes._subplots.AxesSubplot at 0x10a849ba8>"
      ]
     },
     "execution_count": 36,
     "metadata": {},
     "output_type": "execute_result"
    },
    {
     "data": {
      "image/png": "[encoded data removed]",
      "text/plain": [
       "<matplotlib.figure.Figure at 0x10a7f3e80>"
      ]
     },
     "metadata": {},
     "output_type": "display_data"
    }
   ],
   "source": [
    "# ジャンルごとのゲームタイトルの数を棒グラフにして可視化して下さい。\n",
    "titles_by_Genre=game_data['Genre'].value_counts().sort_index()\n",
    "titles_by_Genre.plot.bar()"
   ]
  },
  {
   "cell_type": "code",
   "execution_count": 37,
   "metadata": {},
   "outputs": [
    {
     "data": {
      "image/png": "[encoded data removed]",
      "text/plain": [
       "<matplotlib.figure.Figure at 0x10a90b748>"
      ]
     },
     "metadata": {},
     "output_type": "display_data"
    }
   ],
   "source": [
    "# ゲームタイトル数がトップ15の販売会社のゲームタイトル数を棒グラフでプロットしてください。\n",
    "\n",
    "#手順を検討　\n",
    "#並べ替える\n",
    "#15行とる\n",
    "#プロットする\n",
    "titles_by_Publisher =game_data['Publisher'].value_counts().head(15).plot.bar()\n",
    "#このグラフから何が言えるのか？\n"
   ]
  },
  {
   "cell_type": "markdown",
   "metadata": {},
   "source": [
    "## 5 可視化"
   ]
  },
  {
   "cell_type": "markdown",
   "metadata": {},
   "source": [
    "- 今回の分析の目的は、地域別の売上傾向を分析すること\n",
    "- 全体の傾向と地域別の傾向を比較して知見を得る"
   ]
  },
  {
   "cell_type": "markdown",
   "metadata": {},
   "source": [
    "### 集計対象の整理"
   ]
  },
  {
   "cell_type": "markdown",
   "metadata": {},
   "source": [
    "アウトプットをイメージして集計対象を整理します。\n",
    "\n",
    "|        集計項目        |            利用する要素            |    可視化    |\n",
    "|:----------------------:|:----------------------------------:|:------------:|\n",
    "|    地域別の販売割合    |           各地域の販売数           |   円グラフ   |\n",
    "|      年別の販売数      |        各地域の年別の販売数        | 線、面グラフ |\n",
    "|   ジャンル別の販売数   |     各地域のジャンル別の販売数     |   棒グラフ   |\n",
    "| プラットフォーム別の販売数 | 各地域のプラットフォーム別の販売数 |   棒グラフ   |"
   ]
  },
  {
   "cell_type": "markdown",
   "metadata": {},
   "source": [
    "### クロス集計と可視化"
   ]
  },
  {
   "cell_type": "markdown",
   "metadata": {},
   "source": [
    "これから先の集計で地域別販売数の列名のリスト `['NA_Sales', 'EU_Sales', 'JP_Sales', 'Other_Sales']` が何度も必要になります。このリストを `SALES` と名付けます。"
   ]
  },
  {
   "cell_type": "code",
   "execution_count": 38,
   "metadata": {},
   "outputs": [],
   "source": [
    "SALES = ['NA_Sales', 'EU_Sales', 'JP_Sales', 'Other_Sales']"
   ]
  },
  {
   "cell_type": "markdown",
   "metadata": {},
   "source": [
    "#### 地域別の販売シェア"
   ]
  },
  {
   "cell_type": "markdown",
   "metadata": {},
   "source": [
    "各地域の販売シェアを集計して可視化します。"
   ]
  },
  {
   "cell_type": "code",
   "execution_count": 39,
   "metadata": {},
   "outputs": [
    {
     "data": {
      "text/plain": [
       "Other_Sales     714.93\n",
       "JP_Sales        752.70\n",
       "EU_Sales       2012.93\n",
       "NA_Sales       3398.19\n",
       "dtype: float64"
      ]
     },
     "execution_count": 39,
     "metadata": {},
     "output_type": "execute_result"
    }
   ],
   "source": [
    "# 地域別販売数を集計してください。\n",
    "sales_by_region=game_data[SALES].sum().sort_values()\n",
    "# 結果を昇順に並べ替えて sales_by_region と名付けてください。\n",
    "sales_by_region"
   ]
  },
  {
   "cell_type": "code",
   "execution_count": 40,
   "metadata": {},
   "outputs": [
    {
     "data": {
      "text/plain": [
       "<matplotlib.axes._subplots.AxesSubplot at 0x10a92f6a0>"
      ]
     },
     "execution_count": 40,
     "metadata": {},
     "output_type": "execute_result"
    },
    {
     "data": {
      "image/png": "[encoded data removed]",
      "text/plain": [
       "<matplotlib.figure.Figure at 0x10aa156d8>"
      ]
     },
     "metadata": {},
     "output_type": "display_data"
    }
   ],
   "source": [
    "# sales_by_region を円グラフにプロットしてください。\n",
    "sales_by_region.plot.pie()\n",
    "#このグラフから読み取れることは何か？\n",
    "#日本のSalesは3番目である。あたり前のことでも自分で書き留めることが大切。(忘れない)\n",
    "#またここで読み取った結果から次の集計に活かすことができる。"
   ]
  },
  {
   "cell_type": "markdown",
   "metadata": {},
   "source": [
    "グラフから読み取れることはなんですか？"
   ]
  },
  {
   "cell_type": "code",
   "execution_count": 41,
   "metadata": {},
   "outputs": [
    {
     "ename": "SyntaxError",
     "evalue": "invalid character in identifier (<ipython-input-41-62df0bfc827b>, line 2)",
     "output_type": "error",
     "traceback": [
      "\u001b[0;36m  File \u001b[0;32m\"<ipython-input-41-62df0bfc827b>\"\u001b[0;36m, line \u001b[0;32m2\u001b[0m\n\u001b[0;31m    -　日本は３位\u001b[0m\n\u001b[0m     　    ^\u001b[0m\n\u001b[0;31mSyntaxError\u001b[0m\u001b[0;31m:\u001b[0m invalid character in identifier\n"
     ]
    }
   ],
   "source": [
    "- 販売数約50%は北米\n",
    "-　日本は３位\n",
    "#グラフから読み取った当たり前のことを記載する。"
   ]
  },
  {
   "cell_type": "markdown",
   "metadata": {},
   "source": [
    "#### 地域別の販売数およびシェアの推移"
   ]
  },
  {
   "cell_type": "markdown",
   "metadata": {},
   "source": [
    "地域別販売数の推移を集計して可視化します。"
   ]
  },
  {
   "cell_type": "code",
   "execution_count": 43,
   "metadata": {},
   "outputs": [],
   "source": [
    "# 発売年ごとの地域別販売数を集計してください。結果を sales_by_year と名付けてください。\n",
    "sales_by_year = game_data.groupby('Year')[SALES].sum()"
   ]
  },
  {
   "cell_type": "code",
   "execution_count": 44,
   "metadata": {},
   "outputs": [
    {
     "data": {
      "text/plain": [
       "<matplotlib.axes._subplots.AxesSubplot at 0x109e7bf98>"
      ]
     },
     "execution_count": 44,
     "metadata": {},
     "output_type": "execute_result"
    },
    {
     "data": {
      "image/png": "[encoded data removed]",
      "text/plain": [
       "<matplotlib.figure.Figure at 0x10aa0a390>"
      ]
     },
     "metadata": {},
     "output_type": "display_data"
    }
   ],
   "source": [
    "# sales_by_year をX軸に発売年、Y軸に販売数を地域別の線グラフとしてプロットしてください。\n",
    "sales_by_year.plot()\n",
    "#何が読み取れるか記載する。\n",
    "#NA_Salesが高い。\n",
    "#全体として2008年に販売数が上がっている。\n",
    "#2012年は全体的に下降気味である"
   ]
  },
  {
   "cell_type": "markdown",
   "metadata": {},
   "source": [
    "地域別の販売数のシェアの推移を集計して可視化します。"
   ]
  },
  {
   "cell_type": "code",
   "execution_count": 226,
   "metadata": {},
   "outputs": [
    {
     "data": {
      "text/html": [
       "<div>\n",
       "<style>\n",
       "    .dataframe thead tr:only-child th {\n",
       "        text-align: right;\n",
       "    }\n",
       "\n",
       "    .dataframe thead th {\n",
       "        text-align: left;\n",
       "    }\n",
       "\n",
       "    .dataframe tbody tr th {\n",
       "        vertical-align: top;\n",
       "    }\n",
       "</style>\n",
       "<table border=\"1\" class=\"dataframe\">\n",
       "  <thead>\n",
       "    <tr style=\"text-align: right;\">\n",
       "      <th></th>\n",
       "      <th>NA_Sales</th>\n",
       "      <th>EU_Sales</th>\n",
       "      <th>JP_Sales</th>\n",
       "      <th>Other_Sales</th>\n",
       "    </tr>\n",
       "    <tr>\n",
       "      <th>Year</th>\n",
       "      <th></th>\n",
       "      <th></th>\n",
       "      <th></th>\n",
       "      <th></th>\n",
       "    </tr>\n",
       "  </thead>\n",
       "  <tbody>\n",
       "    <tr>\n",
       "      <th>2001</th>\n",
       "      <td>0.524842</td>\n",
       "      <td>0.286253</td>\n",
       "      <td>0.120245</td>\n",
       "      <td>0.068660</td>\n",
       "    </tr>\n",
       "    <tr>\n",
       "      <th>2002</th>\n",
       "      <td>0.547347</td>\n",
       "      <td>0.277851</td>\n",
       "      <td>0.105732</td>\n",
       "      <td>0.069070</td>\n",
       "    </tr>\n",
       "    <tr>\n",
       "      <th>2003</th>\n",
       "      <td>0.541344</td>\n",
       "      <td>0.290288</td>\n",
       "      <td>0.095635</td>\n",
       "      <td>0.072733</td>\n",
       "    </tr>\n",
       "    <tr>\n",
       "      <th>2004</th>\n",
       "      <td>0.529001</td>\n",
       "      <td>0.256087</td>\n",
       "      <td>0.100699</td>\n",
       "      <td>0.114214</td>\n",
       "    </tr>\n",
       "    <tr>\n",
       "      <th>2005</th>\n",
       "      <td>0.527496</td>\n",
       "      <td>0.265419</td>\n",
       "      <td>0.118546</td>\n",
       "      <td>0.088538</td>\n",
       "    </tr>\n",
       "    <tr>\n",
       "      <th>2006</th>\n",
       "      <td>0.505495</td>\n",
       "      <td>0.248290</td>\n",
       "      <td>0.141647</td>\n",
       "      <td>0.104569</td>\n",
       "    </tr>\n",
       "    <tr>\n",
       "      <th>2007</th>\n",
       "      <td>0.510776</td>\n",
       "      <td>0.262922</td>\n",
       "      <td>0.098961</td>\n",
       "      <td>0.127341</td>\n",
       "    </tr>\n",
       "    <tr>\n",
       "      <th>2008</th>\n",
       "      <td>0.517974</td>\n",
       "      <td>0.271780</td>\n",
       "      <td>0.088815</td>\n",
       "      <td>0.121431</td>\n",
       "    </tr>\n",
       "    <tr>\n",
       "      <th>2009</th>\n",
       "      <td>0.507986</td>\n",
       "      <td>0.287098</td>\n",
       "      <td>0.092815</td>\n",
       "      <td>0.112101</td>\n",
       "    </tr>\n",
       "    <tr>\n",
       "      <th>2010</th>\n",
       "      <td>0.506898</td>\n",
       "      <td>0.294185</td>\n",
       "      <td>0.099117</td>\n",
       "      <td>0.099800</td>\n",
       "    </tr>\n",
       "    <tr>\n",
       "      <th>2011</th>\n",
       "      <td>0.467260</td>\n",
       "      <td>0.324508</td>\n",
       "      <td>0.102758</td>\n",
       "      <td>0.105473</td>\n",
       "    </tr>\n",
       "    <tr>\n",
       "      <th>2012</th>\n",
       "      <td>0.426511</td>\n",
       "      <td>0.326937</td>\n",
       "      <td>0.142436</td>\n",
       "      <td>0.104116</td>\n",
       "    </tr>\n",
       "    <tr>\n",
       "      <th>2013</th>\n",
       "      <td>0.420742</td>\n",
       "      <td>0.341987</td>\n",
       "      <td>0.129020</td>\n",
       "      <td>0.108251</td>\n",
       "    </tr>\n",
       "    <tr>\n",
       "      <th>2014</th>\n",
       "      <td>0.391591</td>\n",
       "      <td>0.372778</td>\n",
       "      <td>0.116881</td>\n",
       "      <td>0.118750</td>\n",
       "    </tr>\n",
       "    <tr>\n",
       "      <th>2015</th>\n",
       "      <td>0.389087</td>\n",
       "      <td>0.369749</td>\n",
       "      <td>0.127602</td>\n",
       "      <td>0.113562</td>\n",
       "    </tr>\n",
       "  </tbody>\n",
       "</table>\n",
       "</div>"
      ],
      "text/plain": [
       "      NA_Sales  EU_Sales  JP_Sales  Other_Sales\n",
       "Year                                           \n",
       "2001  0.524842  0.286253  0.120245     0.068660\n",
       "2002  0.547347  0.277851  0.105732     0.069070\n",
       "2003  0.541344  0.290288  0.095635     0.072733\n",
       "2004  0.529001  0.256087  0.100699     0.114214\n",
       "2005  0.527496  0.265419  0.118546     0.088538\n",
       "2006  0.505495  0.248290  0.141647     0.104569\n",
       "2007  0.510776  0.262922  0.098961     0.127341\n",
       "2008  0.517974  0.271780  0.088815     0.121431\n",
       "2009  0.507986  0.287098  0.092815     0.112101\n",
       "2010  0.506898  0.294185  0.099117     0.099800\n",
       "2011  0.467260  0.324508  0.102758     0.105473\n",
       "2012  0.426511  0.326937  0.142436     0.104116\n",
       "2013  0.420742  0.341987  0.129020     0.108251\n",
       "2014  0.391591  0.372778  0.116881     0.118750\n",
       "2015  0.389087  0.369749  0.127602     0.113562"
      ]
     },
     "execution_count": 226,
     "metadata": {},
     "output_type": "execute_result"
    }
   ],
   "source": [
    "# sales_by_year の各年の地域ごとの販売数をそれらの総和で割ってください。\n",
    "# 結果を share_by_year と名付けてください。\n",
    "share_by_year = sales_by_year.apply(lambda x : x / sales_by_platform.sum(axis=1))\n",
    "share_by_year"
   ]
  },
  {
   "cell_type": "code",
   "execution_count": 227,
   "metadata": {},
   "outputs": [
    {
     "data": {
      "text/plain": [
       "<matplotlib.axes._subplots.AxesSubplot at 0x11717f2e8>"
      ]
     },
     "execution_count": 227,
     "metadata": {},
     "output_type": "execute_result"
    },
    {
     "data": {
      "image/png": "[encoded data removed]",
      "text/plain": [
       "<matplotlib.figure.Figure at 0x116f8add8>"
      ]
     },
     "metadata": {},
     "output_type": "display_data"
    }
   ],
   "source": [
    "# share_by_year を面グラフとしてプロットして下さい。\n",
    "#\n",
    "# Hint: 面グラフは、DataFrame.plot.area() でプロットすることができます。\n",
    "sales_by_year.plot.area()"
   ]
  },
  {
   "cell_type": "markdown",
   "metadata": {},
   "source": [
    "グラフから読み取れることはなんですか？"
   ]
  },
  {
   "cell_type": "markdown",
   "metadata": {},
   "source": [
    "#### 各地域でのジャンル別の販売数および販売シェア"
   ]
  },
  {
   "cell_type": "markdown",
   "metadata": {},
   "source": [
    "ジャンル別の販売数を地域別に集計して可視化します。"
   ]
  },
  {
   "cell_type": "code",
   "execution_count": 232,
   "metadata": {},
   "outputs": [
    {
     "data": {
      "text/html": [
       "<div>\n",
       "<style>\n",
       "    .dataframe thead tr:only-child th {\n",
       "        text-align: right;\n",
       "    }\n",
       "\n",
       "    .dataframe thead th {\n",
       "        text-align: left;\n",
       "    }\n",
       "\n",
       "    .dataframe tbody tr th {\n",
       "        vertical-align: top;\n",
       "    }\n",
       "</style>\n",
       "<table border=\"1\" class=\"dataframe\">\n",
       "  <thead>\n",
       "    <tr style=\"text-align: right;\">\n",
       "      <th></th>\n",
       "      <th>NA_Sales</th>\n",
       "      <th>EU_Sales</th>\n",
       "      <th>JP_Sales</th>\n",
       "      <th>Other_Sales</th>\n",
       "    </tr>\n",
       "    <tr>\n",
       "      <th>Genre</th>\n",
       "      <th></th>\n",
       "      <th></th>\n",
       "      <th></th>\n",
       "      <th></th>\n",
       "    </tr>\n",
       "  </thead>\n",
       "  <tbody>\n",
       "    <tr>\n",
       "      <th>Action</th>\n",
       "      <td>727.08</td>\n",
       "      <td>454.86</td>\n",
       "      <td>121.21</td>\n",
       "      <td>174.33</td>\n",
       "    </tr>\n",
       "    <tr>\n",
       "      <th>Adventure</th>\n",
       "      <td>81.20</td>\n",
       "      <td>48.96</td>\n",
       "      <td>35.03</td>\n",
       "      <td>14.84</td>\n",
       "    </tr>\n",
       "    <tr>\n",
       "      <th>Fighting</th>\n",
       "      <td>149.72</td>\n",
       "      <td>68.05</td>\n",
       "      <td>41.07</td>\n",
       "      <td>30.38</td>\n",
       "    </tr>\n",
       "    <tr>\n",
       "      <th>Misc</th>\n",
       "      <td>355.27</td>\n",
       "      <td>192.88</td>\n",
       "      <td>81.50</td>\n",
       "      <td>71.00</td>\n",
       "    </tr>\n",
       "    <tr>\n",
       "      <th>Platform</th>\n",
       "      <td>250.44</td>\n",
       "      <td>135.75</td>\n",
       "      <td>52.54</td>\n",
       "      <td>40.81</td>\n",
       "    </tr>\n",
       "  </tbody>\n",
       "</table>\n",
       "</div>"
      ],
      "text/plain": [
       "           NA_Sales  EU_Sales  JP_Sales  Other_Sales\n",
       "Genre                                               \n",
       "Action       727.08    454.86    121.21       174.33\n",
       "Adventure     81.20     48.96     35.03        14.84\n",
       "Fighting     149.72     68.05     41.07        30.38\n",
       "Misc         355.27    192.88     81.50        71.00\n",
       "Platform     250.44    135.75     52.54        40.81"
      ]
     },
     "execution_count": 232,
     "metadata": {},
     "output_type": "execute_result"
    }
   ],
   "source": [
    "# ジャンルごとに地域別販売数を集計してください。結果を sales_by_genre と名付けてください。\n",
    "sales_by_genre = game_data.groupby('Genre')[SALES].sum()\n",
    "sales_by_genre.head()"
   ]
  },
  {
   "cell_type": "code",
   "execution_count": 235,
   "metadata": {},
   "outputs": [
    {
     "data": {
      "text/plain": [
       "<matplotlib.axes._subplots.AxesSubplot at 0x117eef048>"
      ]
     },
     "execution_count": 235,
     "metadata": {},
     "output_type": "execute_result"
    },
    {
     "data": {
      "image/png": "[encoded data removed]",
      "text/plain": [
       "<matplotlib.figure.Figure at 0x1176f5d68>"
      ]
     },
     "metadata": {},
     "output_type": "display_data"
    },
    {
     "data": {
      "image/png": "[encoded data removed]",
      "text/plain": [
       "<matplotlib.figure.Figure at 0x117c50c88>"
      ]
     },
     "metadata": {},
     "output_type": "display_data"
    },
    {
     "data": {
      "image/png": "[encoded data removed]",
      "text/plain": [
       "<matplotlib.figure.Figure at 0x117df0e10>"
      ]
     },
     "metadata": {},
     "output_type": "display_data"
    }
   ],
   "source": [
    "# sales_by_genre を、X軸に地域、Y軸にジャンル別の販売数を\n",
    "# 積み上げ棒グラフとしてプロットしてください。\n",
    "sales_by_genre.plot.bar(stacked=True)\n",
    "#積み上げ型で表示してみる。がX軸がジャンル　Yが地域と逆であることがわかる\n",
    "#transpose()で反転させる。\n",
    "sales_by_genre.transpose().plot.bar(stacked=True)\n",
    "#見やすくする。cmap='rainbow'\n",
    "sales_by_genre.transpose().plot.bar(stacked=True, cmap='rainbow')\n",
    "#図からなんとも言えないのでやる"
   ]
  },
  {
   "cell_type": "markdown",
   "metadata": {},
   "source": [
    "ジャンル別の販売数のシェアを地域別に集計して可視化します。"
   ]
  },
  {
   "cell_type": "code",
   "execution_count": 239,
   "metadata": {},
   "outputs": [],
   "source": [
    "# sales_by_genre の各ジャンルの販売数をそれらの総和で割ってください。\n",
    "# 結果を share_by_genre と名付けてください。\n",
    "\n",
    "#やり方：　各行の総和でかく行の値を割ればいい\n",
    "share_by_genre = share_by_genre.apply(lambda x : x / sales_by_platform.sum(axis=0), axis=1)\n"
   ]
  },
  {
   "cell_type": "code",
   "execution_count": 242,
   "metadata": {},
   "outputs": [
    {
     "data": {
      "text/plain": [
       "<matplotlib.axes._subplots.AxesSubplot at 0x1176b2a20>"
      ]
     },
     "execution_count": 242,
     "metadata": {},
     "output_type": "execute_result"
    },
    {
     "data": {
      "image/png": "[encoded data removed]",
      "text/plain": [
       "<matplotlib.figure.Figure at 0x1172a8278>"
      ]
     },
     "metadata": {},
     "output_type": "display_data"
    }
   ],
   "source": [
    "# share_by_genre をX軸に地域、Y軸にジャンル別の販売シャアの\n",
    "# 積み上げ棒グラフとしてプロットしてください。\n",
    "share_by_genre.transpose().plot.bar(stacked=True, cmap='rainbow')"
   ]
  },
  {
   "cell_type": "markdown",
   "metadata": {},
   "source": [
    "グラフから読み取れることはなんですか？"
   ]
  },
  {
   "cell_type": "code",
   "execution_count": null,
   "metadata": {},
   "outputs": [],
   "source": [
    "#action と　Strategyが多い\n",
    "#日本のRPGのシェアが他の国よりも多い。\n"
   ]
  },
  {
   "cell_type": "markdown",
   "metadata": {},
   "source": [
    "#### 各地域でのプラットフォーム別の販売数および販売シェア"
   ]
  },
  {
   "cell_type": "markdown",
   "metadata": {},
   "source": [
    "プラットフォーム別の販売数を地域別に集計して可視化します。"
   ]
  },
  {
   "cell_type": "code",
   "execution_count": 50,
   "metadata": {},
   "outputs": [
    {
     "data": {
      "text/html": [
       "<div>\n",
       "<style>\n",
       "    .dataframe thead tr:only-child th {\n",
       "        text-align: right;\n",
       "    }\n",
       "\n",
       "    .dataframe thead th {\n",
       "        text-align: left;\n",
       "    }\n",
       "\n",
       "    .dataframe tbody tr th {\n",
       "        vertical-align: top;\n",
       "    }\n",
       "</style>\n",
       "<table border=\"1\" class=\"dataframe\">\n",
       "  <thead>\n",
       "    <tr style=\"text-align: right;\">\n",
       "      <th></th>\n",
       "      <th>NA_Sales</th>\n",
       "      <th>EU_Sales</th>\n",
       "      <th>JP_Sales</th>\n",
       "      <th>Other_Sales</th>\n",
       "    </tr>\n",
       "    <tr>\n",
       "      <th>Platform</th>\n",
       "      <th></th>\n",
       "      <th></th>\n",
       "      <th></th>\n",
       "      <th></th>\n",
       "    </tr>\n",
       "  </thead>\n",
       "  <tbody>\n",
       "    <tr>\n",
       "      <th>3DS</th>\n",
       "      <td>77.20</td>\n",
       "      <td>57.72</td>\n",
       "      <td>92.20</td>\n",
       "      <td>12.43</td>\n",
       "    </tr>\n",
       "    <tr>\n",
       "      <th>DC</th>\n",
       "      <td>0.00</td>\n",
       "      <td>0.00</td>\n",
       "      <td>1.42</td>\n",
       "      <td>0.00</td>\n",
       "    </tr>\n",
       "    <tr>\n",
       "      <th>DS</th>\n",
       "      <td>388.26</td>\n",
       "      <td>193.90</td>\n",
       "      <td>175.00</td>\n",
       "      <td>60.26</td>\n",
       "    </tr>\n",
       "    <tr>\n",
       "      <th>GB</th>\n",
       "      <td>2.73</td>\n",
       "      <td>1.67</td>\n",
       "      <td>4.65</td>\n",
       "      <td>0.19</td>\n",
       "    </tr>\n",
       "    <tr>\n",
       "      <th>GBA</th>\n",
       "      <td>178.34</td>\n",
       "      <td>72.46</td>\n",
       "      <td>46.56</td>\n",
       "      <td>7.51</td>\n",
       "    </tr>\n",
       "  </tbody>\n",
       "</table>\n",
       "</div>"
      ],
      "text/plain": [
       "          NA_Sales  EU_Sales  JP_Sales  Other_Sales\n",
       "Platform                                           \n",
       "3DS          77.20     57.72     92.20        12.43\n",
       "DC            0.00      0.00      1.42         0.00\n",
       "DS          388.26    193.90    175.00        60.26\n",
       "GB            2.73      1.67      4.65         0.19\n",
       "GBA         178.34     72.46     46.56         7.51"
      ]
     },
     "execution_count": 50,
     "metadata": {},
     "output_type": "execute_result"
    }
   ],
   "source": [
    "# プラットフォームごとに地域別販売数を集計してください。\n",
    "# 結果を sales_by_platform と名付けてください。\n",
    "sales_by_platform = game_data.groupby('Platform')[SALES].sum()\n",
    "sales_by_platform.head()"
   ]
  },
  {
   "cell_type": "code",
   "execution_count": 51,
   "metadata": {},
   "outputs": [
    {
     "data": {
      "text/plain": [
       "<matplotlib.legend.Legend at 0x11c4449e8>"
      ]
     },
     "execution_count": 51,
     "metadata": {},
     "output_type": "execute_result"
    },
    {
     "data": {
      "image/png": "[encoded data removed]",
      "text/plain": [
       "<matplotlib.figure.Figure at 0x11c444710>"
      ]
     },
     "metadata": {},
     "output_type": "display_data"
    }
   ],
   "source": [
    "# sales_by_platform を、X軸に地域、Y軸にプラットフォーム別の販売数を\n",
    "# 積み上げ棒グラフとしてプロットしてください。\n",
    "fig, ax = plt.subplots()\n",
    "(sales_by_platform\n",
    " .transpose()\n",
    " .plot.bar(stacked=True, cmap='rainbow', ax=ax))\n",
    "ax.legend(loc='center left', bbox_to_anchor=(1.0, 0.5))"
   ]
  },
  {
   "cell_type": "markdown",
   "metadata": {},
   "source": [
    "プラットフォーム別の販売数のシェアを地域別に集計して可視化します。"
   ]
  },
  {
   "cell_type": "code",
   "execution_count": 52,
   "metadata": {},
   "outputs": [
    {
     "data": {
      "text/plain": [
       "<matplotlib.legend.Legend at 0x11c62beb8>"
      ]
     },
     "execution_count": 52,
     "metadata": {},
     "output_type": "execute_result"
    },
    {
     "data": {
      "image/png": "[encoded data removed]",
      "text/plain": [
       "<matplotlib.figure.Figure at 0x11c62ba20>"
      ]
     },
     "metadata": {},
     "output_type": "display_data"
    }
   ],
   "source": [
    "# sales_by_platform のプラットフォーム別の販売数をそれらの総和で割ってください。\n",
    "# 結果を積み上げ棒グラフとしてプロットしてください。\n",
    "fig, ax = plt.subplots()\n",
    "(sales_by_platform\n",
    " .apply(lambda x : x / sales_by_platform.sum(axis=0), axis=1)\n",
    " .transpose()\n",
    " .plot.bar(stacked=True, cmap='rainbow', ax=ax))\n",
    "ax.legend(loc='center left', bbox_to_anchor=(1.0, 0.5))"
   ]
  },
  {
   "cell_type": "markdown",
   "metadata": {},
   "source": [
    "グラフから読み取れることはなんですか？"
   ]
  },
  {
   "cell_type": "code",
   "execution_count": null,
   "metadata": {},
   "outputs": [],
   "source": [
    "・全体ではDS系　xbox系の販売数が多い\n",
    "・日本ではDS系の割合が大きく、xbox系の販売が少ない\n",
    "・北米ではxboxの割合が多い"
   ]
  },
  {
   "cell_type": "markdown",
   "metadata": {},
   "source": [
    "#### 各地域での販売数トップ15のゲームタイトル"
   ]
  },
  {
   "cell_type": "markdown",
   "metadata": {},
   "source": [
    "全世界での販売数がトップ15のゲームタイトルの地域別販売数を抽出して可視化します。"
   ]
  },
  {
   "cell_type": "code",
   "execution_count": 263,
   "metadata": {},
   "outputs": [],
   "source": [
    "# game_data から全世界での販売数が上位15のゲームタイトルの\n",
    "# 地域別販売数を抽出してください。結果を top15_global と名付けてください。\n",
    "top15_global = game_data.sort_values(by='Global_Sales',ascending=False).head(15)[['Name']+ SALES].set_index('Name')"
   ]
  },
  {
   "cell_type": "code",
   "execution_count": 265,
   "metadata": {},
   "outputs": [
    {
     "data": {
      "text/plain": [
       "<matplotlib.axes._subplots.AxesSubplot at 0x1189a5ac8>"
      ]
     },
     "execution_count": 265,
     "metadata": {},
     "output_type": "execute_result"
    },
    {
     "data": {
      "image/png": "[encoded data removed]",
      "text/plain": [
       "<matplotlib.figure.Figure at 0x1187401d0>"
      ]
     },
     "metadata": {},
     "output_type": "display_data"
    }
   ],
   "source": [
    "# top15_global をX軸がゲームタイトル、Y軸が地域別販売数の\n",
    "# 積み上げ横棒グラフとしてプロットしてください。\n",
    "top15_global.plot.barh(stacked=True, cmap='rainbow')"
   ]
  },
  {
   "cell_type": "code",
   "execution_count": 279,
   "metadata": {},
   "outputs": [
    {
     "data": {
      "text/plain": [
       "<matplotlib.axes._subplots.AxesSubplot at 0x119084cf8>"
      ]
     },
     "execution_count": 279,
     "metadata": {},
     "output_type": "execute_result"
    },
    {
     "data": {
      "image/png": "[encoded data removed]",
      "text/plain": [
       "<matplotlib.figure.Figure at 0x1190745f8>"
      ]
     },
     "metadata": {},
     "output_type": "display_data"
    }
   ],
   "source": [
    "# top15_global をX軸がゲームタイトル、Y軸が地域別販売シェアの\n",
    "# 積み上げ横棒グラフとしてプロットしてください。\n",
    "#sales_by_year.apply(lambda x : x / sales_by_platform.sum(axis=1))\n",
    "top15_global.apply(lambda x : x / top15_global.sum(axis=1)).plot.barh(stacked=True, cmap='rainbow')"
   ]
  },
  {
   "cell_type": "markdown",
   "metadata": {},
   "source": [
    "グラフから読み取れることはなんですか？"
   ]
  },
  {
   "cell_type": "markdown",
   "metadata": {},
   "source": [
    "北米での販売数が上位15のゲームタイトルの地域別販売数を抽出して可視化します。"
   ]
  },
  {
   "cell_type": "code",
   "execution_count": 56,
   "metadata": {},
   "outputs": [
    {
     "data": {
      "text/html": [
       "<div>\n",
       "<style>\n",
       "    .dataframe thead tr:only-child th {\n",
       "        text-align: right;\n",
       "    }\n",
       "\n",
       "    .dataframe thead th {\n",
       "        text-align: left;\n",
       "    }\n",
       "\n",
       "    .dataframe tbody tr th {\n",
       "        vertical-align: top;\n",
       "    }\n",
       "</style>\n",
       "<table border=\"1\" class=\"dataframe\">\n",
       "  <thead>\n",
       "    <tr style=\"text-align: right;\">\n",
       "      <th></th>\n",
       "      <th>NA_Sales</th>\n",
       "      <th>EU_Sales</th>\n",
       "      <th>JP_Sales</th>\n",
       "      <th>Other_Sales</th>\n",
       "    </tr>\n",
       "    <tr>\n",
       "      <th>Name</th>\n",
       "      <th></th>\n",
       "      <th></th>\n",
       "      <th></th>\n",
       "      <th></th>\n",
       "    </tr>\n",
       "  </thead>\n",
       "  <tbody>\n",
       "    <tr>\n",
       "      <th>Wii Sports</th>\n",
       "      <td>41.49</td>\n",
       "      <td>29.02</td>\n",
       "      <td>3.77</td>\n",
       "      <td>8.46</td>\n",
       "    </tr>\n",
       "    <tr>\n",
       "      <th>Mario Kart Wii</th>\n",
       "      <td>15.85</td>\n",
       "      <td>12.88</td>\n",
       "      <td>3.79</td>\n",
       "      <td>3.31</td>\n",
       "    </tr>\n",
       "    <tr>\n",
       "      <th>Wii Sports Resort</th>\n",
       "      <td>15.75</td>\n",
       "      <td>11.01</td>\n",
       "      <td>3.28</td>\n",
       "      <td>2.96</td>\n",
       "    </tr>\n",
       "    <tr>\n",
       "      <th>Kinect Adventures!</th>\n",
       "      <td>14.97</td>\n",
       "      <td>4.94</td>\n",
       "      <td>0.24</td>\n",
       "      <td>1.67</td>\n",
       "    </tr>\n",
       "    <tr>\n",
       "      <th>New Super Mario Bros. Wii</th>\n",
       "      <td>14.59</td>\n",
       "      <td>7.06</td>\n",
       "      <td>4.70</td>\n",
       "      <td>2.26</td>\n",
       "    </tr>\n",
       "  </tbody>\n",
       "</table>\n",
       "</div>"
      ],
      "text/plain": [
       "                           NA_Sales  EU_Sales  JP_Sales  Other_Sales\n",
       "Name                                                                \n",
       "Wii Sports                    41.49     29.02      3.77         8.46\n",
       "Mario Kart Wii                15.85     12.88      3.79         3.31\n",
       "Wii Sports Resort             15.75     11.01      3.28         2.96\n",
       "Kinect Adventures!            14.97      4.94      0.24         1.67\n",
       "New Super Mario Bros. Wii     14.59      7.06      4.70         2.26"
      ]
     },
     "execution_count": 56,
     "metadata": {},
     "output_type": "execute_result"
    }
   ],
   "source": [
    "# game_data から北米での販売数が上位15のゲームタイトルの\n",
    "# 地域別販売数を抽出してください。結果を top15_na と名付けてください。\n",
    "top15_na = (game_data\n",
    "         .sort_values('NA_Sales', ascending=False)\n",
    "         .head(15)[['Name'] + SALES]\n",
    "         .set_index('Name'))\n",
    "top15_na.head()"
   ]
  },
  {
   "cell_type": "code",
   "execution_count": 57,
   "metadata": {},
   "outputs": [
    {
     "data": {
      "text/plain": [
       "<matplotlib.legend.Legend at 0x11d091128>"
      ]
     },
     "execution_count": 57,
     "metadata": {},
     "output_type": "execute_result"
    },
    {
     "data": {
      "image/png": "[encoded data removed]",
      "text/plain": [
       "<matplotlib.figure.Figure at 0x11d091ac8>"
      ]
     },
     "metadata": {},
     "output_type": "display_data"
    }
   ],
   "source": [
    "# top15_na をX軸がゲームタイトル、Y軸が地域別販売数の\n",
    "# 積み上げ横棒グラフとしてプロットしてください。\n",
    "fig, ax = plt.subplots()\n",
    "top15_na.plot.barh(stacked=True, ax=ax)\n",
    "ax.invert_yaxis()\n",
    "ax.legend(loc='center left', bbox_to_anchor=(1.0, 0.5))"
   ]
  },
  {
   "cell_type": "code",
   "execution_count": 58,
   "metadata": {},
   "outputs": [
    {
     "data": {
      "text/plain": [
       "<matplotlib.legend.Legend at 0x11d4a2fd0>"
      ]
     },
     "execution_count": 58,
     "metadata": {},
     "output_type": "execute_result"
    },
    {
     "data": {
      "image/png": "[encoded data removed]",
      "text/plain": [
       "<matplotlib.figure.Figure at 0x11d359e10>"
      ]
     },
     "metadata": {},
     "output_type": "display_data"
    }
   ],
   "source": [
    "# top15_na をX軸がゲームタイトル、Y軸が地域別販売シェアの\n",
    "# 積み上げ横棒グラフとしてプロットしてください。\n",
    "fig, ax = plt.subplots()\n",
    "(top15_na\n",
    " .apply(lambda x : x / top15_na.sum(axis=1))\n",
    " .plot.barh(stacked=True, ax=ax))\n",
    "ax.invert_yaxis()\n",
    "ax.legend(loc='center left', bbox_to_anchor=(1.0, 0.5))"
   ]
  },
  {
   "cell_type": "markdown",
   "metadata": {},
   "source": [
    "グラフから読み取れることはなんですか？"
   ]
  },
  {
   "cell_type": "markdown",
   "metadata": {},
   "source": [
    "欧州での販売数がトップ15のゲームタイトルの地域別販売数を抽出して可視化します。"
   ]
  },
  {
   "cell_type": "code",
   "execution_count": 59,
   "metadata": {},
   "outputs": [
    {
     "data": {
      "text/html": [
       "<div>\n",
       "<style>\n",
       "    .dataframe thead tr:only-child th {\n",
       "        text-align: right;\n",
       "    }\n",
       "\n",
       "    .dataframe thead th {\n",
       "        text-align: left;\n",
       "    }\n",
       "\n",
       "    .dataframe tbody tr th {\n",
       "        vertical-align: top;\n",
       "    }\n",
       "</style>\n",
       "<table border=\"1\" class=\"dataframe\">\n",
       "  <thead>\n",
       "    <tr style=\"text-align: right;\">\n",
       "      <th></th>\n",
       "      <th>NA_Sales</th>\n",
       "      <th>EU_Sales</th>\n",
       "      <th>JP_Sales</th>\n",
       "      <th>Other_Sales</th>\n",
       "    </tr>\n",
       "    <tr>\n",
       "      <th>Name</th>\n",
       "      <th></th>\n",
       "      <th></th>\n",
       "      <th></th>\n",
       "      <th></th>\n",
       "    </tr>\n",
       "  </thead>\n",
       "  <tbody>\n",
       "    <tr>\n",
       "      <th>Wii Sports</th>\n",
       "      <td>41.49</td>\n",
       "      <td>29.02</td>\n",
       "      <td>3.77</td>\n",
       "      <td>8.46</td>\n",
       "    </tr>\n",
       "    <tr>\n",
       "      <th>Mario Kart Wii</th>\n",
       "      <td>15.85</td>\n",
       "      <td>12.88</td>\n",
       "      <td>3.79</td>\n",
       "      <td>3.31</td>\n",
       "    </tr>\n",
       "    <tr>\n",
       "      <th>Wii Sports Resort</th>\n",
       "      <td>15.75</td>\n",
       "      <td>11.01</td>\n",
       "      <td>3.28</td>\n",
       "      <td>2.96</td>\n",
       "    </tr>\n",
       "    <tr>\n",
       "      <th>Nintendogs</th>\n",
       "      <td>9.07</td>\n",
       "      <td>11.00</td>\n",
       "      <td>1.93</td>\n",
       "      <td>2.75</td>\n",
       "    </tr>\n",
       "    <tr>\n",
       "      <th>Grand Theft Auto V</th>\n",
       "      <td>7.01</td>\n",
       "      <td>9.27</td>\n",
       "      <td>0.97</td>\n",
       "      <td>4.14</td>\n",
       "    </tr>\n",
       "  </tbody>\n",
       "</table>\n",
       "</div>"
      ],
      "text/plain": [
       "                    NA_Sales  EU_Sales  JP_Sales  Other_Sales\n",
       "Name                                                         \n",
       "Wii Sports             41.49     29.02      3.77         8.46\n",
       "Mario Kart Wii         15.85     12.88      3.79         3.31\n",
       "Wii Sports Resort      15.75     11.01      3.28         2.96\n",
       "Nintendogs              9.07     11.00      1.93         2.75\n",
       "Grand Theft Auto V      7.01      9.27      0.97         4.14"
      ]
     },
     "execution_count": 59,
     "metadata": {},
     "output_type": "execute_result"
    }
   ],
   "source": [
    "# game_data から欧州での販売数が上位15のゲームタイトルの\n",
    "# 地域別販売数を抽出してください。結果を top15_eu と名付けてください。\n",
    "top15_eu = (game_data\n",
    "         .sort_values('EU_Sales', ascending=False)\n",
    "         .head(15)[['Name'] + SALES]\n",
    "         .set_index('Name'))\n",
    "top15_eu.head()"
   ]
  },
  {
   "cell_type": "code",
   "execution_count": 60,
   "metadata": {},
   "outputs": [
    {
     "data": {
      "text/plain": [
       "<matplotlib.legend.Legend at 0x11d5fddd8>"
      ]
     },
     "execution_count": 60,
     "metadata": {},
     "output_type": "execute_result"
    },
    {
     "data": {
      "image/png": "[encoded data removed]",
      "text/plain": [
       "<matplotlib.figure.Figure at 0x11d5fdef0>"
      ]
     },
     "metadata": {},
     "output_type": "display_data"
    }
   ],
   "source": [
    "# top15_eu をX軸がゲームタイトル、Y軸が地域別販売数の\n",
    "# 積み上げ横棒グラフとしてプロットしてください。\n",
    "fig, ax = plt.subplots()\n",
    "top15_eu.plot.barh(stacked=True, ax=ax)\n",
    "ax.invert_yaxis()\n",
    "ax.legend(loc='center left', bbox_to_anchor=(1.0, 0.5))"
   ]
  },
  {
   "cell_type": "code",
   "execution_count": 61,
   "metadata": {},
   "outputs": [
    {
     "data": {
      "text/plain": [
       "<matplotlib.legend.Legend at 0x11d5f8f60>"
      ]
     },
     "execution_count": 61,
     "metadata": {},
     "output_type": "execute_result"
    },
    {
     "data": {
      "image/png": "[encoded data removed]",
      "text/plain": [
       "<matplotlib.figure.Figure at 0x11d5f8668>"
      ]
     },
     "metadata": {},
     "output_type": "display_data"
    }
   ],
   "source": [
    "# top15_eu をX軸がゲームタイトル、Y軸が地域別販売シェアの\n",
    "# 積み上げ横棒グラフとしてプロットしてください。\n",
    "fig, ax = plt.subplots()\n",
    "(top15_eu\n",
    " .apply(lambda x : x / top15_eu.sum(axis=1))\n",
    " .plot.barh(stacked=True, ax=ax))\n",
    "ax.invert_yaxis()\n",
    "ax.legend(loc='center left', bbox_to_anchor=(1.0, 0.5))"
   ]
  },
  {
   "cell_type": "markdown",
   "metadata": {},
   "source": [
    "グラフから読み取れることはなんですか？"
   ]
  },
  {
   "cell_type": "markdown",
   "metadata": {},
   "source": [
    "日本での販売数が上位15のゲームタイトルの地域別販売数を抽出して可視化します。"
   ]
  },
  {
   "cell_type": "code",
   "execution_count": 62,
   "metadata": {},
   "outputs": [
    {
     "data": {
      "text/html": [
       "<div>\n",
       "<style>\n",
       "    .dataframe thead tr:only-child th {\n",
       "        text-align: right;\n",
       "    }\n",
       "\n",
       "    .dataframe thead th {\n",
       "        text-align: left;\n",
       "    }\n",
       "\n",
       "    .dataframe tbody tr th {\n",
       "        vertical-align: top;\n",
       "    }\n",
       "</style>\n",
       "<table border=\"1\" class=\"dataframe\">\n",
       "  <thead>\n",
       "    <tr style=\"text-align: right;\">\n",
       "      <th></th>\n",
       "      <th>NA_Sales</th>\n",
       "      <th>EU_Sales</th>\n",
       "      <th>JP_Sales</th>\n",
       "      <th>Other_Sales</th>\n",
       "    </tr>\n",
       "    <tr>\n",
       "      <th>Name</th>\n",
       "      <th></th>\n",
       "      <th></th>\n",
       "      <th></th>\n",
       "      <th></th>\n",
       "    </tr>\n",
       "  </thead>\n",
       "  <tbody>\n",
       "    <tr>\n",
       "      <th>New Super Mario Bros.</th>\n",
       "      <td>11.38</td>\n",
       "      <td>9.23</td>\n",
       "      <td>6.50</td>\n",
       "      <td>2.90</td>\n",
       "    </tr>\n",
       "    <tr>\n",
       "      <th>Pokemon Diamond/Pokemon Pearl</th>\n",
       "      <td>6.42</td>\n",
       "      <td>4.52</td>\n",
       "      <td>6.04</td>\n",
       "      <td>1.37</td>\n",
       "    </tr>\n",
       "    <tr>\n",
       "      <th>Pokemon Black/Pokemon White</th>\n",
       "      <td>5.57</td>\n",
       "      <td>3.28</td>\n",
       "      <td>5.65</td>\n",
       "      <td>0.82</td>\n",
       "    </tr>\n",
       "    <tr>\n",
       "      <th>Pokemon Ruby/Pokemon Sapphire</th>\n",
       "      <td>6.06</td>\n",
       "      <td>3.90</td>\n",
       "      <td>5.38</td>\n",
       "      <td>0.50</td>\n",
       "    </tr>\n",
       "    <tr>\n",
       "      <th>Animal Crossing: Wild World</th>\n",
       "      <td>2.55</td>\n",
       "      <td>3.52</td>\n",
       "      <td>5.33</td>\n",
       "      <td>0.88</td>\n",
       "    </tr>\n",
       "  </tbody>\n",
       "</table>\n",
       "</div>"
      ],
      "text/plain": [
       "                               NA_Sales  EU_Sales  JP_Sales  Other_Sales\n",
       "Name                                                                    \n",
       "New Super Mario Bros.             11.38      9.23      6.50         2.90\n",
       "Pokemon Diamond/Pokemon Pearl      6.42      4.52      6.04         1.37\n",
       "Pokemon Black/Pokemon White        5.57      3.28      5.65         0.82\n",
       "Pokemon Ruby/Pokemon Sapphire      6.06      3.90      5.38         0.50\n",
       "Animal Crossing: Wild World        2.55      3.52      5.33         0.88"
      ]
     },
     "execution_count": 62,
     "metadata": {},
     "output_type": "execute_result"
    }
   ],
   "source": [
    "# game_data から日本での販売数が上位15のゲームタイトルの\n",
    "# 地域別販売数を抽出してください。結果を top15_jp と名付けてください。\n",
    "top15_jp = (game_data\n",
    "         .sort_values('JP_Sales', ascending=False)\n",
    "         .head(15)[['Name'] + ['NA_Sales', 'EU_Sales', 'JP_Sales', 'Other_Sales']]\n",
    "         .set_index('Name'))\n",
    "top15_jp.head()"
   ]
  },
  {
   "cell_type": "code",
   "execution_count": 63,
   "metadata": {},
   "outputs": [
    {
     "data": {
      "text/plain": [
       "<matplotlib.legend.Legend at 0x11daa63c8>"
      ]
     },
     "execution_count": 63,
     "metadata": {},
     "output_type": "execute_result"
    },
    {
     "data": {
      "image/png": "[encoded data removed]",
      "text/plain": [
       "<matplotlib.figure.Figure at 0x11daa6e48>"
      ]
     },
     "metadata": {},
     "output_type": "display_data"
    }
   ],
   "source": [
    "# top15_jp をX軸がゲームタイトル、Y軸が地域別販売数の\n",
    "# 積み上げ横棒グラフとしてプロットしてください。\n",
    "fig, ax = plt.subplots()\n",
    "top15_jp.plot.barh(stacked=True, ax=ax)\n",
    "ax.invert_yaxis()\n",
    "ax.legend(loc='center left', bbox_to_anchor=(1.0, 0.5))"
   ]
  },
  {
   "cell_type": "code",
   "execution_count": 64,
   "metadata": {},
   "outputs": [
    {
     "data": {
      "text/plain": [
       "<matplotlib.legend.Legend at 0x11dd72a90>"
      ]
     },
     "execution_count": 64,
     "metadata": {},
     "output_type": "execute_result"
    },
    {
     "data": {
      "image/png": "[encoded data removed]",
      "text/plain": [
       "<matplotlib.figure.Figure at 0x11dd72cc0>"
      ]
     },
     "metadata": {},
     "output_type": "display_data"
    }
   ],
   "source": [
    "# top15_jp をX軸がゲームタイトル、Y軸が地域別販売シェアの\n",
    "# 積み上げ横棒グラフとしてプロットしてください。\n",
    "fig, ax = plt.subplots()\n",
    "(top15_jp\n",
    " .apply(lambda x : x / top15_jp.sum(axis=1))\n",
    " .plot.barh(stacked=True, ax=ax))\n",
    "ax.invert_yaxis()\n",
    "ax.legend(loc='center left', bbox_to_anchor=(1.0, 0.5))"
   ]
  },
  {
   "cell_type": "markdown",
   "metadata": {},
   "source": [
    "グラフから読み取れることはなんですか？"
   ]
  },
  {
   "cell_type": "markdown",
   "metadata": {},
   "source": [
    "その他地域での販売数が上位15のゲームタイトルの地域別販売数を抽出して可視化します。"
   ]
  },
  {
   "cell_type": "code",
   "execution_count": 65,
   "metadata": {},
   "outputs": [
    {
     "data": {
      "text/html": [
       "<div>\n",
       "<style>\n",
       "    .dataframe thead tr:only-child th {\n",
       "        text-align: right;\n",
       "    }\n",
       "\n",
       "    .dataframe thead th {\n",
       "        text-align: left;\n",
       "    }\n",
       "\n",
       "    .dataframe tbody tr th {\n",
       "        vertical-align: top;\n",
       "    }\n",
       "</style>\n",
       "<table border=\"1\" class=\"dataframe\">\n",
       "  <thead>\n",
       "    <tr style=\"text-align: right;\">\n",
       "      <th></th>\n",
       "      <th>NA_Sales</th>\n",
       "      <th>EU_Sales</th>\n",
       "      <th>JP_Sales</th>\n",
       "      <th>Other_Sales</th>\n",
       "    </tr>\n",
       "    <tr>\n",
       "      <th>Name</th>\n",
       "      <th></th>\n",
       "      <th></th>\n",
       "      <th></th>\n",
       "      <th></th>\n",
       "    </tr>\n",
       "  </thead>\n",
       "  <tbody>\n",
       "    <tr>\n",
       "      <th>Wii Sports</th>\n",
       "      <td>41.49</td>\n",
       "      <td>29.02</td>\n",
       "      <td>3.77</td>\n",
       "      <td>8.46</td>\n",
       "    </tr>\n",
       "    <tr>\n",
       "      <th>Mario Kart Wii</th>\n",
       "      <td>15.85</td>\n",
       "      <td>12.88</td>\n",
       "      <td>3.79</td>\n",
       "      <td>3.31</td>\n",
       "    </tr>\n",
       "    <tr>\n",
       "      <th>Wii Sports Resort</th>\n",
       "      <td>15.75</td>\n",
       "      <td>11.01</td>\n",
       "      <td>3.28</td>\n",
       "      <td>2.96</td>\n",
       "    </tr>\n",
       "    <tr>\n",
       "      <th>Nintendogs</th>\n",
       "      <td>9.07</td>\n",
       "      <td>11.00</td>\n",
       "      <td>1.93</td>\n",
       "      <td>2.75</td>\n",
       "    </tr>\n",
       "    <tr>\n",
       "      <th>Grand Theft Auto V</th>\n",
       "      <td>7.01</td>\n",
       "      <td>9.27</td>\n",
       "      <td>0.97</td>\n",
       "      <td>4.14</td>\n",
       "    </tr>\n",
       "  </tbody>\n",
       "</table>\n",
       "</div>"
      ],
      "text/plain": [
       "                    NA_Sales  EU_Sales  JP_Sales  Other_Sales\n",
       "Name                                                         \n",
       "Wii Sports             41.49     29.02      3.77         8.46\n",
       "Mario Kart Wii         15.85     12.88      3.79         3.31\n",
       "Wii Sports Resort      15.75     11.01      3.28         2.96\n",
       "Nintendogs              9.07     11.00      1.93         2.75\n",
       "Grand Theft Auto V      7.01      9.27      0.97         4.14"
      ]
     },
     "execution_count": 65,
     "metadata": {},
     "output_type": "execute_result"
    }
   ],
   "source": [
    "# game_data からその他地域での販売数が上位15のゲームタイトルの\n",
    "# 地域別販売数を抽出してください。結果を top15_other と名付けてください。\n",
    "top15_other = (game_data\n",
    "         .sort_values('Other_Sales', ascending=False)\n",
    "         .head(15)[['Name'] + SALES]\n",
    "         .set_index('Name'))\n",
    "top15_eu.head()"
   ]
  },
  {
   "cell_type": "code",
   "execution_count": 66,
   "metadata": {},
   "outputs": [
    {
     "data": {
      "text/plain": [
       "<matplotlib.legend.Legend at 0x11df0f240>"
      ]
     },
     "execution_count": 66,
     "metadata": {},
     "output_type": "execute_result"
    },
    {
     "data": {
      "image/png": "[encoded data removed]",
      "text/plain": [
       "<matplotlib.figure.Figure at 0x11df0f048>"
      ]
     },
     "metadata": {},
     "output_type": "display_data"
    }
   ],
   "source": [
    "# top15_other をX軸がゲームタイトル、Y軸が地域別の販売数の\n",
    "# 積み上げ横棒グラフとしてプロットしてください。\n",
    "fig, ax = plt.subplots()\n",
    "top15_other.plot.barh(stacked=True, ax=ax)\n",
    "ax.invert_yaxis()\n",
    "ax.legend(loc='center left', bbox_to_anchor=(1.0, 0.5))"
   ]
  },
  {
   "cell_type": "code",
   "execution_count": 67,
   "metadata": {},
   "outputs": [
    {
     "data": {
      "text/plain": [
       "<matplotlib.legend.Legend at 0x11e267be0>"
      ]
     },
     "execution_count": 67,
     "metadata": {},
     "output_type": "execute_result"
    },
    {
     "data": {
      "image/png": "[encoded data removed]",
      "text/plain": [
       "<matplotlib.figure.Figure at 0x11e267dd8>"
      ]
     },
     "metadata": {},
     "output_type": "display_data"
    }
   ],
   "source": [
    "# top15_other をX軸がゲームタイトル、Y軸が地域別販売シェアの\n",
    "# 積み上げ横棒グラフとしてプロットしてください。\n",
    "fig, ax = plt.subplots()\n",
    "(top15_other\n",
    " .apply(lambda x : x / top15_other.sum(axis=1))\n",
    " .plot.barh(stacked=True, ax=ax))\n",
    "ax.invert_yaxis()\n",
    "ax.legend(loc='center left', bbox_to_anchor=(1.0, 0.5))"
   ]
  },
  {
   "cell_type": "markdown",
   "metadata": {},
   "source": [
    "グラフから読み取れることはなんですか？"
   ]
  },
  {
   "cell_type": "markdown",
   "metadata": {},
   "source": [
    "#### ジャンルごとの販売数の地域間の相関"
   ]
  },
  {
   "cell_type": "markdown",
   "metadata": {},
   "source": [
    "ジャンルごとの各地域間の相関係数をヒートマップで確認してみます。"
   ]
  },
  {
   "cell_type": "code",
   "execution_count": 68,
   "metadata": {
    "collapsed": true
   },
   "outputs": [],
   "source": [
    "def corr_between_regions(df):\n",
    "    corr = df.corr()\n",
    "    names = ['NA', 'EU', 'JP', 'Other']\n",
    "    result = pd.DataFrame()\n",
    "    \n",
    "    for i in range(4):\n",
    "        for j in range(i + 1, 4):\n",
    "            result[names[i] + ' - '  + names[j]] = [corr.iloc[i, j]]\n",
    "            \n",
    "    return result"
   ]
  },
  {
   "cell_type": "code",
   "execution_count": 69,
   "metadata": {},
   "outputs": [
    {
     "data": {
      "text/html": [
       "<div>\n",
       "<style>\n",
       "    .dataframe thead tr:only-child th {\n",
       "        text-align: right;\n",
       "    }\n",
       "\n",
       "    .dataframe thead th {\n",
       "        text-align: left;\n",
       "    }\n",
       "\n",
       "    .dataframe tbody tr th {\n",
       "        vertical-align: top;\n",
       "    }\n",
       "</style>\n",
       "<table border=\"1\" class=\"dataframe\">\n",
       "  <thead>\n",
       "    <tr style=\"text-align: right;\">\n",
       "      <th></th>\n",
       "      <th>NA - EU</th>\n",
       "      <th>NA - JP</th>\n",
       "      <th>NA - Other</th>\n",
       "      <th>EU - JP</th>\n",
       "      <th>EU - Other</th>\n",
       "      <th>JP - Other</th>\n",
       "    </tr>\n",
       "    <tr>\n",
       "      <th>Genre</th>\n",
       "      <th></th>\n",
       "      <th></th>\n",
       "      <th></th>\n",
       "      <th></th>\n",
       "      <th></th>\n",
       "      <th></th>\n",
       "    </tr>\n",
       "  </thead>\n",
       "  <tbody>\n",
       "    <tr>\n",
       "      <th>Action</th>\n",
       "      <td>0.811324</td>\n",
       "      <td>0.253027</td>\n",
       "      <td>0.702575</td>\n",
       "      <td>0.256354</td>\n",
       "      <td>0.574444</td>\n",
       "      <td>0.194505</td>\n",
       "    </tr>\n",
       "    <tr>\n",
       "      <th>Adventure</th>\n",
       "      <td>0.778866</td>\n",
       "      <td>0.079872</td>\n",
       "      <td>0.798277</td>\n",
       "      <td>0.060069</td>\n",
       "      <td>0.905788</td>\n",
       "      <td>0.090911</td>\n",
       "    </tr>\n",
       "    <tr>\n",
       "      <th>Fighting</th>\n",
       "      <td>0.789932</td>\n",
       "      <td>0.601879</td>\n",
       "      <td>0.664431</td>\n",
       "      <td>0.463263</td>\n",
       "      <td>0.694936</td>\n",
       "      <td>0.378778</td>\n",
       "    </tr>\n",
       "    <tr>\n",
       "      <th>Misc</th>\n",
       "      <td>0.787905</td>\n",
       "      <td>0.311423</td>\n",
       "      <td>0.778366</td>\n",
       "      <td>0.542882</td>\n",
       "      <td>0.829368</td>\n",
       "      <td>0.396555</td>\n",
       "    </tr>\n",
       "    <tr>\n",
       "      <th>Platform</th>\n",
       "      <td>0.931409</td>\n",
       "      <td>0.855825</td>\n",
       "      <td>0.876973</td>\n",
       "      <td>0.849253</td>\n",
       "      <td>0.940878</td>\n",
       "      <td>0.797224</td>\n",
       "    </tr>\n",
       "  </tbody>\n",
       "</table>\n",
       "</div>"
      ],
      "text/plain": [
       "            NA - EU   NA - JP  NA - Other   EU - JP  EU - Other  JP - Other\n",
       "Genre                                                                      \n",
       "Action     0.811324  0.253027    0.702575  0.256354    0.574444    0.194505\n",
       "Adventure  0.778866  0.079872    0.798277  0.060069    0.905788    0.090911\n",
       "Fighting   0.789932  0.601879    0.664431  0.463263    0.694936    0.378778\n",
       "Misc       0.787905  0.311423    0.778366  0.542882    0.829368    0.396555\n",
       "Platform   0.931409  0.855825    0.876973  0.849253    0.940878    0.797224"
      ]
     },
     "execution_count": 69,
     "metadata": {},
     "output_type": "execute_result"
    }
   ],
   "source": [
    "corr_by_genre = (game_data\n",
    "        .groupby('Genre')[SALES]\n",
    "        .apply(corr_between_regions)\n",
    "        .reset_index(level=1, drop=True))\n",
    "corr_by_genre.head()"
   ]
  },
  {
   "cell_type": "code",
   "execution_count": 70,
   "metadata": {},
   "outputs": [
    {
     "data": {
      "text/plain": [
       "<matplotlib.axes._subplots.AxesSubplot at 0x11e2a4a90>"
      ]
     },
     "execution_count": 70,
     "metadata": {},
     "output_type": "execute_result"
    },
    {
     "data": {
      "image/png": "[encoded data removed]",
      "text/plain": [
       "<matplotlib.figure.Figure at 0x11cdeaef0>"
      ]
     },
     "metadata": {},
     "output_type": "display_data"
    }
   ],
   "source": [
    "sns.heatmap(corr_by_genre, annot=True, fmt=\".2f\")"
   ]
  },
  {
   "cell_type": "markdown",
   "metadata": {},
   "source": [
    "#### ジャンルごとの販売数の推移"
   ]
  },
  {
   "cell_type": "markdown",
   "metadata": {},
   "source": [
    "ジャンルごとの全世界での販売数を時系列としてプロットします。"
   ]
  },
  {
   "cell_type": "code",
   "execution_count": 71,
   "metadata": {},
   "outputs": [
    {
     "data": {
      "text/html": [
       "<div>\n",
       "<style>\n",
       "    .dataframe thead tr:only-child th {\n",
       "        text-align: right;\n",
       "    }\n",
       "\n",
       "    .dataframe thead th {\n",
       "        text-align: left;\n",
       "    }\n",
       "\n",
       "    .dataframe tbody tr th {\n",
       "        vertical-align: top;\n",
       "    }\n",
       "</style>\n",
       "<table border=\"1\" class=\"dataframe\">\n",
       "  <thead>\n",
       "    <tr style=\"text-align: right;\">\n",
       "      <th></th>\n",
       "      <th>Genre</th>\n",
       "      <th>Year</th>\n",
       "      <th>Global_Sales</th>\n",
       "    </tr>\n",
       "  </thead>\n",
       "  <tbody>\n",
       "    <tr>\n",
       "      <th>0</th>\n",
       "      <td>Action</td>\n",
       "      <td>2001</td>\n",
       "      <td>59.39</td>\n",
       "    </tr>\n",
       "    <tr>\n",
       "      <th>1</th>\n",
       "      <td>Action</td>\n",
       "      <td>2002</td>\n",
       "      <td>86.75</td>\n",
       "    </tr>\n",
       "    <tr>\n",
       "      <th>2</th>\n",
       "      <td>Action</td>\n",
       "      <td>2003</td>\n",
       "      <td>67.93</td>\n",
       "    </tr>\n",
       "    <tr>\n",
       "      <th>3</th>\n",
       "      <td>Action</td>\n",
       "      <td>2004</td>\n",
       "      <td>76.26</td>\n",
       "    </tr>\n",
       "    <tr>\n",
       "      <th>4</th>\n",
       "      <td>Action</td>\n",
       "      <td>2005</td>\n",
       "      <td>85.66</td>\n",
       "    </tr>\n",
       "    <tr>\n",
       "      <th>5</th>\n",
       "      <td>Action</td>\n",
       "      <td>2006</td>\n",
       "      <td>66.58</td>\n",
       "    </tr>\n",
       "    <tr>\n",
       "      <th>6</th>\n",
       "      <td>Action</td>\n",
       "      <td>2007</td>\n",
       "      <td>106.50</td>\n",
       "    </tr>\n",
       "    <tr>\n",
       "      <th>7</th>\n",
       "      <td>Action</td>\n",
       "      <td>2008</td>\n",
       "      <td>136.39</td>\n",
       "    </tr>\n",
       "    <tr>\n",
       "      <th>8</th>\n",
       "      <td>Action</td>\n",
       "      <td>2009</td>\n",
       "      <td>139.36</td>\n",
       "    </tr>\n",
       "    <tr>\n",
       "      <th>9</th>\n",
       "      <td>Action</td>\n",
       "      <td>2010</td>\n",
       "      <td>117.64</td>\n",
       "    </tr>\n",
       "    <tr>\n",
       "      <th>10</th>\n",
       "      <td>Action</td>\n",
       "      <td>2011</td>\n",
       "      <td>118.87</td>\n",
       "    </tr>\n",
       "    <tr>\n",
       "      <th>11</th>\n",
       "      <td>Action</td>\n",
       "      <td>2012</td>\n",
       "      <td>122.01</td>\n",
       "    </tr>\n",
       "    <tr>\n",
       "      <th>12</th>\n",
       "      <td>Action</td>\n",
       "      <td>2013</td>\n",
       "      <td>125.22</td>\n",
       "    </tr>\n",
       "    <tr>\n",
       "      <th>13</th>\n",
       "      <td>Action</td>\n",
       "      <td>2014</td>\n",
       "      <td>99.02</td>\n",
       "    </tr>\n",
       "    <tr>\n",
       "      <th>14</th>\n",
       "      <td>Action</td>\n",
       "      <td>2015</td>\n",
       "      <td>70.70</td>\n",
       "    </tr>\n",
       "    <tr>\n",
       "      <th>15</th>\n",
       "      <td>Adventure</td>\n",
       "      <td>2001</td>\n",
       "      <td>9.12</td>\n",
       "    </tr>\n",
       "    <tr>\n",
       "      <th>16</th>\n",
       "      <td>Adventure</td>\n",
       "      <td>2002</td>\n",
       "      <td>11.05</td>\n",
       "    </tr>\n",
       "    <tr>\n",
       "      <th>17</th>\n",
       "      <td>Adventure</td>\n",
       "      <td>2003</td>\n",
       "      <td>2.14</td>\n",
       "    </tr>\n",
       "    <tr>\n",
       "      <th>18</th>\n",
       "      <td>Adventure</td>\n",
       "      <td>2004</td>\n",
       "      <td>8.51</td>\n",
       "    </tr>\n",
       "    <tr>\n",
       "      <th>19</th>\n",
       "      <td>Adventure</td>\n",
       "      <td>2005</td>\n",
       "      <td>8.53</td>\n",
       "    </tr>\n",
       "  </tbody>\n",
       "</table>\n",
       "</div>"
      ],
      "text/plain": [
       "        Genre  Year  Global_Sales\n",
       "0      Action  2001         59.39\n",
       "1      Action  2002         86.75\n",
       "2      Action  2003         67.93\n",
       "3      Action  2004         76.26\n",
       "4      Action  2005         85.66\n",
       "5      Action  2006         66.58\n",
       "6      Action  2007        106.50\n",
       "7      Action  2008        136.39\n",
       "8      Action  2009        139.36\n",
       "9      Action  2010        117.64\n",
       "10     Action  2011        118.87\n",
       "11     Action  2012        122.01\n",
       "12     Action  2013        125.22\n",
       "13     Action  2014         99.02\n",
       "14     Action  2015         70.70\n",
       "15  Adventure  2001          9.12\n",
       "16  Adventure  2002         11.05\n",
       "17  Adventure  2003          2.14\n",
       "18  Adventure  2004          8.51\n",
       "19  Adventure  2005          8.53"
      ]
     },
     "execution_count": 71,
     "metadata": {},
     "output_type": "execute_result"
    }
   ],
   "source": [
    "genre_year = (game_data.pivot_table('Global_Sales', ['Genre', 'Year'], aggfunc='sum')\n",
    "              .reset_index())\n",
    "genre_year.head(20)"
   ]
  },
  {
   "cell_type": "code",
   "execution_count": 72,
   "metadata": {},
   "outputs": [
    {
     "data": {
      "image/png": "[encoded data removed]",
      "text/plain": [
       "<matplotlib.figure.Figure at 0x11e761080>"
      ]
     },
     "metadata": {},
     "output_type": "display_data"
    }
   ],
   "source": [
    "g = sns.FacetGrid(genre_year, col='Genre', hue='Genre', col_wrap=4)\n",
    "g.map(plt.plot, 'Year', 'Global_Sales');"
   ]
  }
 ],
 "metadata": {
  "kernelspec": {
   "display_name": "Python 3",
   "language": "python",
   "name": "python3"
  },
  "language_info": {
   "codemirror_mode": {
    "name": "ipython",
    "version": 3
   },
   "file_extension": ".py",
   "mimetype": "text/x-python",
   "name": "python",
   "nbconvert_exporter": "python",
   "pygments_lexer": "ipython3",
   "version": "3.4.3"
  }
 },
 "nbformat": 4,
 "nbformat_minor": 2
}
