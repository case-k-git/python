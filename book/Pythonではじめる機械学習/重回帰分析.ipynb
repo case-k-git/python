{
 "cells": [
  {
   "cell_type": "code",
   "execution_count": 2,
   "metadata": {},
   "outputs": [],
   "source": [
    "#ライブラり\n",
    "import numpy as np\n",
    "import matplotlib.pyplot as plt\n",
    "import pandas as pd\n",
    "import seaborn as sns\n",
    "sns.set()\n",
    "import mglearn\n",
    "%matplotlib inline\n",
    "import matplotlib.pyplot as plt\n",
    "\n",
    "from sklearn.model_selection import train_test_split\n",
    "make_forge = mglearn.datasets.make_forge()"
   ]
  },
  {
   "cell_type": "markdown",
   "metadata": {},
   "source": [
    "### 重回帰分析\n",
    "```\n",
    "date , areaを引数に予測するモデルを構築する\n",
    "```"
   ]
  },
  {
   "cell_type": "markdown",
   "metadata": {},
   "source": [
    "```\n",
    "data = {area, day_type, hour, male count, female count}\n",
    "```"
   ]
  },
  {
   "cell_type": "code",
   "execution_count": 25,
   "metadata": {},
   "outputs": [],
   "source": [
    "from sklearn.linear_model import LinearRegression\n",
    "X, y = mglearn.datasets.make_wave(n_samples=60)"
   ]
  },
  {
   "cell_type": "code",
   "execution_count": 31,
   "metadata": {},
   "outputs": [
    {
     "name": "stdout",
     "output_type": "stream",
     "text": [
      "(60, 1)\n",
      "(60,)\n"
     ]
    }
   ],
   "source": [
    "print(X.shape)\n",
    "print(y.shape)"
   ]
  },
  {
   "cell_type": "code",
   "execution_count": 28,
   "metadata": {},
   "outputs": [
    {
     "data": {
      "text/plain": [
       "array([-1.18073311,  0.50015912,  0.13772889,  1.17396178, -1.32035898,\n",
       "       -2.37364735, -0.70117304,  1.20319981,  0.29262945,  0.44971554,\n",
       "       -0.48647165,  1.39515571,  1.0738403 , -1.30838148, -1.27708305,\n",
       "       -0.94575843, -0.32691082,  0.26134393, -1.25635546, -0.74646948,\n",
       "        0.96250584, -0.75240909, -0.17851354,  0.13368988, -0.38575444,\n",
       "        0.79900059, -1.11948406,  0.97923163,  0.65823236, -0.08137001,\n",
       "       -0.72142625, -1.0767626 , -0.83684971,  0.70945882,  0.95081838,\n",
       "        0.38109799, -0.19612826, -0.9139074 ,  0.81263817, -0.93416482,\n",
       "       -1.7113156 , -0.32309571, -0.44713127,  1.19812891, -0.75150632,\n",
       "        0.40012342, -0.02565504,  0.77613985,  0.23938228, -1.58831973,\n",
       "        0.73141352,  0.25092544,  1.01581268,  1.28948157,  0.65213403,\n",
       "        0.82614241, -1.7240941 , -1.54664568, -1.03731593, -0.49131681])"
      ]
     },
     "execution_count": 28,
     "metadata": {},
     "output_type": "execute_result"
    }
   ],
   "source": [
    "y"
   ]
  },
  {
   "cell_type": "code",
   "execution_count": 29,
   "metadata": {},
   "outputs": [],
   "source": [
    "### データの分割\n",
    "X_train, X_test, y_train, y_test = train_test_split(X, y, random_state=42)\n",
    "lr = LinearRegression().fit(X_train,y_train)"
   ]
  },
  {
   "cell_type": "code",
   "execution_count": 34,
   "metadata": {},
   "outputs": [
    {
     "name": "stdout",
     "output_type": "stream",
     "text": [
      "(45, 1)\n",
      "(15, 1)\n"
     ]
    }
   ],
   "source": [
    "print(X_train.shape) \n",
    "print(X_test.shape) "
   ]
  },
  {
   "cell_type": "code",
   "execution_count": 4,
   "metadata": {
    "scrolled": true
   },
   "outputs": [
    {
     "name": "stdout",
     "output_type": "stream",
     "text": [
      "傾き：[0.39390555]\n"
     ]
    }
   ],
   "source": [
    "print(\"傾き：{}\".format(lr.coef_))"
   ]
  },
  {
   "cell_type": "code",
   "execution_count": 5,
   "metadata": {
    "scrolled": true
   },
   "outputs": [
    {
     "name": "stdout",
     "output_type": "stream",
     "text": [
      "切片：-0.031804343026759746\n"
     ]
    }
   ],
   "source": [
    "print(\"切片：{}\".format(lr.intercept_))"
   ]
  },
  {
   "cell_type": "code",
   "execution_count": 19,
   "metadata": {
    "scrolled": true
   },
   "outputs": [
    {
     "name": "stdout",
     "output_type": "stream",
     "text": [
      "予測：[-0.3283204  -0.84483835 -0.49358667  0.35230624 -0.71167167  0.19957573\n",
      "  1.02910669  0.07859229  0.75390167 -0.75032857 -0.47681266  1.07802761\n",
      " -0.8104986   0.2013684   1.00692209]\n"
     ]
    }
   ],
   "source": [
    "y_pted = lr.predict(X_test)\n",
    "print(\"予測：{}\".format(y_pted ))"
   ]
  },
  {
   "cell_type": "code",
   "execution_count": 21,
   "metadata": {},
   "outputs": [
    {
     "name": "stdout",
     "output_type": "stream",
     "text": [
      "平均二乗誤差：0.3947074503907322\n"
     ]
    }
   ],
   "source": [
    "from sklearn.metrics import mean_squared_error\n",
    "print(\"平均二乗誤差：{}\".format(mean_squared_error(y_test,y_pted)))"
   ]
  },
  {
   "cell_type": "code",
   "execution_count": 6,
   "metadata": {
    "scrolled": true
   },
   "outputs": [
    {
     "name": "stdout",
     "output_type": "stream",
     "text": [
      "Train score:0.67\n",
      "Test set score:0.66\n"
     ]
    }
   ],
   "source": [
    "print(\"Train score:{:.2f}\".format(lr.score(X_train,y_train)))\n",
    "print(\"Test set score:{:.2f}\".format(lr.score(X_test,y_test)))"
   ]
  },
  {
   "cell_type": "markdown",
   "metadata": {},
   "source": [
    "#### 交差検証"
   ]
  },
  {
   "cell_type": "code",
   "execution_count": 23,
   "metadata": {
    "scrolled": false
   },
   "outputs": [
    {
     "name": "stdout",
     "output_type": "stream",
     "text": [
      "0.6628799035358743\n",
      "0.6889147320764262\n"
     ]
    }
   ],
   "source": [
    "X ,y = mglearn.datasets.make_wave(n_samples=60)\n",
    "X_trainval, X_test, y_trainval, y_test = train_test_split(\n",
    "    X,y,random_state=0)\n",
    "X_train, X_valid, y_train, y_valid = train_test_split(\n",
    "    X_trainval,y_trainval,random_state=0)\n",
    "\n",
    "logreg = LinearRegression().fit(X_train,y_train)\n",
    "print(logreg.score(X_valid , y_valid))\n",
    "print(logreg.score(X_test , y_test))"
   ]
  },
  {
   "cell_type": "code",
   "execution_count": null,
   "metadata": {},
   "outputs": [],
   "source": []
  },
  {
   "cell_type": "code",
   "execution_count": null,
   "metadata": {},
   "outputs": [],
   "source": []
  },
  {
   "cell_type": "markdown",
   "metadata": {},
   "source": [
    "#### グリッドサーチ"
   ]
  },
  {
   "cell_type": "code",
   "execution_count": 24,
   "metadata": {},
   "outputs": [
    {
     "ename": "NameError",
     "evalue": "name 'feature_importances_corr_abvalue' is not defined",
     "output_type": "error",
     "traceback": [
      "\u001b[0;31m---------------------------------------------------------------------------\u001b[0m",
      "\u001b[0;31mNameError\u001b[0m                                 Traceback (most recent call last)",
      "\u001b[0;32m<ipython-input-24-f83debfac150>\u001b[0m in \u001b[0;36m<module>\u001b[0;34m()\u001b[0m\n\u001b[1;32m      4\u001b[0m \u001b[0;34m\u001b[0m\u001b[0m\n\u001b[1;32m      5\u001b[0m \u001b[0mbest_score\u001b[0m \u001b[0;34m=\u001b[0m \u001b[0;36m0\u001b[0m\u001b[0;34m\u001b[0m\u001b[0m\n\u001b[0;32m----> 6\u001b[0;31m \u001b[0;32mfor\u001b[0m \u001b[0mi\u001b[0m \u001b[0;32min\u001b[0m \u001b[0mrange\u001b[0m\u001b[0;34m(\u001b[0m\u001b[0mlen\u001b[0m\u001b[0;34m(\u001b[0m\u001b[0mfeature_importances_corr_abvalue\u001b[0m\u001b[0;34m)\u001b[0m\u001b[0;34m)\u001b[0m\u001b[0;34m:\u001b[0m\u001b[0;34m\u001b[0m\u001b[0m\n\u001b[0m\u001b[1;32m      7\u001b[0m     \u001b[0;31m# feature 1 12 123\u001b[0m\u001b[0;34m\u001b[0m\u001b[0;34m\u001b[0m\u001b[0m\n\u001b[1;32m      8\u001b[0m     \u001b[0mX_importances\u001b[0m \u001b[0;34m=\u001b[0m \u001b[0mX\u001b[0m\u001b[0;34m.\u001b[0m\u001b[0miloc\u001b[0m\u001b[0;34m[\u001b[0m\u001b[0;34m:\u001b[0m\u001b[0;34m,\u001b[0m\u001b[0;36m0\u001b[0m\u001b[0;34m:\u001b[0m\u001b[0mi\u001b[0m\u001b[0;34m+\u001b[0m\u001b[0;36m1\u001b[0m\u001b[0;34m]\u001b[0m\u001b[0;34m\u001b[0m\u001b[0m\n",
      "\u001b[0;31mNameError\u001b[0m: name 'feature_importances_corr_abvalue' is not defined"
     ]
    }
   ],
   "source": [
    "# 最適な説明変数数を探索\n",
    "#X = boston_df[feature_importances_corr_abvalue[\"feature\"]]\n",
    "#y = boston_df[\"target\"]\n",
    "\n",
    "best_score = 0\n",
    "for i in range(len(feature_importances_corr_abvalue)):\n",
    "    # feature 1 12 123\n",
    "    X_importances = X.iloc[:,0:i+1]\n",
    "    X_train, X_test, y_train, y_test = train_test_split(X_importances,y,random_state=42)\n",
    "    lr = LinearRegression().fit(X_train,y_train)\n",
    "    print(\"test score process:{:.3f}\".format(lr.score(X_test,y_test)))\n",
    "    if lr.score(X_test,y_test) > best_score:\n",
    "        best_score = lr.score(X_test,y_test)\n",
    "        best_feature = X_importances.keys()\n",
    "        best_train_score = lr.score(X_train,y_train)\n",
    "        best_test_score = lr.score(X_test,y_test)\n",
    "print(\"best score：{}\".format(best_score))\n",
    "print(\"best feature：\\n{}\".format(best_feature))\n",
    "print(\"best feature length：\\n{}\".format(len(best_feature)))\n",
    "print(\"best train score:{:.3f}\".format(best_train_score))\n",
    "print(\"best test score:{:.3f}\".format(best_test_score))"
   ]
  },
  {
   "cell_type": "code",
   "execution_count": 37,
   "metadata": {},
   "outputs": [
    {
     "data": {
      "text/plain": [
       "5339456733"
      ]
     },
     "execution_count": 37,
     "metadata": {},
     "output_type": "execute_result"
    }
   ],
   "source": [
    "5339456733"
   ]
  },
  {
   "cell_type": "code",
   "execution_count": 40,
   "metadata": {},
   "outputs": [],
   "source": [
    "    def get_point_by_km_mesh(meshcode):\n",
    "        \"\"\"\n",
    "        メッシュコードから南西のポイントを算出して返却する\n",
    "        \"\"\"\n",
    "        # 1, 2, 3次メッシュコードを抽出\n",
    "        first = str(meshcode)[0:4]\n",
    "        second = str(meshcode)[4:6]\n",
    "        third = str(meshcode)[6:8]\n",
    "\n",
    "        # メッシュ南西の緯度経度を算出\n",
    "        lat = (((int(first[0:2]) * 80) +\n",
    "                (int(second[0]) * 10) +\n",
    "                int(third[0])) * 30 / 3600)\n",
    "        lon = (((int(first[2:4]) * 80) +\n",
    "                (int(second[-1]) * 10) +\n",
    "                int(third[-1])) * 45 / 3600 + 100)\n",
    "        print(int(first[0:2]) * 80)\n",
    "        print(int(second[0]) * 10)\n",
    "        print((int(third[0])) * 30 / 3600)\n",
    "        return [lon, lat]"
   ]
  },
  {
   "cell_type": "code",
   "execution_count": 41,
   "metadata": {},
   "outputs": [
    {
     "name": "stdout",
     "output_type": "stream",
     "text": [
      "4240\n",
      "40\n",
      "0.05\n"
     ]
    }
   ],
   "source": [
    "a = get_point_by_km_mesh(53394567)"
   ]
  },
  {
   "cell_type": "code",
   "execution_count": 39,
   "metadata": {},
   "outputs": [
    {
     "data": {
      "text/plain": [
       "[139.7125, 35.71666666666667]"
      ]
     },
     "execution_count": 39,
     "metadata": {},
     "output_type": "execute_result"
    }
   ],
   "source": [
    "a"
   ]
  },
  {
   "cell_type": "code",
   "execution_count": 42,
   "metadata": {},
   "outputs": [],
   "source": [
    "lat = 35.724"
   ]
  },
  {
   "cell_type": "code",
   "execution_count": 44,
   "metadata": {},
   "outputs": [
    {
     "data": {
      "text/plain": [
       "53.575"
      ]
     },
     "execution_count": 44,
     "metadata": {},
     "output_type": "execute_result"
    }
   ],
   "source": [
    "int(lat * 60)/40"
   ]
  },
  {
   "cell_type": "code",
   "execution_count": 45,
   "metadata": {},
   "outputs": [
    {
     "data": {
      "text/plain": [
       "35.71666666666667"
      ]
     },
     "execution_count": 45,
     "metadata": {},
     "output_type": "execute_result"
    }
   ],
   "source": [
    "(53.575 * 40) /60"
   ]
  },
  {
   "cell_type": "code",
   "execution_count": 47,
   "metadata": {},
   "outputs": [
    {
     "data": {
      "text/plain": [
       "23.4399999999996"
      ]
     },
     "execution_count": 47,
     "metadata": {},
     "output_type": "execute_result"
    }
   ],
   "source": [
    "(lat*60)% 40"
   ]
  },
  {
   "cell_type": "code",
   "execution_count": null,
   "metadata": {},
   "outputs": [],
   "source": [
    "23.4399999999996 "
   ]
  },
  {
   "cell_type": "code",
   "execution_count": 52,
   "metadata": {},
   "outputs": [],
   "source": [
    "lat = 36.065\n",
    "long = 140.0125"
   ]
  },
  {
   "cell_type": "code",
   "execution_count": 53,
   "metadata": {},
   "outputs": [],
   "source": [
    "def get_mesh_code(lat, long):\n",
    "    primary_mesh_1 = int((lat*60/40))\n",
    "    primary_mesh_2 = int((long-100))\n",
    "    #print(\"primary_mesh：{}\".format(str(primary_mesh_1)+str(primary_mesh_2)))\n",
    "    c_lat = round((lat*60) % 40,2)\n",
    "    c_long = round(long - primary_mesh_2 -100,5)\n",
    "    secondary_mesh_1 = int(c_lat/5)\n",
    "    secondary_mesh_2 = int((c_long*60)/7.5)\n",
    "    #print(\"secondary_mesh：{}\".format(str(secondary_mesh_1)+str(secondary_mesh_2 )))\n",
    "    c_lat = round(c_lat%5,2)\n",
    "    c_long = round((c_long*60)%7.5,3)\n",
    "    tertiary_mesh_1= int((c_lat*60)/30)\n",
    "    tertiary_mesh_2 = int((c_long *60)/45)\n",
    "    #print(\"tertiary_mesh：{}\".format(str(tertiary_mesh_1)+str(tertiary_mesh_2)))\n",
    "    c_lat = round((c_lat*60)%30,1)\n",
    "    #print(c_lat)\n",
    "    c_long = round((c_long*60)%45,1)\n",
    "    #print(c_long)\n",
    "    c_lat_1 = int(c_lat/15)\n",
    "    c_lat_2 = round(c_lat%15,1)\n",
    "    c_long_1 = int(c_long/22.5)\n",
    "    c_long_2 = round(c_long%22.5,1)\n",
    "    fourthy_mesh = c_lat_1*2+ c_long_1 +1\n",
    "    #print(\"fourthy_mesh：{}\".format(str(fourthy_mesh )))\n",
    "    c_lat_1 = int(c_lat_2/7.5)\n",
    "    c_long_1 =  int(c_long_2 /11.25)\n",
    "    fifth_mesh = c_lat_1*2+ c_long_1+1\n",
    "    #print(\"fifth_mesh：{}\".format(str(fifth_mesh)))\n",
    "    mesh_code = str(primary_mesh_1)+str(primary_mesh_2)+str(secondary_mesh_1)+str(secondary_mesh_2)+str(tertiary_mesh_1)+str(tertiary_mesh_2)+str(fourthy_mesh )+str(fifth_mesh)\n",
    "    return mesh_code"
   ]
  },
  {
   "cell_type": "code",
   "execution_count": 54,
   "metadata": {},
   "outputs": [
    {
     "data": {
      "text/plain": [
       "'5440007133'"
      ]
     },
     "execution_count": 54,
     "metadata": {},
     "output_type": "execute_result"
    }
   ],
   "source": [
    "a = get_mesh_code(lat, long)\n",
    "a"
   ]
  },
  {
   "cell_type": "code",
   "execution_count": 55,
   "metadata": {},
   "outputs": [],
   "source": [
    "from math import pi\n",
    "from math import e\n",
    "from math import atan\n",
    "\n",
    "def tile2latlon(x, y, z):\n",
    "    lon = (x / 2.0**z) * 360 - 180 # 経度（東経）\n",
    "    mapy = (y / 2.0**z) * 2 * pi - pi\n",
    "    lat = 2 * atan(e ** (- mapy)) * 180 / pi - 90 # 緯度（北緯）\n",
    "    print [lon,lat]"
   ]
  },
  {
   "cell_type": "code",
   "execution_count": null,
   "metadata": {},
   "outputs": [],
   "source": []
  }
 ],
 "metadata": {
  "kernelspec": {
   "display_name": "Python 3",
   "language": "python",
   "name": "python3"
  },
  "language_info": {
   "codemirror_mode": {
    "name": "ipython",
    "version": 3
   },
   "file_extension": ".py",
   "mimetype": "text/x-python",
   "name": "python",
   "nbconvert_exporter": "python",
   "pygments_lexer": "ipython3",
   "version": "3.4.3"
  }
 },
 "nbformat": 4,
 "nbformat_minor": 2
}
