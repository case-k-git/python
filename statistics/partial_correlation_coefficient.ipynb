{
 "cells": [
  {
   "cell_type": "code",
   "execution_count": 1,
   "metadata": {},
   "outputs": [],
   "source": [
    "import pandas as pd\n",
    "import numpy as np"
   ]
  },
  {
   "cell_type": "markdown",
   "metadata": {},
   "source": [
    "##### 偏相関係数"
   ]
  },
  {
   "cell_type": "markdown",
   "metadata": {},
   "source": [
    "#### データについて\n",
    "```\n",
    "前回用いたサンプルデータは、基本的にはa1-a7が0or1のみの二値で構成される事実上のカテゴリカルデータ*1で、cvも\"Yes\"or\"No\"のみの二値で構成されるカテゴリカルデータです。\n",
    "記事とデータは以下の記事から取得しました。\n",
    "```\n",
    "https://tjo.hatenablog.com/entry/2013/08/15/001338\n",
    "https://github.com/ozt-ca/tjo.hatenablog.samples/blob/master/r_samples/public_lib/jp/conflict_sample.txt"
   ]
  },
  {
   "cell_type": "code",
   "execution_count": 21,
   "metadata": {},
   "outputs": [
    {
     "data": {
      "text/html": [
       "<div>\n",
       "<style scoped>\n",
       "    .dataframe tbody tr th:only-of-type {\n",
       "        vertical-align: middle;\n",
       "    }\n",
       "\n",
       "    .dataframe tbody tr th {\n",
       "        vertical-align: top;\n",
       "    }\n",
       "\n",
       "    .dataframe thead th {\n",
       "        text-align: right;\n",
       "    }\n",
       "</style>\n",
       "<table border=\"1\" class=\"dataframe\">\n",
       "  <thead>\n",
       "    <tr style=\"text-align: right;\">\n",
       "      <th></th>\n",
       "      <th>a1</th>\n",
       "      <th>a2</th>\n",
       "      <th>a3</th>\n",
       "      <th>a4</th>\n",
       "      <th>a5</th>\n",
       "      <th>a6</th>\n",
       "      <th>a7</th>\n",
       "      <th>cv</th>\n",
       "    </tr>\n",
       "  </thead>\n",
       "  <tbody>\n",
       "    <tr>\n",
       "      <th>0</th>\n",
       "      <td>0</td>\n",
       "      <td>1</td>\n",
       "      <td>0</td>\n",
       "      <td>1</td>\n",
       "      <td>0</td>\n",
       "      <td>0</td>\n",
       "      <td>0</td>\n",
       "      <td>No</td>\n",
       "    </tr>\n",
       "    <tr>\n",
       "      <th>1</th>\n",
       "      <td>0</td>\n",
       "      <td>0</td>\n",
       "      <td>1</td>\n",
       "      <td>1</td>\n",
       "      <td>0</td>\n",
       "      <td>0</td>\n",
       "      <td>1</td>\n",
       "      <td>No</td>\n",
       "    </tr>\n",
       "    <tr>\n",
       "      <th>2</th>\n",
       "      <td>1</td>\n",
       "      <td>1</td>\n",
       "      <td>0</td>\n",
       "      <td>1</td>\n",
       "      <td>0</td>\n",
       "      <td>0</td>\n",
       "      <td>0</td>\n",
       "      <td>No</td>\n",
       "    </tr>\n",
       "    <tr>\n",
       "      <th>3</th>\n",
       "      <td>0</td>\n",
       "      <td>1</td>\n",
       "      <td>1</td>\n",
       "      <td>1</td>\n",
       "      <td>0</td>\n",
       "      <td>0</td>\n",
       "      <td>1</td>\n",
       "      <td>No</td>\n",
       "    </tr>\n",
       "    <tr>\n",
       "      <th>4</th>\n",
       "      <td>1</td>\n",
       "      <td>1</td>\n",
       "      <td>1</td>\n",
       "      <td>1</td>\n",
       "      <td>0</td>\n",
       "      <td>0</td>\n",
       "      <td>0</td>\n",
       "      <td>No</td>\n",
       "    </tr>\n",
       "  </tbody>\n",
       "</table>\n",
       "</div>"
      ],
      "text/plain": [
       "   a1  a2  a3  a4  a5  a6  a7  cv\n",
       "0   0   1   0   1   0   0   0  No\n",
       "1   0   0   1   1   0   0   1  No\n",
       "2   1   1   0   1   0   0   0  No\n",
       "3   0   1   1   1   0   0   1  No\n",
       "4   1   1   1   1   0   0   0  No"
      ]
     },
     "execution_count": 21,
     "metadata": {},
     "output_type": "execute_result"
    }
   ],
   "source": [
    "cv_data = pd.read_csv(\"./data/Partial_correlation.csv\")\n",
    "cv_data.head()"
   ]
  },
  {
   "cell_type": "code",
   "execution_count": 22,
   "metadata": {},
   "outputs": [],
   "source": [
    "def conv_dummy(x):\n",
    "    if x == \"No\":\n",
    "        return 0\n",
    "    else:\n",
    "        return 1"
   ]
  },
  {
   "cell_type": "code",
   "execution_count": 23,
   "metadata": {},
   "outputs": [
    {
     "data": {
      "text/html": [
       "<div>\n",
       "<style scoped>\n",
       "    .dataframe tbody tr th:only-of-type {\n",
       "        vertical-align: middle;\n",
       "    }\n",
       "\n",
       "    .dataframe tbody tr th {\n",
       "        vertical-align: top;\n",
       "    }\n",
       "\n",
       "    .dataframe thead th {\n",
       "        text-align: right;\n",
       "    }\n",
       "</style>\n",
       "<table border=\"1\" class=\"dataframe\">\n",
       "  <thead>\n",
       "    <tr style=\"text-align: right;\">\n",
       "      <th></th>\n",
       "      <th>a1</th>\n",
       "      <th>a2</th>\n",
       "      <th>a3</th>\n",
       "      <th>a4</th>\n",
       "      <th>a5</th>\n",
       "      <th>a6</th>\n",
       "      <th>a7</th>\n",
       "      <th>cv</th>\n",
       "    </tr>\n",
       "  </thead>\n",
       "  <tbody>\n",
       "    <tr>\n",
       "      <th>0</th>\n",
       "      <td>0</td>\n",
       "      <td>1</td>\n",
       "      <td>0</td>\n",
       "      <td>1</td>\n",
       "      <td>0</td>\n",
       "      <td>0</td>\n",
       "      <td>0</td>\n",
       "      <td>0</td>\n",
       "    </tr>\n",
       "    <tr>\n",
       "      <th>1</th>\n",
       "      <td>0</td>\n",
       "      <td>0</td>\n",
       "      <td>1</td>\n",
       "      <td>1</td>\n",
       "      <td>0</td>\n",
       "      <td>0</td>\n",
       "      <td>1</td>\n",
       "      <td>0</td>\n",
       "    </tr>\n",
       "    <tr>\n",
       "      <th>2</th>\n",
       "      <td>1</td>\n",
       "      <td>1</td>\n",
       "      <td>0</td>\n",
       "      <td>1</td>\n",
       "      <td>0</td>\n",
       "      <td>0</td>\n",
       "      <td>0</td>\n",
       "      <td>0</td>\n",
       "    </tr>\n",
       "    <tr>\n",
       "      <th>3</th>\n",
       "      <td>0</td>\n",
       "      <td>1</td>\n",
       "      <td>1</td>\n",
       "      <td>1</td>\n",
       "      <td>0</td>\n",
       "      <td>0</td>\n",
       "      <td>1</td>\n",
       "      <td>0</td>\n",
       "    </tr>\n",
       "    <tr>\n",
       "      <th>4</th>\n",
       "      <td>1</td>\n",
       "      <td>1</td>\n",
       "      <td>1</td>\n",
       "      <td>1</td>\n",
       "      <td>0</td>\n",
       "      <td>0</td>\n",
       "      <td>0</td>\n",
       "      <td>0</td>\n",
       "    </tr>\n",
       "  </tbody>\n",
       "</table>\n",
       "</div>"
      ],
      "text/plain": [
       "   a1  a2  a3  a4  a5  a6  a7  cv\n",
       "0   0   1   0   1   0   0   0   0\n",
       "1   0   0   1   1   0   0   1   0\n",
       "2   1   1   0   1   0   0   0   0\n",
       "3   0   1   1   1   0   0   1   0\n",
       "4   1   1   1   1   0   0   0   0"
      ]
     },
     "execution_count": 23,
     "metadata": {},
     "output_type": "execute_result"
    }
   ],
   "source": [
    "cv_data[\"cv\"] = cv_data[\"cv\"].apply(lambda x : conv_dummy(x))\n",
    "cv_data.head()"
   ]
  },
  {
   "cell_type": "markdown",
   "metadata": {},
   "source": [
    "#### 説明変数が３変数以上の偏相関係数の算出方法\n",
    "```\n",
    "1.相関行列の逆行列を求める\n",
    "2.逆行列の各要素を2つの対角要素の積の平方根で割り，符号を逆転する\n",
    "```\n",
    "https://www.fujiitoshiki.com/improvesociety/?p=4026"
   ]
  },
  {
   "cell_type": "code",
   "execution_count": 24,
   "metadata": {},
   "outputs": [],
   "source": [
    "# 偏相関係数\n",
    "def p_corr(y,data):\n",
    "    corr = data.corr()\n",
    "    #1.相関行列の逆行列を求める\n",
    "    inv_corr = pd.DataFrame(np.linalg.inv(corr),columns=corr.columns,index=corr.columns)\n",
    "    p_corr_list = []\n",
    "    #2.逆行列の各要素を2つの対角要素の積の平方根で割り，符号を逆転する\n",
    "    for x in corr.columns:\n",
    "        p_corr = -(inv_corr[x][y] / np.sqrt(inv_corr[x][x]*inv_corr[y][y]))\n",
    "        p_corr_list.append([x ,p_corr])\n",
    "    return p_corr_list"
   ]
  },
  {
   "cell_type": "code",
   "execution_count": 25,
   "metadata": {},
   "outputs": [
    {
     "data": {
      "text/plain": [
       "[['a1', 0.11164748366062084],\n",
       " ['a2', -0.05897922291852616],\n",
       " ['a3', 0.0029857354080831643],\n",
       " ['a4', -0.2840844729564049],\n",
       " ['a5', 0.17556247482163043],\n",
       " ['a6', 0.8072447825054478],\n",
       " ['a7', 0.005953910517755407],\n",
       " ['cv', -1.0]]"
      ]
     },
     "execution_count": 25,
     "metadata": {},
     "output_type": "execute_result"
    }
   ],
   "source": [
    "y =  \"cv\"\n",
    "cv_data = pd.read_csv(\"./data/Partial_correlation.csv\")\n",
    "cv_data[\"cv\"] = cv_data[\"cv\"].apply(lambda x : conv_dummy(x))\n",
    "cv_data=p_corr(y, cv_data)\n",
    "cv_data"
   ]
  },
  {
   "cell_type": "markdown",
   "metadata": {},
   "source": [
    "#### 検証\n",
    "```\n",
    "算出結果が正しいか検証する。こちらの記事で同じデータを活用して\n",
    "偏相関係数を算出していたので検証結果が正しいか確認してみます。\n",
    "\n",
    "```\n",
    "https://blog.goo.ne.jp/r-de-r/e/0e9a855c5f2d536a6b74e05a26f5a27d"
   ]
  },
  {
   "cell_type": "markdown",
   "metadata": {},
   "source": [
    "```\n",
    " a1     a2     a3     a4     a5     a6     a7     cv\n",
    "a1  1.000 -0.060 -0.003 -0.115  0.101  0.163  0.006  0.203\n",
    "a2 -0.060  1.000  0.002  0.101 -0.070 -0.151 -0.027 -0.166\n",
    "a3 -0.003  0.002  1.000  0.007 -0.018  0.022 -0.031  0.015\n",
    "a4 -0.115  0.101  0.007  1.000 -0.196 -0.484  0.009 -0.547\n",
    "a5  0.101 -0.070 -0.018 -0.196  1.000  0.335 -0.004  0.377\n",
    "a6  0.163 -0.151  0.022 -0.484  0.335  1.000 -0.011  0.871\n",
    "a7  0.006 -0.027 -0.031  0.009 -0.004 -0.011  1.000 -0.007\n",
    "cv  0.203 -0.166  0.015 -0.547  0.377  0.871 -0.007  1.000\n",
    "```"
   ]
  },
  {
   "cell_type": "markdown",
   "metadata": {
    "collapsed": true
   },
   "source": [
    "```\n",
    "偏相関係数の値が合致することを確かめられた。\n",
    "```"
   ]
  },
  {
   "cell_type": "code",
   "execution_count": null,
   "metadata": {},
   "outputs": [],
   "source": []
  }
 ],
 "metadata": {
  "kernelspec": {
   "display_name": "Python 3",
   "language": "python",
   "name": "python3"
  },
  "language_info": {
   "codemirror_mode": {
    "name": "ipython",
    "version": 3
   },
   "file_extension": ".py",
   "mimetype": "text/x-python",
   "name": "python",
   "nbconvert_exporter": "python",
   "pygments_lexer": "ipython3",
   "version": "3.5.6"
  }
 },
 "nbformat": 4,
 "nbformat_minor": 2
}
