{
 "cells": [
  {
   "cell_type": "markdown",
   "metadata": {},
   "source": [
    "# 回帰問題\n",
    "```\n",
    "教師あり機械学習の問題は大きく、分類と回帰に分類される。\n",
    "回帰タスクの目的は連続値の予想だ。\n",
    "今回は重回帰分析を用いて、時間と場所を説明変数に気温を予測するモデルを構築する。\n",
    "```"
   ]
  },
  {
   "cell_type": "markdown",
   "metadata": {},
   "source": [
    "# 重回帰分析とは\n",
    "```\n",
    "単回帰分析が、1つの目的変数を1つの説明変数で予測したのに対し、重回帰分析は1つの目的変数を複数の説明変数で予測する手法である。例えば、身長から体重を予測するのが単回帰分析で、身長と腹囲と胸囲から体重を予測するのが重回帰分析となる。\n",
    "```"
   ]
  },
  {
   "cell_type": "code",
   "execution_count": 300,
   "metadata": {},
   "outputs": [],
   "source": [
    "# ライブラリ\n",
    "import pandas as pd\n",
    "import numpy as np\n",
    "from matplotlib import pyplot as plt\n",
    "%matplotlib inline\n",
    "\n",
    "from sklearn.model_selection import cross_val_score\n",
    "from sklearn.linear_model import LinearRegression\n",
    "from sklearn.model_selection import train_test_split"
   ]
  },
  {
   "cell_type": "code",
   "execution_count": 301,
   "metadata": {
    "scrolled": true
   },
   "outputs": [
    {
     "name": "stdout",
     "output_type": "stream",
     "text": [
      "   hour area  temperature\n",
      "0   1.0   広尾         17.7\n",
      "1   2.0   広尾         16.2\n",
      "2   3.0   広尾         16.3\n",
      "3   4.0   広尾         15.7\n",
      "4   5.0   広尾         14.5\n"
     ]
    }
   ],
   "source": [
    "# create sample data\n",
    "data = pd.DataFrame(columns=columns)\n",
    "data1 =  pd.read_csv('./data/hokaido_hiro_20180629.csv')\n",
    "data2 =  pd.read_csv('./data/hokaido_asahikawa_20180629.csv')\n",
    "data3 =  pd.read_csv('./data/hokaido_kamikawa_20180629.csv')\n",
    "data4 =  pd.read_csv('./data/tokyo_20180629.csv')\n",
    "data5 =  pd.read_csv('./data/tokyo_nerima_20180629.csv')\n",
    "data6 =  pd.read_csv('./data/tokyo_oume_20180629.csv')\n",
    "data = data.append([data1,data2,data3,data4,data5,data6]) \n",
    "data = data[['hour', 'area', 'temperature']]\n",
    "print(data.head())"
   ]
  },
  {
   "cell_type": "code",
   "execution_count": 302,
   "metadata": {
    "scrolled": true
   },
   "outputs": [
    {
     "name": "stdout",
     "output_type": "stream",
     "text": [
      "0    広尾\n",
      "0    旭川\n",
      "0    上川\n",
      "0    東京\n",
      "0    練馬\n",
      "0    青梅\n",
      "Name: area, dtype: object\n"
     ]
    }
   ],
   "source": [
    "# unique area data\n",
    "keys = data['area'][data['area'].duplicated()==False]\n",
    "print(keys)"
   ]
  },
  {
   "cell_type": "code",
   "execution_count": 303,
   "metadata": {},
   "outputs": [
    {
     "name": "stdout",
     "output_type": "stream",
     "text": [
      "  area        lat        long\n",
      "0   広尾  42.285838  143.311496\n",
      "1   旭川  43.770636  142.364819\n",
      "2   上川   43.84718  142.770431\n",
      "3   東京  35.709026  139.731993\n",
      "4   練馬  35.735623  139.651658\n",
      "5   青梅  35.787996   139.27583\n"
     ]
    }
   ],
   "source": [
    "# area data\n",
    "columns = ['area','lat', 'long']\n",
    "values = np.array([['広尾',42.285838,143.311496],\n",
    "          ['旭川',43.770636,142.364819],\n",
    "          ['上川',43.84718,142.770431],\n",
    "          ['東京',35.709026,139.731993],\n",
    "          ['練馬',35.735623,139.651658],\n",
    "          ['青梅',35.787996,139.27583],\n",
    "         ])\n",
    "area_data = pd.DataFrame(columns=columns,data=values)\n",
    "print(area_data)"
   ]
  },
  {
   "cell_type": "code",
   "execution_count": 304,
   "metadata": {
    "scrolled": true
   },
   "outputs": [
    {
     "name": "stdout",
     "output_type": "stream",
     "text": [
      "   hour area  temperature        lat        long\n",
      "0   1.0   広尾         17.7  42.285838  143.311496\n",
      "1   2.0   広尾         16.2  42.285838  143.311496\n",
      "2   3.0   広尾         16.3  42.285838  143.311496\n",
      "3   4.0   広尾         15.7  42.285838  143.311496\n",
      "4   5.0   広尾         14.5  42.285838  143.311496\n"
     ]
    }
   ],
   "source": [
    "# join area data\n",
    "area_data = pd.merge(data,area_data, on='area')\n",
    "print(area_data.head())"
   ]
  },
  {
   "cell_type": "code",
   "execution_count": 305,
   "metadata": {
    "scrolled": true
   },
   "outputs": [
    {
     "data": {
      "text/plain": [
       "<matplotlib.text.Text at 0x110e5a5c0>"
      ]
     },
     "execution_count": 305,
     "metadata": {},
     "output_type": "execute_result"
    },
    {
     "data": {
      "image/png": "[encoded data removed]",
      "text/plain": [
       "<matplotlib.figure.Figure at 0x110a3a0f0>"
      ]
     },
     "metadata": {},
     "output_type": "display_data"
    }
   ],
   "source": [
    "# sample distribution\n",
    "X = area_data['lat']\n",
    "y = area_data['temperature']\n",
    "plt.scatter(X, y)\n",
    "plt.xlabel('lat')\n",
    "plt.ylabel('temperature')"
   ]
  },
  {
   "cell_type": "markdown",
   "metadata": {},
   "source": [
    "```\n",
    "エリアによって気温が異なることが確認できる。\n",
    "```"
   ]
  },
  {
   "cell_type": "code",
   "execution_count": 307,
   "metadata": {
    "scrolled": true
   },
   "outputs": [
    {
     "name": "stdout",
     "output_type": "stream",
     "text": [
      "test set accuracy：0.831282607327257\n"
     ]
    }
   ],
   "source": [
    "columns = ['hour','lat','long']\n",
    "lr = LinearRegression()\n",
    "X = area_data[columns]\n",
    "y = area_data['temperature']\n",
    "X_train, X_test, y_train, y_test = train_test_split(X,y,random_state=0)\n",
    "lr.fit(X_train,y_train)\n",
    "print(\"test set accuracy：{}\".format(lr.score(X_test,y_test)))"
   ]
  },
  {
   "cell_type": "markdown",
   "metadata": {},
   "source": [
    "```\n",
    "83%の評価精度が出ている。\n",
    "しかし、この数値はサンプルデータを単純に2分割したものである。交差検証を行い、データの分割を何度も繰り返し行い複数のモデルを訓練する回帰問題のためk分割交差検証を行う。\n",
    "```"
   ]
  },
  {
   "cell_type": "code",
   "execution_count": 283,
   "metadata": {},
   "outputs": [
    {
     "name": "stdout",
     "output_type": "stream",
     "text": [
      "cross validation score：-3.5037803947710913, X：Index(['hour'], dtype='object')\n",
      "cross validation score：-0.0724441985185335, X：Index(['hour', 'lat'], dtype='object')\n",
      "cross validation score：0.04954983428403573, X：Index(['hour', 'lat', 'long'], dtype='object')\n",
      "best score：0.04954983428403573\n"
     ]
    }
   ],
   "source": [
    "# 交差検証\n",
    "best_score = 0\n",
    "for k in range(len(columns)):\n",
    "    X = area_data[columns].iloc[:,0:k+1]\n",
    "    mean_score = cross_val_score(lr, X,y,cv=3).mean()\n",
    "    print(\"cross validation score：{}, X：{}\".format(mean_score,X.keys()))\n",
    "    if mean_score > best_score:\n",
    "        best_score = mean_score\n",
    "print(\"best score：{}\".format(best_score))"
   ]
  },
  {
   "cell_type": "code",
   "execution_count": 284,
   "metadata": {},
   "outputs": [
    {
     "name": "stdout",
     "output_type": "stream",
     "text": [
      "cross validation score：-14.657234088742399, X：Index(['hour'], dtype='object')\n",
      "cross validation score：-5.509446519000731, X：Index(['hour', 'lat'], dtype='object')\n",
      "cross validation score：-1.7110498490000914, X：Index(['hour', 'lat', 'long'], dtype='object')\n",
      "best score：0\n"
     ]
    }
   ],
   "source": [
    "# 交差検証\n",
    "best_score = 0\n",
    "for k in range(len(columns)):\n",
    "    X = area_data[columns].iloc[:,0:k+1]\n",
    "    mean_score = cross_val_score(lr, X,y,cv=5).mean()\n",
    "    print(\"cross validation score：{}, X：{}\".format(mean_score,X.keys()))\n",
    "    if mean_score > best_score:\n",
    "        best_score = mean_score\n",
    "print(\"best score：{}\".format(best_score))"
   ]
  },
  {
   "cell_type": "markdown",
   "metadata": {},
   "source": [
    "```\n",
    "交差検証を行った結果、train_test_split関数を活用した時に比べ精度が非常に低くなった。特に5分割にすると精度が出ない。このモデルは訓練に用いられた特定の分割に強く依存していることを示唆しているが今回は単純にデータセットのサイズがちいさすぎるからだと思われる。\n",
    "```"
   ]
  },
  {
   "cell_type": "code",
   "execution_count": null,
   "metadata": {},
   "outputs": [],
   "source": []
  },
  {
   "cell_type": "code",
   "execution_count": null,
   "metadata": {},
   "outputs": [],
   "source": []
  },
  {
   "cell_type": "code",
   "execution_count": null,
   "metadata": {},
   "outputs": [],
   "source": []
  },
  {
   "cell_type": "code",
   "execution_count": null,
   "metadata": {},
   "outputs": [],
   "source": []
  }
 ],
 "metadata": {
  "kernelspec": {
   "display_name": "Python 3",
   "language": "python",
   "name": "python3"
  },
  "language_info": {
   "codemirror_mode": {
    "name": "ipython",
    "version": 3
   },
   "file_extension": ".py",
   "mimetype": "text/x-python",
   "name": "python",
   "nbconvert_exporter": "python",
   "pygments_lexer": "ipython3",
   "version": "3.4.3"
  }
 },
 "nbformat": 4,
 "nbformat_minor": 2
}
