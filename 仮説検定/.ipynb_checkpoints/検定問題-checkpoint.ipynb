{
 "cells": [
  {
   "cell_type": "code",
   "execution_count": 277,
   "metadata": {},
   "outputs": [],
   "source": [
    "import pandas as pd\n",
    "import numpy as np\n",
    "from matplotlib import pyplot as plt\n",
    "%matplotlib inline\n",
    "from sklearn import linear_model\n",
    "from scipy.stats import norm  # 正規分布\n",
    "from scipy.stats import t"
   ]
  },
  {
   "cell_type": "markdown",
   "metadata": {},
   "source": [
    "# 統計検定 201706 問４\n",
    "```\n",
    "問題：傾きが0であることに対する帰無仮説をせよ\n",
    "与えられたデータから、最小二乗法で回帰を行い、\n",
    "回帰直線の傾きが有意に0でないか調べよ。\n",
    "\n",
    "ヒント：傾きの推定値、標準誤差を求めよ\n",
    "\n",
    "用途\n",
    "IN ：　data x,y\n",
    "OUT：　傾きが有意に0でないこと\n",
    "```"
   ]
  },
  {
   "cell_type": "code",
   "execution_count": 278,
   "metadata": {
    "scrolled": true
   },
   "outputs": [
    {
     "data": {
      "text/html": [
       "<div>\n",
       "<style>\n",
       "    .dataframe thead tr:only-child th {\n",
       "        text-align: right;\n",
       "    }\n",
       "\n",
       "    .dataframe thead th {\n",
       "        text-align: left;\n",
       "    }\n",
       "\n",
       "    .dataframe tbody tr th {\n",
       "        vertical-align: top;\n",
       "    }\n",
       "</style>\n",
       "<table border=\"1\" class=\"dataframe\">\n",
       "  <thead>\n",
       "    <tr style=\"text-align: right;\">\n",
       "      <th></th>\n",
       "      <th>小売価格</th>\n",
       "      <th>世界総生産</th>\n",
       "    </tr>\n",
       "  </thead>\n",
       "  <tbody>\n",
       "    <tr>\n",
       "      <th>0</th>\n",
       "      <td>15.5</td>\n",
       "      <td>87</td>\n",
       "    </tr>\n",
       "    <tr>\n",
       "      <th>1</th>\n",
       "      <td>15.0</td>\n",
       "      <td>90</td>\n",
       "    </tr>\n",
       "    <tr>\n",
       "      <th>2</th>\n",
       "      <td>18.0</td>\n",
       "      <td>91</td>\n",
       "    </tr>\n",
       "    <tr>\n",
       "      <th>3</th>\n",
       "      <td>12.0</td>\n",
       "      <td>91</td>\n",
       "    </tr>\n",
       "    <tr>\n",
       "      <th>4</th>\n",
       "      <td>14.0</td>\n",
       "      <td>100</td>\n",
       "    </tr>\n",
       "  </tbody>\n",
       "</table>\n",
       "</div>"
      ],
      "text/plain": [
       "   小売価格  世界総生産\n",
       "0  15.5     87\n",
       "1  15.0     90\n",
       "2  18.0     91\n",
       "3  12.0     91\n",
       "4  14.0    100"
      ]
     },
     "execution_count": 278,
     "metadata": {},
     "output_type": "execute_result"
    }
   ],
   "source": [
    "data_df = pd.DataFrame(columns=columns)\n",
    "data_df[\"小売価格\"] = np.array([15.5,15,18,12,14,13,13,12,9,16,8,8,9,8,9,9,6,8,13,6,8,8,3,4,6])\n",
    "data_df[\"世界総生産\"] = np.array([87,90,91,91,100,100,100,100,105,110,110,112,113,118,122,122,128,129,130,135,140,147,148,149,150])\n",
    "data_df.head()"
   ]
  },
  {
   "cell_type": "code",
   "execution_count": 279,
   "metadata": {},
   "outputs": [],
   "source": [
    "X = data_df[[\"世界総生産\"]] \n",
    "y = data_df[[\"小売価格\"]]"
   ]
  },
  {
   "cell_type": "code",
   "execution_count": 280,
   "metadata": {
    "scrolled": true
   },
   "outputs": [
    {
     "data": {
      "text/plain": [
       "<matplotlib.text.Text at 0x113a6b5c0>"
      ]
     },
     "execution_count": 280,
     "metadata": {},
     "output_type": "execute_result"
    },
    {
     "data": {
      "image/png": "[encoded data removed]",
      "text/plain": [
       "<matplotlib.figure.Figure at 0x113b3e6d8>"
      ]
     },
     "metadata": {},
     "output_type": "display_data"
    }
   ],
   "source": [
    "plt.scatter(X,y)\n",
    "plt.xlabel(\"世界総生産\")\n",
    "plt.xlabel(\"世界総生産\")\n",
    "plt.ylabel(\"小売価格\")"
   ]
  },
  {
   "cell_type": "code",
   "execution_count": 281,
   "metadata": {
    "scrolled": true
   },
   "outputs": [
    {
     "data": {
      "text/html": [
       "<div>\n",
       "<style>\n",
       "    .dataframe thead tr:only-child th {\n",
       "        text-align: right;\n",
       "    }\n",
       "\n",
       "    .dataframe thead th {\n",
       "        text-align: left;\n",
       "    }\n",
       "\n",
       "    .dataframe tbody tr th {\n",
       "        vertical-align: top;\n",
       "    }\n",
       "</style>\n",
       "<table border=\"1\" class=\"dataframe\">\n",
       "  <thead>\n",
       "    <tr style=\"text-align: right;\">\n",
       "      <th></th>\n",
       "      <th>小売価格</th>\n",
       "      <th>世界総生産</th>\n",
       "    </tr>\n",
       "  </thead>\n",
       "  <tbody>\n",
       "    <tr>\n",
       "      <th>小売価格</th>\n",
       "      <td>1.000000</td>\n",
       "      <td>-0.807223</td>\n",
       "    </tr>\n",
       "    <tr>\n",
       "      <th>世界総生産</th>\n",
       "      <td>-0.807223</td>\n",
       "      <td>1.000000</td>\n",
       "    </tr>\n",
       "  </tbody>\n",
       "</table>\n",
       "</div>"
      ],
      "text/plain": [
       "           小売価格     世界総生産\n",
       "小売価格   1.000000 -0.807223\n",
       "世界総生産 -0.807223  1.000000"
      ]
     },
     "execution_count": 281,
     "metadata": {},
     "output_type": "execute_result"
    }
   ],
   "source": [
    "# 相関係数\n",
    "data_df.corr()"
   ]
  },
  {
   "cell_type": "markdown",
   "metadata": {},
   "source": [
    "# 最小二乗法\n",
    "```\n",
    "最小にするのは直線とデータの誤差\n",
    "誤差とは各点から垂直な線を近似直線まで引いたもの\n",
    "この線の長さの合計が最小となるものを求める。\n",
    "二乗する理由は距離を求めたいため(不等号をなくす必要がある。)\n",
    "\n",
    "参考　Pythonで単回帰直線\n",
    "http://akiyoko.hatenablog.jp/entry/2013/06/16/005946\n",
    "回帰直線　可視化\n",
    "https://news.mynavi.jp/article/Python_ML-4/\n",
    "```"
   ]
  },
  {
   "cell_type": "code",
   "execution_count": 282,
   "metadata": {
    "scrolled": true
   },
   "outputs": [
    {
     "name": "stdout",
     "output_type": "stream",
     "text": [
      "単回帰直線の傾き：-0.1568089898724188\n",
      "単回帰直線の切片：28.379196534262793\n",
      "相関係数：-0.8072228517887194\n"
     ]
    }
   ],
   "source": [
    "from scipy import stats\n",
    "slope, intercept, r_value, _, _ = stats.linregress(data_df[\"世界総生産\"], data_df[\"小売価格\"])\n",
    "print(\"単回帰直線の傾き：{}\".format(slope))\n",
    "print(\"単回帰直線の切片：{}\" .format(intercept))\n",
    "print(\"相関係数：{}\" .format(r_value))"
   ]
  },
  {
   "cell_type": "code",
   "execution_count": 283,
   "metadata": {
    "scrolled": true
   },
   "outputs": [
    {
     "name": "stdout",
     "output_type": "stream",
     "text": [
      "傾き：[[-0.15680899]]\n",
      "切片：[28.37919653]\n"
     ]
    },
    {
     "data": {
      "image/png": "[encoded data removed]",
      "text/plain": [
       "<matplotlib.figure.Figure at 0x113295278>"
      ]
     },
     "metadata": {},
     "output_type": "display_data"
    }
   ],
   "source": [
    "y_reg1 = linear_model.LinearRegression()\n",
    "y_reg1.fit(X, y)\n",
    "plt.scatter(X,y)\n",
    "plt.xlabel(\"世界総生産\")\n",
    "plt.ylabel(\"小売価格\")\n",
    "plt.plot(X, y_reg1.predict(X), color='red')\n",
    "print(\"傾き：{}\".format(y_reg1.coef_)) \n",
    "print(\"切片：{}\".format(y_reg1.intercept_)) "
   ]
  },
  {
   "cell_type": "code",
   "execution_count": 284,
   "metadata": {
    "scrolled": true
   },
   "outputs": [
    {
     "data": {
      "text/html": [
       "<div>\n",
       "<style>\n",
       "    .dataframe thead tr:only-child th {\n",
       "        text-align: right;\n",
       "    }\n",
       "\n",
       "    .dataframe thead th {\n",
       "        text-align: left;\n",
       "    }\n",
       "\n",
       "    .dataframe tbody tr th {\n",
       "        vertical-align: top;\n",
       "    }\n",
       "</style>\n",
       "<table border=\"1\" class=\"dataframe\">\n",
       "  <thead>\n",
       "    <tr style=\"text-align: right;\">\n",
       "      <th></th>\n",
       "      <th>小売価格</th>\n",
       "    </tr>\n",
       "  </thead>\n",
       "  <tbody>\n",
       "    <tr>\n",
       "      <th>0</th>\n",
       "      <td>0.763186</td>\n",
       "    </tr>\n",
       "    <tr>\n",
       "      <th>1</th>\n",
       "      <td>0.733613</td>\n",
       "    </tr>\n",
       "    <tr>\n",
       "      <th>2</th>\n",
       "      <td>3.890422</td>\n",
       "    </tr>\n",
       "    <tr>\n",
       "      <th>3</th>\n",
       "      <td>-2.109578</td>\n",
       "    </tr>\n",
       "    <tr>\n",
       "      <th>4</th>\n",
       "      <td>1.301702</td>\n",
       "    </tr>\n",
       "  </tbody>\n",
       "</table>\n",
       "</div>"
      ],
      "text/plain": [
       "       小売価格\n",
       "0  0.763186\n",
       "1  0.733613\n",
       "2  3.890422\n",
       "3 -2.109578\n",
       "4  1.301702"
      ]
     },
     "execution_count": 284,
     "metadata": {},
     "output_type": "execute_result"
    }
   ],
   "source": [
    "# 残差\n",
    "residual = y - y_reg1.predict(X)\n",
    "residual.head()"
   ]
  },
  {
   "cell_type": "code",
   "execution_count": 285,
   "metadata": {
    "scrolled": false
   },
   "outputs": [
    {
     "data": {
      "text/plain": [
       "<matplotlib.collections.LineCollection at 0x1125dd7b8>"
      ]
     },
     "execution_count": 285,
     "metadata": {},
     "output_type": "execute_result"
    },
    {
     "data": {
      "image/png": "[encoded data removed]",
      "text/plain": [
       "<matplotlib.figure.Figure at 0x1125dd710>"
      ]
     },
     "metadata": {},
     "output_type": "display_data"
    }
   ],
   "source": [
    "# 残差を図示\n",
    "plt.scatter(y , residual)\n",
    "plt.xlabel('Predictecd values') \n",
    "plt.ylabel('Residuals')\n",
    "plt.hlines(y=0, xmin=0, xmax=25, color='red')"
   ]
  },
  {
   "cell_type": "markdown",
   "metadata": {},
   "source": [
    "# 仮説検定\n",
    "```\n",
    "帰無仮説：小売価格と世界総生産は傾きが0である\n",
    "対立仮説：小売価格と世界総生産は傾きが0ではない\n",
    "\n",
    "# T 検定\n",
    "\n",
    "用途：\n",
    "母分散が未知のデータに対して実行できる方法\n",
    "Z検定が母分散が既知であるときに用いる検定手法であるのに対してt検定は母分散未知の正規分布に従う場合の検定手法\n",
    "\n",
    "両側t検定\n",
    "https://bellcurve.jp/statistics/course/9405.html\n",
    "\n",
    "T =  標本平均　- 母平均 / 標準誤差\n",
    "(平均値が0と異なるか)\n",
    "SE = STD[標準偏差]/√n [サンプル数]\n",
    "```"
   ]
  },
  {
   "cell_type": "code",
   "execution_count": 286,
   "metadata": {
    "scrolled": false
   },
   "outputs": [
    {
     "name": "stdout",
     "output_type": "stream",
     "text": [
      "sample count：25\n",
      "degree of freedom：23\n",
      "variance：5.33097\n",
      "standard division：2.30889\n",
      "standard error：0.10039\n",
      "t value：-8.04\n"
     ]
    }
   ],
   "source": [
    "# サンプル数\n",
    "n = len(X)\n",
    "print(\"sample count：{}\".format(n))\n",
    "# 自由度\n",
    "N = n - 2 \n",
    "print(\"degree of freedom：{}\".format(N ))\n",
    "# 不偏分散\n",
    "V = np.sum(np.square(np.array(residual))) / (n - 1)\n",
    "print(\"variance：{:.5f}\".format(V))\n",
    "# 不偏標準偏差\n",
    "std =  np.sqrt(V)\n",
    "print(\"standard division：{:.5f}\".format(std))\n",
    "# 標準誤差\n",
    "se = std / N\n",
    "print(\"standard error：{:.5f}\".format(se))\n",
    "# t値\n",
    "t_value = (y_reg1.coef_ - 0) / se\n",
    "t_value = (-0.807223 - 0) / se\n",
    "print(\"t value：{:.2f}\".format(t_value ))"
   ]
  },
  {
   "cell_type": "markdown",
   "metadata": {},
   "source": [
    "# 両側検定\n",
    "```\n",
    "両側検定とは\n",
    "傾きは0でないことを調べるための方法\n",
    "帰無仮説：u = 0\n",
    "対立仮説：u != 0\n",
    "\n",
    "片側検定とは\n",
    "傾きはoより小さくないことを調べるための方法\n",
    "帰無仮説：u < 0\n",
    "対立仮説：u > 0\n",
    "\n",
    "参考　両側検定と片側検定\n",
    "https://bellcurve.jp/statistics/course/9319.html\n",
    "\n",
    "```"
   ]
  },
  {
   "cell_type": "code",
   "execution_count": 287,
   "metadata": {
    "scrolled": false
   },
   "outputs": [
    {
     "name": "stdout",
     "output_type": "stream",
     "text": [
      "自由度：23\n",
      "信頼区間：(-2.069,2.069)\n",
      "t値：-8.04\n"
     ]
    },
    {
     "data": {
      "image/png": "[encoded data removed]",
      "text/plain": [
       "<matplotlib.figure.Figure at 0x112996160>"
      ]
     },
     "metadata": {},
     "output_type": "display_data"
    }
   ],
   "source": [
    "# 信頼区間：t分布表　両側検定,  95% , 自由度　N \n",
    "alpha = 0.95\n",
    "intervals = t.interval(alpha=alpha, df=N)\n",
    "print(\"自由度：{}\".format(N))\n",
    "print('信頼区間：({:.3f},{:.3f})'.format(intervals[0],intervals[1]))\n",
    "print('t値：{:.2f}'.format(t_value))\n",
    "# T分布　信頼区間\n",
    "x = np.arange(intervals[0], intervals[1], 0.1)\n",
    "y = norm.pdf(x=x, loc=0, scale=1)\n",
    "plt.plot(x, y, 'black')\n",
    "plt.fill_between(x, y, color='black', alpha=0.2)\n",
    "\n",
    "x = np.arange(-10, 10, 0.1)\n",
    "# 平均0、標準偏差１の正規分布から入力データの確率を得ている\n",
    "y = norm.pdf(x=x, loc=0, scale=1)\n",
    "plt.plot(x, y, 'b')\n",
    "plt.title(\"自由度{}のt分布と信頼区間\".format(N))\n",
    "plt.fill_between(x, y, color='b', alpha=0.2)\n",
    "plt.show()"
   ]
  },
  {
   "cell_type": "code",
   "execution_count": 288,
   "metadata": {},
   "outputs": [
    {
     "name": "stdout",
     "output_type": "stream",
     "text": [
      "検定結果：\n",
      "真の傾きが0という帰無仮説の下のt値-8.04は、自由度23のt分布に従う。このt値は95%信頼区間-2.069 ~ 2.069外にあるため、棄却される\n"
     ]
    }
   ],
   "source": [
    "print('検定結果：\\n真の傾きが0という帰無仮説の下のt値{:.2f}は、自由度{}のt分布に従う。このt値は95%信頼区間{:.3f} ~ {:.3f}外にあるため、棄却される'.\n",
    "      format(t_value,N ,intervals[0],intervals[1]))\n",
    "\n"
   ]
  },
  {
   "cell_type": "markdown",
   "metadata": {},
   "source": [
    "# 片側検定\n",
    "```\n",
    "上記の問題を片側検定でも試してみる。\n",
    "```\n",
    " "
   ]
  },
  {
   "cell_type": "code",
   "execution_count": null,
   "metadata": {},
   "outputs": [],
   "source": []
  }
 ],
 "metadata": {
  "kernelspec": {
   "display_name": "Python 3",
   "language": "python",
   "name": "python3"
  },
  "language_info": {
   "codemirror_mode": {
    "name": "ipython",
    "version": 3
   },
   "file_extension": ".py",
   "mimetype": "text/x-python",
   "name": "python",
   "nbconvert_exporter": "python",
   "pygments_lexer": "ipython3",
   "version": "3.4.3"
  }
 },
 "nbformat": 4,
 "nbformat_minor": 2
}
