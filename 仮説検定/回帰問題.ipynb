{
 "cells": [
  {
   "cell_type": "markdown",
   "metadata": {},
   "source": [
    "# 回帰問題\n",
    "```\n",
    "教師あり機械学習の問題は大きく、分類と回帰に分類される。\n",
    "回帰タスクの目的は連続値の予想だ。\n",
    "今回は重回帰分析を用いて、時間と場所を説明変数に気温を予測するモデルを構築する。\n",
    "```"
   ]
  },
  {
   "cell_type": "code",
   "execution_count": 46,
   "metadata": {},
   "outputs": [],
   "source": [
    "import pandas as pd\n",
    "import numpy as np\n",
    "from matplotlib import pyplot as plt\n",
    "%matplotlib inline\n",
    "\n",
    "from sklearn.model_selection import cross_val_score\n",
    "from sklearn.linear_model import LinearRegression"
   ]
  },
  {
   "cell_type": "code",
   "execution_count": 114,
   "metadata": {
    "scrolled": true
   },
   "outputs": [
    {
     "data": {
      "text/html": [
       "<div>\n",
       "<style>\n",
       "    .dataframe thead tr:only-child th {\n",
       "        text-align: right;\n",
       "    }\n",
       "\n",
       "    .dataframe thead th {\n",
       "        text-align: left;\n",
       "    }\n",
       "\n",
       "    .dataframe tbody tr th {\n",
       "        vertical-align: top;\n",
       "    }\n",
       "</style>\n",
       "<table border=\"1\" class=\"dataframe\">\n",
       "  <thead>\n",
       "    <tr style=\"text-align: right;\">\n",
       "      <th></th>\n",
       "      <th>時刻</th>\n",
       "      <th>場所</th>\n",
       "      <th>気温</th>\n",
       "    </tr>\n",
       "  </thead>\n",
       "  <tbody>\n",
       "    <tr>\n",
       "      <th>0</th>\n",
       "      <td>1</td>\n",
       "      <td>広尾</td>\n",
       "      <td>17.7</td>\n",
       "    </tr>\n",
       "    <tr>\n",
       "      <th>1</th>\n",
       "      <td>2</td>\n",
       "      <td>広尾</td>\n",
       "      <td>16.2</td>\n",
       "    </tr>\n",
       "    <tr>\n",
       "      <th>2</th>\n",
       "      <td>3</td>\n",
       "      <td>広尾</td>\n",
       "      <td>16.3</td>\n",
       "    </tr>\n",
       "    <tr>\n",
       "      <th>3</th>\n",
       "      <td>4</td>\n",
       "      <td>広尾</td>\n",
       "      <td>15.7</td>\n",
       "    </tr>\n",
       "    <tr>\n",
       "      <th>4</th>\n",
       "      <td>5</td>\n",
       "      <td>広尾</td>\n",
       "      <td>14.5</td>\n",
       "    </tr>\n",
       "  </tbody>\n",
       "</table>\n",
       "</div>"
      ],
      "text/plain": [
       "  時刻  場所    気温\n",
       "0  1  広尾  17.7\n",
       "1  2  広尾  16.2\n",
       "2  3  広尾  16.3\n",
       "3  4  広尾  15.7\n",
       "4  5  広尾  14.5"
      ]
     },
     "execution_count": 114,
     "metadata": {},
     "output_type": "execute_result"
    }
   ],
   "source": [
    "columns = ['時刻', '場所', '気温', '降水量', '風向', '風速', '日照時間']\n",
    "data = pd.DataFrame(columns=columns)\n",
    "data1 =  pd.read_csv('./data/hokaido_hiro_20180629.csv')\n",
    "data2 =  pd.read_csv('./data/hokaido_asahikawa_20180629.csv')\n",
    "data3 =  pd.read_csv('./data/hokaido_kamikawa_20180629.csv')\n",
    "data4 =  pd.read_csv('./data/tokyo_20180629.csv')\n",
    "data5 =  pd.read_csv('./data/tokyo_nerima_20180629.csv')\n",
    "data6 =  pd.read_csv('./data/tokyo_oume_20180629.csv')\n",
    "data = data.append([data1,data2,data3,data4,data5,data6]) \n",
    "data = data[['時刻','場所','気温']]\n",
    "data.head()"
   ]
  },
  {
   "cell_type": "code",
   "execution_count": 126,
   "metadata": {
    "scrolled": true
   },
   "outputs": [
    {
     "data": {
      "text/html": [
       "<div>\n",
       "<style>\n",
       "    .dataframe thead tr:only-child th {\n",
       "        text-align: right;\n",
       "    }\n",
       "\n",
       "    .dataframe thead th {\n",
       "        text-align: left;\n",
       "    }\n",
       "\n",
       "    .dataframe tbody tr th {\n",
       "        vertical-align: top;\n",
       "    }\n",
       "</style>\n",
       "<table border=\"1\" class=\"dataframe\">\n",
       "  <thead>\n",
       "    <tr style=\"text-align: right;\">\n",
       "      <th></th>\n",
       "      <th>area</th>\n",
       "      <th>lat</th>\n",
       "      <th>long</th>\n",
       "      <th>場所</th>\n",
       "    </tr>\n",
       "  </thead>\n",
       "  <tbody>\n",
       "    <tr>\n",
       "      <th>0</th>\n",
       "      <td>NaN</td>\n",
       "      <td>NaN</td>\n",
       "      <td>NaN</td>\n",
       "      <td>広尾</td>\n",
       "    </tr>\n",
       "    <tr>\n",
       "      <th>0</th>\n",
       "      <td>NaN</td>\n",
       "      <td>NaN</td>\n",
       "      <td>NaN</td>\n",
       "      <td>旭川</td>\n",
       "    </tr>\n",
       "    <tr>\n",
       "      <th>0</th>\n",
       "      <td>NaN</td>\n",
       "      <td>NaN</td>\n",
       "      <td>NaN</td>\n",
       "      <td>上川</td>\n",
       "    </tr>\n",
       "    <tr>\n",
       "      <th>0</th>\n",
       "      <td>NaN</td>\n",
       "      <td>NaN</td>\n",
       "      <td>NaN</td>\n",
       "      <td>東京</td>\n",
       "    </tr>\n",
       "    <tr>\n",
       "      <th>0</th>\n",
       "      <td>NaN</td>\n",
       "      <td>NaN</td>\n",
       "      <td>NaN</td>\n",
       "      <td>練馬</td>\n",
       "    </tr>\n",
       "    <tr>\n",
       "      <th>0</th>\n",
       "      <td>NaN</td>\n",
       "      <td>NaN</td>\n",
       "      <td>NaN</td>\n",
       "      <td>青梅</td>\n",
       "    </tr>\n",
       "  </tbody>\n",
       "</table>\n",
       "</div>"
      ],
      "text/plain": [
       "  area  lat long  場所\n",
       "0  NaN  NaN  NaN  広尾\n",
       "0  NaN  NaN  NaN  旭川\n",
       "0  NaN  NaN  NaN  上川\n",
       "0  NaN  NaN  NaN  東京\n",
       "0  NaN  NaN  NaN  練馬\n",
       "0  NaN  NaN  NaN  青梅"
      ]
     },
     "execution_count": 126,
     "metadata": {},
     "output_type": "execute_result"
    }
   ],
   "source": [
    "# マスタデータ\n",
    "columns = ['area','lat', 'long']\n",
    "area = data['場所'][data['場所'].duplicated()==False]\n",
    "area_data = pd.DataFrame(columns=columns)\n",
    "area_data['場所'] = area\n",
    "area_data"
   ]
  },
  {
   "cell_type": "code",
   "execution_count": null,
   "metadata": {},
   "outputs": [],
   "source": [
    "# tokyo周辺のデータ\n",
    "data_predict = "
   ]
  },
  {
   "cell_type": "code",
   "execution_count": 30,
   "metadata": {
    "scrolled": true
   },
   "outputs": [
    {
     "name": "stdout",
     "output_type": "stream",
     "text": [
      "  hour area temperature       lat        long\n",
      "0    0   新宿          25  35.69384  139.703549\n",
      "1    1   新宿          25  35.69384  139.703549\n",
      "2    2   新宿          23  35.69384  139.703549\n",
      "3    3   新宿          22  35.69384  139.703549\n",
      "4    4   新宿          24  35.69384  139.703549\n"
     ]
    }
   ],
   "source": [
    "area_data = pd.merge(area_temperature, area, on='area')\n",
    "print(area_data.head())"
   ]
  },
  {
   "cell_type": "code",
   "execution_count": 45,
   "metadata": {},
   "outputs": [
    {
     "name": "stdout",
     "output_type": "stream",
     "text": [
      "cross validation score：-11.137996051879126\n"
     ]
    }
   ],
   "source": [
    "lr = LinearRegression()\n",
    "X = area_data[['hour','lat','long']]\n",
    "y = area_data['temperature']\n",
    "scors = cross_val_score(lr, X,y)\n",
    "print(\"cross validation score：{}\".format(scors.mean()))"
   ]
  }
 ],
 "metadata": {
  "kernelspec": {
   "display_name": "Python 3",
   "language": "python",
   "name": "python3"
  },
  "language_info": {
   "codemirror_mode": {
    "name": "ipython",
    "version": 3
   },
   "file_extension": ".py",
   "mimetype": "text/x-python",
   "name": "python",
   "nbconvert_exporter": "python",
   "pygments_lexer": "ipython3",
   "version": "3.4.3"
  }
 },
 "nbformat": 4,
 "nbformat_minor": 2
}
